{
 "cells": [
  {
   "cell_type": "markdown",
   "metadata": {},
   "source": [
    "Este projeto foi uma atividade de Finanças do curso de Ciencia de Dados. \n",
    "E para a elabroação da fronteira eficiente foi realizado os procedimentos abaixo:\n",
    "\n",
    "1. Ler as bases de preços diários\n",
    "2. Calcular retornos relativos diários (HP=1)\n",
    "3. Calcular retorno médio e desvio padrão de cada ativo\n",
    "4. Calcular matriz de covariância dos ativos\n",
    "5. Plotar os ativos num gráfico de dispersão: retorno x risco\n",
    "6. Definir pesos para os ativos e compor em uma carteira. Calcular o retorno e o risco desta carteira\n",
    "7. Simular diversos conjuntos de pesos aleatoriamente e plotar no gráfico de dispersão estas carteiras"
   ]
  },
  {
   "cell_type": "code",
   "execution_count": 1,
   "metadata": {},
   "outputs": [],
   "source": [
    "# Bibliotecas\n",
    "import numpy as np\n",
    "import pandas as pd\n",
    "from matplotlib import pyplot as plt\n",
    "import plotly.express as px\n",
    "import seaborn as sns\n",
    "from sklearn.linear_model import LinearRegression\n",
    "import scipy.optimize as solver"
   ]
  },
  {
   "cell_type": "code",
   "execution_count": 2,
   "metadata": {
    "colab": {
     "base_uri": "https://localhost:8080/",
     "height": 475
    },
    "executionInfo": {
     "elapsed": 355,
     "status": "error",
     "timestamp": 1639696536204,
     "user": {
      "displayName": "Gustavo Previatto",
      "photoUrl": "https://lh3.googleusercontent.com/a-/AOh14GjObmSR4ca42p9ql2BFwTDO-JKvFQe5-jaQaAMvsA=s64",
      "userId": "00510215832706198465"
     },
     "user_tz": 180
    },
    "id": "tQNopJIwhPe1",
    "outputId": "0ad2189a-b1dc-4e78-c45a-de2c5cb533e5"
   },
   "outputs": [],
   "source": [
    "# Ler e tratar as bases\n",
    "def read_infoMoney(file_name:dict):\n",
    "    # função que lê um dicionario com os ativos e os respectivo csv\n",
    "    \n",
    "    df = pd.DataFrame()\n",
    "    \n",
    "    \n",
    "    for key, value in file_name.items():\n",
    "        df_import = pd.read_csv(f'Bases/{value}')\n",
    "                \n",
    "        df_import = df_import[::-1]\n",
    "        \n",
    "        df[key] = df_import['FECHAMENTO']\n",
    "        \n",
    "        # os valores no csv estão no formato brasileiro de decimais\n",
    "        # aplicando função apply e lambda para conversão em float\n",
    "        df[key] = df[key].apply(lambda x: float(str(x).replace(',', '.')))\n",
    "        \n",
    "        \n",
    "    \n",
    "    # retorna o dataframe com os ativos\n",
    "    return df.reset_index(drop = True)"
   ]
  },
  {
   "cell_type": "code",
   "execution_count": 3,
   "metadata": {},
   "outputs": [
    {
     "data": {
      "text/plain": [
       "{'IBOV': 'Ibovespa (IBOV) - Histórico  InfoMoney.csv',\n",
       " 'ABEV3': 'Ambev SA ABEV3 - Histórico InfoMoney.csv',\n",
       " 'PETR3': 'Petrobras PETR3 - Histórico InfoMoney.csv',\n",
       " 'MGLU3': 'Magazine Luiza MGLU3 - Histórico InfoMoney.csv',\n",
       " 'ITUB3': 'Itaú Unibanco ITUB3 - Histórico InfoMoney.csv',\n",
       " 'ALPA3': 'Alpargatas ALPA3 - Histórico InfoMoney.csv',\n",
       " 'VALE3': 'Vale S.A. VALE3 - Histórico InfoMoney.csv'}"
      ]
     },
     "execution_count": 3,
     "metadata": {},
     "output_type": "execute_result"
    }
   ],
   "source": [
    "# Dicionário de ativos\n",
    "assets = {\n",
    "      'IBOV': 'Ibovespa (IBOV) - Histórico  InfoMoney.csv',  \n",
    "      'ABEV3': 'Ambev SA ABEV3 - Histórico InfoMoney.csv',\n",
    "      'PETR3': 'Petrobras PETR3 - Histórico InfoMoney.csv',\n",
    "      'MGLU3': 'Magazine Luiza MGLU3 - Histórico InfoMoney.csv',\n",
    "      'ITUB3': 'Itaú Unibanco ITUB3 - Histórico InfoMoney.csv',\n",
    "      'ALPA3': 'Alpargatas ALPA3 - Histórico InfoMoney.csv',\n",
    "      'VALE3': 'Vale S.A. VALE3 - Histórico InfoMoney.csv'}\n",
    "\n",
    "assets"
   ]
  },
  {
   "cell_type": "code",
   "execution_count": 4,
   "metadata": {},
   "outputs": [
    {
     "data": {
      "text/html": [
       "<div>\n",
       "<style scoped>\n",
       "    .dataframe tbody tr th:only-of-type {\n",
       "        vertical-align: middle;\n",
       "    }\n",
       "\n",
       "    .dataframe tbody tr th {\n",
       "        vertical-align: top;\n",
       "    }\n",
       "\n",
       "    .dataframe thead th {\n",
       "        text-align: right;\n",
       "    }\n",
       "</style>\n",
       "<table border=\"1\" class=\"dataframe\">\n",
       "  <thead>\n",
       "    <tr style=\"text-align: right;\">\n",
       "      <th></th>\n",
       "      <th>IBOV</th>\n",
       "      <th>ABEV3</th>\n",
       "      <th>PETR3</th>\n",
       "      <th>MGLU3</th>\n",
       "      <th>ITUB3</th>\n",
       "      <th>ALPA3</th>\n",
       "      <th>VALE3</th>\n",
       "    </tr>\n",
       "  </thead>\n",
       "  <tbody>\n",
       "    <tr>\n",
       "      <th>0</th>\n",
       "      <td>77.891</td>\n",
       "      <td>19.04</td>\n",
       "      <td>13.99</td>\n",
       "      <td>2.47</td>\n",
       "      <td>16.99</td>\n",
       "      <td>NaN</td>\n",
       "      <td>31.98</td>\n",
       "    </tr>\n",
       "    <tr>\n",
       "      <th>1</th>\n",
       "      <td>77.995</td>\n",
       "      <td>19.11</td>\n",
       "      <td>14.10</td>\n",
       "      <td>2.42</td>\n",
       "      <td>17.11</td>\n",
       "      <td>NaN</td>\n",
       "      <td>32.48</td>\n",
       "    </tr>\n",
       "    <tr>\n",
       "      <th>2</th>\n",
       "      <td>79.071</td>\n",
       "      <td>19.08</td>\n",
       "      <td>14.32</td>\n",
       "      <td>2.42</td>\n",
       "      <td>17.01</td>\n",
       "      <td>NaN</td>\n",
       "      <td>33.20</td>\n",
       "    </tr>\n",
       "    <tr>\n",
       "      <th>3</th>\n",
       "      <td>79.379</td>\n",
       "      <td>19.02</td>\n",
       "      <td>14.32</td>\n",
       "      <td>2.36</td>\n",
       "      <td>16.77</td>\n",
       "      <td>NaN</td>\n",
       "      <td>33.08</td>\n",
       "    </tr>\n",
       "    <tr>\n",
       "      <th>4</th>\n",
       "      <td>78.864</td>\n",
       "      <td>19.02</td>\n",
       "      <td>14.05</td>\n",
       "      <td>2.39</td>\n",
       "      <td>16.83</td>\n",
       "      <td>NaN</td>\n",
       "      <td>32.62</td>\n",
       "    </tr>\n",
       "    <tr>\n",
       "      <th>...</th>\n",
       "      <td>...</td>\n",
       "      <td>...</td>\n",
       "      <td>...</td>\n",
       "      <td>...</td>\n",
       "      <td>...</td>\n",
       "      <td>...</td>\n",
       "      <td>...</td>\n",
       "    </tr>\n",
       "    <tr>\n",
       "      <th>238</th>\n",
       "      <td>85.269</td>\n",
       "      <td>13.83</td>\n",
       "      <td>19.24</td>\n",
       "      <td>5.50</td>\n",
       "      <td>20.35</td>\n",
       "      <td>20.03</td>\n",
       "      <td>39.81</td>\n",
       "    </tr>\n",
       "    <tr>\n",
       "      <th>239</th>\n",
       "      <td>85.697</td>\n",
       "      <td>13.80</td>\n",
       "      <td>19.26</td>\n",
       "      <td>5.65</td>\n",
       "      <td>20.01</td>\n",
       "      <td>20.03</td>\n",
       "      <td>40.65</td>\n",
       "    </tr>\n",
       "    <tr>\n",
       "      <th>240</th>\n",
       "      <td>85.136</td>\n",
       "      <td>13.77</td>\n",
       "      <td>19.62</td>\n",
       "      <td>5.46</td>\n",
       "      <td>19.81</td>\n",
       "      <td>20.69</td>\n",
       "      <td>40.31</td>\n",
       "    </tr>\n",
       "    <tr>\n",
       "      <th>241</th>\n",
       "      <td>85.460</td>\n",
       "      <td>13.73</td>\n",
       "      <td>19.51</td>\n",
       "      <td>5.38</td>\n",
       "      <td>20.14</td>\n",
       "      <td>19.66</td>\n",
       "      <td>39.56</td>\n",
       "    </tr>\n",
       "    <tr>\n",
       "      <th>242</th>\n",
       "      <td>87.887</td>\n",
       "      <td>13.99</td>\n",
       "      <td>20.27</td>\n",
       "      <td>5.59</td>\n",
       "      <td>20.52</td>\n",
       "      <td>20.17</td>\n",
       "      <td>40.76</td>\n",
       "    </tr>\n",
       "  </tbody>\n",
       "</table>\n",
       "<p>243 rows × 7 columns</p>\n",
       "</div>"
      ],
      "text/plain": [
       "       IBOV  ABEV3  PETR3  MGLU3  ITUB3  ALPA3  VALE3\n",
       "0    77.891  19.04  13.99   2.47  16.99    NaN  31.98\n",
       "1    77.995  19.11  14.10   2.42  17.11    NaN  32.48\n",
       "2    79.071  19.08  14.32   2.42  17.01    NaN  33.20\n",
       "3    79.379  19.02  14.32   2.36  16.77    NaN  33.08\n",
       "4    78.864  19.02  14.05   2.39  16.83    NaN  32.62\n",
       "..      ...    ...    ...    ...    ...    ...    ...\n",
       "238  85.269  13.83  19.24   5.50  20.35  20.03  39.81\n",
       "239  85.697  13.80  19.26   5.65  20.01  20.03  40.65\n",
       "240  85.136  13.77  19.62   5.46  19.81  20.69  40.31\n",
       "241  85.460  13.73  19.51   5.38  20.14  19.66  39.56\n",
       "242  87.887  13.99  20.27   5.59  20.52  20.17  40.76\n",
       "\n",
       "[243 rows x 7 columns]"
      ]
     },
     "execution_count": 4,
     "metadata": {},
     "output_type": "execute_result"
    }
   ],
   "source": [
    "empresas = read_infoMoney(assets)\n",
    "empresas"
   ]
  },
  {
   "cell_type": "code",
   "execution_count": 5,
   "metadata": {},
   "outputs": [
    {
     "data": {
      "text/html": [
       "<div>\n",
       "<style scoped>\n",
       "    .dataframe tbody tr th:only-of-type {\n",
       "        vertical-align: middle;\n",
       "    }\n",
       "\n",
       "    .dataframe tbody tr th {\n",
       "        vertical-align: top;\n",
       "    }\n",
       "\n",
       "    .dataframe thead th {\n",
       "        text-align: right;\n",
       "    }\n",
       "</style>\n",
       "<table border=\"1\" class=\"dataframe\">\n",
       "  <thead>\n",
       "    <tr style=\"text-align: right;\">\n",
       "      <th></th>\n",
       "      <th>IBOV</th>\n",
       "      <th>ABEV3</th>\n",
       "      <th>PETR3</th>\n",
       "      <th>MGLU3</th>\n",
       "      <th>ITUB3</th>\n",
       "      <th>ALPA3</th>\n",
       "      <th>VALE3</th>\n",
       "    </tr>\n",
       "  </thead>\n",
       "  <tbody>\n",
       "    <tr>\n",
       "      <th>0</th>\n",
       "      <td>86.935</td>\n",
       "      <td>19.63</td>\n",
       "      <td>18.27</td>\n",
       "      <td>2.82</td>\n",
       "      <td>19.78</td>\n",
       "      <td>20.42</td>\n",
       "      <td>36.35</td>\n",
       "    </tr>\n",
       "    <tr>\n",
       "      <th>1</th>\n",
       "      <td>85.354</td>\n",
       "      <td>19.44</td>\n",
       "      <td>18.30</td>\n",
       "      <td>2.81</td>\n",
       "      <td>19.38</td>\n",
       "      <td>20.48</td>\n",
       "      <td>34.60</td>\n",
       "    </tr>\n",
       "    <tr>\n",
       "      <th>2</th>\n",
       "      <td>85.378</td>\n",
       "      <td>19.74</td>\n",
       "      <td>18.00</td>\n",
       "      <td>2.84</td>\n",
       "      <td>19.52</td>\n",
       "      <td>20.38</td>\n",
       "      <td>34.14</td>\n",
       "    </tr>\n",
       "    <tr>\n",
       "      <th>3</th>\n",
       "      <td>85.761</td>\n",
       "      <td>19.95</td>\n",
       "      <td>18.32</td>\n",
       "      <td>2.86</td>\n",
       "      <td>19.84</td>\n",
       "      <td>20.43</td>\n",
       "      <td>33.60</td>\n",
       "    </tr>\n",
       "    <tr>\n",
       "      <th>4</th>\n",
       "      <td>86.023</td>\n",
       "      <td>19.90</td>\n",
       "      <td>18.84</td>\n",
       "      <td>2.78</td>\n",
       "      <td>20.15</td>\n",
       "      <td>20.73</td>\n",
       "      <td>33.56</td>\n",
       "    </tr>\n",
       "    <tr>\n",
       "      <th>...</th>\n",
       "      <td>...</td>\n",
       "      <td>...</td>\n",
       "      <td>...</td>\n",
       "      <td>...</td>\n",
       "      <td>...</td>\n",
       "      <td>...</td>\n",
       "      <td>...</td>\n",
       "    </tr>\n",
       "    <tr>\n",
       "      <th>203</th>\n",
       "      <td>85.269</td>\n",
       "      <td>13.83</td>\n",
       "      <td>19.24</td>\n",
       "      <td>5.50</td>\n",
       "      <td>20.35</td>\n",
       "      <td>20.03</td>\n",
       "      <td>39.81</td>\n",
       "    </tr>\n",
       "    <tr>\n",
       "      <th>204</th>\n",
       "      <td>85.697</td>\n",
       "      <td>13.80</td>\n",
       "      <td>19.26</td>\n",
       "      <td>5.65</td>\n",
       "      <td>20.01</td>\n",
       "      <td>20.03</td>\n",
       "      <td>40.65</td>\n",
       "    </tr>\n",
       "    <tr>\n",
       "      <th>205</th>\n",
       "      <td>85.136</td>\n",
       "      <td>13.77</td>\n",
       "      <td>19.62</td>\n",
       "      <td>5.46</td>\n",
       "      <td>19.81</td>\n",
       "      <td>20.69</td>\n",
       "      <td>40.31</td>\n",
       "    </tr>\n",
       "    <tr>\n",
       "      <th>206</th>\n",
       "      <td>85.460</td>\n",
       "      <td>13.73</td>\n",
       "      <td>19.51</td>\n",
       "      <td>5.38</td>\n",
       "      <td>20.14</td>\n",
       "      <td>19.66</td>\n",
       "      <td>39.56</td>\n",
       "    </tr>\n",
       "    <tr>\n",
       "      <th>207</th>\n",
       "      <td>87.887</td>\n",
       "      <td>13.99</td>\n",
       "      <td>20.27</td>\n",
       "      <td>5.59</td>\n",
       "      <td>20.52</td>\n",
       "      <td>20.17</td>\n",
       "      <td>40.76</td>\n",
       "    </tr>\n",
       "  </tbody>\n",
       "</table>\n",
       "<p>208 rows × 7 columns</p>\n",
       "</div>"
      ],
      "text/plain": [
       "       IBOV  ABEV3  PETR3  MGLU3  ITUB3  ALPA3  VALE3\n",
       "0    86.935  19.63  18.27   2.82  19.78  20.42  36.35\n",
       "1    85.354  19.44  18.30   2.81  19.38  20.48  34.60\n",
       "2    85.378  19.74  18.00   2.84  19.52  20.38  34.14\n",
       "3    85.761  19.95  18.32   2.86  19.84  20.43  33.60\n",
       "4    86.023  19.90  18.84   2.78  20.15  20.73  33.56\n",
       "..      ...    ...    ...    ...    ...    ...    ...\n",
       "203  85.269  13.83  19.24   5.50  20.35  20.03  39.81\n",
       "204  85.697  13.80  19.26   5.65  20.01  20.03  40.65\n",
       "205  85.136  13.77  19.62   5.46  19.81  20.69  40.31\n",
       "206  85.460  13.73  19.51   5.38  20.14  19.66  39.56\n",
       "207  87.887  13.99  20.27   5.59  20.52  20.17  40.76\n",
       "\n",
       "[208 rows x 7 columns]"
      ]
     },
     "execution_count": 5,
     "metadata": {},
     "output_type": "execute_result"
    }
   ],
   "source": [
    "# removendo valores nulos\n",
    "empresas.dropna(inplace = True)\n",
    "empresas.reset_index(drop = True,inplace = True)\n",
    "empresas"
   ]
  },
  {
   "cell_type": "code",
   "execution_count": 6,
   "metadata": {},
   "outputs": [
    {
     "name": "stdout",
     "output_type": "stream",
     "text": [
      "<class 'pandas.core.frame.DataFrame'>\n",
      "RangeIndex: 208 entries, 0 to 207\n",
      "Data columns (total 7 columns):\n",
      " #   Column  Non-Null Count  Dtype  \n",
      "---  ------  --------------  -----  \n",
      " 0   IBOV    208 non-null    float64\n",
      " 1   ABEV3   208 non-null    float64\n",
      " 2   PETR3   208 non-null    float64\n",
      " 3   MGLU3   208 non-null    float64\n",
      " 4   ITUB3   208 non-null    float64\n",
      " 5   ALPA3   208 non-null    float64\n",
      " 6   VALE3   208 non-null    float64\n",
      "dtypes: float64(7)\n",
      "memory usage: 11.5 KB\n"
     ]
    }
   ],
   "source": [
    "empresas.info()"
   ]
  },
  {
   "cell_type": "code",
   "execution_count": 7,
   "metadata": {
    "id": "_z3JgnAVhPe3"
   },
   "outputs": [],
   "source": [
    "# Calcular retornos\n",
    "def calc_return(df, hp):\n",
    "    # calcula os retonos dos ativos em um dataframe conforme hp indicado\n",
    "    \n",
    "    df_returns = pd.DataFrame()\n",
    "    \n",
    "    for empresa in df.columns:\n",
    "        \n",
    "        df_returns[empresa] = (df[empresa]/df[empresa].shift(hp) - 1) # Retorno\n",
    "    \n",
    "    df_returns.dropna(inplace = True)\n",
    "    \n",
    "    # retorna novo DF com os retornos diarios\n",
    "    return df_returns\n"
   ]
  },
  {
   "cell_type": "code",
   "execution_count": 8,
   "metadata": {},
   "outputs": [
    {
     "data": {
      "text/html": [
       "<div>\n",
       "<style scoped>\n",
       "    .dataframe tbody tr th:only-of-type {\n",
       "        vertical-align: middle;\n",
       "    }\n",
       "\n",
       "    .dataframe tbody tr th {\n",
       "        vertical-align: top;\n",
       "    }\n",
       "\n",
       "    .dataframe thead th {\n",
       "        text-align: right;\n",
       "    }\n",
       "</style>\n",
       "<table border=\"1\" class=\"dataframe\">\n",
       "  <thead>\n",
       "    <tr style=\"text-align: right;\">\n",
       "      <th></th>\n",
       "      <th>IBOV</th>\n",
       "      <th>ABEV3</th>\n",
       "      <th>PETR3</th>\n",
       "      <th>MGLU3</th>\n",
       "      <th>ITUB3</th>\n",
       "      <th>ALPA3</th>\n",
       "      <th>VALE3</th>\n",
       "    </tr>\n",
       "  </thead>\n",
       "  <tbody>\n",
       "    <tr>\n",
       "      <th>1</th>\n",
       "      <td>-0.018186</td>\n",
       "      <td>-0.009679</td>\n",
       "      <td>0.001642</td>\n",
       "      <td>-0.003546</td>\n",
       "      <td>-0.020222</td>\n",
       "      <td>0.002938</td>\n",
       "      <td>-0.048143</td>\n",
       "    </tr>\n",
       "    <tr>\n",
       "      <th>2</th>\n",
       "      <td>0.000281</td>\n",
       "      <td>0.015432</td>\n",
       "      <td>-0.016393</td>\n",
       "      <td>0.010676</td>\n",
       "      <td>0.007224</td>\n",
       "      <td>-0.004883</td>\n",
       "      <td>-0.013295</td>\n",
       "    </tr>\n",
       "    <tr>\n",
       "      <th>3</th>\n",
       "      <td>0.004486</td>\n",
       "      <td>0.010638</td>\n",
       "      <td>0.017778</td>\n",
       "      <td>0.007042</td>\n",
       "      <td>0.016393</td>\n",
       "      <td>0.002453</td>\n",
       "      <td>-0.015817</td>\n",
       "    </tr>\n",
       "    <tr>\n",
       "      <th>4</th>\n",
       "      <td>0.003055</td>\n",
       "      <td>-0.002506</td>\n",
       "      <td>0.028384</td>\n",
       "      <td>-0.027972</td>\n",
       "      <td>0.015625</td>\n",
       "      <td>0.014684</td>\n",
       "      <td>-0.001190</td>\n",
       "    </tr>\n",
       "    <tr>\n",
       "      <th>5</th>\n",
       "      <td>-0.004301</td>\n",
       "      <td>0.011055</td>\n",
       "      <td>-0.006369</td>\n",
       "      <td>-0.010791</td>\n",
       "      <td>0.001489</td>\n",
       "      <td>-0.036179</td>\n",
       "      <td>-0.004768</td>\n",
       "    </tr>\n",
       "    <tr>\n",
       "      <th>...</th>\n",
       "      <td>...</td>\n",
       "      <td>...</td>\n",
       "      <td>...</td>\n",
       "      <td>...</td>\n",
       "      <td>...</td>\n",
       "      <td>...</td>\n",
       "      <td>...</td>\n",
       "    </tr>\n",
       "    <tr>\n",
       "      <th>203</th>\n",
       "      <td>-0.004727</td>\n",
       "      <td>-0.012848</td>\n",
       "      <td>-0.024341</td>\n",
       "      <td>0.005484</td>\n",
       "      <td>0.003947</td>\n",
       "      <td>0.018820</td>\n",
       "      <td>-0.004003</td>\n",
       "    </tr>\n",
       "    <tr>\n",
       "      <th>204</th>\n",
       "      <td>0.005019</td>\n",
       "      <td>-0.002169</td>\n",
       "      <td>0.001040</td>\n",
       "      <td>0.027273</td>\n",
       "      <td>-0.016708</td>\n",
       "      <td>0.000000</td>\n",
       "      <td>0.021100</td>\n",
       "    </tr>\n",
       "    <tr>\n",
       "      <th>205</th>\n",
       "      <td>-0.006546</td>\n",
       "      <td>-0.002174</td>\n",
       "      <td>0.018692</td>\n",
       "      <td>-0.033628</td>\n",
       "      <td>-0.009995</td>\n",
       "      <td>0.032951</td>\n",
       "      <td>-0.008364</td>\n",
       "    </tr>\n",
       "    <tr>\n",
       "      <th>206</th>\n",
       "      <td>0.003806</td>\n",
       "      <td>-0.002905</td>\n",
       "      <td>-0.005607</td>\n",
       "      <td>-0.014652</td>\n",
       "      <td>0.016658</td>\n",
       "      <td>-0.049783</td>\n",
       "      <td>-0.018606</td>\n",
       "    </tr>\n",
       "    <tr>\n",
       "      <th>207</th>\n",
       "      <td>0.028399</td>\n",
       "      <td>0.018937</td>\n",
       "      <td>0.038954</td>\n",
       "      <td>0.039033</td>\n",
       "      <td>0.018868</td>\n",
       "      <td>0.025941</td>\n",
       "      <td>0.030334</td>\n",
       "    </tr>\n",
       "  </tbody>\n",
       "</table>\n",
       "<p>207 rows × 7 columns</p>\n",
       "</div>"
      ],
      "text/plain": [
       "         IBOV     ABEV3     PETR3     MGLU3     ITUB3     ALPA3     VALE3\n",
       "1   -0.018186 -0.009679  0.001642 -0.003546 -0.020222  0.002938 -0.048143\n",
       "2    0.000281  0.015432 -0.016393  0.010676  0.007224 -0.004883 -0.013295\n",
       "3    0.004486  0.010638  0.017778  0.007042  0.016393  0.002453 -0.015817\n",
       "4    0.003055 -0.002506  0.028384 -0.027972  0.015625  0.014684 -0.001190\n",
       "5   -0.004301  0.011055 -0.006369 -0.010791  0.001489 -0.036179 -0.004768\n",
       "..        ...       ...       ...       ...       ...       ...       ...\n",
       "203 -0.004727 -0.012848 -0.024341  0.005484  0.003947  0.018820 -0.004003\n",
       "204  0.005019 -0.002169  0.001040  0.027273 -0.016708  0.000000  0.021100\n",
       "205 -0.006546 -0.002174  0.018692 -0.033628 -0.009995  0.032951 -0.008364\n",
       "206  0.003806 -0.002905 -0.005607 -0.014652  0.016658 -0.049783 -0.018606\n",
       "207  0.028399  0.018937  0.038954  0.039033  0.018868  0.025941  0.030334\n",
       "\n",
       "[207 rows x 7 columns]"
      ]
     },
     "execution_count": 8,
     "metadata": {},
     "output_type": "execute_result"
    }
   ],
   "source": [
    "empresas_ret = calc_return(empresas, 1)\n",
    "empresas_ret"
   ]
  },
  {
   "cell_type": "code",
   "execution_count": 9,
   "metadata": {},
   "outputs": [
    {
     "data": {
      "image/png": "[encoded data removed]",
      "text/plain": [
       "<Figure size 432x288 with 2 Axes>"
      ]
     },
     "metadata": {
      "needs_background": "light"
     },
     "output_type": "display_data"
    }
   ],
   "source": [
    "# Cálculo da correlação entre os ativos\n",
    "correl_matrix = empresas_ret.corr()\n",
    "sns.heatmap(correl_matrix, annot = True, cmap=\"Blues\");"
   ]
  },
  {
   "cell_type": "code",
   "execution_count": 10,
   "metadata": {},
   "outputs": [
    {
     "data": {
      "text/html": [
       "<div>\n",
       "<style scoped>\n",
       "    .dataframe tbody tr th:only-of-type {\n",
       "        vertical-align: middle;\n",
       "    }\n",
       "\n",
       "    .dataframe tbody tr th {\n",
       "        vertical-align: top;\n",
       "    }\n",
       "\n",
       "    .dataframe thead th {\n",
       "        text-align: right;\n",
       "    }\n",
       "</style>\n",
       "<table border=\"1\" class=\"dataframe\">\n",
       "  <thead>\n",
       "    <tr style=\"text-align: right;\">\n",
       "      <th></th>\n",
       "      <th>IBOV</th>\n",
       "      <th>ABEV3</th>\n",
       "      <th>PETR3</th>\n",
       "      <th>MGLU3</th>\n",
       "      <th>ITUB3</th>\n",
       "      <th>ALPA3</th>\n",
       "      <th>VALE3</th>\n",
       "    </tr>\n",
       "  </thead>\n",
       "  <tbody>\n",
       "    <tr>\n",
       "      <th>IBOV</th>\n",
       "      <td>0.050340</td>\n",
       "      <td>0.024193</td>\n",
       "      <td>0.076920</td>\n",
       "      <td>0.057935</td>\n",
       "      <td>0.047202</td>\n",
       "      <td>0.001588</td>\n",
       "      <td>0.033324</td>\n",
       "    </tr>\n",
       "    <tr>\n",
       "      <th>ABEV3</th>\n",
       "      <td>0.024193</td>\n",
       "      <td>0.050683</td>\n",
       "      <td>0.020312</td>\n",
       "      <td>0.029585</td>\n",
       "      <td>0.021739</td>\n",
       "      <td>-0.009460</td>\n",
       "      <td>0.019843</td>\n",
       "    </tr>\n",
       "    <tr>\n",
       "      <th>PETR3</th>\n",
       "      <td>0.076920</td>\n",
       "      <td>0.020312</td>\n",
       "      <td>0.254711</td>\n",
       "      <td>0.062489</td>\n",
       "      <td>0.057612</td>\n",
       "      <td>0.006173</td>\n",
       "      <td>0.033772</td>\n",
       "    </tr>\n",
       "    <tr>\n",
       "      <th>MGLU3</th>\n",
       "      <td>0.057935</td>\n",
       "      <td>0.029585</td>\n",
       "      <td>0.062489</td>\n",
       "      <td>0.228197</td>\n",
       "      <td>0.051104</td>\n",
       "      <td>-0.012613</td>\n",
       "      <td>0.021758</td>\n",
       "    </tr>\n",
       "    <tr>\n",
       "      <th>ITUB3</th>\n",
       "      <td>0.047202</td>\n",
       "      <td>0.021739</td>\n",
       "      <td>0.057612</td>\n",
       "      <td>0.051104</td>\n",
       "      <td>0.069470</td>\n",
       "      <td>-0.003852</td>\n",
       "      <td>0.012945</td>\n",
       "    </tr>\n",
       "    <tr>\n",
       "      <th>ALPA3</th>\n",
       "      <td>0.001588</td>\n",
       "      <td>-0.009460</td>\n",
       "      <td>0.006173</td>\n",
       "      <td>-0.012613</td>\n",
       "      <td>-0.003852</td>\n",
       "      <td>0.203748</td>\n",
       "      <td>0.011869</td>\n",
       "    </tr>\n",
       "    <tr>\n",
       "      <th>VALE3</th>\n",
       "      <td>0.033324</td>\n",
       "      <td>0.019843</td>\n",
       "      <td>0.033772</td>\n",
       "      <td>0.021758</td>\n",
       "      <td>0.012945</td>\n",
       "      <td>0.011869</td>\n",
       "      <td>0.108541</td>\n",
       "    </tr>\n",
       "  </tbody>\n",
       "</table>\n",
       "</div>"
      ],
      "text/plain": [
       "           IBOV     ABEV3     PETR3     MGLU3     ITUB3     ALPA3     VALE3\n",
       "IBOV   0.050340  0.024193  0.076920  0.057935  0.047202  0.001588  0.033324\n",
       "ABEV3  0.024193  0.050683  0.020312  0.029585  0.021739 -0.009460  0.019843\n",
       "PETR3  0.076920  0.020312  0.254711  0.062489  0.057612  0.006173  0.033772\n",
       "MGLU3  0.057935  0.029585  0.062489  0.228197  0.051104 -0.012613  0.021758\n",
       "ITUB3  0.047202  0.021739  0.057612  0.051104  0.069470 -0.003852  0.012945\n",
       "ALPA3  0.001588 -0.009460  0.006173 -0.012613 -0.003852  0.203748  0.011869\n",
       "VALE3  0.033324  0.019843  0.033772  0.021758  0.012945  0.011869  0.108541"
      ]
     },
     "execution_count": 10,
     "metadata": {},
     "output_type": "execute_result"
    }
   ],
   "source": [
    "cov_matrix = empresas_ret.cov() * 252\n",
    "cov_matrix"
   ]
  },
  {
   "cell_type": "code",
   "execution_count": 11,
   "metadata": {},
   "outputs": [
    {
     "data": {
      "text/plain": [
       "IBOV     0.038294\n",
       "ABEV3   -0.386735\n",
       "PETR3    0.255791\n",
       "MGLU3    0.946563\n",
       "ITUB3    0.079153\n",
       "ALPA3    0.085408\n",
       "VALE3    0.193721\n",
       "dtype: float64"
      ]
     },
     "execution_count": 11,
     "metadata": {},
     "output_type": "execute_result"
    }
   ],
   "source": [
    "# Cálculo do retorno e desvio padrão dos ativos\n",
    "\n",
    "# retorno medio\n",
    "mi =  empresas_ret.mean(axis = 0) * 252\n",
    "\n",
    "# desvio padrao\n",
    "sigma =  empresas_ret.std(axis = 0) * np.sqrt(252)\n",
    "mi"
   ]
  },
  {
   "cell_type": "code",
   "execution_count": 12,
   "metadata": {},
   "outputs": [],
   "source": [
    "def calc_retorno_port(w,ret):\n",
    "    # calcula retorno da carteira conforme os pesos\n",
    "        \n",
    "    return  (w* ret).sum()\n",
    "\n",
    "def calc_risco_port(perc, matriz_cov):\n",
    "    # calculo risco do portfolio conforme os pesos e matriz de covarianca\n",
    "    \n",
    "    return np.sqrt(np.dot(perc.T, (np.dot(matriz_cov, perc))))"
   ]
  },
  {
   "cell_type": "code",
   "execution_count": 13,
   "metadata": {},
   "outputs": [
    {
     "name": "stdout",
     "output_type": "stream",
     "text": [
      "Retorno esperado: 19.565%, risco: 20.8293%\n"
     ]
    }
   ],
   "source": [
    "# Cálculo de retorno e risco da carteira\n",
    "\n",
    "# pesos carteira\n",
    "carteira_perc = np.array([1/len(mi.drop('IBOV', axis = 0))]* len(mi.drop('IBOV', axis = 0)))\n",
    "cov_matrix_port = cov_matrix.drop('IBOV').drop('IBOV', axis = 1)\n",
    "\n",
    "#carteira_perc = np.array([0.0, 0.0, 1, 0.0, 0.0, 0.0])\n",
    "\n",
    "# retorno do portfólio\n",
    "mi_P = calc_retorno_port(carteira_perc, mi.drop('IBOV', axis = 0))\n",
    "\n",
    "# risco do portfólio\n",
    "sigma_P = calc_risco_port(carteira_perc, cov_matrix_port)\n",
    "\n",
    "print(f'Retorno esperado: {round(mi_P*100, 4)}%, risco: {round(sigma_P*100, 4)}%')"
   ]
  },
  {
   "cell_type": "code",
   "execution_count": 14,
   "metadata": {},
   "outputs": [
    {
     "data": {
      "text/plain": [
       "['ABEV3',\n",
       " 'PETR3',\n",
       " 'MGLU3',\n",
       " 'ITUB3',\n",
       " 'ALPA3',\n",
       " 'VALE3',\n",
       " 'Retorno P %',\n",
       " 'Risco %',\n",
       " 'Indice Sharpe']"
      ]
     },
     "execution_count": 14,
     "metadata": {},
     "output_type": "execute_result"
    }
   ],
   "source": [
    "# criando uma lista com as colunas do DF e adicionando risco, retorno e indice sharpe\n",
    "colunas = [x for x in empresas_ret.columns[1:]]\n",
    "lista = ['Retorno P %', 'Risco %', 'Indice Sharpe']\n",
    "colunas.extend(lista)\n",
    "colunas"
   ]
  },
  {
   "cell_type": "code",
   "execution_count": 15,
   "metadata": {},
   "outputs": [
    {
     "data": {
      "image/png": "[encoded data removed]",
      "text/plain": [
       "<Figure size 1080x720 with 2 Axes>"
      ]
     },
     "metadata": {
      "needs_background": "light"
     },
     "output_type": "display_data"
    }
   ],
   "source": [
    "# Simulando carteiras com pesos diferentes\n",
    "\n",
    "simulacao = pd.DataFrame(columns=[colunas])\n",
    "\n",
    "# taxa selic de 2015 a 2022 para o indice sharpe\n",
    "taxa_selic = [12.75, 14.25, 12.25,6.5, 5.0, 2.0, 9.25, 10.75]\n",
    "taxa_s_risco = np.mean(taxa_selic)\n",
    "\n",
    "N = 5000\n",
    "\n",
    "for x in range (N):\n",
    "    \n",
    "    np.random.seed(x)\n",
    "    \n",
    "    # pesos aleatorios e normalizando\n",
    "    perc = np.random.random(6)\n",
    "    perc = np.array(perc/perc.sum())\n",
    "    \n",
    "    # calculo do retorno com o pesos aleatório\n",
    "    ret_P = calc_retorno_port(perc,mi.drop('IBOV', axis = 0) )*100\n",
    "    \n",
    "    # risco com os pesos aletórios\n",
    "    sigma_P = np.sqrt(np.dot(perc.T, (np.dot(cov_matrix_port, perc))))*100\n",
    "    \n",
    "    # indice sharpe\n",
    "    indice_s = (ret_P -taxa_s_risco) / sigma_P\n",
    "   \n",
    "    # adicionando os pesos e os valores dos calculos ao DF\n",
    "    simulacao.loc[x] = [round(perc[0], 3), round(perc[1],3), round(perc[2],3),round(perc[3],3),round(perc[4],3), round(perc[5],3), round(ret_P,2), round(sigma_P,2), round(indice_s, 4)]\n",
    "\n",
    "    \n",
    "# Gráfico\n",
    "plt.figure(figsize= (15,10))\n",
    "plt.scatter(simulacao['Risco %'], simulacao['Retorno P %'], c = simulacao['Indice Sharpe'])\n",
    "plt.colorbar(label = 'Sharpe ratio')\n",
    "#plt.legend(bbox_to_anchor=(1.3, 0.6)) \n",
    "plt.tight_layout()   "
   ]
  },
  {
   "cell_type": "markdown",
   "metadata": {},
   "source": [
    "## Otimização de portfólio\n",
    "\n",
    "Todo processo de otimização necessita da elaboração de uma função objetiva e da definição de um conjunto de restrições (se houver). Por exemplo, podemos minimizar uma função custo ou maximizar uma função de lucro. No nosso caso, utilizando a teoria de portfólio de Markowitz, desejamos uma das duas coisas:\n",
    "- minimizar a volatilidade da carteira ou\n",
    "- maximizar os retornos esperados\n",
    "\n",
    "Analisaremos adiante cada um dos casos."
   ]
  },
  {
   "cell_type": "markdown",
   "metadata": {},
   "source": [
    "### Minimizar a volatilidade\n",
    "\n",
    "Neste caso, desejamos obter um conjunto de pesos para os ativos da análise, tais que o risco da carteira ponderada por estes pesos seja o menor possível. Podemos escrever este objetivo da seguinte forma:\n",
    "\n",
    "$$ min F(w) = \\sqrt{\\sum_{i=1}^N \\sum_{j=1}^N W_i \\cdot W_j \\cdot COV_{i,j}} $$\n",
    "\n",
    "Contudo, devemos considerar nossas restrições. A primeira delas refere-se aos valores dos pesos. Por definição, estes devem sempre somar 1. Portanto:\n",
    "\n",
    "$$\\sum_{i=1}^N W_i = 1 $$\n",
    "\n",
    "ou\n",
    "\n",
    "$$\\sum_{i=1}^N W_i - 1 = 0 $$\n",
    "\n",
    "A segunda restrição refere-se ao retorno desejado para a carteira, $\\mu$. Para que este objetivo seja alcançado, podemos definir:\n",
    "\n",
    "$$\\sum_{i=1}^N W_i r_i = \\mu $$\n",
    "\n",
    "ou\n",
    "\n",
    "$$\\sum_{i=1}^N W_i r_i - \\mu = 0 $$\n",
    "\n",
    "Por fim, precisamos que os pesos possuam valores positivos e sejam menores que 100\\%:\n",
    "\n",
    "$$ w_i >= 0, \\forall i=1,...,n $$\n",
    "$$ w_i <= 1, \\forall i=1,...,n $$\n",
    "\n",
    "O que o cálculo numérico realiza é uma busca para encontrar o melhor conjunto de pesos para cada ativo que garanta que as restrições são respeitadas e que se tenha o menor risco possível."
   ]
  },
  {
   "cell_type": "markdown",
   "metadata": {},
   "source": [
    "---\n",
    "\n",
    "Biblioteca Python utilizada para otimização:\n",
    "\n",
    "https://docs.scipy.org/doc/scipy/reference/generated/scipy.optimize.minimize.html\n",
    "\n",
    "---\n"
   ]
  },
  {
   "cell_type": "code",
   "execution_count": 16,
   "metadata": {},
   "outputs": [],
   "source": [
    "# Definindo função objetivo\n",
    "def f_obj_min_risk(w):\n",
    "    return np.sqrt(np.dot(w, np.dot(cov_matrix, w)))\n",
    "\n",
    "# Definindo valor inicial\n",
    "w_ini = np.array([1/len(mi)]* len(mi)) \n"
   ]
  },
  {
   "cell_type": "code",
   "execution_count": 17,
   "metadata": {},
   "outputs": [],
   "source": [
    "# Definindo o retorno desejado\n",
    "ret = 0.004\n",
    "\n",
    "# Definindo restrições\n",
    "constraints = [{'type': 'eq', 'fun': lambda x: sum(x) - 1}, # primeira restrição\n",
    "               {'type': 'eq', 'fun': lambda x: sum(x*mi) - ret}] # segunda restrição\n",
    "\n",
    "# Definindo limites para os pesos\n",
    "bounds = tuple((0, 1) for x in range(len(w_ini))) \n"
   ]
  },
  {
   "cell_type": "code",
   "execution_count": 18,
   "metadata": {},
   "outputs": [
    {
     "data": {
      "text/plain": [
       "     fun: 0.17354673380586172\n",
       "     jac: array([0.17562206, 0.15052963, 0.19152456, 0.22904363, 0.17781292,\n",
       "       0.17803364, 0.18527937])\n",
       " message: 'Optimization terminated successfully'\n",
       "    nfev: 96\n",
       "     nit: 12\n",
       "    njev: 12\n",
       "  status: 0\n",
       " success: True\n",
       "       x: array([0.00247056, 0.32397647, 0.        , 0.06343235, 0.27141912,\n",
       "       0.16564376, 0.17305773])"
      ]
     },
     "execution_count": 18,
     "metadata": {},
     "output_type": "execute_result"
    }
   ],
   "source": [
    "result = solver.minimize(f_obj_min_risk, w_ini, constraints=constraints, bounds=bounds, \n",
    "                         method='SLSQP')\n",
    "result"
   ]
  },
  {
   "cell_type": "code",
   "execution_count": 19,
   "metadata": {},
   "outputs": [
    {
     "name": "stdout",
     "output_type": "stream",
     "text": [
      "Pesos (%): [0.25, 32.4, 0.0, 6.34, 27.14, 16.56, 17.31]\n",
      "Risco portfólio (%): 17.35\n"
     ]
    }
   ],
   "source": [
    "pesos = [round(w*100, 2) for w in result.x]\n",
    "print(f'Pesos (%): {pesos}\\nRisco portfólio (%): {round(result.fun*100,2)}')"
   ]
  },
  {
   "cell_type": "code",
   "execution_count": 20,
   "metadata": {},
   "outputs": [
    {
     "data": {
      "text/plain": [
       "[<matplotlib.lines.Line2D at 0x27ac78363a0>]"
      ]
     },
     "execution_count": 20,
     "metadata": {},
     "output_type": "execute_result"
    },
    {
     "data": {
      "image/png": "[encoded data removed]",
      "text/plain": [
       "<Figure size 432x288 with 1 Axes>"
      ]
     },
     "metadata": {
      "needs_background": "light"
     },
     "output_type": "display_data"
    }
   ],
   "source": [
    "# Simulando para diversos retornos (buscando a fronteira eficiente)\n",
    "ret_range = np.arange(0.0, 1., 0.05)\n",
    "sigma_sim = []\n",
    "\n",
    "for ret in ret_range:\n",
    "    constraints = [{'type': 'eq', 'fun': lambda x: sum(x) - 1}, # primeira restrição\n",
    "                   {'type': 'eq', 'fun': lambda x: sum(x*mi) - ret}] # segunda restrição\n",
    "    \n",
    "    result = solver.minimize(f_obj_min_risk, w_ini, constraints=constraints, bounds=bounds, \n",
    "                         method='SLSQP')\n",
    "    sigma_sim.append(result.fun)\n",
    "    \n",
    "plt.plot(sigma_sim, ret_range, '--')"
   ]
  },
  {
   "cell_type": "markdown",
   "metadata": {},
   "source": [
    "### Maximizar o retorno\n",
    "Neste caso, fixamos a volatilidade desejada $\\sigma_P$ e definimos a função objetivo para ampliar os retornos calculados a partir dos pesos. O problema de otimização pode ser rezumido por:\n",
    "\n",
    "$$ max F(w) = \\sum_{i=1}^N W_i r_i $$\n",
    "\n",
    "Sujeito a:\n",
    "\n",
    "$$\\sqrt{\\sum_{i=1}^N \\sum_{j=1}^N W_i \\cdot W_j \\cdot COV_{i,j}} = \\sigma_P $$\n",
    "$$\\sum_{i=1}^N W_i - 1 = 0 $$\n",
    "$$ w_i >= 0, \\forall i=1,...,n $$\n",
    "$$ w_i <= 1, \\forall i=1,...,n $$\n",
    "\n",
    "Nas bibliotecas existentes, os problemas de otimização sempre são descritas como minimização. Mas isto não é um problema, pois podemos simplesmente inverter o sinal da função objetivo:\n",
    "\n",
    "$$ min F(w) = - \\sum_{i=1}^N W_i r_i $$"
   ]
  },
  {
   "cell_type": "code",
   "execution_count": 21,
   "metadata": {
    "id": "XnwlfcHChPe9"
   },
   "outputs": [],
   "source": [
    "# Definindo função objetivo\n",
    "\n",
    "def calc_retorno_port2(w):\n",
    "    \n",
    "    return  -(sum(w*mi.drop('IBOV', axis = 0)))\n",
    "    \n",
    "# Definindo valor inicial\n",
    "w_ini = np.array([1/len(mi.drop('IBOV', axis = 0))]* len(mi.drop('IBOV', axis = 0)))\n",
    "\n",
    "\n",
    "\n",
    "risk =  0.015\n",
    "\n",
    "# Definindo restrições\n",
    "constraints = [{'type': 'eq', 'fun': lambda x: sum(x) - 1}, # primeira restrição\n",
    "               {'type': 'eq', 'fun': lambda x: np.sqrt(np.dot(x, np.dot(cov_matrix_port, x))) - risk}] # segunda restrição\n",
    "\n",
    "\n",
    "# Definindo limites para os pesos\n",
    "bounds = tuple((0, 1) for x in range(len(w_ini)))\n"
   ]
  },
  {
   "cell_type": "code",
   "execution_count": 22,
   "metadata": {},
   "outputs": [
    {
     "data": {
      "text/plain": [
       "     fun: 0.09797749303489699\n",
       "     jac: array([ 0.38673502, -0.25579084, -0.94656305, -0.07915287, -0.0854078 ,\n",
       "       -0.19372062])\n",
       " message: 'Positive directional derivative for linesearch'\n",
       "    nfev: 855\n",
       "     nit: 68\n",
       "    njev: 64\n",
       "  status: 8\n",
       " success: False\n",
       "       x: array([4.32800870e-01, 1.52089940e-15, 8.80336573e-03, 2.59703188e-01,\n",
       "       1.60187361e-01, 1.38505216e-01])"
      ]
     },
     "execution_count": 22,
     "metadata": {},
     "output_type": "execute_result"
    }
   ],
   "source": [
    "# Imprime resultado\n",
    "result = solver.minimize(calc_retorno_port2, w_ini, constraints=constraints, bounds=bounds, \n",
    "                         method='SLSQP')\n",
    "result"
   ]
  },
  {
   "cell_type": "code",
   "execution_count": 23,
   "metadata": {},
   "outputs": [
    {
     "name": "stdout",
     "output_type": "stream",
     "text": [
      "Pesos (%): [43.28, 0.0, 0.88, 25.97, 16.02, 13.85]\n",
      "Retorno portfólio (%): 9.8 \n"
     ]
    }
   ],
   "source": [
    "pesos = [round(w*100, 2) for w in result.x]\n",
    "print(f'Pesos (%): {pesos}\\nRetorno portfólio (%): {round(result.fun*100 ,2)} ')"
   ]
  },
  {
   "cell_type": "code",
   "execution_count": 24,
   "metadata": {},
   "outputs": [
    {
     "data": {
      "text/plain": [
       "[<matplotlib.lines.Line2D at 0x27ac739ed90>]"
      ]
     },
     "execution_count": 24,
     "metadata": {},
     "output_type": "execute_result"
    },
    {
     "data": {
      "image/png": "[encoded data removed]",
      "text/plain": [
       "<Figure size 432x288 with 1 Axes>"
      ]
     },
     "metadata": {
      "needs_background": "light"
     },
     "output_type": "display_data"
    }
   ],
   "source": [
    "# Simulando para diversos riscos (buscando a fronteira eficiente)\n",
    "sigma_range = np.arange(0.0, 0.8, 0.05)\n",
    "retornos = []\n",
    "\n",
    "for risk in sigma_range:\n",
    "    constraints = [{'type': 'eq', 'fun': lambda x: sum(x) - 1}, # primeira restrição\n",
    "                   {'type': 'eq', 'fun': lambda x: np.sqrt(np.dot(x, np.dot(cov_matrix_port, x))) - risk}] # segunda restrição\n",
    "    \n",
    "    result = solver.minimize(calc_retorno_port2, w_ini, constraints=constraints, bounds=bounds, \n",
    "                         method='SLSQP')\n",
    "    retornos.append(-result.fun)\n",
    "    \n",
    "plt.plot(sigma_range,  retornos, '--')"
   ]
  },
  {
   "cell_type": "markdown",
   "metadata": {},
   "source": [
    "Uma forma interessante de otimizar foi utilizando o algoritmo simulated_annealing da biblioteca mlrose, e se utilizando de uma função para calcular o indice sharpe e maximizando este."
   ]
  },
  {
   "cell_type": "code",
   "execution_count": 64,
   "metadata": {},
   "outputs": [
    {
     "name": "stdout",
     "output_type": "stream",
     "text": [
      "Requirement already satisfied: mlrose in c:\\users\\pc\\anaconda3\\lib\\site-packages (1.3.0)\n",
      "Requirement already satisfied: scipy in c:\\users\\pc\\anaconda3\\lib\\site-packages (from mlrose) (1.6.2)\n",
      "Requirement already satisfied: sklearn in c:\\users\\pc\\anaconda3\\lib\\site-packages (from mlrose) (0.0)\n",
      "Requirement already satisfied: numpy in c:\\users\\pc\\anaconda3\\lib\\site-packages (from mlrose) (1.20.1)\n",
      "Requirement already satisfied: scikit-learn in c:\\users\\pc\\anaconda3\\lib\\site-packages (from sklearn->mlrose) (0.24.1)\n",
      "Requirement already satisfied: threadpoolctl>=2.0.0 in c:\\users\\pc\\anaconda3\\lib\\site-packages (from scikit-learn->sklearn->mlrose) (2.1.0)\n",
      "Requirement already satisfied: joblib>=0.11 in c:\\users\\pc\\anaconda3\\lib\\site-packages (from scikit-learn->sklearn->mlrose) (1.0.1)\n"
     ]
    }
   ],
   "source": [
    "!pip install mlrose"
   ]
  },
  {
   "cell_type": "code",
   "execution_count": 185,
   "metadata": {},
   "outputs": [],
   "source": [
    "import six\n",
    "import sys\n",
    "sys.modules['sklearn.externals.six'] = six\n",
    "import mlrose"
   ]
  },
  {
   "cell_type": "code",
   "execution_count": 186,
   "metadata": {},
   "outputs": [
    {
     "name": "stdout",
     "output_type": "stream",
     "text": [
      "\n",
      "Pesos: [0.         0.         0.77777778 0.         0.11111111 0.11111111]\n"
     ]
    }
   ],
   "source": [
    "def calc_sharpe_ratio (w):\n",
    "    \n",
    "    ret_P = calc_retorno_port(w,mi.drop('IBOV', axis = 0) )*100\n",
    "    \n",
    "    # risco com os pesos aletórios\n",
    "    sigma_P = np.sqrt(np.dot(w.T, (np.dot(cov_matrix_port, w))))*100\n",
    "    \n",
    "    \n",
    "    return (ret_P -(taxa_s_risco/100)) / sigma_P\n",
    "\n",
    "fitness = mlrose.CustomFitness(calc_sharpe_ratio)\n",
    "maximizacao = mlrose.ContinuousOpt(length =6, fitness_fn = fitness,maximize= True, min_val = 0, max_val = 1)\n",
    "\n",
    "\n",
    "melhor_solucao, _ = mlrose.simulated_annealing(maximizacao, random_state = 11)\n",
    "melhor_solucao = melhor_solucao/ melhor_solucao.sum()\n",
    "print('\\nPesos:', melhor_solucao, )"
   ]
  },
  {
   "cell_type": "code",
   "execution_count": 187,
   "metadata": {},
   "outputs": [
    {
     "name": "stdout",
     "output_type": "stream",
     "text": [
      "Retorno esperado: 76.723%, risco: 37.9176%\n"
     ]
    }
   ],
   "source": [
    "# retorno do portfólio\n",
    "mi_P = calc_retorno_port(melhor_solucao, mi.drop('IBOV', axis = 0))\n",
    "\n",
    "# risco do portfólio\n",
    "sigma_P = calc_risco_port(melhor_solucao, cov_matrix_port)\n",
    "\n",
    "print(f'Retorno esperado: {round(mi_P*100, 4)}%, risco: {round(sigma_P*100, 4)}%')"
   ]
  },
  {
   "cell_type": "markdown",
   "metadata": {},
   "source": [
    "Vamos comparar este resultado do mlrose com o resultado do solver e colocar o mesmo risco"
   ]
  },
  {
   "cell_type": "code",
   "execution_count": 28,
   "metadata": {},
   "outputs": [
    {
     "data": {
      "text/plain": [
       "     fun: -0.7671067635872145\n",
       "     jac: array([ 0.38673501, -0.25579084, -0.94656305, -0.07915287, -0.0854078 ,\n",
       "       -0.19372062])\n",
       " message: 'Optimization terminated successfully'\n",
       "    nfev: 127\n",
       "     nit: 17\n",
       "    njev: 17\n",
       "  status: 0\n",
       " success: True\n",
       "       x: array([0.00000000e+00, 7.45416981e-17, 7.75243066e-01, 3.86796995e-17,\n",
       "       9.46308134e-02, 1.30126120e-01])"
      ]
     },
     "execution_count": 28,
     "metadata": {},
     "output_type": "execute_result"
    }
   ],
   "source": [
    "risk = 0.379\n",
    "constraints = [{'type': 'eq', 'fun': lambda x: sum(x) - 1}, # primeira restrição\n",
    "                   {'type': 'eq', 'fun': lambda x: np.sqrt(np.dot(x, np.dot(cov_matrix_port, x))) - risk}] # segunda restrição\n",
    "    \n",
    "\n",
    "result = solver.minimize(calc_retorno_port2, w_ini, constraints=constraints, bounds=bounds, \n",
    "                         method='SLSQP')\n",
    "result"
   ]
  },
  {
   "cell_type": "code",
   "execution_count": 29,
   "metadata": {},
   "outputs": [
    {
     "name": "stdout",
     "output_type": "stream",
     "text": [
      "Pesos (%): [0.0, 0.0, 77.52, 0.0, 9.46, 13.01]\n",
      "Retorno portfólio (%): 76.71 \n"
     ]
    }
   ],
   "source": [
    "pesos = [round(w*100, 2) for w in result.x]\n",
    "print(f'Pesos (%): {pesos}\\nRetorno portfólio (%): {round(-result.fun*100 ,2)} ')"
   ]
  },
  {
   "cell_type": "markdown",
   "metadata": {},
   "source": [
    "Ambos chegaram em valores praticamente iguais utilizando-se pesos semelhantes para os mesmos ativos. Mas, cada um apresenta um posto de vista diferente: o solver se utiliza de um valor de restrição de retorno ou risco visando maximizar/minimizar,ou seja, é assumido a qual valor se está disposto; o mlrose utilizamos a maximização do indice sharpe (o quanto o retorno compensa em relaçao ao risco) onde almeja um valor acima de 0.5, mas podemos utilizar-se de outro índice para maximizar ou minimizar seu valor."
   ]
  },
  {
   "cell_type": "code",
   "execution_count": null,
   "metadata": {},
   "outputs": [],
   "source": []
  }
 ],
 "metadata": {
  "colab": {
   "name": "Aula 11 - Atividade Teoria de portfólio, beta e CAPM.ipynb",
   "provenance": []
  },
  "kernelspec": {
   "display_name": "Python 3",
   "language": "python",
   "name": "python3"
  },
  "language_info": {
   "codemirror_mode": {
    "name": "ipython",
    "version": 3
   },
   "file_extension": ".py",
   "mimetype": "text/x-python",
   "name": "python",
   "nbconvert_exporter": "python",
   "pygments_lexer": "ipython3",
   "version": "3.8.8"
  },
  "latex_envs": {
   "LaTeX_envs_menu_present": true,
   "autoclose": false,
   "autocomplete": true,
   "bibliofile": "biblio.bib",
   "cite_by": "apalike",
   "current_citInitial": 1,
   "eqLabelWithNumbers": true,
   "eqNumInitial": 1,
   "hotkeys": {
    "equation": "Ctrl-E",
    "itemize": "Ctrl-I"
   },
   "labels_anchors": false,
   "latex_user_defs": false,
   "report_style_numbering": false,
   "user_envs_cfg": false
  },
  "toc": {
   "base_numbering": 1,
   "nav_menu": {},
   "number_sections": true,
   "sideBar": true,
   "skip_h1_title": false,
   "title_cell": "Table of Contents",
   "title_sidebar": "Contents",
   "toc_cell": false,
   "toc_position": {},
   "toc_section_display": true,
   "toc_window_display": false
  },
  "varInspector": {
   "cols": {
    "lenName": 16,
    "lenType": 16,
    "lenVar": 40
   },
   "kernels_config": {
    "python": {
     "delete_cmd_postfix": "",
     "delete_cmd_prefix": "del ",
     "library": "var_list.py",
     "varRefreshCmd": "print(var_dic_list())"
    },
    "r": {
     "delete_cmd_postfix": ") ",
     "delete_cmd_prefix": "rm(",
     "library": "var_list.r",
     "varRefreshCmd": "cat(var_dic_list()) "
    }
   },
   "types_to_exclude": [
    "module",
    "function",
    "builtin_function_or_method",
    "instance",
    "_Feature"
   ],
   "window_display": false
  }
 },
 "nbformat": 4,
 "nbformat_minor": 1
}
