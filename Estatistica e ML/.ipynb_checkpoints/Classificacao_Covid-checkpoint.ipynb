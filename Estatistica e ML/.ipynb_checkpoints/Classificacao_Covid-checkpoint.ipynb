{
 "cells": [
  {
   "cell_type": "markdown",
   "id": "d54bd76a",
   "metadata": {},
   "source": [
    "# Modelo de Classificação"
   ]
  },
  {
   "cell_type": "markdown",
   "id": "4e61fab0",
   "metadata": {},
   "source": [
    "O objetivo do projeto é desenvolver um estudo no dataset `COVID.csv`, base esta que contém informações sobre casos de COVID. E partir do diagnóstico de sintomas e informações dos pacientes desenvolver um modelo para prever casos confirmados de COVID.\n",
    "\n",
    "<br>\n",
    "\n",
    "A descrição das variáveis contidas no dataset pode ser encontradas a seguir:\n",
    "\n",
    " - **id**: Identificação do paciente<br>\n",
    " - **sex**: Sexo do Paciente (0 - Homem / 1 - Mulher) <br>\n",
    " - **patient_type**: Se o paciente foi dispensado para casa (1) ou se foi internado (0) <br>\n",
    " - **intubed**: Seo paciente foi intubado ou não<br>\n",
    " - **pneumonia**: Se o paciente apresentou pneumonia ou não<br>\n",
    " - **age**: Idade do Paciente<br>\n",
    " - **pregnancy**: Se a paciente estava grávida ou não (para pacientes mulheres)<br>\n",
    " - **diabetes**: Se o paciente tem diabetes ou não<br>\n",
    " - **copd**: Se opaciente tem COPD ou não<br>\n",
    " - **asthma**: Se o paciente tem Asma ou não<br>\n",
    " - **inmsupr**: Se o paciente apresentou Imunosupressão ou não<br>\n",
    " - **hypertension**: Se o paciente tem hipertensão ou não<br>\n",
    " - **ohter_disease**: Se o paciente tem outras doenças ou não<br>\n",
    " - **cardiovascular**: Se o paciente tem doenças cardiácas ou não<br>\n",
    " - **obesity**: Se o paciente tem obesidade ou não<br>\n",
    " - **renal_chronic**: Se o paciente tem problemas renais ou não<br>\n",
    " - **tobacco**: Se o paciente é fumante ou não<br>\n",
    " - **contact_other_covid**: Se o paciente teve contato com outras pessoas diagnosticadas com covid<br>\n",
    " - **icu**: Se o paciente precisou ser internado na UTI<br>\n",
    " - **covid_res**: Se o resultado do teste foi Positivo ou Negativo<br>\n"
   ]
  },
  {
   "cell_type": "code",
   "execution_count": 1,
   "id": "4a87b242",
   "metadata": {},
   "outputs": [],
   "source": [
    "import pandas as pd\n",
    "import numpy as np\n",
    "import matplotlib.pyplot as plt\n",
    "import seaborn as sns"
   ]
  },
  {
   "cell_type": "markdown",
   "id": "93afafce",
   "metadata": {},
   "source": [
    "## Análise dos dados"
   ]
  },
  {
   "cell_type": "code",
   "execution_count": 2,
   "id": "dba6dc6e",
   "metadata": {},
   "outputs": [],
   "source": [
    "df_covid = pd.read_csv('COVID.csv')"
   ]
  },
  {
   "cell_type": "code",
   "execution_count": 3,
   "id": "939aa2db",
   "metadata": {},
   "outputs": [
    {
     "name": "stdout",
     "output_type": "stream",
     "text": [
      "<class 'pandas.core.frame.DataFrame'>\n",
      "RangeIndex: 499692 entries, 0 to 499691\n",
      "Data columns (total 20 columns):\n",
      " #   Column               Non-Null Count   Dtype  \n",
      "---  ------               --------------   -----  \n",
      " 0   Unnamed: 0           499692 non-null  int64  \n",
      " 1   sex                  499692 non-null  int64  \n",
      " 2   patient_type         499692 non-null  int64  \n",
      " 3   intubed              107424 non-null  float64\n",
      " 4   pneumonia            499681 non-null  float64\n",
      " 5   age                  499692 non-null  int64  \n",
      " 6   pregnancy            245258 non-null  float64\n",
      " 7   diabetes             498051 non-null  float64\n",
      " 8   copd                 498246 non-null  float64\n",
      " 9   asthma               498250 non-null  float64\n",
      " 10  inmsupr              498030 non-null  float64\n",
      " 11  hypertension         498203 non-null  float64\n",
      " 12  other_disease        497499 non-null  float64\n",
      " 13  cardiovascular       498183 non-null  float64\n",
      " 14  obesity              498222 non-null  float64\n",
      " 15  renal_chronic        498216 non-null  float64\n",
      " 16  tobacco              498113 non-null  float64\n",
      " 17  contact_other_covid  346017 non-null  float64\n",
      " 18  covid_res            499692 non-null  int64  \n",
      " 19  icu                  107423 non-null  float64\n",
      "dtypes: float64(15), int64(5)\n",
      "memory usage: 76.2 MB\n"
     ]
    }
   ],
   "source": [
    "df_covid.info()"
   ]
  },
  {
   "cell_type": "code",
   "execution_count": 4,
   "id": "66874ba6",
   "metadata": {},
   "outputs": [
    {
     "data": {
      "text/html": [
       "<div>\n",
       "<style scoped>\n",
       "    .dataframe tbody tr th:only-of-type {\n",
       "        vertical-align: middle;\n",
       "    }\n",
       "\n",
       "    .dataframe tbody tr th {\n",
       "        vertical-align: top;\n",
       "    }\n",
       "\n",
       "    .dataframe thead th {\n",
       "        text-align: right;\n",
       "    }\n",
       "</style>\n",
       "<table border=\"1\" class=\"dataframe\">\n",
       "  <thead>\n",
       "    <tr style=\"text-align: right;\">\n",
       "      <th></th>\n",
       "      <th>Unnamed: 0</th>\n",
       "      <th>sex</th>\n",
       "      <th>patient_type</th>\n",
       "      <th>intubed</th>\n",
       "      <th>pneumonia</th>\n",
       "      <th>age</th>\n",
       "      <th>pregnancy</th>\n",
       "      <th>diabetes</th>\n",
       "      <th>copd</th>\n",
       "      <th>asthma</th>\n",
       "      <th>inmsupr</th>\n",
       "      <th>hypertension</th>\n",
       "      <th>other_disease</th>\n",
       "      <th>cardiovascular</th>\n",
       "      <th>obesity</th>\n",
       "      <th>renal_chronic</th>\n",
       "      <th>tobacco</th>\n",
       "      <th>contact_other_covid</th>\n",
       "      <th>covid_res</th>\n",
       "      <th>icu</th>\n",
       "    </tr>\n",
       "  </thead>\n",
       "  <tbody>\n",
       "    <tr>\n",
       "      <th>0</th>\n",
       "      <td>0</td>\n",
       "      <td>0</td>\n",
       "      <td>1</td>\n",
       "      <td>NaN</td>\n",
       "      <td>0.0</td>\n",
       "      <td>27</td>\n",
       "      <td>NaN</td>\n",
       "      <td>0.0</td>\n",
       "      <td>0.0</td>\n",
       "      <td>0.0</td>\n",
       "      <td>0.0</td>\n",
       "      <td>0.0</td>\n",
       "      <td>0.0</td>\n",
       "      <td>0.0</td>\n",
       "      <td>0.0</td>\n",
       "      <td>0.0</td>\n",
       "      <td>0.0</td>\n",
       "      <td>0.0</td>\n",
       "      <td>1</td>\n",
       "      <td>NaN</td>\n",
       "    </tr>\n",
       "    <tr>\n",
       "      <th>1</th>\n",
       "      <td>1</td>\n",
       "      <td>0</td>\n",
       "      <td>1</td>\n",
       "      <td>NaN</td>\n",
       "      <td>0.0</td>\n",
       "      <td>24</td>\n",
       "      <td>NaN</td>\n",
       "      <td>0.0</td>\n",
       "      <td>0.0</td>\n",
       "      <td>0.0</td>\n",
       "      <td>0.0</td>\n",
       "      <td>0.0</td>\n",
       "      <td>0.0</td>\n",
       "      <td>0.0</td>\n",
       "      <td>0.0</td>\n",
       "      <td>0.0</td>\n",
       "      <td>0.0</td>\n",
       "      <td>NaN</td>\n",
       "      <td>1</td>\n",
       "      <td>NaN</td>\n",
       "    </tr>\n",
       "    <tr>\n",
       "      <th>2</th>\n",
       "      <td>2</td>\n",
       "      <td>1</td>\n",
       "      <td>0</td>\n",
       "      <td>0.0</td>\n",
       "      <td>0.0</td>\n",
       "      <td>54</td>\n",
       "      <td>0.0</td>\n",
       "      <td>0.0</td>\n",
       "      <td>0.0</td>\n",
       "      <td>0.0</td>\n",
       "      <td>0.0</td>\n",
       "      <td>0.0</td>\n",
       "      <td>0.0</td>\n",
       "      <td>0.0</td>\n",
       "      <td>1.0</td>\n",
       "      <td>0.0</td>\n",
       "      <td>0.0</td>\n",
       "      <td>NaN</td>\n",
       "      <td>1</td>\n",
       "      <td>0.0</td>\n",
       "    </tr>\n",
       "    <tr>\n",
       "      <th>3</th>\n",
       "      <td>3</td>\n",
       "      <td>0</td>\n",
       "      <td>0</td>\n",
       "      <td>0.0</td>\n",
       "      <td>1.0</td>\n",
       "      <td>30</td>\n",
       "      <td>NaN</td>\n",
       "      <td>0.0</td>\n",
       "      <td>0.0</td>\n",
       "      <td>0.0</td>\n",
       "      <td>0.0</td>\n",
       "      <td>0.0</td>\n",
       "      <td>0.0</td>\n",
       "      <td>0.0</td>\n",
       "      <td>0.0</td>\n",
       "      <td>0.0</td>\n",
       "      <td>0.0</td>\n",
       "      <td>NaN</td>\n",
       "      <td>1</td>\n",
       "      <td>0.0</td>\n",
       "    </tr>\n",
       "    <tr>\n",
       "      <th>4</th>\n",
       "      <td>4</td>\n",
       "      <td>1</td>\n",
       "      <td>0</td>\n",
       "      <td>0.0</td>\n",
       "      <td>0.0</td>\n",
       "      <td>60</td>\n",
       "      <td>0.0</td>\n",
       "      <td>1.0</td>\n",
       "      <td>0.0</td>\n",
       "      <td>0.0</td>\n",
       "      <td>0.0</td>\n",
       "      <td>1.0</td>\n",
       "      <td>0.0</td>\n",
       "      <td>1.0</td>\n",
       "      <td>0.0</td>\n",
       "      <td>0.0</td>\n",
       "      <td>0.0</td>\n",
       "      <td>NaN</td>\n",
       "      <td>1</td>\n",
       "      <td>0.0</td>\n",
       "    </tr>\n",
       "  </tbody>\n",
       "</table>\n",
       "</div>"
      ],
      "text/plain": [
       "   Unnamed: 0  sex  patient_type  intubed  pneumonia  age  pregnancy  \\\n",
       "0           0    0             1      NaN        0.0   27        NaN   \n",
       "1           1    0             1      NaN        0.0   24        NaN   \n",
       "2           2    1             0      0.0        0.0   54        0.0   \n",
       "3           3    0             0      0.0        1.0   30        NaN   \n",
       "4           4    1             0      0.0        0.0   60        0.0   \n",
       "\n",
       "   diabetes  copd  asthma  inmsupr  hypertension  other_disease  \\\n",
       "0       0.0   0.0     0.0      0.0           0.0            0.0   \n",
       "1       0.0   0.0     0.0      0.0           0.0            0.0   \n",
       "2       0.0   0.0     0.0      0.0           0.0            0.0   \n",
       "3       0.0   0.0     0.0      0.0           0.0            0.0   \n",
       "4       1.0   0.0     0.0      0.0           1.0            0.0   \n",
       "\n",
       "   cardiovascular  obesity  renal_chronic  tobacco  contact_other_covid  \\\n",
       "0             0.0      0.0            0.0      0.0                  0.0   \n",
       "1             0.0      0.0            0.0      0.0                  NaN   \n",
       "2             0.0      1.0            0.0      0.0                  NaN   \n",
       "3             0.0      0.0            0.0      0.0                  NaN   \n",
       "4             1.0      0.0            0.0      0.0                  NaN   \n",
       "\n",
       "   covid_res  icu  \n",
       "0          1  NaN  \n",
       "1          1  NaN  \n",
       "2          1  0.0  \n",
       "3          1  0.0  \n",
       "4          1  0.0  "
      ]
     },
     "execution_count": 4,
     "metadata": {},
     "output_type": "execute_result"
    }
   ],
   "source": [
    "df_covid.head()"
   ]
  },
  {
   "cell_type": "code",
   "execution_count": 5,
   "id": "1a9d927e",
   "metadata": {},
   "outputs": [
    {
     "data": {
      "text/plain": [
       "Unnamed: 0             499692\n",
       "sex                         2\n",
       "patient_type                2\n",
       "intubed                     2\n",
       "pneumonia                   2\n",
       "age                       120\n",
       "pregnancy                   2\n",
       "diabetes                    2\n",
       "copd                        2\n",
       "asthma                      2\n",
       "inmsupr                     2\n",
       "hypertension                2\n",
       "other_disease               2\n",
       "cardiovascular              2\n",
       "obesity                     2\n",
       "renal_chronic               2\n",
       "tobacco                     2\n",
       "contact_other_covid         2\n",
       "covid_res                   2\n",
       "icu                         2\n",
       "dtype: int64"
      ]
     },
     "execution_count": 5,
     "metadata": {},
     "output_type": "execute_result"
    }
   ],
   "source": [
    "df_covid.nunique()"
   ]
  },
  {
   "cell_type": "code",
   "execution_count": 6,
   "id": "c26bd6d7",
   "metadata": {},
   "outputs": [
    {
     "data": {
      "text/plain": [
       "499692"
      ]
     },
     "execution_count": 6,
     "metadata": {},
     "output_type": "execute_result"
    }
   ],
   "source": [
    "df_covid['Unnamed: 0'].nunique()"
   ]
  },
  {
   "cell_type": "code",
   "execution_count": 7,
   "id": "1ce8f65f",
   "metadata": {},
   "outputs": [],
   "source": [
    "# removendo a coluna Unnamed, possivelmente o id de cada paciente\n",
    "df_covid.drop('Unnamed: 0', axis = 1, inplace = True)"
   ]
  },
  {
   "cell_type": "markdown",
   "id": "fd1f8a6b",
   "metadata": {},
   "source": [
    "### Dados faltantes"
   ]
  },
  {
   "cell_type": "code",
   "execution_count": 8,
   "id": "66bbfbdd",
   "metadata": {},
   "outputs": [
    {
     "data": {
      "text/html": [
       "<div>\n",
       "<style scoped>\n",
       "    .dataframe tbody tr th:only-of-type {\n",
       "        vertical-align: middle;\n",
       "    }\n",
       "\n",
       "    .dataframe tbody tr th {\n",
       "        vertical-align: top;\n",
       "    }\n",
       "\n",
       "    .dataframe thead th {\n",
       "        text-align: right;\n",
       "    }\n",
       "</style>\n",
       "<table border=\"1\" class=\"dataframe\">\n",
       "  <thead>\n",
       "    <tr style=\"text-align: right;\">\n",
       "      <th></th>\n",
       "      <th>Feature</th>\n",
       "      <th>Dados Faltantes</th>\n",
       "      <th>Percent</th>\n",
       "    </tr>\n",
       "  </thead>\n",
       "  <tbody>\n",
       "    <tr>\n",
       "      <th>14</th>\n",
       "      <td>icu</td>\n",
       "      <td>392269</td>\n",
       "      <td>78.502157</td>\n",
       "    </tr>\n",
       "    <tr>\n",
       "      <th>0</th>\n",
       "      <td>intubed</td>\n",
       "      <td>392268</td>\n",
       "      <td>78.501957</td>\n",
       "    </tr>\n",
       "    <tr>\n",
       "      <th>2</th>\n",
       "      <td>pregnancy</td>\n",
       "      <td>254434</td>\n",
       "      <td>50.918166</td>\n",
       "    </tr>\n",
       "    <tr>\n",
       "      <th>13</th>\n",
       "      <td>contact_other_covid</td>\n",
       "      <td>153675</td>\n",
       "      <td>30.753944</td>\n",
       "    </tr>\n",
       "    <tr>\n",
       "      <th>8</th>\n",
       "      <td>other_disease</td>\n",
       "      <td>2193</td>\n",
       "      <td>0.43887</td>\n",
       "    </tr>\n",
       "    <tr>\n",
       "      <th>6</th>\n",
       "      <td>inmsupr</td>\n",
       "      <td>1662</td>\n",
       "      <td>0.332605</td>\n",
       "    </tr>\n",
       "    <tr>\n",
       "      <th>3</th>\n",
       "      <td>diabetes</td>\n",
       "      <td>1641</td>\n",
       "      <td>0.328402</td>\n",
       "    </tr>\n",
       "    <tr>\n",
       "      <th>12</th>\n",
       "      <td>tobacco</td>\n",
       "      <td>1579</td>\n",
       "      <td>0.315995</td>\n",
       "    </tr>\n",
       "    <tr>\n",
       "      <th>9</th>\n",
       "      <td>cardiovascular</td>\n",
       "      <td>1509</td>\n",
       "      <td>0.301986</td>\n",
       "    </tr>\n",
       "    <tr>\n",
       "      <th>7</th>\n",
       "      <td>hypertension</td>\n",
       "      <td>1489</td>\n",
       "      <td>0.297984</td>\n",
       "    </tr>\n",
       "    <tr>\n",
       "      <th>11</th>\n",
       "      <td>renal_chronic</td>\n",
       "      <td>1476</td>\n",
       "      <td>0.295382</td>\n",
       "    </tr>\n",
       "    <tr>\n",
       "      <th>10</th>\n",
       "      <td>obesity</td>\n",
       "      <td>1470</td>\n",
       "      <td>0.294181</td>\n",
       "    </tr>\n",
       "    <tr>\n",
       "      <th>4</th>\n",
       "      <td>copd</td>\n",
       "      <td>1446</td>\n",
       "      <td>0.289378</td>\n",
       "    </tr>\n",
       "    <tr>\n",
       "      <th>5</th>\n",
       "      <td>asthma</td>\n",
       "      <td>1442</td>\n",
       "      <td>0.288578</td>\n",
       "    </tr>\n",
       "    <tr>\n",
       "      <th>1</th>\n",
       "      <td>pneumonia</td>\n",
       "      <td>11</td>\n",
       "      <td>0.002201</td>\n",
       "    </tr>\n",
       "  </tbody>\n",
       "</table>\n",
       "</div>"
      ],
      "text/plain": [
       "                Feature Dados Faltantes    Percent\n",
       "14                  icu          392269  78.502157\n",
       "0               intubed          392268  78.501957\n",
       "2             pregnancy          254434  50.918166\n",
       "13  contact_other_covid          153675  30.753944\n",
       "8         other_disease            2193    0.43887\n",
       "6               inmsupr            1662   0.332605\n",
       "3              diabetes            1641   0.328402\n",
       "12              tobacco            1579   0.315995\n",
       "9        cardiovascular            1509   0.301986\n",
       "7          hypertension            1489   0.297984\n",
       "11        renal_chronic            1476   0.295382\n",
       "10              obesity            1470   0.294181\n",
       "4                  copd            1446   0.289378\n",
       "5                asthma            1442   0.288578\n",
       "1             pneumonia              11   0.002201"
      ]
     },
     "execution_count": 8,
     "metadata": {},
     "output_type": "execute_result"
    }
   ],
   "source": [
    "total_dados = len(df_covid.index)\n",
    "isna_table = pd.DataFrame(columns=['Feature', 'Dados Faltantes', 'Percent'])\n",
    "for x in df_covid.columns:\n",
    "    if df_covid.isna()[x].sum() > 0:\n",
    "        dados_faltantes = df_covid.isna()[x].sum()\n",
    "        isna_table = isna_table.append({'Feature': x, 'Dados Faltantes': dados_faltantes}, ignore_index = True)\n",
    "        \n",
    "isna_table['Percent'] = isna_table['Dados Faltantes']/total_dados * 100\n",
    "isna_table.sort_values(['Percent', 'Dados Faltantes'], ascending = False)"
   ]
  },
  {
   "cell_type": "markdown",
   "id": "a380edbb",
   "metadata": {},
   "source": [
    "As features icu e intubed (maior dados nulos) sao de internação UTI e entubação, respectivamente, primeiro pensamos que pacientes entubados estiveram na UTI."
   ]
  },
  {
   "cell_type": "code",
   "execution_count": 9,
   "id": "de722645",
   "metadata": {},
   "outputs": [],
   "source": [
    "df_covid.loc[(df_covid['intubed'].isna()) & (df_covid['icu'] == 1)] =1"
   ]
  },
  {
   "cell_type": "code",
   "execution_count": 10,
   "id": "62ac89ee",
   "metadata": {},
   "outputs": [
    {
     "data": {
      "text/plain": [
       "392268"
      ]
     },
     "execution_count": 10,
     "metadata": {},
     "output_type": "execute_result"
    }
   ],
   "source": [
    "df_covid['intubed'].isna().sum()"
   ]
  },
  {
   "cell_type": "markdown",
   "id": "85bbc424",
   "metadata": {},
   "source": [
    "Os dados não se alteraram, e os numeros dos dados faltantes dos dois são parecidos, o que leva a pensar que os mesmos dados faltantes de entubados são os mesmos de internador UTI, vamos verificar esta informação."
   ]
  },
  {
   "cell_type": "code",
   "execution_count": 11,
   "id": "2ceca3b3",
   "metadata": {},
   "outputs": [
    {
     "data": {
      "text/plain": [
       "{80106}"
      ]
     },
     "execution_count": 11,
     "metadata": {},
     "output_type": "execute_result"
    }
   ],
   "source": [
    "lista_entubados_nan = df_covid.loc[df_covid['intubed'].isna()].index.to_list()\n",
    "lista_uti_nan = df_covid.loc[df_covid['icu'].isna()].index.to_list()\n",
    "set(lista_uti_nan) - set(lista_entubados_nan)"
   ]
  },
  {
   "cell_type": "markdown",
   "id": "aa7e3b10",
   "metadata": {},
   "source": [
    "Apenas um índice diferente entre as colunas sobre os dados falantes"
   ]
  },
  {
   "cell_type": "markdown",
   "id": "c548386f",
   "metadata": {},
   "source": [
    "Para preencher os dados faltantes destas colunas pensamos assim: se alguma destas colunas que faltam dados o paciente estiver com teste negativo estas serão preenchidas com 0 (False), pois se os pacientes nao estavam com covid logo nao estiveram internados nem entubados (pelo menos em reação a COVID que é o proposito do modelo)"
   ]
  },
  {
   "cell_type": "code",
   "execution_count": 12,
   "id": "97cb6df9",
   "metadata": {},
   "outputs": [],
   "source": [
    "# preenchendo com 0 onde icu o teste deu negativo\n",
    "df_covid.loc[(df_covid['icu'].isna()) & (df_covid.covid_res == 0), 'icu']= 0"
   ]
  },
  {
   "cell_type": "code",
   "execution_count": 13,
   "id": "238aecb5",
   "metadata": {},
   "outputs": [
    {
     "data": {
      "text/plain": [
       "152447"
      ]
     },
     "execution_count": 13,
     "metadata": {},
     "output_type": "execute_result"
    }
   ],
   "source": [
    "# conferindo o resultado\n",
    "df_covid['icu'].isna().sum()"
   ]
  },
  {
   "cell_type": "code",
   "execution_count": 14,
   "id": "06faa3ec",
   "metadata": {},
   "outputs": [],
   "source": [
    "# realizando o mesmo procedimento com intubed\n",
    "df_covid.loc[(df_covid['intubed'].isna()) & (df_covid.covid_res == 0), 'intubed']= 0"
   ]
  },
  {
   "cell_type": "code",
   "execution_count": 15,
   "id": "391e47bc",
   "metadata": {},
   "outputs": [
    {
     "data": {
      "text/plain": [
       "152446"
      ]
     },
     "execution_count": 15,
     "metadata": {},
     "output_type": "execute_result"
    }
   ],
   "source": [
    "df_covid['intubed'].isna().sum()"
   ]
  },
  {
   "cell_type": "markdown",
   "id": "61cb1a0d",
   "metadata": {},
   "source": [
    "Verificando os dados de pregnancy, caso for 0 (homem) sera preenchido com 0"
   ]
  },
  {
   "cell_type": "code",
   "execution_count": 16,
   "id": "abe1259f",
   "metadata": {},
   "outputs": [],
   "source": [
    "df_covid.loc[(df_covid['pregnancy'].isna()) & (df_covid.sex == 0), 'pregnancy']= 0"
   ]
  },
  {
   "cell_type": "code",
   "execution_count": 17,
   "id": "f1e4b932",
   "metadata": {},
   "outputs": [
    {
     "data": {
      "text/plain": [
       "1336"
      ]
     },
     "execution_count": 17,
     "metadata": {},
     "output_type": "execute_result"
    }
   ],
   "source": [
    "df_covid['pregnancy'].isna().sum()"
   ]
  },
  {
   "cell_type": "code",
   "execution_count": 18,
   "id": "bd5419ff",
   "metadata": {},
   "outputs": [],
   "source": [
    "# considerando a idade minima de 10 anos de uma mulher fertil conforme pesquisa\n",
    "df_covid.loc[(df_covid['pregnancy'].isna()) & (df_covid['age']< 10), 'pregnancy'] = 0"
   ]
  },
  {
   "cell_type": "code",
   "execution_count": 19,
   "id": "7872e921",
   "metadata": {},
   "outputs": [
    {
     "data": {
      "text/plain": [
       "1313"
      ]
     },
     "execution_count": 19,
     "metadata": {},
     "output_type": "execute_result"
    }
   ],
   "source": [
    "df_covid['pregnancy'].isna().sum()"
   ]
  },
  {
   "cell_type": "markdown",
   "id": "3ff2f559",
   "metadata": {},
   "source": [
    "Verificando o percentual da contagem de valores de cada coluna das maiores com valores faltantes."
   ]
  },
  {
   "cell_type": "code",
   "execution_count": 20,
   "id": "dfb420c5",
   "metadata": {},
   "outputs": [],
   "source": [
    "icu = df_covid['icu'].value_counts(normalize = True)"
   ]
  },
  {
   "cell_type": "code",
   "execution_count": 21,
   "id": "0c96cdc5",
   "metadata": {},
   "outputs": [],
   "source": [
    "intubed = df_covid['intubed'].value_counts(normalize = True)"
   ]
  },
  {
   "cell_type": "code",
   "execution_count": 22,
   "id": "02369616",
   "metadata": {},
   "outputs": [],
   "source": [
    "pregnancy = df_covid['pregnancy'].value_counts(normalize = True)"
   ]
  },
  {
   "cell_type": "code",
   "execution_count": 23,
   "id": "51fe206a",
   "metadata": {},
   "outputs": [],
   "source": [
    "contact_other_covid = df_covid['contact_other_covid'].value_counts(normalize = True)"
   ]
  },
  {
   "cell_type": "code",
   "execution_count": 24,
   "id": "27a4981e",
   "metadata": {},
   "outputs": [
    {
     "data": {
      "text/plain": [
       "(0.0    0.974056\n",
       " 1.0    0.025944\n",
       " Name: icu, dtype: float64,\n",
       " 0.0    0.973785\n",
       " 1.0    0.026215\n",
       " Name: intubed, dtype: float64,\n",
       " 0.0    0.992748\n",
       " 1.0    0.007252\n",
       " Name: pregnancy, dtype: float64,\n",
       " 1.0    0.569238\n",
       " 0.0    0.430762\n",
       " Name: contact_other_covid, dtype: float64)"
      ]
     },
     "execution_count": 24,
     "metadata": {},
     "output_type": "execute_result"
    }
   ],
   "source": [
    "icu, intubed, pregnancy, contact_other_covid"
   ]
  },
  {
   "cell_type": "markdown",
   "id": "a80776a4",
   "metadata": {},
   "source": [
    "Exceto a coluna 'contact_other_covid' as outras apresentam uma maioria muito alta. De toda forma, vamos distribuir os dados nulos conforme o cenario de cada coluna"
   ]
  },
  {
   "cell_type": "code",
   "execution_count": 25,
   "id": "4ae24160",
   "metadata": {},
   "outputs": [
    {
     "name": "stderr",
     "output_type": "stream",
     "text": [
      "C:\\Users\\Pc\\anaconda3\\lib\\site-packages\\pandas\\core\\indexing.py:1637: SettingWithCopyWarning: \n",
      "A value is trying to be set on a copy of a slice from a DataFrame\n",
      "\n",
      "See the caveats in the documentation: https://pandas.pydata.org/pandas-docs/stable/user_guide/indexing.html#returning-a-view-versus-a-copy\n",
      "  self._setitem_single_block(indexer, value, name)\n",
      "C:\\Users\\Pc\\anaconda3\\lib\\site-packages\\pandas\\core\\internals\\blocks.py:1035: FutureWarning: Using a non-tuple sequence for multidimensional indexing is deprecated; use `arr[tuple(seq)]` instead of `arr[seq]`. In the future this will be interpreted as an array index, `arr[np.array(seq)]`, which will result either in an error or a different result.\n",
      "  values[indexer] = value\n"
     ]
    }
   ],
   "source": [
    "# lista com as colunas a inserir os valores faltantes\n",
    "colunas = ['icu', 'intubed', 'pregnancy', 'contact_other_covid' ]\n",
    "\n",
    "# lista com as variaveis que possuem os percentuais das colunas\n",
    "variaveis_percent = [icu, intubed,pregnancy, contact_other_covid]\n",
    "\n",
    "# loop nas colunas de maior numero de faltantes\n",
    "for x in range (len(df_covid[colunas].columns)):\n",
    "    \n",
    "    # indice com os valores faltantes da coluna com a amostra do tamanho do percentual maior conforme a distribuição dos valores da coluna\n",
    "    indice = df_covid.loc[df_covid[colunas[x]].isna(), colunas[x]].sample(frac = variaveis_percent[x][0] , random_state = 12).index.to_list()\n",
    "    \n",
    "    # localizando os indices na coluna e preenchendo com o valor de maior percentual \"index[0]\"\n",
    "    df_covid[colunas[x]].iloc[[indice]]= variaveis_percent[x].index[0]\n",
    "    \n",
    "    # o restante preenchido com o valor do percentual menor\n",
    "    df_covid.loc[df_covid[colunas[x]].isna(), colunas[x]] = variaveis_percent[x].index[1]\n",
    "    "
   ]
  },
  {
   "cell_type": "code",
   "execution_count": 26,
   "id": "2a78bbcd",
   "metadata": {},
   "outputs": [
    {
     "data": {
      "text/plain": [
       "sex                       0\n",
       "patient_type              0\n",
       "intubed                   0\n",
       "pneumonia                11\n",
       "age                       0\n",
       "pregnancy                 0\n",
       "diabetes               1641\n",
       "copd                   1446\n",
       "asthma                 1442\n",
       "inmsupr                1662\n",
       "hypertension           1489\n",
       "other_disease          2193\n",
       "cardiovascular         1509\n",
       "obesity                1470\n",
       "renal_chronic          1476\n",
       "tobacco                1579\n",
       "contact_other_covid       0\n",
       "covid_res                 0\n",
       "icu                       0\n",
       "dtype: int64"
      ]
     },
     "execution_count": 26,
     "metadata": {},
     "output_type": "execute_result"
    }
   ],
   "source": [
    "df_covid.isna().sum()"
   ]
  },
  {
   "cell_type": "markdown",
   "id": "724f5c81",
   "metadata": {},
   "source": [
    "Preenchendo valores restantes com o valor da maioria da coluna"
   ]
  },
  {
   "cell_type": "code",
   "execution_count": 27,
   "id": "dfa3a4b0",
   "metadata": {},
   "outputs": [],
   "source": [
    "for coluna in df_covid.columns:\n",
    "    df_covid[coluna].fillna(df_covid[coluna].value_counts().index[0], inplace = True)"
   ]
  },
  {
   "cell_type": "code",
   "execution_count": 28,
   "id": "7ae31f15",
   "metadata": {
    "scrolled": true
   },
   "outputs": [
    {
     "data": {
      "text/plain": [
       "sex                    0\n",
       "patient_type           0\n",
       "intubed                0\n",
       "pneumonia              0\n",
       "age                    0\n",
       "pregnancy              0\n",
       "diabetes               0\n",
       "copd                   0\n",
       "asthma                 0\n",
       "inmsupr                0\n",
       "hypertension           0\n",
       "other_disease          0\n",
       "cardiovascular         0\n",
       "obesity                0\n",
       "renal_chronic          0\n",
       "tobacco                0\n",
       "contact_other_covid    0\n",
       "covid_res              0\n",
       "icu                    0\n",
       "dtype: int64"
      ]
     },
     "execution_count": 28,
     "metadata": {},
     "output_type": "execute_result"
    }
   ],
   "source": [
    "df_covid.isna().sum()"
   ]
  },
  {
   "cell_type": "markdown",
   "id": "2decbab1",
   "metadata": {},
   "source": [
    "### Análise"
   ]
  },
  {
   "cell_type": "markdown",
   "id": "a4122a2c",
   "metadata": {},
   "source": [
    "Exceto a idade as outras variaveis são booleanas, então media de posição a verificar é a 'moda'"
   ]
  },
  {
   "cell_type": "code",
   "execution_count": 29,
   "id": "4a9fc29f",
   "metadata": {},
   "outputs": [
    {
     "name": "stdout",
     "output_type": "stream",
     "text": [
      "SEX Moda: 0\n",
      "PATIENT_TYPE Moda: 1\n",
      "INTUBED Moda: 0.0\n",
      "PNEUMONIA Moda: 0.0\n",
      "AGE Moda: 30\n",
      "PREGNANCY Moda: 0.0\n",
      "DIABETES Moda: 0.0\n",
      "COPD Moda: 0.0\n",
      "ASTHMA Moda: 0.0\n",
      "INMSUPR Moda: 0.0\n",
      "HYPERTENSION Moda: 0.0\n",
      "OTHER_DISEASE Moda: 0.0\n",
      "CARDIOVASCULAR Moda: 0.0\n",
      "OBESITY Moda: 0.0\n",
      "RENAL_CHRONIC Moda: 0.0\n",
      "TOBACCO Moda: 0.0\n",
      "CONTACT_OTHER_COVID Moda: 1.0\n",
      "COVID_RES Moda: 0\n",
      "ICU Moda: 0.0\n",
      "\n",
      "\n",
      "Media de idade: 42\n",
      "Quartil 25%: 31.0\n",
      "Mediana: 41.0\n",
      "Quartil 75%: 53.0\n"
     ]
    }
   ],
   "source": [
    "for x in df_covid.columns:\n",
    "    \n",
    "    print(x.upper(), 'Moda:', df_covid[x].mode()[0])\n",
    "print('\\n')   \n",
    "print('Media de idade:', int(df_covid['age'].mean()))\n",
    "print('Quartil 25%:', df_covid['age'].quantile(0.25))\n",
    "print('Mediana:', df_covid['age'].quantile(0.5))\n",
    "print('Quartil 75%:', df_covid['age'].quantile(0.75))"
   ]
  },
  {
   "cell_type": "markdown",
   "id": "a59d7a3d",
   "metadata": {},
   "source": [
    "Em primeira análise podemos verificar que a maioria na pesquisa é homem, a maioria não ficou internada, mais pessoas de 30 anos mas a média é em torno de 42 , e maioria teve contato com pessoas com covid, mas o resultado foi negativo. "
   ]
  },
  {
   "cell_type": "markdown",
   "id": "4ab51607",
   "metadata": {},
   "source": [
    "Vamos verificar a correlação, e se alguma variavel tem bastante impacto no resultado."
   ]
  },
  {
   "cell_type": "code",
   "execution_count": 30,
   "id": "e1c3f99c",
   "metadata": {},
   "outputs": [
    {
     "data": {
      "image/png": "[encoded data removed]",
      "text/plain": [
       "<Figure size 1080x720 with 2 Axes>"
      ]
     },
     "metadata": {
      "needs_background": "light"
     },
     "output_type": "display_data"
    }
   ],
   "source": [
    "# Correlação com mapa de calor\n",
    "plt.figure(figsize=(15, 10))\n",
    "sns.heatmap(df_covid.corr(), annot = True, cmap='seismic');"
   ]
  },
  {
   "cell_type": "markdown",
   "id": "69d830a5",
   "metadata": {},
   "source": [
    "A correlação positiva entre UTI e entubados conforme observamos anteriormente, vemos uma correlação positiva interessante entre hipertensão e diabetes e ambas com a idade."
   ]
  },
  {
   "cell_type": "code",
   "execution_count": null,
   "id": "0e25c785",
   "metadata": {},
   "outputs": [],
   "source": []
  },
  {
   "cell_type": "code",
   "execution_count": 31,
   "id": "5278a609",
   "metadata": {},
   "outputs": [
    {
     "data": {
      "image/png": "[encoded data removed]",
      "text/plain": [
       "<Figure size 576x360 with 1 Axes>"
      ]
     },
     "metadata": {
      "needs_background": "light"
     },
     "output_type": "display_data"
    }
   ],
   "source": [
    "plt.subplots(figsize=(8,5))\n",
    "    \n",
    "    \n",
    "        # grafico \n",
    "sns.histplot(df_covid['age'], kde = True, bins = 35, alpha = 0.5 )\n",
    "plt.title('Idade')\n",
    "    \n",
    "    # plotando medidas\n",
    "plt.axvline(df_covid['age'].mean(), color=\"red\", label=\"média\")\n",
    "plt.axvline(df_covid['age'].quantile(0.25), color=\"orange\", label=\"q1\")\n",
    "plt.axvline(df_covid['age'].quantile(0.5), color=\"green\", label=\"q2=mediana\")\n",
    "plt.axvline(df_covid['age'].quantile(0.75), color=\"pink\", label=\"q3\")\n",
    "plt.axvline(df_covid['age'].mode()[0], color=\"black\", label=\"moda\")  \n",
    "plt.legend();"
   ]
  },
  {
   "cell_type": "code",
   "execution_count": 32,
   "id": "1a119644",
   "metadata": {},
   "outputs": [
    {
     "data": {
      "image/png": "[encoded data removed]",
      "text/plain": [
       "<Figure size 432x288 with 1 Axes>"
      ]
     },
     "metadata": {
      "needs_background": "light"
     },
     "output_type": "display_data"
    }
   ],
   "source": [
    "from scipy import stats\n",
    "\n",
    "stats.probplot(df_covid['age'], plot=plt);"
   ]
  },
  {
   "cell_type": "markdown",
   "id": "7a29b411",
   "metadata": {},
   "source": [
    "Podemos notas que nao segue uma distruição normal, a média e moda distantes, a maioria dos dados são de pessoas ate 53 anos.\n",
    "E podemos ver idades bem distante da media, é o vamos verificar agora: os outliers.\n"
   ]
  },
  {
   "cell_type": "code",
   "execution_count": 33,
   "id": "3e473894",
   "metadata": {},
   "outputs": [
    {
     "data": {
      "image/png": "[encoded data removed]",
      "text/plain": [
       "<Figure size 432x288 with 1 Axes>"
      ]
     },
     "metadata": {
      "needs_background": "light"
     },
     "output_type": "display_data"
    }
   ],
   "source": [
    "\n",
    "sns.boxplot(data = df_covid, x='age')\n",
    "plt.axvline(df_covid['age'].quantile(0.25), color=\"magenta\", label=\"Q1\")\n",
    "plt.axvline(df_covid['age'].quantile(0.75), color=\"orange\", label=\"Q3\")\n",
    "plt.axvline(df_covid['age'].mean(), color=\"green\", label=\"Média\")\n",
    "plt.axvline(df_covid['age'].median(), color=\"red\", label=\"Mediana\")\n",
    "plt.tight_layout()\n",
    "plt.legend()\n",
    "plt.show();"
   ]
  },
  {
   "cell_type": "markdown",
   "id": "e200dd8c",
   "metadata": {},
   "source": [
    "Vamos recorrer ao calculo de IQR para remover os outliers."
   ]
  },
  {
   "cell_type": "code",
   "execution_count": 34,
   "id": "579d605d",
   "metadata": {},
   "outputs": [],
   "source": [
    "# calculando IQR para remover os outliers e criando função\n",
    "def calc_outliers(df_valores):\n",
    "    fator = 1.5\n",
    "    # atribuindo os os quartis\n",
    "    q1 = df_valores.quantile(q = 0.25)\n",
    "    q3 = df_valores.quantile(q = 0.75)\n",
    "    iqr = q3 - q1\n",
    "    # valor inferior para separar o outliers\n",
    "    inferior = q1 - (iqr * fator)\n",
    "    # valor superior para separar o outliers\n",
    "    superior = q3 + (iqr * fator)\n",
    "    \n",
    "    # returna os valores inferior e superior\n",
    "    return inferior, superior"
   ]
  },
  {
   "cell_type": "code",
   "execution_count": 35,
   "id": "146747ed",
   "metadata": {},
   "outputs": [
    {
     "data": {
      "text/plain": [
       "(499692, 19)"
      ]
     },
     "execution_count": 35,
     "metadata": {},
     "output_type": "execute_result"
    }
   ],
   "source": [
    "df_covid_sem_out = df_covid.copy()\n",
    "df_covid_sem_out.shape"
   ]
  },
  {
   "cell_type": "code",
   "execution_count": 36,
   "id": "152e4632",
   "metadata": {},
   "outputs": [],
   "source": [
    "inferior , superior = calc_outliers(df_covid['age'])\n",
    "    \n",
    "# DF onde a cada loop remove os outliers de cada coluna\n",
    "df_covid_sem_out = df_covid_sem_out[(df_covid['age'] > inferior) & (df_covid['age'] < superior)]"
   ]
  },
  {
   "cell_type": "code",
   "execution_count": 37,
   "id": "50158dca",
   "metadata": {},
   "outputs": [
    {
     "data": {
      "text/plain": [
       "(495391, 19)"
      ]
     },
     "execution_count": 37,
     "metadata": {},
     "output_type": "execute_result"
    }
   ],
   "source": [
    "df_covid_sem_out.shape"
   ]
  },
  {
   "cell_type": "code",
   "execution_count": 38,
   "id": "0dcfdd5c",
   "metadata": {},
   "outputs": [
    {
     "data": {
      "image/png": "[encoded data removed]",
      "text/plain": [
       "<Figure size 432x288 with 1 Axes>"
      ]
     },
     "metadata": {
      "needs_background": "light"
     },
     "output_type": "display_data"
    }
   ],
   "source": [
    "sns.boxplot(data = df_covid_sem_out, x='age')\n",
    "plt.axvline(df_covid_sem_out['age'].quantile(0.25), color=\"magenta\", label=\"Q1\")\n",
    "plt.axvline(df_covid_sem_out['age'].quantile(0.75), color=\"orange\", label=\"Q3\")\n",
    "plt.axvline(df_covid_sem_out['age'].mean(), color=\"green\", label=\"Média\")\n",
    "plt.axvline(df_covid_sem_out['age'].median(), color=\"red\", label=\"Mediana\")\n",
    "plt.tight_layout()\n",
    "plt.legend()\n",
    "plt.show();"
   ]
  },
  {
   "cell_type": "code",
   "execution_count": 39,
   "id": "d9c2d7c7",
   "metadata": {},
   "outputs": [
    {
     "data": {
      "text/plain": [
       "sex\n",
       "0    250986\n",
       "1    244405\n",
       "Name: sex, dtype: int64"
      ]
     },
     "execution_count": 39,
     "metadata": {},
     "output_type": "execute_result"
    }
   ],
   "source": [
    "df_covid_sem_out.groupby('sex')['sex'].count()"
   ]
  },
  {
   "cell_type": "markdown",
   "id": "8aadea2b",
   "metadata": {},
   "source": [
    "O dataframe é balanceado em relação ao sexo, a diferença de quantidade é pouca de homens para mulheres"
   ]
  },
  {
   "cell_type": "code",
   "execution_count": 40,
   "id": "c5e1e756",
   "metadata": {},
   "outputs": [
    {
     "data": {
      "text/plain": [
       "0    0.558652\n",
       "1    0.441348\n",
       "Name: covid_res, dtype: float64"
      ]
     },
     "execution_count": 40,
     "metadata": {},
     "output_type": "execute_result"
    }
   ],
   "source": [
    "df_covid_sem_out['covid_res'].value_counts(normalize = True)"
   ]
  },
  {
   "cell_type": "code",
   "execution_count": 41,
   "id": "0de35172",
   "metadata": {},
   "outputs": [
    {
     "data": {
      "text/plain": [
       "sex  covid_res\n",
       "0    0            0.522953\n",
       "     1            0.477047\n",
       "1    0            0.595311\n",
       "     1            0.404689\n",
       "Name: covid_res, dtype: float64"
      ]
     },
     "execution_count": 41,
     "metadata": {},
     "output_type": "execute_result"
    }
   ],
   "source": [
    "df_covid_sem_out.groupby('sex')['covid_res'].value_counts(normalize = True)"
   ]
  },
  {
   "cell_type": "markdown",
   "id": "6e35d558",
   "metadata": {},
   "source": [
    "Os homens tem uma tendencia um pouco maior ao resultado positivo do que as mulheres"
   ]
  },
  {
   "cell_type": "code",
   "execution_count": 42,
   "id": "c4a27808",
   "metadata": {},
   "outputs": [
    {
     "data": {
      "text/plain": [
       "sex  tobacco  covid_res\n",
       "0    0.0      0            0.515960\n",
       "              1            0.484040\n",
       "     1.0      0            0.577030\n",
       "              1            0.422970\n",
       "1    0.0      0            0.591805\n",
       "              1            0.408195\n",
       "     1.0      0            0.653910\n",
       "              1            0.346090\n",
       "Name: covid_res, dtype: float64"
      ]
     },
     "execution_count": 42,
     "metadata": {},
     "output_type": "execute_result"
    }
   ],
   "source": [
    "df_covid_sem_out.groupby(['sex','tobacco'])['covid_res'].value_counts(normalize = True)"
   ]
  },
  {
   "cell_type": "markdown",
   "id": "d32dc119",
   "metadata": {},
   "source": [
    "Algo interessante mas, que não representa em si causalidade, os fumantes apresentaram maior percentual de teste negativo em ambos os sexos, e inclusive maior para as mulheres."
   ]
  },
  {
   "cell_type": "markdown",
   "id": "ba17d249",
   "metadata": {},
   "source": [
    "Conforme pesquisas informadas nas mídias o fumo agrava os sintomas da covid. Vamos verificar se os fumantes tiveram maiores casos de internação e entubação"
   ]
  },
  {
   "cell_type": "code",
   "execution_count": 43,
   "id": "4b7c6cd9",
   "metadata": {},
   "outputs": [
    {
     "name": "stdout",
     "output_type": "stream",
     "text": [
      "\u001b[1m Fumantes ou não/UTI:\u001b[0m \n",
      " tobacco  icu\n",
      "0.0      0.0    0.974199\n",
      "         1.0    0.025801\n",
      "1.0      0.0    0.974988\n",
      "         1.0    0.025012\n",
      "Name: icu, dtype: float64 \n",
      "\n",
      "\u001b[1m Fumantes ou não/ Internados (0): \u001b[0m \n",
      " tobacco  patient_type\n",
      "0.0      1               0.789041\n",
      "         0               0.210959\n",
      "1.0      1               0.780484\n",
      "         0               0.219516\n",
      "Name: patient_type, dtype: float64 \n",
      "\n",
      "\u001b[1m Fumantes ou não/ Intubados: \u001b[0m \n",
      " tobacco  intubed\n",
      "0.0      0.0        0.973976\n",
      "         1.0        0.026024\n",
      "1.0      0.0        0.973577\n",
      "         1.0        0.026423\n",
      "Name: intubed, dtype: float64\n"
     ]
    }
   ],
   "source": [
    "print('\\033[1m Fumantes ou não/UTI:\\033[0m \\n',df_covid_sem_out.groupby('tobacco')['icu'].value_counts(normalize = True),'\\n')\n",
    "print('\\033[1m Fumantes ou não/ Internados (0): \\033[0m \\n',df_covid_sem_out.groupby('tobacco')['patient_type'].value_counts(normalize = True),'\\n')\n",
    "print('\\033[1m Fumantes ou não/ Intubados: \\033[0m \\n',df_covid_sem_out.groupby('tobacco')['intubed'].value_counts(normalize = True))"
   ]
  },
  {
   "cell_type": "markdown",
   "id": "9c0a1c5a",
   "metadata": {},
   "source": [
    "Os fumantes tiveram poucas ocorrencias de intubação e UTI, em relação a internação praticamente os mesmos resultados de quem não fuma."
   ]
  },
  {
   "cell_type": "code",
   "execution_count": 44,
   "id": "bc03ace9",
   "metadata": {},
   "outputs": [
    {
     "data": {
      "text/plain": [
       "0    0.697062\n",
       "1    0.302938\n",
       "Name: covid_res, dtype: float64"
      ]
     },
     "execution_count": 44,
     "metadata": {},
     "output_type": "execute_result"
    }
   ],
   "source": [
    "df_covid_sem_out.loc[df_covid_sem_out['age'] <= 25,'covid_res'].value_counts(normalize = True)"
   ]
  },
  {
   "cell_type": "code",
   "execution_count": 45,
   "id": "a9ac06c0",
   "metadata": {},
   "outputs": [
    {
     "data": {
      "text/plain": [
       "0    0.596048\n",
       "1    0.403952\n",
       "Name: covid_res, dtype: float64"
      ]
     },
     "execution_count": 45,
     "metadata": {},
     "output_type": "execute_result"
    }
   ],
   "source": [
    "df_covid_sem_out.loc[(df_covid_sem_out['age'] > 25) & (df_covid_sem_out['age'] < 45),'covid_res'].value_counts(normalize = True)"
   ]
  },
  {
   "cell_type": "code",
   "execution_count": 46,
   "id": "fafbdda9",
   "metadata": {},
   "outputs": [
    {
     "data": {
      "text/plain": [
       "1    0.527286\n",
       "0    0.472714\n",
       "Name: covid_res, dtype: float64"
      ]
     },
     "execution_count": 46,
     "metadata": {},
     "output_type": "execute_result"
    }
   ],
   "source": [
    "df_covid_sem_out.loc[df_covid_sem_out['age'] > 45,'covid_res'].value_counts(normalize = True)"
   ]
  },
  {
   "cell_type": "markdown",
   "id": "9e7c04f9",
   "metadata": {},
   "source": [
    "Verificando por faixa etária a tendência é que aumentando a idade a probabilidade de dar positivo é maior. Pelo hitmap a correlação é baixa entre idade e resultado mas conforme verificado acima esta tende a ser uma das variaveis mais importantes."
   ]
  },
  {
   "cell_type": "code",
   "execution_count": 47,
   "id": "90f9b3ab",
   "metadata": {},
   "outputs": [
    {
     "data": {
      "text/plain": [
       "contact_other_covid  covid_res\n",
       "0.0                  0            0.528409\n",
       "                     1            0.471591\n",
       "1.0                  0            0.585678\n",
       "                     1            0.414322\n",
       "Name: covid_res, dtype: float64"
      ]
     },
     "execution_count": 47,
     "metadata": {},
     "output_type": "execute_result"
    }
   ],
   "source": [
    "df_covid_sem_out.groupby('contact_other_covid')['covid_res'].value_counts(normalize = True)"
   ]
  },
  {
   "cell_type": "markdown",
   "id": "a8b29b1f",
   "metadata": {},
   "source": [
    "Verificando dados duplicados"
   ]
  },
  {
   "cell_type": "code",
   "execution_count": 48,
   "id": "7cac5934",
   "metadata": {},
   "outputs": [
    {
     "data": {
      "text/plain": [
       "432535"
      ]
     },
     "execution_count": 48,
     "metadata": {},
     "output_type": "execute_result"
    }
   ],
   "source": [
    "df_covid_sem_out.duplicated().sum()"
   ]
  },
  {
   "cell_type": "code",
   "execution_count": 49,
   "id": "3833751b",
   "metadata": {},
   "outputs": [
    {
     "data": {
      "text/plain": [
       "30    12123\n",
       "31    11531\n",
       "36    11431\n",
       "38    11364\n",
       "37    11354\n",
       "      ...  \n",
       "81      649\n",
       "82      642\n",
       "83      573\n",
       "84      524\n",
       "85      401\n",
       "Name: age, Length: 86, dtype: int64"
      ]
     },
     "execution_count": 49,
     "metadata": {},
     "output_type": "execute_result"
    }
   ],
   "source": [
    "df_covid_sem_out['age'].loc[df_covid_sem_out.duplicated()].value_counts().sort_values(ascending = False)"
   ]
  },
  {
   "cell_type": "code",
   "execution_count": 50,
   "id": "f822a838",
   "metadata": {},
   "outputs": [
    {
     "name": "stdout",
     "output_type": "stream",
     "text": [
      "Dados duplicados com resultado positivo (covid_res = 1): 185321. Percentual: 42.85\n",
      "Dados duplicados com resultado negativo (covid_res = 0): 247214. Percentual: 57.15\n"
     ]
    }
   ],
   "source": [
    "# verificando a variavel resposta dos dados duplicados e verificando se há muita diferença\n",
    "dados_duplicados_pos = df_covid_sem_out.loc[(df_covid_sem_out.duplicated()) & (df_covid_sem_out['covid_res'] == 1), 'covid_res'].count()\n",
    "dados_duplicados_neg  = df_covid_sem_out.loc[(df_covid_sem_out.duplicated()) & (df_covid_sem_out['covid_res'] == 0),'covid_res'].count()\n",
    "\n",
    "perc_pos = (dados_duplicados_pos/(dados_duplicados_pos + dados_duplicados_neg)) * 100\n",
    "perc_neg = (dados_duplicados_neg/(dados_duplicados_pos + dados_duplicados_neg)) * 100\n",
    "print(f'Dados duplicados com resultado positivo (covid_res = 1): {dados_duplicados_pos}. Percentual: {perc_pos:.2f}')\n",
    "print(f'Dados duplicados com resultado negativo (covid_res = 0): {dados_duplicados_neg}. Percentual: {perc_neg:.2f}')\n",
    "\n"
   ]
  },
  {
   "cell_type": "code",
   "execution_count": 51,
   "id": "5c41c984",
   "metadata": {},
   "outputs": [
    {
     "data": {
      "text/html": [
       "<div>\n",
       "<style scoped>\n",
       "    .dataframe tbody tr th:only-of-type {\n",
       "        vertical-align: middle;\n",
       "    }\n",
       "\n",
       "    .dataframe tbody tr th {\n",
       "        vertical-align: top;\n",
       "    }\n",
       "\n",
       "    .dataframe thead th {\n",
       "        text-align: right;\n",
       "    }\n",
       "</style>\n",
       "<table border=\"1\" class=\"dataframe\">\n",
       "  <thead>\n",
       "    <tr style=\"text-align: right;\">\n",
       "      <th></th>\n",
       "      <th>sex</th>\n",
       "      <th>patient_type</th>\n",
       "      <th>intubed</th>\n",
       "      <th>pneumonia</th>\n",
       "      <th>age</th>\n",
       "      <th>pregnancy</th>\n",
       "      <th>diabetes</th>\n",
       "      <th>copd</th>\n",
       "      <th>asthma</th>\n",
       "      <th>inmsupr</th>\n",
       "      <th>hypertension</th>\n",
       "      <th>other_disease</th>\n",
       "      <th>cardiovascular</th>\n",
       "      <th>obesity</th>\n",
       "      <th>renal_chronic</th>\n",
       "      <th>tobacco</th>\n",
       "      <th>contact_other_covid</th>\n",
       "      <th>covid_res</th>\n",
       "      <th>icu</th>\n",
       "    </tr>\n",
       "  </thead>\n",
       "  <tbody>\n",
       "    <tr>\n",
       "      <th>587</th>\n",
       "      <td>0</td>\n",
       "      <td>1</td>\n",
       "      <td>0.0</td>\n",
       "      <td>0.0</td>\n",
       "      <td>30</td>\n",
       "      <td>0.0</td>\n",
       "      <td>0.0</td>\n",
       "      <td>0.0</td>\n",
       "      <td>0.0</td>\n",
       "      <td>0.0</td>\n",
       "      <td>0.0</td>\n",
       "      <td>0.0</td>\n",
       "      <td>0.0</td>\n",
       "      <td>1.0</td>\n",
       "      <td>0.0</td>\n",
       "      <td>0.0</td>\n",
       "      <td>1.0</td>\n",
       "      <td>1</td>\n",
       "      <td>0.0</td>\n",
       "    </tr>\n",
       "    <tr>\n",
       "      <th>1452</th>\n",
       "      <td>0</td>\n",
       "      <td>1</td>\n",
       "      <td>0.0</td>\n",
       "      <td>0.0</td>\n",
       "      <td>30</td>\n",
       "      <td>0.0</td>\n",
       "      <td>0.0</td>\n",
       "      <td>0.0</td>\n",
       "      <td>0.0</td>\n",
       "      <td>0.0</td>\n",
       "      <td>0.0</td>\n",
       "      <td>0.0</td>\n",
       "      <td>0.0</td>\n",
       "      <td>0.0</td>\n",
       "      <td>0.0</td>\n",
       "      <td>0.0</td>\n",
       "      <td>1.0</td>\n",
       "      <td>1</td>\n",
       "      <td>0.0</td>\n",
       "    </tr>\n",
       "    <tr>\n",
       "      <th>1490</th>\n",
       "      <td>0</td>\n",
       "      <td>1</td>\n",
       "      <td>0.0</td>\n",
       "      <td>0.0</td>\n",
       "      <td>30</td>\n",
       "      <td>0.0</td>\n",
       "      <td>0.0</td>\n",
       "      <td>0.0</td>\n",
       "      <td>0.0</td>\n",
       "      <td>0.0</td>\n",
       "      <td>0.0</td>\n",
       "      <td>0.0</td>\n",
       "      <td>0.0</td>\n",
       "      <td>0.0</td>\n",
       "      <td>0.0</td>\n",
       "      <td>0.0</td>\n",
       "      <td>0.0</td>\n",
       "      <td>1</td>\n",
       "      <td>0.0</td>\n",
       "    </tr>\n",
       "    <tr>\n",
       "      <th>1506</th>\n",
       "      <td>0</td>\n",
       "      <td>1</td>\n",
       "      <td>0.0</td>\n",
       "      <td>0.0</td>\n",
       "      <td>30</td>\n",
       "      <td>0.0</td>\n",
       "      <td>0.0</td>\n",
       "      <td>0.0</td>\n",
       "      <td>0.0</td>\n",
       "      <td>0.0</td>\n",
       "      <td>0.0</td>\n",
       "      <td>0.0</td>\n",
       "      <td>0.0</td>\n",
       "      <td>0.0</td>\n",
       "      <td>0.0</td>\n",
       "      <td>0.0</td>\n",
       "      <td>0.0</td>\n",
       "      <td>1</td>\n",
       "      <td>0.0</td>\n",
       "    </tr>\n",
       "    <tr>\n",
       "      <th>1644</th>\n",
       "      <td>0</td>\n",
       "      <td>1</td>\n",
       "      <td>0.0</td>\n",
       "      <td>0.0</td>\n",
       "      <td>30</td>\n",
       "      <td>0.0</td>\n",
       "      <td>0.0</td>\n",
       "      <td>0.0</td>\n",
       "      <td>0.0</td>\n",
       "      <td>0.0</td>\n",
       "      <td>0.0</td>\n",
       "      <td>0.0</td>\n",
       "      <td>0.0</td>\n",
       "      <td>0.0</td>\n",
       "      <td>0.0</td>\n",
       "      <td>0.0</td>\n",
       "      <td>1.0</td>\n",
       "      <td>1</td>\n",
       "      <td>0.0</td>\n",
       "    </tr>\n",
       "    <tr>\n",
       "      <th>...</th>\n",
       "      <td>...</td>\n",
       "      <td>...</td>\n",
       "      <td>...</td>\n",
       "      <td>...</td>\n",
       "      <td>...</td>\n",
       "      <td>...</td>\n",
       "      <td>...</td>\n",
       "      <td>...</td>\n",
       "      <td>...</td>\n",
       "      <td>...</td>\n",
       "      <td>...</td>\n",
       "      <td>...</td>\n",
       "      <td>...</td>\n",
       "      <td>...</td>\n",
       "      <td>...</td>\n",
       "      <td>...</td>\n",
       "      <td>...</td>\n",
       "      <td>...</td>\n",
       "      <td>...</td>\n",
       "    </tr>\n",
       "    <tr>\n",
       "      <th>219686</th>\n",
       "      <td>0</td>\n",
       "      <td>1</td>\n",
       "      <td>0.0</td>\n",
       "      <td>0.0</td>\n",
       "      <td>30</td>\n",
       "      <td>0.0</td>\n",
       "      <td>0.0</td>\n",
       "      <td>0.0</td>\n",
       "      <td>0.0</td>\n",
       "      <td>0.0</td>\n",
       "      <td>0.0</td>\n",
       "      <td>0.0</td>\n",
       "      <td>0.0</td>\n",
       "      <td>0.0</td>\n",
       "      <td>0.0</td>\n",
       "      <td>1.0</td>\n",
       "      <td>0.0</td>\n",
       "      <td>1</td>\n",
       "      <td>0.0</td>\n",
       "    </tr>\n",
       "    <tr>\n",
       "      <th>219937</th>\n",
       "      <td>0</td>\n",
       "      <td>1</td>\n",
       "      <td>0.0</td>\n",
       "      <td>0.0</td>\n",
       "      <td>30</td>\n",
       "      <td>0.0</td>\n",
       "      <td>0.0</td>\n",
       "      <td>0.0</td>\n",
       "      <td>0.0</td>\n",
       "      <td>0.0</td>\n",
       "      <td>0.0</td>\n",
       "      <td>0.0</td>\n",
       "      <td>0.0</td>\n",
       "      <td>0.0</td>\n",
       "      <td>0.0</td>\n",
       "      <td>0.0</td>\n",
       "      <td>1.0</td>\n",
       "      <td>1</td>\n",
       "      <td>0.0</td>\n",
       "    </tr>\n",
       "    <tr>\n",
       "      <th>220155</th>\n",
       "      <td>0</td>\n",
       "      <td>1</td>\n",
       "      <td>0.0</td>\n",
       "      <td>1.0</td>\n",
       "      <td>30</td>\n",
       "      <td>0.0</td>\n",
       "      <td>0.0</td>\n",
       "      <td>0.0</td>\n",
       "      <td>0.0</td>\n",
       "      <td>0.0</td>\n",
       "      <td>0.0</td>\n",
       "      <td>0.0</td>\n",
       "      <td>0.0</td>\n",
       "      <td>0.0</td>\n",
       "      <td>0.0</td>\n",
       "      <td>0.0</td>\n",
       "      <td>0.0</td>\n",
       "      <td>1</td>\n",
       "      <td>0.0</td>\n",
       "    </tr>\n",
       "    <tr>\n",
       "      <th>220162</th>\n",
       "      <td>0</td>\n",
       "      <td>1</td>\n",
       "      <td>0.0</td>\n",
       "      <td>0.0</td>\n",
       "      <td>30</td>\n",
       "      <td>0.0</td>\n",
       "      <td>0.0</td>\n",
       "      <td>0.0</td>\n",
       "      <td>0.0</td>\n",
       "      <td>0.0</td>\n",
       "      <td>1.0</td>\n",
       "      <td>0.0</td>\n",
       "      <td>0.0</td>\n",
       "      <td>1.0</td>\n",
       "      <td>0.0</td>\n",
       "      <td>0.0</td>\n",
       "      <td>1.0</td>\n",
       "      <td>1</td>\n",
       "      <td>0.0</td>\n",
       "    </tr>\n",
       "    <tr>\n",
       "      <th>220394</th>\n",
       "      <td>0</td>\n",
       "      <td>1</td>\n",
       "      <td>0.0</td>\n",
       "      <td>0.0</td>\n",
       "      <td>30</td>\n",
       "      <td>0.0</td>\n",
       "      <td>0.0</td>\n",
       "      <td>0.0</td>\n",
       "      <td>0.0</td>\n",
       "      <td>0.0</td>\n",
       "      <td>0.0</td>\n",
       "      <td>0.0</td>\n",
       "      <td>0.0</td>\n",
       "      <td>0.0</td>\n",
       "      <td>0.0</td>\n",
       "      <td>0.0</td>\n",
       "      <td>1.0</td>\n",
       "      <td>1</td>\n",
       "      <td>0.0</td>\n",
       "    </tr>\n",
       "  </tbody>\n",
       "</table>\n",
       "<p>2276 rows × 19 columns</p>\n",
       "</div>"
      ],
      "text/plain": [
       "        sex  patient_type  intubed  pneumonia  age  pregnancy  diabetes  copd  \\\n",
       "587       0             1      0.0        0.0   30        0.0       0.0   0.0   \n",
       "1452      0             1      0.0        0.0   30        0.0       0.0   0.0   \n",
       "1490      0             1      0.0        0.0   30        0.0       0.0   0.0   \n",
       "1506      0             1      0.0        0.0   30        0.0       0.0   0.0   \n",
       "1644      0             1      0.0        0.0   30        0.0       0.0   0.0   \n",
       "...     ...           ...      ...        ...  ...        ...       ...   ...   \n",
       "219686    0             1      0.0        0.0   30        0.0       0.0   0.0   \n",
       "219937    0             1      0.0        0.0   30        0.0       0.0   0.0   \n",
       "220155    0             1      0.0        1.0   30        0.0       0.0   0.0   \n",
       "220162    0             1      0.0        0.0   30        0.0       0.0   0.0   \n",
       "220394    0             1      0.0        0.0   30        0.0       0.0   0.0   \n",
       "\n",
       "        asthma  inmsupr  hypertension  other_disease  cardiovascular  obesity  \\\n",
       "587        0.0      0.0           0.0            0.0             0.0      1.0   \n",
       "1452       0.0      0.0           0.0            0.0             0.0      0.0   \n",
       "1490       0.0      0.0           0.0            0.0             0.0      0.0   \n",
       "1506       0.0      0.0           0.0            0.0             0.0      0.0   \n",
       "1644       0.0      0.0           0.0            0.0             0.0      0.0   \n",
       "...        ...      ...           ...            ...             ...      ...   \n",
       "219686     0.0      0.0           0.0            0.0             0.0      0.0   \n",
       "219937     0.0      0.0           0.0            0.0             0.0      0.0   \n",
       "220155     0.0      0.0           0.0            0.0             0.0      0.0   \n",
       "220162     0.0      0.0           1.0            0.0             0.0      1.0   \n",
       "220394     0.0      0.0           0.0            0.0             0.0      0.0   \n",
       "\n",
       "        renal_chronic  tobacco  contact_other_covid  covid_res  icu  \n",
       "587               0.0      0.0                  1.0          1  0.0  \n",
       "1452              0.0      0.0                  1.0          1  0.0  \n",
       "1490              0.0      0.0                  0.0          1  0.0  \n",
       "1506              0.0      0.0                  0.0          1  0.0  \n",
       "1644              0.0      0.0                  1.0          1  0.0  \n",
       "...               ...      ...                  ...        ...  ...  \n",
       "219686            0.0      1.0                  0.0          1  0.0  \n",
       "219937            0.0      0.0                  1.0          1  0.0  \n",
       "220155            0.0      0.0                  0.0          1  0.0  \n",
       "220162            0.0      0.0                  1.0          1  0.0  \n",
       "220394            0.0      0.0                  1.0          1  0.0  \n",
       "\n",
       "[2276 rows x 19 columns]"
      ]
     },
     "execution_count": 51,
     "metadata": {},
     "output_type": "execute_result"
    }
   ],
   "source": [
    "idade = 30\n",
    "df_covid_sem_out.loc[(df_covid_sem_out.duplicated()) & (df_covid_sem_out['age'] == idade) & \n",
    "                     (df_covid_sem_out['sex'] == 0) & (df_covid_sem_out['covid_res'] ==1)]"
   ]
  },
  {
   "cell_type": "markdown",
   "id": "1974095f",
   "metadata": {},
   "source": [
    "Alterando a variável idade acima se observa que a maioria das colunas o valor 1 (True) são de certa forma de minorias, os dados parecem duplicados mas se trata de pessoas de mesma caracteristica, o que distinguiam era a coluna Unnamed, possivelmente o id ou ate o nome."
   ]
  },
  {
   "cell_type": "code",
   "execution_count": 52,
   "id": "174eaa4b",
   "metadata": {},
   "outputs": [
    {
     "data": {
      "text/html": [
       "<div>\n",
       "<style scoped>\n",
       "    .dataframe tbody tr th:only-of-type {\n",
       "        vertical-align: middle;\n",
       "    }\n",
       "\n",
       "    .dataframe tbody tr th {\n",
       "        vertical-align: top;\n",
       "    }\n",
       "\n",
       "    .dataframe thead th {\n",
       "        text-align: right;\n",
       "    }\n",
       "</style>\n",
       "<table border=\"1\" class=\"dataframe\">\n",
       "  <thead>\n",
       "    <tr style=\"text-align: right;\">\n",
       "      <th></th>\n",
       "      <th>sex</th>\n",
       "      <th>patient_type</th>\n",
       "      <th>intubed</th>\n",
       "      <th>pneumonia</th>\n",
       "      <th>age</th>\n",
       "      <th>pregnancy</th>\n",
       "      <th>diabetes</th>\n",
       "      <th>copd</th>\n",
       "      <th>asthma</th>\n",
       "      <th>inmsupr</th>\n",
       "      <th>hypertension</th>\n",
       "      <th>other_disease</th>\n",
       "      <th>cardiovascular</th>\n",
       "      <th>obesity</th>\n",
       "      <th>renal_chronic</th>\n",
       "      <th>tobacco</th>\n",
       "      <th>contact_other_covid</th>\n",
       "      <th>covid_res</th>\n",
       "      <th>icu</th>\n",
       "    </tr>\n",
       "  </thead>\n",
       "  <tbody>\n",
       "    <tr>\n",
       "      <th>0</th>\n",
       "      <td>0</td>\n",
       "      <td>1</td>\n",
       "      <td>0.0</td>\n",
       "      <td>0.0</td>\n",
       "      <td>27</td>\n",
       "      <td>0.0</td>\n",
       "      <td>0.0</td>\n",
       "      <td>0.0</td>\n",
       "      <td>0.0</td>\n",
       "      <td>0.0</td>\n",
       "      <td>0.0</td>\n",
       "      <td>0.0</td>\n",
       "      <td>0.0</td>\n",
       "      <td>0.0</td>\n",
       "      <td>0.0</td>\n",
       "      <td>0.0</td>\n",
       "      <td>0.0</td>\n",
       "      <td>1</td>\n",
       "      <td>0.0</td>\n",
       "    </tr>\n",
       "    <tr>\n",
       "      <th>1</th>\n",
       "      <td>0</td>\n",
       "      <td>1</td>\n",
       "      <td>0.0</td>\n",
       "      <td>0.0</td>\n",
       "      <td>24</td>\n",
       "      <td>0.0</td>\n",
       "      <td>0.0</td>\n",
       "      <td>0.0</td>\n",
       "      <td>0.0</td>\n",
       "      <td>0.0</td>\n",
       "      <td>0.0</td>\n",
       "      <td>0.0</td>\n",
       "      <td>0.0</td>\n",
       "      <td>0.0</td>\n",
       "      <td>0.0</td>\n",
       "      <td>0.0</td>\n",
       "      <td>1.0</td>\n",
       "      <td>1</td>\n",
       "      <td>0.0</td>\n",
       "    </tr>\n",
       "    <tr>\n",
       "      <th>2</th>\n",
       "      <td>1</td>\n",
       "      <td>0</td>\n",
       "      <td>0.0</td>\n",
       "      <td>0.0</td>\n",
       "      <td>54</td>\n",
       "      <td>0.0</td>\n",
       "      <td>0.0</td>\n",
       "      <td>0.0</td>\n",
       "      <td>0.0</td>\n",
       "      <td>0.0</td>\n",
       "      <td>0.0</td>\n",
       "      <td>0.0</td>\n",
       "      <td>0.0</td>\n",
       "      <td>1.0</td>\n",
       "      <td>0.0</td>\n",
       "      <td>0.0</td>\n",
       "      <td>1.0</td>\n",
       "      <td>1</td>\n",
       "      <td>0.0</td>\n",
       "    </tr>\n",
       "    <tr>\n",
       "      <th>3</th>\n",
       "      <td>0</td>\n",
       "      <td>0</td>\n",
       "      <td>0.0</td>\n",
       "      <td>1.0</td>\n",
       "      <td>30</td>\n",
       "      <td>0.0</td>\n",
       "      <td>0.0</td>\n",
       "      <td>0.0</td>\n",
       "      <td>0.0</td>\n",
       "      <td>0.0</td>\n",
       "      <td>0.0</td>\n",
       "      <td>0.0</td>\n",
       "      <td>0.0</td>\n",
       "      <td>0.0</td>\n",
       "      <td>0.0</td>\n",
       "      <td>0.0</td>\n",
       "      <td>1.0</td>\n",
       "      <td>1</td>\n",
       "      <td>0.0</td>\n",
       "    </tr>\n",
       "    <tr>\n",
       "      <th>4</th>\n",
       "      <td>1</td>\n",
       "      <td>0</td>\n",
       "      <td>0.0</td>\n",
       "      <td>0.0</td>\n",
       "      <td>60</td>\n",
       "      <td>0.0</td>\n",
       "      <td>1.0</td>\n",
       "      <td>0.0</td>\n",
       "      <td>0.0</td>\n",
       "      <td>0.0</td>\n",
       "      <td>1.0</td>\n",
       "      <td>0.0</td>\n",
       "      <td>1.0</td>\n",
       "      <td>0.0</td>\n",
       "      <td>0.0</td>\n",
       "      <td>0.0</td>\n",
       "      <td>1.0</td>\n",
       "      <td>1</td>\n",
       "      <td>0.0</td>\n",
       "    </tr>\n",
       "    <tr>\n",
       "      <th>...</th>\n",
       "      <td>...</td>\n",
       "      <td>...</td>\n",
       "      <td>...</td>\n",
       "      <td>...</td>\n",
       "      <td>...</td>\n",
       "      <td>...</td>\n",
       "      <td>...</td>\n",
       "      <td>...</td>\n",
       "      <td>...</td>\n",
       "      <td>...</td>\n",
       "      <td>...</td>\n",
       "      <td>...</td>\n",
       "      <td>...</td>\n",
       "      <td>...</td>\n",
       "      <td>...</td>\n",
       "      <td>...</td>\n",
       "      <td>...</td>\n",
       "      <td>...</td>\n",
       "      <td>...</td>\n",
       "    </tr>\n",
       "    <tr>\n",
       "      <th>499606</th>\n",
       "      <td>0</td>\n",
       "      <td>0</td>\n",
       "      <td>0.0</td>\n",
       "      <td>1.0</td>\n",
       "      <td>84</td>\n",
       "      <td>0.0</td>\n",
       "      <td>0.0</td>\n",
       "      <td>0.0</td>\n",
       "      <td>0.0</td>\n",
       "      <td>0.0</td>\n",
       "      <td>0.0</td>\n",
       "      <td>1.0</td>\n",
       "      <td>1.0</td>\n",
       "      <td>0.0</td>\n",
       "      <td>1.0</td>\n",
       "      <td>0.0</td>\n",
       "      <td>0.0</td>\n",
       "      <td>0</td>\n",
       "      <td>0.0</td>\n",
       "    </tr>\n",
       "    <tr>\n",
       "      <th>499613</th>\n",
       "      <td>1</td>\n",
       "      <td>0</td>\n",
       "      <td>1.0</td>\n",
       "      <td>0.0</td>\n",
       "      <td>23</td>\n",
       "      <td>0.0</td>\n",
       "      <td>0.0</td>\n",
       "      <td>0.0</td>\n",
       "      <td>0.0</td>\n",
       "      <td>0.0</td>\n",
       "      <td>0.0</td>\n",
       "      <td>1.0</td>\n",
       "      <td>0.0</td>\n",
       "      <td>0.0</td>\n",
       "      <td>0.0</td>\n",
       "      <td>1.0</td>\n",
       "      <td>0.0</td>\n",
       "      <td>0</td>\n",
       "      <td>0.0</td>\n",
       "    </tr>\n",
       "    <tr>\n",
       "      <th>499680</th>\n",
       "      <td>1</td>\n",
       "      <td>0</td>\n",
       "      <td>0.0</td>\n",
       "      <td>1.0</td>\n",
       "      <td>0</td>\n",
       "      <td>0.0</td>\n",
       "      <td>0.0</td>\n",
       "      <td>0.0</td>\n",
       "      <td>0.0</td>\n",
       "      <td>0.0</td>\n",
       "      <td>0.0</td>\n",
       "      <td>1.0</td>\n",
       "      <td>0.0</td>\n",
       "      <td>0.0</td>\n",
       "      <td>0.0</td>\n",
       "      <td>0.0</td>\n",
       "      <td>1.0</td>\n",
       "      <td>0</td>\n",
       "      <td>0.0</td>\n",
       "    </tr>\n",
       "    <tr>\n",
       "      <th>499687</th>\n",
       "      <td>0</td>\n",
       "      <td>1</td>\n",
       "      <td>0.0</td>\n",
       "      <td>1.0</td>\n",
       "      <td>77</td>\n",
       "      <td>0.0</td>\n",
       "      <td>0.0</td>\n",
       "      <td>0.0</td>\n",
       "      <td>0.0</td>\n",
       "      <td>0.0</td>\n",
       "      <td>0.0</td>\n",
       "      <td>1.0</td>\n",
       "      <td>0.0</td>\n",
       "      <td>0.0</td>\n",
       "      <td>0.0</td>\n",
       "      <td>1.0</td>\n",
       "      <td>0.0</td>\n",
       "      <td>0</td>\n",
       "      <td>0.0</td>\n",
       "    </tr>\n",
       "    <tr>\n",
       "      <th>499688</th>\n",
       "      <td>0</td>\n",
       "      <td>0</td>\n",
       "      <td>1.0</td>\n",
       "      <td>1.0</td>\n",
       "      <td>63</td>\n",
       "      <td>0.0</td>\n",
       "      <td>0.0</td>\n",
       "      <td>0.0</td>\n",
       "      <td>0.0</td>\n",
       "      <td>0.0</td>\n",
       "      <td>1.0</td>\n",
       "      <td>0.0</td>\n",
       "      <td>0.0</td>\n",
       "      <td>1.0</td>\n",
       "      <td>0.0</td>\n",
       "      <td>1.0</td>\n",
       "      <td>0.0</td>\n",
       "      <td>0</td>\n",
       "      <td>0.0</td>\n",
       "    </tr>\n",
       "  </tbody>\n",
       "</table>\n",
       "<p>62856 rows × 19 columns</p>\n",
       "</div>"
      ],
      "text/plain": [
       "        sex  patient_type  intubed  pneumonia  age  pregnancy  diabetes  copd  \\\n",
       "0         0             1      0.0        0.0   27        0.0       0.0   0.0   \n",
       "1         0             1      0.0        0.0   24        0.0       0.0   0.0   \n",
       "2         1             0      0.0        0.0   54        0.0       0.0   0.0   \n",
       "3         0             0      0.0        1.0   30        0.0       0.0   0.0   \n",
       "4         1             0      0.0        0.0   60        0.0       1.0   0.0   \n",
       "...     ...           ...      ...        ...  ...        ...       ...   ...   \n",
       "499606    0             0      0.0        1.0   84        0.0       0.0   0.0   \n",
       "499613    1             0      1.0        0.0   23        0.0       0.0   0.0   \n",
       "499680    1             0      0.0        1.0    0        0.0       0.0   0.0   \n",
       "499687    0             1      0.0        1.0   77        0.0       0.0   0.0   \n",
       "499688    0             0      1.0        1.0   63        0.0       0.0   0.0   \n",
       "\n",
       "        asthma  inmsupr  hypertension  other_disease  cardiovascular  obesity  \\\n",
       "0          0.0      0.0           0.0            0.0             0.0      0.0   \n",
       "1          0.0      0.0           0.0            0.0             0.0      0.0   \n",
       "2          0.0      0.0           0.0            0.0             0.0      1.0   \n",
       "3          0.0      0.0           0.0            0.0             0.0      0.0   \n",
       "4          0.0      0.0           1.0            0.0             1.0      0.0   \n",
       "...        ...      ...           ...            ...             ...      ...   \n",
       "499606     0.0      0.0           0.0            1.0             1.0      0.0   \n",
       "499613     0.0      0.0           0.0            1.0             0.0      0.0   \n",
       "499680     0.0      0.0           0.0            1.0             0.0      0.0   \n",
       "499687     0.0      0.0           0.0            1.0             0.0      0.0   \n",
       "499688     0.0      0.0           1.0            0.0             0.0      1.0   \n",
       "\n",
       "        renal_chronic  tobacco  contact_other_covid  covid_res  icu  \n",
       "0                 0.0      0.0                  0.0          1  0.0  \n",
       "1                 0.0      0.0                  1.0          1  0.0  \n",
       "2                 0.0      0.0                  1.0          1  0.0  \n",
       "3                 0.0      0.0                  1.0          1  0.0  \n",
       "4                 0.0      0.0                  1.0          1  0.0  \n",
       "...               ...      ...                  ...        ...  ...  \n",
       "499606            1.0      0.0                  0.0          0  0.0  \n",
       "499613            0.0      1.0                  0.0          0  0.0  \n",
       "499680            0.0      0.0                  1.0          0  0.0  \n",
       "499687            0.0      1.0                  0.0          0  0.0  \n",
       "499688            0.0      1.0                  0.0          0  0.0  \n",
       "\n",
       "[62856 rows x 19 columns]"
      ]
     },
     "execution_count": 52,
     "metadata": {},
     "output_type": "execute_result"
    }
   ],
   "source": [
    "df_covid_sem_dup = df_covid_sem_out.drop_duplicates()\n",
    "df_covid_sem_dup"
   ]
  },
  {
   "cell_type": "code",
   "execution_count": 53,
   "id": "4311a2fd",
   "metadata": {},
   "outputs": [
    {
     "data": {
      "text/plain": [
       "1    0.530085\n",
       "0    0.469915\n",
       "Name: covid_res, dtype: float64"
      ]
     },
     "execution_count": 53,
     "metadata": {},
     "output_type": "execute_result"
    }
   ],
   "source": [
    "df_covid_sem_dup['covid_res'].value_counts(normalize = True)"
   ]
  },
  {
   "cell_type": "markdown",
   "id": "7cefb4d9",
   "metadata": {},
   "source": [
    "O dataset sem os dados duplicados inverteu uma situação, há maior proporção de infectados do que o dataset anterior. \n",
    "Este dataset é bem menor do que o anterior, mas como tem maior percentual de positivo (1), acredito que o modelo tende a aprender melhor este dado e assim se obter um recall maior, então adotaremos este dataset, visando maior detecção de infectados. Vamos testar essa idéia. O treino e validação será feito com o dataset sem os duplicados e o teste com os todos os dados."
   ]
  },
  {
   "cell_type": "markdown",
   "id": "fab9d3c7",
   "metadata": {},
   "source": [
    "Mas antes, vamos para criar um modelo mais basico e verificar as metricas para que possamos ter um valor a melhorar nos modelos posteriores. A metrica que vamos nos atentar e aumentar é o recall, pensando em detectar o máximo os positivos para Covid."
   ]
  },
  {
   "cell_type": "markdown",
   "id": "e3007bc2",
   "metadata": {},
   "source": [
    "## Modelo Base"
   ]
  },
  {
   "cell_type": "markdown",
   "id": "dfd20038",
   "metadata": {},
   "source": [
    "O modelo básico será baseado na idade, vamos verificar a mediana e o comportamento da variavel resposta acima e abaixo dela."
   ]
  },
  {
   "cell_type": "code",
   "execution_count": 54,
   "id": "612fc89c",
   "metadata": {},
   "outputs": [
    {
     "name": "stdout",
     "output_type": "stream",
     "text": [
      "Mediana: 53.0\n",
      "Acima da mediana:\n",
      " 1    0.551632\n",
      "0    0.448368\n",
      "Name: covid_res, dtype: float64 \n",
      "\n",
      "Abaixo da mediana:\n",
      " 1    0.507608\n",
      "0    0.492392\n",
      "Name: covid_res, dtype: float64\n"
     ]
    }
   ],
   "source": [
    "mediana = df_covid_sem_dup['age'].median()\n",
    "print('Mediana:', mediana)\n",
    "print('Acima da mediana:\\n',df_covid_sem_dup.loc[df_covid_sem_out['age'] > mediana, 'covid_res'].value_counts(normalize = True),'\\n')\n",
    "print('Abaixo da mediana:\\n',df_covid_sem_dup.loc[df_covid_sem_out['age'] < mediana, 'covid_res'].value_counts(normalize = True))"
   ]
  },
  {
   "cell_type": "markdown",
   "id": "26c87489",
   "metadata": {},
   "source": [
    "O modelo será acima da mediana o resultadmo será positivo (1) e abaixo será negativo (0)"
   ]
  },
  {
   "cell_type": "code",
   "execution_count": 55,
   "id": "55283628",
   "metadata": {},
   "outputs": [],
   "source": [
    "X = df_covid_sem_dup.drop('covid_res', axis = 1)\n",
    "y = df_covid_sem_dup['covid_res']"
   ]
  },
  {
   "cell_type": "code",
   "execution_count": 56,
   "id": "3e5fa829",
   "metadata": {},
   "outputs": [
    {
     "name": "stdout",
     "output_type": "stream",
     "text": [
      "(43999, 18) (43999,)\n",
      "(18857, 18) (18857,)\n"
     ]
    }
   ],
   "source": [
    "from sklearn.model_selection import train_test_split\n",
    "\n",
    "X_train, X_valid, y_train, y_valid = train_test_split(X, \n",
    "                                                    y, \n",
    "                                                    test_size=0.3, \n",
    "                                                    random_state=10)\n",
    "\n",
    "print(X_train.shape, y_train.shape)\n",
    "print(X_valid.shape, y_valid.shape)"
   ]
  },
  {
   "cell_type": "code",
   "execution_count": 57,
   "id": "357fe9b3",
   "metadata": {},
   "outputs": [
    {
     "name": "stderr",
     "output_type": "stream",
     "text": [
      "C:\\Users\\Pc\\anaconda3\\lib\\site-packages\\pandas\\core\\indexing.py:1599: SettingWithCopyWarning: \n",
      "A value is trying to be set on a copy of a slice from a DataFrame.\n",
      "Try using .loc[row_indexer,col_indexer] = value instead\n",
      "\n",
      "See the caveats in the documentation: https://pandas.pydata.org/pandas-docs/stable/user_guide/indexing.html#returning-a-view-versus-a-copy\n",
      "  self.obj[key] = infer_fill_value(value)\n",
      "C:\\Users\\Pc\\anaconda3\\lib\\site-packages\\pandas\\core\\indexing.py:1720: SettingWithCopyWarning: \n",
      "A value is trying to be set on a copy of a slice from a DataFrame.\n",
      "Try using .loc[row_indexer,col_indexer] = value instead\n",
      "\n",
      "See the caveats in the documentation: https://pandas.pydata.org/pandas-docs/stable/user_guide/indexing.html#returning-a-view-versus-a-copy\n",
      "  self._setitem_single_column(loc, value, pi)\n",
      "C:\\Users\\Pc\\anaconda3\\lib\\site-packages\\pandas\\core\\indexing.py:1720: SettingWithCopyWarning: \n",
      "A value is trying to be set on a copy of a slice from a DataFrame.\n",
      "Try using .loc[row_indexer,col_indexer] = value instead\n",
      "\n",
      "See the caveats in the documentation: https://pandas.pydata.org/pandas-docs/stable/user_guide/indexing.html#returning-a-view-versus-a-copy\n",
      "  self._setitem_single_column(loc, value, pi)\n"
     ]
    }
   ],
   "source": [
    "X_train.loc[X_train['age'] < mediana, 'predict'] = 0\n",
    "X_train.loc[X_train['age'] >= mediana, 'predict'] = 1"
   ]
  },
  {
   "cell_type": "code",
   "execution_count": 58,
   "id": "ba44c513",
   "metadata": {},
   "outputs": [
    {
     "name": "stderr",
     "output_type": "stream",
     "text": [
      "C:\\Users\\Pc\\anaconda3\\lib\\site-packages\\pandas\\core\\indexing.py:1599: SettingWithCopyWarning: \n",
      "A value is trying to be set on a copy of a slice from a DataFrame.\n",
      "Try using .loc[row_indexer,col_indexer] = value instead\n",
      "\n",
      "See the caveats in the documentation: https://pandas.pydata.org/pandas-docs/stable/user_guide/indexing.html#returning-a-view-versus-a-copy\n",
      "  self.obj[key] = infer_fill_value(value)\n",
      "C:\\Users\\Pc\\anaconda3\\lib\\site-packages\\pandas\\core\\indexing.py:1720: SettingWithCopyWarning: \n",
      "A value is trying to be set on a copy of a slice from a DataFrame.\n",
      "Try using .loc[row_indexer,col_indexer] = value instead\n",
      "\n",
      "See the caveats in the documentation: https://pandas.pydata.org/pandas-docs/stable/user_guide/indexing.html#returning-a-view-versus-a-copy\n",
      "  self._setitem_single_column(loc, value, pi)\n",
      "C:\\Users\\Pc\\anaconda3\\lib\\site-packages\\pandas\\core\\indexing.py:1720: SettingWithCopyWarning: \n",
      "A value is trying to be set on a copy of a slice from a DataFrame.\n",
      "Try using .loc[row_indexer,col_indexer] = value instead\n",
      "\n",
      "See the caveats in the documentation: https://pandas.pydata.org/pandas-docs/stable/user_guide/indexing.html#returning-a-view-versus-a-copy\n",
      "  self._setitem_single_column(loc, value, pi)\n"
     ]
    }
   ],
   "source": [
    "X_valid.loc[X_valid['age'] < mediana, 'predict'] = 0\n",
    "X_valid.loc[X_valid['age'] >= mediana, 'predict'] = 1"
   ]
  },
  {
   "cell_type": "code",
   "execution_count": 59,
   "id": "161efec3",
   "metadata": {},
   "outputs": [
    {
     "data": {
      "text/plain": [
       "(425008    1.0\n",
       " 469850    1.0\n",
       " 25505     1.0\n",
       " 130122    1.0\n",
       " 270402    1.0\n",
       "          ... \n",
       " 165886    0.0\n",
       " 336620    0.0\n",
       " 177615    1.0\n",
       " 245715    0.0\n",
       " 82797     1.0\n",
       " Name: predict, Length: 43999, dtype: float64,\n",
       " 43207     0.0\n",
       " 237956    0.0\n",
       " 221301    1.0\n",
       " 174977    1.0\n",
       " 14343     1.0\n",
       "          ... \n",
       " 9767      1.0\n",
       " 226425    1.0\n",
       " 2335      0.0\n",
       " 136292    1.0\n",
       " 145029    1.0\n",
       " Name: predict, Length: 18857, dtype: float64)"
      ]
     },
     "execution_count": 59,
     "metadata": {},
     "output_type": "execute_result"
    }
   ],
   "source": [
    "X_train['predict'], X_valid['predict']"
   ]
  },
  {
   "cell_type": "code",
   "execution_count": 60,
   "id": "1429650d",
   "metadata": {},
   "outputs": [],
   "source": [
    "# função plotar matriz confusão\n",
    "def matriz_conf(y, y_pred):\n",
    "    from mlxtend.plotting import plot_confusion_matrix\n",
    "    from sklearn.metrics import confusion_matrix\n",
    "    from matplotlib import pyplot as plt\n",
    "    cm = confusion_matrix(y, y_pred)\n",
    "\n",
    "    plot_confusion_matrix(conf_mat=cm)\n",
    "    plt.show()\n",
    "    "
   ]
  },
  {
   "cell_type": "code",
   "execution_count": 61,
   "id": "d373ab49",
   "metadata": {},
   "outputs": [
    {
     "data": {
      "image/png": "[encoded data removed]",
      "text/plain": [
       "<Figure size 432x288 with 1 Axes>"
      ]
     },
     "metadata": {
      "needs_background": "light"
     },
     "output_type": "display_data"
    }
   ],
   "source": [
    "# matriz confusão do predict\n",
    "matriz_conf(y_valid, X_valid['predict'])\n"
   ]
  },
  {
   "cell_type": "code",
   "execution_count": 62,
   "id": "39425206",
   "metadata": {},
   "outputs": [],
   "source": [
    "# função para printar as metricas\n",
    "\n",
    "def printar_metricas(train, y_train, y_train_pred, valid, y_valid, y_valid_pred):\n",
    "    from sklearn.metrics import accuracy_score, precision_score, recall_score \n",
    "    acc_train = accuracy_score(y_train, y_train_pred)\n",
    "    prec_train = precision_score(y_train, y_train_pred)\n",
    "    rec_train = recall_score(y_train, y_train_pred)\n",
    "\n",
    "    acc_valid = accuracy_score(y_valid, y_valid_pred)\n",
    "    prec_valid = precision_score(y_valid, y_valid_pred)\n",
    "    rec_valid = recall_score(y_valid, y_valid_pred)\n",
    "\n",
    "    print(f'{train}:\\nAcc: {acc_train:.4f}, Precision: {prec_train:.4f}, Recall: {rec_train:.4f}')\n",
    "    print(f'{valid}:\\nAcc: {acc_valid:.4f}, Precision: {prec_valid:.4f}, Recall: {rec_valid:.4f}')"
   ]
  },
  {
   "cell_type": "code",
   "execution_count": 64,
   "id": "eb1ec5a4",
   "metadata": {},
   "outputs": [
    {
     "name": "stdout",
     "output_type": "stream",
     "text": [
      "Treino:\n",
      "Acc: 0.5227, Precision: 0.5539, Recall: 0.5262\n",
      "Validação:\n",
      "Acc: 0.5222, Precision: 0.5482, Recall: 0.5236\n"
     ]
    }
   ],
   "source": [
    "\n",
    "printar_metricas('Treino',y_train, X_train['predict'], 'Validação',y_valid, X_valid['predict'])\n"
   ]
  },
  {
   "cell_type": "markdown",
   "id": "5670b3c4",
   "metadata": {},
   "source": [
    "O modelo apresentou uma detecção (recall) de 52%, esta é metrica a melhorar nos modelos posteriores"
   ]
  },
  {
   "cell_type": "markdown",
   "id": "2587dded",
   "metadata": {},
   "source": [
    "### Modelo base: 52% recall"
   ]
  },
  {
   "cell_type": "code",
   "execution_count": 65,
   "id": "2ac2a6f8",
   "metadata": {},
   "outputs": [
    {
     "name": "stderr",
     "output_type": "stream",
     "text": [
      "C:\\Users\\Pc\\anaconda3\\lib\\site-packages\\pandas\\core\\frame.py:4308: SettingWithCopyWarning: \n",
      "A value is trying to be set on a copy of a slice from a DataFrame\n",
      "\n",
      "See the caveats in the documentation: https://pandas.pydata.org/pandas-docs/stable/user_guide/indexing.html#returning-a-view-versus-a-copy\n",
      "  return super().drop(\n"
     ]
    }
   ],
   "source": [
    "X_train.drop('predict', axis = 1, inplace= True)\n",
    "X_valid.drop('predict', axis = 1, inplace= True)\n"
   ]
  },
  {
   "cell_type": "markdown",
   "id": "764b2795",
   "metadata": {},
   "source": [
    "## Modelo Random Forest"
   ]
  },
  {
   "cell_type": "code",
   "execution_count": 66,
   "id": "5cfbcb5b",
   "metadata": {},
   "outputs": [],
   "source": [
    "from sklearn.ensemble import RandomForestClassifier\n",
    "from sklearn.model_selection import GridSearchCV"
   ]
  },
  {
   "cell_type": "code",
   "execution_count": 67,
   "id": "e43d810f",
   "metadata": {},
   "outputs": [
    {
     "name": "stdout",
     "output_type": "stream",
     "text": [
      "(43999, 18) (43999,)\n",
      "(18857, 18) (18857,)\n"
     ]
    }
   ],
   "source": [
    "print(X_train.shape, y_train.shape)\n",
    "print(X_valid.shape, y_valid.shape)"
   ]
  },
  {
   "cell_type": "code",
   "execution_count": 72,
   "id": "2b4da22d",
   "metadata": {},
   "outputs": [
    {
     "name": "stdout",
     "output_type": "stream",
     "text": [
      "Fitting 3 folds for each of 18 candidates, totalling 54 fits\n",
      "[CV 1/3] END criterion=entropy, max_depth=3, n_estimators=100; total time=   2.1s\n",
      "[CV 2/3] END criterion=entropy, max_depth=3, n_estimators=100; total time=   1.5s\n",
      "[CV 3/3] END criterion=entropy, max_depth=3, n_estimators=100; total time=   1.5s\n",
      "[CV 1/3] END criterion=entropy, max_depth=3, n_estimators=500; total time=   7.6s\n",
      "[CV 2/3] END criterion=entropy, max_depth=3, n_estimators=500; total time=   8.1s\n",
      "[CV 3/3] END criterion=entropy, max_depth=3, n_estimators=500; total time=   7.6s\n",
      "[CV 1/3] END criterion=entropy, max_depth=3, n_estimators=1000; total time=  15.8s\n",
      "[CV 2/3] END criterion=entropy, max_depth=3, n_estimators=1000; total time=  15.8s\n",
      "[CV 3/3] END criterion=entropy, max_depth=3, n_estimators=1000; total time=  15.8s\n",
      "[CV 1/3] END criterion=entropy, max_depth=5, n_estimators=100; total time=   2.0s\n",
      "[CV 2/3] END criterion=entropy, max_depth=5, n_estimators=100; total time=   2.2s\n",
      "[CV 3/3] END criterion=entropy, max_depth=5, n_estimators=100; total time=   2.2s\n",
      "[CV 1/3] END criterion=entropy, max_depth=5, n_estimators=500; total time=  10.0s\n",
      "[CV 2/3] END criterion=entropy, max_depth=5, n_estimators=500; total time=  10.7s\n",
      "[CV 3/3] END criterion=entropy, max_depth=5, n_estimators=500; total time=  10.5s\n",
      "[CV 1/3] END criterion=entropy, max_depth=5, n_estimators=1000; total time=  20.8s\n",
      "[CV 2/3] END criterion=entropy, max_depth=5, n_estimators=1000; total time=  20.8s\n",
      "[CV 3/3] END criterion=entropy, max_depth=5, n_estimators=1000; total time=  21.1s\n",
      "[CV 1/3] END criterion=entropy, max_depth=10, n_estimators=100; total time=   3.3s\n",
      "[CV 2/3] END criterion=entropy, max_depth=10, n_estimators=100; total time=   3.3s\n",
      "[CV 3/3] END criterion=entropy, max_depth=10, n_estimators=100; total time=   3.3s\n",
      "[CV 1/3] END criterion=entropy, max_depth=10, n_estimators=500; total time=  17.3s\n",
      "[CV 2/3] END criterion=entropy, max_depth=10, n_estimators=500; total time=  17.1s\n",
      "[CV 3/3] END criterion=entropy, max_depth=10, n_estimators=500; total time=  17.0s\n",
      "[CV 1/3] END criterion=entropy, max_depth=10, n_estimators=1000; total time=  37.7s\n",
      "[CV 2/3] END criterion=entropy, max_depth=10, n_estimators=1000; total time=  34.5s\n",
      "[CV 3/3] END criterion=entropy, max_depth=10, n_estimators=1000; total time=  34.9s\n",
      "[CV 1/3] END ..criterion=gini, max_depth=3, n_estimators=100; total time=   2.0s\n",
      "[CV 2/3] END ..criterion=gini, max_depth=3, n_estimators=100; total time=   1.7s\n",
      "[CV 3/3] END ..criterion=gini, max_depth=3, n_estimators=100; total time=   1.8s\n",
      "[CV 1/3] END ..criterion=gini, max_depth=3, n_estimators=500; total time=   7.9s\n",
      "[CV 2/3] END ..criterion=gini, max_depth=3, n_estimators=500; total time=   8.2s\n",
      "[CV 3/3] END ..criterion=gini, max_depth=3, n_estimators=500; total time=   8.4s\n",
      "[CV 1/3] END .criterion=gini, max_depth=3, n_estimators=1000; total time=  17.6s\n",
      "[CV 2/3] END .criterion=gini, max_depth=3, n_estimators=1000; total time=  15.7s\n",
      "[CV 3/3] END .criterion=gini, max_depth=3, n_estimators=1000; total time=  15.8s\n",
      "[CV 1/3] END ..criterion=gini, max_depth=5, n_estimators=100; total time=   1.9s\n",
      "[CV 2/3] END ..criterion=gini, max_depth=5, n_estimators=100; total time=   2.0s\n",
      "[CV 3/3] END ..criterion=gini, max_depth=5, n_estimators=100; total time=   2.4s\n",
      "[CV 1/3] END ..criterion=gini, max_depth=5, n_estimators=500; total time=  10.1s\n",
      "[CV 2/3] END ..criterion=gini, max_depth=5, n_estimators=500; total time=  10.5s\n",
      "[CV 3/3] END ..criterion=gini, max_depth=5, n_estimators=500; total time=  10.3s\n",
      "[CV 1/3] END .criterion=gini, max_depth=5, n_estimators=1000; total time=  20.9s\n",
      "[CV 2/3] END .criterion=gini, max_depth=5, n_estimators=1000; total time=  20.4s\n",
      "[CV 3/3] END .criterion=gini, max_depth=5, n_estimators=1000; total time=  20.4s\n",
      "[CV 1/3] END .criterion=gini, max_depth=10, n_estimators=100; total time=   3.8s\n",
      "[CV 2/3] END .criterion=gini, max_depth=10, n_estimators=100; total time=   4.3s\n",
      "[CV 3/3] END .criterion=gini, max_depth=10, n_estimators=100; total time=   3.4s\n",
      "[CV 1/3] END .criterion=gini, max_depth=10, n_estimators=500; total time=  16.7s\n",
      "[CV 2/3] END .criterion=gini, max_depth=10, n_estimators=500; total time=  16.7s\n",
      "[CV 3/3] END .criterion=gini, max_depth=10, n_estimators=500; total time=  16.7s\n",
      "[CV 1/3] END criterion=gini, max_depth=10, n_estimators=1000; total time=  33.3s\n",
      "[CV 2/3] END criterion=gini, max_depth=10, n_estimators=1000; total time=  35.2s\n",
      "[CV 3/3] END criterion=gini, max_depth=10, n_estimators=1000; total time=  33.7s\n"
     ]
    },
    {
     "data": {
      "text/plain": [
       "GridSearchCV(cv=3, estimator=RandomForestClassifier(),\n",
       "             param_grid={'criterion': ['entropy', 'gini'],\n",
       "                         'max_depth': [3, 5, 10],\n",
       "                         'n_estimators': [100, 500, 1000]},\n",
       "             scoring='recall', verbose=3)"
      ]
     },
     "execution_count": 72,
     "metadata": {},
     "output_type": "execute_result"
    }
   ],
   "source": [
    "modelo = RandomForestClassifier()\n",
    "\n",
    "parameters = {\n",
    "    'max_depth': [ 3, 5, 10],\n",
    "    'n_estimators': [100, 500,1000],\n",
    "    'criterion': ['entropy', 'gini'],\n",
    "    }\n",
    "\n",
    "clf = GridSearchCV(modelo, parameters, verbose=3, scoring='recall', cv= 3)\n",
    "\n",
    "clf.fit(X_train, y_train)"
   ]
  },
  {
   "cell_type": "code",
   "execution_count": 73,
   "id": "3e0eeac1",
   "metadata": {},
   "outputs": [
    {
     "data": {
      "text/plain": [
       "{'criterion': 'entropy', 'max_depth': 3, 'n_estimators': 100}"
      ]
     },
     "execution_count": 73,
     "metadata": {},
     "output_type": "execute_result"
    }
   ],
   "source": [
    "clf.best_params_"
   ]
  },
  {
   "cell_type": "code",
   "execution_count": 167,
   "id": "739c118c",
   "metadata": {},
   "outputs": [
    {
     "data": {
      "text/plain": [
       "RandomForestClassifier(criterion='entropy', max_depth=3, random_state=12)"
      ]
     },
     "execution_count": 167,
     "metadata": {},
     "output_type": "execute_result"
    }
   ],
   "source": [
    "modelo_rf = RandomForestClassifier(max_depth=3, n_estimators=100, criterion = 'entropy', random_state = 12)\n",
    "modelo_rf.fit(X_train, y_train)"
   ]
  },
  {
   "cell_type": "code",
   "execution_count": 168,
   "id": "48491e09",
   "metadata": {},
   "outputs": [
    {
     "name": "stdout",
     "output_type": "stream",
     "text": [
      "(43999,) (18857,)\n"
     ]
    }
   ],
   "source": [
    "y_train_pred = modelo_rf.predict(X_train)\n",
    "\n",
    "y_valid_pred = modelo_rf.predict(X_valid)\n",
    "\n",
    "print(y_train_pred.shape, y_valid_pred.shape)"
   ]
  },
  {
   "cell_type": "code",
   "execution_count": 169,
   "id": "d48b80ea",
   "metadata": {},
   "outputs": [
    {
     "data": {
      "image/png": "[encoded data removed]",
      "text/plain": [
       "<Figure size 432x288 with 1 Axes>"
      ]
     },
     "metadata": {
      "needs_background": "light"
     },
     "output_type": "display_data"
    }
   ],
   "source": [
    "matriz_conf(y_valid, y_valid_pred)"
   ]
  },
  {
   "cell_type": "code",
   "execution_count": 170,
   "id": "a2ab0add",
   "metadata": {},
   "outputs": [
    {
     "name": "stdout",
     "output_type": "stream",
     "text": [
      "Treino:\n",
      "Acc: 0.5889, Precision: 0.5835, Recall: 0.7927\n",
      "Validação:\n",
      "Acc: 0.5819, Precision: 0.5748, Recall: 0.7893\n"
     ]
    }
   ],
   "source": [
    "printar_metricas('Treino',y_train, y_train_pred,'Validação',y_valid, y_valid_pred)\n"
   ]
  },
  {
   "cell_type": "markdown",
   "id": "f47568f4",
   "metadata": {},
   "source": [
    "### Modelo RandomForest 1: 79% recall"
   ]
  },
  {
   "cell_type": "markdown",
   "id": "bd317596",
   "metadata": {},
   "source": [
    "Recall acima do modelo basico e não está 'overfitando'. Vamos verificar a importancia das features deste modelo."
   ]
  },
  {
   "cell_type": "code",
   "execution_count": 79,
   "id": "0438e74c",
   "metadata": {},
   "outputs": [
    {
     "data": {
      "text/html": [
       "<div>\n",
       "<style scoped>\n",
       "    .dataframe tbody tr th:only-of-type {\n",
       "        vertical-align: middle;\n",
       "    }\n",
       "\n",
       "    .dataframe tbody tr th {\n",
       "        vertical-align: top;\n",
       "    }\n",
       "\n",
       "    .dataframe thead th {\n",
       "        text-align: right;\n",
       "    }\n",
       "</style>\n",
       "<table border=\"1\" class=\"dataframe\">\n",
       "  <thead>\n",
       "    <tr style=\"text-align: right;\">\n",
       "      <th></th>\n",
       "      <th>feature</th>\n",
       "      <th>importance</th>\n",
       "    </tr>\n",
       "  </thead>\n",
       "  <tbody>\n",
       "    <tr>\n",
       "      <th>2</th>\n",
       "      <td>intubed</td>\n",
       "      <td>0.291734</td>\n",
       "    </tr>\n",
       "    <tr>\n",
       "      <th>17</th>\n",
       "      <td>icu</td>\n",
       "      <td>0.200796</td>\n",
       "    </tr>\n",
       "    <tr>\n",
       "      <th>4</th>\n",
       "      <td>age</td>\n",
       "      <td>0.122408</td>\n",
       "    </tr>\n",
       "    <tr>\n",
       "      <th>3</th>\n",
       "      <td>pneumonia</td>\n",
       "      <td>0.107801</td>\n",
       "    </tr>\n",
       "    <tr>\n",
       "      <th>1</th>\n",
       "      <td>patient_type</td>\n",
       "      <td>0.091834</td>\n",
       "    </tr>\n",
       "    <tr>\n",
       "      <th>9</th>\n",
       "      <td>inmsupr</td>\n",
       "      <td>0.061475</td>\n",
       "    </tr>\n",
       "    <tr>\n",
       "      <th>11</th>\n",
       "      <td>other_disease</td>\n",
       "      <td>0.041768</td>\n",
       "    </tr>\n",
       "    <tr>\n",
       "      <th>13</th>\n",
       "      <td>obesity</td>\n",
       "      <td>0.023191</td>\n",
       "    </tr>\n",
       "    <tr>\n",
       "      <th>12</th>\n",
       "      <td>cardiovascular</td>\n",
       "      <td>0.016465</td>\n",
       "    </tr>\n",
       "    <tr>\n",
       "      <th>14</th>\n",
       "      <td>renal_chronic</td>\n",
       "      <td>0.010746</td>\n",
       "    </tr>\n",
       "    <tr>\n",
       "      <th>16</th>\n",
       "      <td>contact_other_covid</td>\n",
       "      <td>0.007947</td>\n",
       "    </tr>\n",
       "    <tr>\n",
       "      <th>6</th>\n",
       "      <td>diabetes</td>\n",
       "      <td>0.007345</td>\n",
       "    </tr>\n",
       "    <tr>\n",
       "      <th>7</th>\n",
       "      <td>copd</td>\n",
       "      <td>0.005478</td>\n",
       "    </tr>\n",
       "    <tr>\n",
       "      <th>15</th>\n",
       "      <td>tobacco</td>\n",
       "      <td>0.004634</td>\n",
       "    </tr>\n",
       "    <tr>\n",
       "      <th>8</th>\n",
       "      <td>asthma</td>\n",
       "      <td>0.002602</td>\n",
       "    </tr>\n",
       "    <tr>\n",
       "      <th>10</th>\n",
       "      <td>hypertension</td>\n",
       "      <td>0.001955</td>\n",
       "    </tr>\n",
       "    <tr>\n",
       "      <th>0</th>\n",
       "      <td>sex</td>\n",
       "      <td>0.001012</td>\n",
       "    </tr>\n",
       "    <tr>\n",
       "      <th>5</th>\n",
       "      <td>pregnancy</td>\n",
       "      <td>0.000811</td>\n",
       "    </tr>\n",
       "  </tbody>\n",
       "</table>\n",
       "</div>"
      ],
      "text/plain": [
       "                feature  importance\n",
       "2               intubed    0.291734\n",
       "17                  icu    0.200796\n",
       "4                   age    0.122408\n",
       "3             pneumonia    0.107801\n",
       "1          patient_type    0.091834\n",
       "9               inmsupr    0.061475\n",
       "11        other_disease    0.041768\n",
       "13              obesity    0.023191\n",
       "12       cardiovascular    0.016465\n",
       "14        renal_chronic    0.010746\n",
       "16  contact_other_covid    0.007947\n",
       "6              diabetes    0.007345\n",
       "7                  copd    0.005478\n",
       "15              tobacco    0.004634\n",
       "8                asthma    0.002602\n",
       "10         hypertension    0.001955\n",
       "0                   sex    0.001012\n",
       "5             pregnancy    0.000811"
      ]
     },
     "execution_count": 79,
     "metadata": {},
     "output_type": "execute_result"
    }
   ],
   "source": [
    "importances = pd.DataFrame({\n",
    "    'feature': X_train.columns,\n",
    "    'importance': modelo_rf.feature_importances_,\n",
    "    }).sort_values('importance', ascending=False)\n",
    "\n",
    "importances"
   ]
  },
  {
   "cell_type": "markdown",
   "id": "02c8096f",
   "metadata": {},
   "source": [
    "A variavel pregnancy tem valor muito baixo, vamos verificar pelo Boruta se há variavel que pode ser descartada."
   ]
  },
  {
   "cell_type": "code",
   "execution_count": 80,
   "id": "3fbde7bb",
   "metadata": {},
   "outputs": [],
   "source": [
    "from boruta import BorutaPy"
   ]
  },
  {
   "cell_type": "code",
   "execution_count": 82,
   "id": "2f4b2780",
   "metadata": {},
   "outputs": [
    {
     "name": "stdout",
     "output_type": "stream",
     "text": [
      "Iteration: \t1 / 100\n",
      "Confirmed: \t0\n",
      "Tentative: \t18\n",
      "Rejected: \t0\n",
      "Iteration: \t2 / 100\n",
      "Confirmed: \t0\n",
      "Tentative: \t18\n",
      "Rejected: \t0\n",
      "Iteration: \t3 / 100\n",
      "Confirmed: \t0\n",
      "Tentative: \t18\n",
      "Rejected: \t0\n",
      "Iteration: \t4 / 100\n",
      "Confirmed: \t0\n",
      "Tentative: \t18\n",
      "Rejected: \t0\n",
      "Iteration: \t5 / 100\n",
      "Confirmed: \t0\n",
      "Tentative: \t18\n",
      "Rejected: \t0\n",
      "Iteration: \t6 / 100\n",
      "Confirmed: \t0\n",
      "Tentative: \t18\n",
      "Rejected: \t0\n",
      "Iteration: \t7 / 100\n",
      "Confirmed: \t0\n",
      "Tentative: \t18\n",
      "Rejected: \t0\n",
      "Iteration: \t8 / 100\n",
      "Confirmed: \t16\n",
      "Tentative: \t2\n",
      "Rejected: \t0\n",
      "Iteration: \t9 / 100\n",
      "Confirmed: \t16\n",
      "Tentative: \t1\n",
      "Rejected: \t1\n",
      "Iteration: \t10 / 100\n",
      "Confirmed: \t16\n",
      "Tentative: \t1\n",
      "Rejected: \t1\n",
      "Iteration: \t11 / 100\n",
      "Confirmed: \t16\n",
      "Tentative: \t1\n",
      "Rejected: \t1\n",
      "Iteration: \t12 / 100\n",
      "Confirmed: \t16\n",
      "Tentative: \t1\n",
      "Rejected: \t1\n",
      "Iteration: \t13 / 100\n",
      "Confirmed: \t16\n",
      "Tentative: \t1\n",
      "Rejected: \t1\n",
      "Iteration: \t14 / 100\n",
      "Confirmed: \t16\n",
      "Tentative: \t1\n",
      "Rejected: \t1\n",
      "Iteration: \t15 / 100\n",
      "Confirmed: \t16\n",
      "Tentative: \t1\n",
      "Rejected: \t1\n",
      "Iteration: \t16 / 100\n",
      "Confirmed: \t16\n",
      "Tentative: \t1\n",
      "Rejected: \t1\n",
      "Iteration: \t17 / 100\n",
      "Confirmed: \t16\n",
      "Tentative: \t1\n",
      "Rejected: \t1\n",
      "Iteration: \t18 / 100\n",
      "Confirmed: \t16\n",
      "Tentative: \t1\n",
      "Rejected: \t1\n",
      "Iteration: \t19 / 100\n",
      "Confirmed: \t16\n",
      "Tentative: \t1\n",
      "Rejected: \t1\n",
      "Iteration: \t20 / 100\n",
      "Confirmed: \t16\n",
      "Tentative: \t1\n",
      "Rejected: \t1\n",
      "Iteration: \t21 / 100\n",
      "Confirmed: \t16\n",
      "Tentative: \t1\n",
      "Rejected: \t1\n",
      "Iteration: \t22 / 100\n",
      "Confirmed: \t16\n",
      "Tentative: \t1\n",
      "Rejected: \t1\n",
      "Iteration: \t23 / 100\n",
      "Confirmed: \t16\n",
      "Tentative: \t1\n",
      "Rejected: \t1\n",
      "Iteration: \t24 / 100\n",
      "Confirmed: \t16\n",
      "Tentative: \t1\n",
      "Rejected: \t1\n",
      "Iteration: \t25 / 100\n",
      "Confirmed: \t16\n",
      "Tentative: \t1\n",
      "Rejected: \t1\n",
      "Iteration: \t26 / 100\n",
      "Confirmed: \t16\n",
      "Tentative: \t1\n",
      "Rejected: \t1\n",
      "Iteration: \t27 / 100\n",
      "Confirmed: \t16\n",
      "Tentative: \t1\n",
      "Rejected: \t1\n",
      "Iteration: \t28 / 100\n",
      "Confirmed: \t16\n",
      "Tentative: \t1\n",
      "Rejected: \t1\n",
      "Iteration: \t29 / 100\n",
      "Confirmed: \t16\n",
      "Tentative: \t1\n",
      "Rejected: \t1\n",
      "Iteration: \t30 / 100\n",
      "Confirmed: \t16\n",
      "Tentative: \t1\n",
      "Rejected: \t1\n",
      "Iteration: \t31 / 100\n",
      "Confirmed: \t16\n",
      "Tentative: \t1\n",
      "Rejected: \t1\n",
      "Iteration: \t32 / 100\n",
      "Confirmed: \t16\n",
      "Tentative: \t1\n",
      "Rejected: \t1\n",
      "Iteration: \t33 / 100\n",
      "Confirmed: \t16\n",
      "Tentative: \t1\n",
      "Rejected: \t1\n",
      "Iteration: \t34 / 100\n",
      "Confirmed: \t16\n",
      "Tentative: \t1\n",
      "Rejected: \t1\n",
      "Iteration: \t35 / 100\n",
      "Confirmed: \t16\n",
      "Tentative: \t1\n",
      "Rejected: \t1\n",
      "Iteration: \t36 / 100\n",
      "Confirmed: \t16\n",
      "Tentative: \t1\n",
      "Rejected: \t1\n",
      "Iteration: \t37 / 100\n",
      "Confirmed: \t16\n",
      "Tentative: \t1\n",
      "Rejected: \t1\n",
      "Iteration: \t38 / 100\n",
      "Confirmed: \t16\n",
      "Tentative: \t1\n",
      "Rejected: \t1\n",
      "Iteration: \t39 / 100\n",
      "Confirmed: \t16\n",
      "Tentative: \t1\n",
      "Rejected: \t1\n",
      "Iteration: \t40 / 100\n",
      "Confirmed: \t16\n",
      "Tentative: \t1\n",
      "Rejected: \t1\n",
      "Iteration: \t41 / 100\n",
      "Confirmed: \t16\n",
      "Tentative: \t1\n",
      "Rejected: \t1\n",
      "Iteration: \t42 / 100\n",
      "Confirmed: \t16\n",
      "Tentative: \t1\n",
      "Rejected: \t1\n",
      "Iteration: \t43 / 100\n",
      "Confirmed: \t16\n",
      "Tentative: \t1\n",
      "Rejected: \t1\n",
      "Iteration: \t44 / 100\n",
      "Confirmed: \t16\n",
      "Tentative: \t1\n",
      "Rejected: \t1\n",
      "Iteration: \t45 / 100\n",
      "Confirmed: \t16\n",
      "Tentative: \t1\n",
      "Rejected: \t1\n",
      "Iteration: \t46 / 100\n",
      "Confirmed: \t16\n",
      "Tentative: \t1\n",
      "Rejected: \t1\n",
      "Iteration: \t47 / 100\n",
      "Confirmed: \t16\n",
      "Tentative: \t1\n",
      "Rejected: \t1\n",
      "Iteration: \t48 / 100\n",
      "Confirmed: \t16\n",
      "Tentative: \t1\n",
      "Rejected: \t1\n",
      "Iteration: \t49 / 100\n",
      "Confirmed: \t16\n",
      "Tentative: \t1\n",
      "Rejected: \t1\n",
      "Iteration: \t50 / 100\n",
      "Confirmed: \t16\n",
      "Tentative: \t1\n",
      "Rejected: \t1\n",
      "Iteration: \t51 / 100\n",
      "Confirmed: \t16\n",
      "Tentative: \t1\n",
      "Rejected: \t1\n",
      "Iteration: \t52 / 100\n",
      "Confirmed: \t16\n",
      "Tentative: \t1\n",
      "Rejected: \t1\n",
      "Iteration: \t53 / 100\n",
      "Confirmed: \t16\n",
      "Tentative: \t1\n",
      "Rejected: \t1\n",
      "Iteration: \t54 / 100\n",
      "Confirmed: \t16\n",
      "Tentative: \t1\n",
      "Rejected: \t1\n",
      "Iteration: \t55 / 100\n",
      "Confirmed: \t16\n",
      "Tentative: \t1\n",
      "Rejected: \t1\n",
      "Iteration: \t56 / 100\n",
      "Confirmed: \t16\n",
      "Tentative: \t1\n",
      "Rejected: \t1\n",
      "Iteration: \t57 / 100\n",
      "Confirmed: \t16\n",
      "Tentative: \t1\n",
      "Rejected: \t1\n",
      "Iteration: \t58 / 100\n",
      "Confirmed: \t16\n",
      "Tentative: \t1\n",
      "Rejected: \t1\n",
      "Iteration: \t59 / 100\n",
      "Confirmed: \t16\n",
      "Tentative: \t1\n",
      "Rejected: \t1\n",
      "Iteration: \t60 / 100\n",
      "Confirmed: \t16\n",
      "Tentative: \t1\n",
      "Rejected: \t1\n",
      "Iteration: \t61 / 100\n",
      "Confirmed: \t16\n",
      "Tentative: \t1\n",
      "Rejected: \t1\n",
      "Iteration: \t62 / 100\n",
      "Confirmed: \t16\n",
      "Tentative: \t1\n",
      "Rejected: \t1\n",
      "Iteration: \t63 / 100\n",
      "Confirmed: \t16\n",
      "Tentative: \t1\n",
      "Rejected: \t1\n",
      "Iteration: \t64 / 100\n",
      "Confirmed: \t16\n",
      "Tentative: \t1\n",
      "Rejected: \t1\n",
      "Iteration: \t65 / 100\n",
      "Confirmed: \t16\n",
      "Tentative: \t1\n",
      "Rejected: \t1\n",
      "Iteration: \t66 / 100\n",
      "Confirmed: \t16\n",
      "Tentative: \t1\n",
      "Rejected: \t1\n",
      "Iteration: \t67 / 100\n",
      "Confirmed: \t16\n",
      "Tentative: \t1\n",
      "Rejected: \t1\n",
      "Iteration: \t68 / 100\n",
      "Confirmed: \t16\n",
      "Tentative: \t1\n",
      "Rejected: \t1\n",
      "Iteration: \t69 / 100\n",
      "Confirmed: \t16\n",
      "Tentative: \t1\n",
      "Rejected: \t1\n",
      "Iteration: \t70 / 100\n",
      "Confirmed: \t16\n",
      "Tentative: \t1\n",
      "Rejected: \t1\n",
      "Iteration: \t71 / 100\n",
      "Confirmed: \t16\n",
      "Tentative: \t1\n",
      "Rejected: \t1\n",
      "Iteration: \t72 / 100\n",
      "Confirmed: \t16\n",
      "Tentative: \t1\n",
      "Rejected: \t1\n",
      "Iteration: \t73 / 100\n",
      "Confirmed: \t16\n",
      "Tentative: \t1\n",
      "Rejected: \t1\n",
      "Iteration: \t74 / 100\n",
      "Confirmed: \t16\n",
      "Tentative: \t1\n",
      "Rejected: \t1\n",
      "Iteration: \t75 / 100\n",
      "Confirmed: \t16\n",
      "Tentative: \t1\n",
      "Rejected: \t1\n",
      "Iteration: \t76 / 100\n",
      "Confirmed: \t16\n",
      "Tentative: \t1\n",
      "Rejected: \t1\n",
      "Iteration: \t77 / 100\n",
      "Confirmed: \t16\n",
      "Tentative: \t1\n",
      "Rejected: \t1\n",
      "Iteration: \t78 / 100\n",
      "Confirmed: \t16\n",
      "Tentative: \t1\n",
      "Rejected: \t1\n",
      "Iteration: \t79 / 100\n",
      "Confirmed: \t16\n",
      "Tentative: \t1\n",
      "Rejected: \t1\n",
      "Iteration: \t80 / 100\n",
      "Confirmed: \t16\n",
      "Tentative: \t1\n",
      "Rejected: \t1\n",
      "Iteration: \t81 / 100\n",
      "Confirmed: \t16\n",
      "Tentative: \t1\n",
      "Rejected: \t1\n",
      "Iteration: \t82 / 100\n",
      "Confirmed: \t16\n",
      "Tentative: \t1\n",
      "Rejected: \t1\n",
      "Iteration: \t83 / 100\n",
      "Confirmed: \t16\n",
      "Tentative: \t1\n",
      "Rejected: \t1\n",
      "Iteration: \t84 / 100\n",
      "Confirmed: \t16\n",
      "Tentative: \t1\n",
      "Rejected: \t1\n",
      "Iteration: \t85 / 100\n",
      "Confirmed: \t16\n",
      "Tentative: \t1\n",
      "Rejected: \t1\n",
      "Iteration: \t86 / 100\n",
      "Confirmed: \t16\n",
      "Tentative: \t1\n",
      "Rejected: \t1\n",
      "Iteration: \t87 / 100\n",
      "Confirmed: \t16\n",
      "Tentative: \t1\n",
      "Rejected: \t1\n",
      "Iteration: \t88 / 100\n",
      "Confirmed: \t16\n",
      "Tentative: \t1\n",
      "Rejected: \t1\n",
      "Iteration: \t89 / 100\n",
      "Confirmed: \t16\n",
      "Tentative: \t1\n",
      "Rejected: \t1\n",
      "Iteration: \t90 / 100\n",
      "Confirmed: \t16\n",
      "Tentative: \t1\n",
      "Rejected: \t1\n",
      "Iteration: \t91 / 100\n",
      "Confirmed: \t16\n",
      "Tentative: \t1\n",
      "Rejected: \t1\n",
      "Iteration: \t92 / 100\n",
      "Confirmed: \t16\n",
      "Tentative: \t1\n",
      "Rejected: \t1\n",
      "Iteration: \t93 / 100\n",
      "Confirmed: \t16\n",
      "Tentative: \t1\n",
      "Rejected: \t1\n",
      "Iteration: \t94 / 100\n",
      "Confirmed: \t16\n",
      "Tentative: \t1\n",
      "Rejected: \t1\n",
      "Iteration: \t95 / 100\n",
      "Confirmed: \t16\n",
      "Tentative: \t1\n",
      "Rejected: \t1\n",
      "Iteration: \t96 / 100\n",
      "Confirmed: \t16\n",
      "Tentative: \t1\n",
      "Rejected: \t1\n",
      "Iteration: \t97 / 100\n",
      "Confirmed: \t16\n",
      "Tentative: \t1\n",
      "Rejected: \t1\n",
      "Iteration: \t98 / 100\n",
      "Confirmed: \t16\n",
      "Tentative: \t1\n",
      "Rejected: \t1\n",
      "Iteration: \t99 / 100\n",
      "Confirmed: \t16\n",
      "Tentative: \t1\n",
      "Rejected: \t1\n",
      "\n",
      "\n",
      "BorutaPy finished running.\n",
      "\n",
      "Iteration: \t100 / 100\n",
      "Confirmed: \t16\n",
      "Tentative: \t0\n",
      "Rejected: \t1\n"
     ]
    },
    {
     "data": {
      "text/plain": [
       "array([ True,  True,  True,  True,  True, False,  True,  True,  True,\n",
       "        True, False,  True,  True,  True,  True,  True,  True,  True])"
      ]
     },
     "execution_count": 82,
     "metadata": {},
     "output_type": "execute_result"
    }
   ],
   "source": [
    "feat_selector = BorutaPy(modelo_rf, n_estimators='auto', verbose=2, random_state=1)\n",
    "\n",
    "feat_selector.fit(X_train.values, y_train.values)\n",
    "\n",
    "feat_selector.support_"
   ]
  },
  {
   "cell_type": "code",
   "execution_count": 83,
   "id": "2fc4966a",
   "metadata": {},
   "outputs": [
    {
     "data": {
      "text/plain": [
       "array([1, 1, 1, 1, 1, 3, 1, 1, 1, 1, 2, 1, 1, 1, 1, 1, 1, 1])"
      ]
     },
     "execution_count": 83,
     "metadata": {},
     "output_type": "execute_result"
    }
   ],
   "source": [
    "feat_selector.ranking_"
   ]
  },
  {
   "cell_type": "code",
   "execution_count": 84,
   "id": "454dde4c",
   "metadata": {},
   "outputs": [
    {
     "data": {
      "text/plain": [
       "Index(['sex', 'patient_type', 'intubed', 'pneumonia', 'age', 'pregnancy',\n",
       "       'diabetes', 'copd', 'asthma', 'inmsupr', 'hypertension',\n",
       "       'other_disease', 'cardiovascular', 'obesity', 'renal_chronic',\n",
       "       'tobacco', 'contact_other_covid', 'icu'],\n",
       "      dtype='object')"
      ]
     },
     "execution_count": 84,
     "metadata": {},
     "output_type": "execute_result"
    }
   ],
   "source": [
    "X_train.columns"
   ]
  },
  {
   "cell_type": "markdown",
   "id": "03223d21",
   "metadata": {},
   "source": [
    "Vamos retirar a variavel pregnancy e verificar o modelo"
   ]
  },
  {
   "cell_type": "code",
   "execution_count": 85,
   "id": "62a597cd",
   "metadata": {},
   "outputs": [],
   "source": [
    "colunas = ['sex', 'patient_type', 'intubed', 'pneumonia', 'age', \n",
    "       'diabetes', 'copd', 'asthma', 'inmsupr', 'hypertension',\n",
    "       'other_disease', 'cardiovascular', 'obesity', 'renal_chronic',\n",
    "       'tobacco', 'contact_other_covid', 'icu']\n"
   ]
  },
  {
   "cell_type": "code",
   "execution_count": 171,
   "id": "11113732",
   "metadata": {},
   "outputs": [
    {
     "data": {
      "text/plain": [
       "RandomForestClassifier(criterion='entropy', max_depth=3, random_state=12)"
      ]
     },
     "execution_count": 171,
     "metadata": {},
     "output_type": "execute_result"
    }
   ],
   "source": [
    "\n",
    "modelo_rf.fit(X_train[colunas], y_train)"
   ]
  },
  {
   "cell_type": "code",
   "execution_count": 172,
   "id": "e59b35e1",
   "metadata": {},
   "outputs": [
    {
     "name": "stdout",
     "output_type": "stream",
     "text": [
      "(43999,) (18857,)\n"
     ]
    }
   ],
   "source": [
    "y_train_pred = modelo_rf.predict(X_train[colunas])\n",
    "\n",
    "y_valid_pred = modelo_rf.predict(X_valid[colunas])\n",
    "\n",
    "print(y_train_pred.shape, y_valid_pred.shape)"
   ]
  },
  {
   "cell_type": "code",
   "execution_count": 173,
   "id": "efd36f17",
   "metadata": {},
   "outputs": [
    {
     "data": {
      "image/png": "[encoded data removed]",
      "text/plain": [
       "<Figure size 432x288 with 1 Axes>"
      ]
     },
     "metadata": {
      "needs_background": "light"
     },
     "output_type": "display_data"
    }
   ],
   "source": [
    "matriz_conf(y_valid, y_valid_pred)"
   ]
  },
  {
   "cell_type": "code",
   "execution_count": 174,
   "id": "d2921c36",
   "metadata": {},
   "outputs": [
    {
     "name": "stdout",
     "output_type": "stream",
     "text": [
      "Treino:\n",
      "Acc: 0.5910, Precision: 0.5906, Recall: 0.7525\n",
      "Validação:\n",
      "Acc: 0.5829, Precision: 0.5812, Recall: 0.7416\n"
     ]
    }
   ],
   "source": [
    "printar_metricas('Treino',y_train, y_train_pred,'Validação',y_valid, y_valid_pred )"
   ]
  },
  {
   "cell_type": "markdown",
   "id": "f405422d",
   "metadata": {},
   "source": [
    "### Modelo RandomForest 2 (sem pregnancy): 75% recall"
   ]
  },
  {
   "cell_type": "markdown",
   "id": "3d6d7650",
   "metadata": {},
   "source": [
    "Retirando a coluna rejeitada pelo boruta o modelo aumentou um pouco o precision e a acuracia mas, diminuiu o recall, a metrica enfatizada.\n",
    "Vamos verificar com o GridSearch se conseguimos aumentar esta metrica sem esta variavel."
   ]
  },
  {
   "cell_type": "code",
   "execution_count": 90,
   "id": "cf2d57cf",
   "metadata": {},
   "outputs": [
    {
     "name": "stdout",
     "output_type": "stream",
     "text": [
      "Fitting 3 folds for each of 18 candidates, totalling 54 fits\n",
      "[CV 1/3] END criterion=entropy, max_depth=3, n_estimators=100; total time=   1.8s\n",
      "[CV 2/3] END criterion=entropy, max_depth=3, n_estimators=100; total time=   1.5s\n",
      "[CV 3/3] END criterion=entropy, max_depth=3, n_estimators=100; total time=   1.5s\n",
      "[CV 1/3] END criterion=entropy, max_depth=3, n_estimators=500; total time=   7.7s\n",
      "[CV 2/3] END criterion=entropy, max_depth=3, n_estimators=500; total time=   8.2s\n",
      "[CV 3/3] END criterion=entropy, max_depth=3, n_estimators=500; total time=   7.6s\n",
      "[CV 1/3] END criterion=entropy, max_depth=3, n_estimators=1000; total time=  16.1s\n",
      "[CV 2/3] END criterion=entropy, max_depth=3, n_estimators=1000; total time=  15.9s\n",
      "[CV 3/3] END criterion=entropy, max_depth=3, n_estimators=1000; total time=  15.9s\n",
      "[CV 1/3] END criterion=entropy, max_depth=5, n_estimators=100; total time=   2.1s\n",
      "[CV 2/3] END criterion=entropy, max_depth=5, n_estimators=100; total time=   2.4s\n",
      "[CV 3/3] END criterion=entropy, max_depth=5, n_estimators=100; total time=   2.1s\n",
      "[CV 1/3] END criterion=entropy, max_depth=5, n_estimators=500; total time=  10.1s\n",
      "[CV 2/3] END criterion=entropy, max_depth=5, n_estimators=500; total time=  10.6s\n",
      "[CV 3/3] END criterion=entropy, max_depth=5, n_estimators=500; total time=  10.8s\n",
      "[CV 1/3] END criterion=entropy, max_depth=5, n_estimators=1000; total time=  20.7s\n",
      "[CV 2/3] END criterion=entropy, max_depth=5, n_estimators=1000; total time=  20.8s\n",
      "[CV 3/3] END criterion=entropy, max_depth=5, n_estimators=1000; total time=  23.4s\n",
      "[CV 1/3] END criterion=entropy, max_depth=10, n_estimators=100; total time=   3.3s\n",
      "[CV 2/3] END criterion=entropy, max_depth=10, n_estimators=100; total time=   3.3s\n",
      "[CV 3/3] END criterion=entropy, max_depth=10, n_estimators=100; total time=   3.4s\n",
      "[CV 1/3] END criterion=entropy, max_depth=10, n_estimators=500; total time=  17.6s\n",
      "[CV 2/3] END criterion=entropy, max_depth=10, n_estimators=500; total time=  17.1s\n",
      "[CV 3/3] END criterion=entropy, max_depth=10, n_estimators=500; total time=  17.3s\n",
      "[CV 1/3] END criterion=entropy, max_depth=10, n_estimators=1000; total time=  34.7s\n",
      "[CV 2/3] END criterion=entropy, max_depth=10, n_estimators=1000; total time=  34.3s\n",
      "[CV 3/3] END criterion=entropy, max_depth=10, n_estimators=1000; total time=  34.9s\n",
      "[CV 1/3] END ..criterion=gini, max_depth=3, n_estimators=100; total time=   1.5s\n",
      "[CV 2/3] END ..criterion=gini, max_depth=3, n_estimators=100; total time=   1.6s\n",
      "[CV 3/3] END ..criterion=gini, max_depth=3, n_estimators=100; total time=   1.9s\n",
      "[CV 1/3] END ..criterion=gini, max_depth=3, n_estimators=500; total time=   7.7s\n",
      "[CV 2/3] END ..criterion=gini, max_depth=3, n_estimators=500; total time=   8.2s\n",
      "[CV 3/3] END ..criterion=gini, max_depth=3, n_estimators=500; total time=   7.7s\n",
      "[CV 1/3] END .criterion=gini, max_depth=3, n_estimators=1000; total time=  16.0s\n",
      "[CV 2/3] END .criterion=gini, max_depth=3, n_estimators=1000; total time=  15.9s\n",
      "[CV 3/3] END .criterion=gini, max_depth=3, n_estimators=1000; total time=  17.6s\n",
      "[CV 1/3] END ..criterion=gini, max_depth=5, n_estimators=100; total time=   2.0s\n",
      "[CV 2/3] END ..criterion=gini, max_depth=5, n_estimators=100; total time=   2.1s\n",
      "[CV 3/3] END ..criterion=gini, max_depth=5, n_estimators=100; total time=   2.6s\n",
      "[CV 1/3] END ..criterion=gini, max_depth=5, n_estimators=500; total time=  10.1s\n",
      "[CV 2/3] END ..criterion=gini, max_depth=5, n_estimators=500; total time=  10.9s\n",
      "[CV 3/3] END ..criterion=gini, max_depth=5, n_estimators=500; total time=  10.6s\n",
      "[CV 1/3] END .criterion=gini, max_depth=5, n_estimators=1000; total time=  19.5s\n",
      "[CV 2/3] END .criterion=gini, max_depth=5, n_estimators=1000; total time=  21.9s\n",
      "[CV 3/3] END .criterion=gini, max_depth=5, n_estimators=1000; total time=  19.9s\n",
      "[CV 1/3] END .criterion=gini, max_depth=10, n_estimators=100; total time=   3.7s\n",
      "[CV 2/3] END .criterion=gini, max_depth=10, n_estimators=100; total time=   3.3s\n",
      "[CV 3/3] END .criterion=gini, max_depth=10, n_estimators=100; total time=   3.2s\n",
      "[CV 1/3] END .criterion=gini, max_depth=10, n_estimators=500; total time=  16.8s\n",
      "[CV 2/3] END .criterion=gini, max_depth=10, n_estimators=500; total time=  17.0s\n",
      "[CV 3/3] END .criterion=gini, max_depth=10, n_estimators=500; total time=  16.7s\n",
      "[CV 1/3] END criterion=gini, max_depth=10, n_estimators=1000; total time=  34.5s\n",
      "[CV 2/3] END criterion=gini, max_depth=10, n_estimators=1000; total time=  34.2s\n",
      "[CV 3/3] END criterion=gini, max_depth=10, n_estimators=1000; total time=  33.7s\n"
     ]
    },
    {
     "data": {
      "text/plain": [
       "GridSearchCV(cv=3, estimator=RandomForestClassifier(),\n",
       "             param_grid={'criterion': ['entropy', 'gini'],\n",
       "                         'max_depth': [3, 5, 10],\n",
       "                         'n_estimators': [100, 500, 1000]},\n",
       "             scoring='recall', verbose=3)"
      ]
     },
     "execution_count": 90,
     "metadata": {},
     "output_type": "execute_result"
    }
   ],
   "source": [
    "modelo = RandomForestClassifier()\n",
    "\n",
    "parameters = {\n",
    "    'max_depth': [ 3, 5, 10],\n",
    "    'n_estimators': [100, 500,1000],\n",
    "    'criterion': ['entropy', 'gini'],\n",
    "    }\n",
    "\n",
    "clf = GridSearchCV(modelo, parameters, verbose=3, scoring='recall', cv= 3)\n",
    "\n",
    "clf.fit(X_train[colunas], y_train)"
   ]
  },
  {
   "cell_type": "code",
   "execution_count": 91,
   "id": "5e2e9947",
   "metadata": {},
   "outputs": [
    {
     "data": {
      "text/plain": [
       "{'criterion': 'gini', 'max_depth': 3, 'n_estimators': 500}"
      ]
     },
     "execution_count": 91,
     "metadata": {},
     "output_type": "execute_result"
    }
   ],
   "source": [
    "clf.best_params_"
   ]
  },
  {
   "cell_type": "code",
   "execution_count": 176,
   "id": "92942b58",
   "metadata": {},
   "outputs": [
    {
     "data": {
      "text/plain": [
       "RandomForestClassifier(max_depth=3, n_estimators=500, random_state=11)"
      ]
     },
     "execution_count": 176,
     "metadata": {},
     "output_type": "execute_result"
    }
   ],
   "source": [
    "modelo_rf2 = RandomForestClassifier(max_depth=3, n_estimators=500, criterion =  'gini', random_state = 11)\n",
    "modelo_rf2.fit(X_train[colunas], y_train)"
   ]
  },
  {
   "cell_type": "code",
   "execution_count": 177,
   "id": "31df0bb1",
   "metadata": {},
   "outputs": [
    {
     "name": "stdout",
     "output_type": "stream",
     "text": [
      "(43999,) (18857,)\n"
     ]
    }
   ],
   "source": [
    "y_train_pred = modelo_rf2.predict(X_train[colunas])\n",
    "\n",
    "y_valid_pred = modelo_rf2.predict(X_valid[colunas])\n",
    "\n",
    "print(y_train_pred.shape, y_valid_pred.shape)"
   ]
  },
  {
   "cell_type": "code",
   "execution_count": 178,
   "id": "024944d7",
   "metadata": {},
   "outputs": [
    {
     "data": {
      "image/png": "[encoded data removed]",
      "text/plain": [
       "<Figure size 432x288 with 1 Axes>"
      ]
     },
     "metadata": {
      "needs_background": "light"
     },
     "output_type": "display_data"
    }
   ],
   "source": [
    "matriz_conf(y_valid, y_valid_pred)"
   ]
  },
  {
   "cell_type": "code",
   "execution_count": 179,
   "id": "2847da99",
   "metadata": {},
   "outputs": [
    {
     "name": "stdout",
     "output_type": "stream",
     "text": [
      "Treino:\n",
      "Acc: 0.5918, Precision: 0.5924, Recall: 0.7448\n",
      "Validação:\n",
      "Acc: 0.5859, Precision: 0.5843, Recall: 0.7385\n"
     ]
    }
   ],
   "source": [
    "printar_metricas('Treino',y_train, y_train_pred,'Validação',y_valid, y_valid_pred )"
   ]
  },
  {
   "cell_type": "markdown",
   "id": "691f98f7",
   "metadata": {},
   "source": [
    "Este modelo teve leve aumento na acurácia e precision, mas caiu cerca de 4 a 5 percentuais no recall em relação ao modelo 1. Conclui que esta variável (pregnancy) pode nao ser importante em relação a acurácia e precision mas, para o recall esta sendo importante. O modelo 1 da random forest esta sendo o melhor modelo com 79% de recall."
   ]
  },
  {
   "cell_type": "code",
   "execution_count": 218,
   "id": "56b65f14",
   "metadata": {},
   "outputs": [
    {
     "data": {
      "text/plain": [
       "pregnancy  covid_res\n",
       "0.0        1            32800\n",
       "           0            28963\n",
       "1.0        0              574\n",
       "           1              519\n",
       "Name: covid_res, dtype: int64"
      ]
     },
     "execution_count": 218,
     "metadata": {},
     "output_type": "execute_result"
    }
   ],
   "source": [
    "df_covid_sem_dup.groupby('pregnancy')['covid_res'].value_counts()"
   ]
  },
  {
   "cell_type": "markdown",
   "id": "5450377f",
   "metadata": {},
   "source": [
    "Uma possivel analise desta variavel e sua importancia para o recall, é que um maior numero de positivos para covid para os negativos em pregnancy, por isso retirar esta variavel diminui o recall e aumenta razoavelmente as outras métricas"
   ]
  },
  {
   "cell_type": "markdown",
   "id": "8637efde",
   "metadata": {},
   "source": [
    "Vamos realizar o teste dataset com os duplicados com o modelo 1"
   ]
  },
  {
   "cell_type": "code",
   "execution_count": 219,
   "id": "26362c2f",
   "metadata": {},
   "outputs": [
    {
     "name": "stdout",
     "output_type": "stream",
     "text": [
      "(495391, 18) (495391,)\n"
     ]
    }
   ],
   "source": [
    "X_test = df_covid_sem_out.drop('covid_res', axis = 1)\n",
    "y_test = df_covid_sem_out['covid_res']\n",
    "print(X_test.shape, y_test.shape)"
   ]
  },
  {
   "cell_type": "code",
   "execution_count": 181,
   "id": "142e47f7",
   "metadata": {},
   "outputs": [
    {
     "data": {
      "text/plain": [
       "RandomForestClassifier(criterion='entropy', max_depth=3, random_state=12)"
      ]
     },
     "execution_count": 181,
     "metadata": {},
     "output_type": "execute_result"
    }
   ],
   "source": [
    "\n",
    "modelo_rf.fit(X_train, y_train)"
   ]
  },
  {
   "cell_type": "code",
   "execution_count": 182,
   "id": "f954b2d3",
   "metadata": {},
   "outputs": [
    {
     "name": "stdout",
     "output_type": "stream",
     "text": [
      "(495391,) (495391,)\n"
     ]
    }
   ],
   "source": [
    "y_test_pred = modelo_rf.predict(X_test)\n",
    "print(y_test.shape, y_test_pred.shape)"
   ]
  },
  {
   "cell_type": "code",
   "execution_count": 183,
   "id": "52640b9f",
   "metadata": {},
   "outputs": [
    {
     "data": {
      "image/png": "[encoded data removed]",
      "text/plain": [
       "<Figure size 432x288 with 1 Axes>"
      ]
     },
     "metadata": {
      "needs_background": "light"
     },
     "output_type": "display_data"
    }
   ],
   "source": [
    "matriz_conf(y_test, y_test_pred)"
   ]
  },
  {
   "cell_type": "code",
   "execution_count": 184,
   "id": "471c3151",
   "metadata": {},
   "outputs": [
    {
     "name": "stdout",
     "output_type": "stream",
     "text": [
      "Treino:\n",
      "Acc: 0.5918, Precision: 0.5924, Recall: 0.7448\n",
      "Teste:\n",
      "Acc: 0.5343, Precision: 0.4836, Recall: 0.8142\n"
     ]
    }
   ],
   "source": [
    "printar_metricas('Treino',y_train, y_train_pred,'Teste',y_test, y_test_pred)"
   ]
  },
  {
   "cell_type": "markdown",
   "id": "ec03b5f0",
   "metadata": {},
   "source": [
    "#### Modelo RandomForest 1 Teste: 81% de recall"
   ]
  },
  {
   "cell_type": "code",
   "execution_count": null,
   "id": "319bf710",
   "metadata": {},
   "outputs": [],
   "source": []
  },
  {
   "cell_type": "code",
   "execution_count": null,
   "id": "f492e131",
   "metadata": {},
   "outputs": [],
   "source": []
  },
  {
   "cell_type": "markdown",
   "id": "32c704f6",
   "metadata": {},
   "source": [
    "## Modelo LGBMClassifier"
   ]
  },
  {
   "cell_type": "code",
   "execution_count": 104,
   "id": "cecdb96a",
   "metadata": {},
   "outputs": [],
   "source": [
    "from lightgbm import LGBMClassifier"
   ]
  },
  {
   "cell_type": "code",
   "execution_count": 105,
   "id": "c8cca7ae",
   "metadata": {},
   "outputs": [
    {
     "name": "stdout",
     "output_type": "stream",
     "text": [
      "(43999, 18) (43999,)\n",
      "(18857, 18) (18857,)\n"
     ]
    }
   ],
   "source": [
    "# verificando os shapes\n",
    "print(X_train.shape, y_train.shape)\n",
    "print(X_valid.shape, y_valid.shape)"
   ]
  },
  {
   "cell_type": "code",
   "execution_count": 106,
   "id": "355e6ea8",
   "metadata": {},
   "outputs": [
    {
     "name": "stdout",
     "output_type": "stream",
     "text": [
      "Fitting 3 folds for each of 144 candidates, totalling 432 fits\n",
      "[CV 1/3] END importance_type=gain, is_unbalance=True, learning_rate=0.01, max_depth=3, n_estimators=50; total time=   0.3s\n",
      "[CV 2/3] END importance_type=gain, is_unbalance=True, learning_rate=0.01, max_depth=3, n_estimators=50; total time=   0.2s\n",
      "[CV 3/3] END importance_type=gain, is_unbalance=True, learning_rate=0.01, max_depth=3, n_estimators=50; total time=   0.2s\n",
      "[CV 1/3] END importance_type=gain, is_unbalance=True, learning_rate=0.01, max_depth=3, n_estimators=100; total time=   0.3s\n",
      "[CV 2/3] END importance_type=gain, is_unbalance=True, learning_rate=0.01, max_depth=3, n_estimators=100; total time=   0.3s\n",
      "[CV 3/3] END importance_type=gain, is_unbalance=True, learning_rate=0.01, max_depth=3, n_estimators=100; total time=   0.3s\n",
      "[CV 1/3] END importance_type=gain, is_unbalance=True, learning_rate=0.01, max_depth=3, n_estimators=500; total time=   1.4s\n",
      "[CV 2/3] END importance_type=gain, is_unbalance=True, learning_rate=0.01, max_depth=3, n_estimators=500; total time=   1.6s\n",
      "[CV 3/3] END importance_type=gain, is_unbalance=True, learning_rate=0.01, max_depth=3, n_estimators=500; total time=   1.5s\n",
      "[CV 1/3] END importance_type=gain, is_unbalance=True, learning_rate=0.01, max_depth=5, n_estimators=50; total time=   0.2s\n",
      "[CV 2/3] END importance_type=gain, is_unbalance=True, learning_rate=0.01, max_depth=5, n_estimators=50; total time=   0.2s\n",
      "[CV 3/3] END importance_type=gain, is_unbalance=True, learning_rate=0.01, max_depth=5, n_estimators=50; total time=   0.3s\n",
      "[CV 1/3] END importance_type=gain, is_unbalance=True, learning_rate=0.01, max_depth=5, n_estimators=100; total time=   0.5s\n",
      "[CV 2/3] END importance_type=gain, is_unbalance=True, learning_rate=0.01, max_depth=5, n_estimators=100; total time=   0.5s\n",
      "[CV 3/3] END importance_type=gain, is_unbalance=True, learning_rate=0.01, max_depth=5, n_estimators=100; total time=   0.5s\n",
      "[CV 1/3] END importance_type=gain, is_unbalance=True, learning_rate=0.01, max_depth=5, n_estimators=500; total time=   2.4s\n",
      "[CV 2/3] END importance_type=gain, is_unbalance=True, learning_rate=0.01, max_depth=5, n_estimators=500; total time=   2.3s\n",
      "[CV 3/3] END importance_type=gain, is_unbalance=True, learning_rate=0.01, max_depth=5, n_estimators=500; total time=   2.4s\n",
      "[CV 1/3] END importance_type=gain, is_unbalance=True, learning_rate=0.01, max_depth=10, n_estimators=50; total time=   0.4s\n",
      "[CV 2/3] END importance_type=gain, is_unbalance=True, learning_rate=0.01, max_depth=10, n_estimators=50; total time=   0.3s\n",
      "[CV 3/3] END importance_type=gain, is_unbalance=True, learning_rate=0.01, max_depth=10, n_estimators=50; total time=   0.4s\n",
      "[CV 1/3] END importance_type=gain, is_unbalance=True, learning_rate=0.01, max_depth=10, n_estimators=100; total time=   0.6s\n",
      "[CV 2/3] END importance_type=gain, is_unbalance=True, learning_rate=0.01, max_depth=10, n_estimators=100; total time=   0.6s\n",
      "[CV 3/3] END importance_type=gain, is_unbalance=True, learning_rate=0.01, max_depth=10, n_estimators=100; total time=   0.7s\n",
      "[CV 1/3] END importance_type=gain, is_unbalance=True, learning_rate=0.01, max_depth=10, n_estimators=500; total time=   2.9s\n",
      "[CV 2/3] END importance_type=gain, is_unbalance=True, learning_rate=0.01, max_depth=10, n_estimators=500; total time=   2.8s\n",
      "[CV 3/3] END importance_type=gain, is_unbalance=True, learning_rate=0.01, max_depth=10, n_estimators=500; total time=   2.8s\n",
      "[CV 1/3] END importance_type=gain, is_unbalance=True, learning_rate=0.1, max_depth=3, n_estimators=50; total time=   0.2s\n",
      "[CV 2/3] END importance_type=gain, is_unbalance=True, learning_rate=0.1, max_depth=3, n_estimators=50; total time=   0.2s\n",
      "[CV 3/3] END importance_type=gain, is_unbalance=True, learning_rate=0.1, max_depth=3, n_estimators=50; total time=   0.2s\n",
      "[CV 1/3] END importance_type=gain, is_unbalance=True, learning_rate=0.1, max_depth=3, n_estimators=100; total time=   0.3s\n",
      "[CV 2/3] END importance_type=gain, is_unbalance=True, learning_rate=0.1, max_depth=3, n_estimators=100; total time=   0.4s\n",
      "[CV 3/3] END importance_type=gain, is_unbalance=True, learning_rate=0.1, max_depth=3, n_estimators=100; total time=   0.3s\n",
      "[CV 1/3] END importance_type=gain, is_unbalance=True, learning_rate=0.1, max_depth=3, n_estimators=500; total time=   1.4s\n",
      "[CV 2/3] END importance_type=gain, is_unbalance=True, learning_rate=0.1, max_depth=3, n_estimators=500; total time=   1.4s\n",
      "[CV 3/3] END importance_type=gain, is_unbalance=True, learning_rate=0.1, max_depth=3, n_estimators=500; total time=   1.4s\n",
      "[CV 1/3] END importance_type=gain, is_unbalance=True, learning_rate=0.1, max_depth=5, n_estimators=50; total time=   0.4s\n",
      "[CV 2/3] END importance_type=gain, is_unbalance=True, learning_rate=0.1, max_depth=5, n_estimators=50; total time=   0.3s\n",
      "[CV 3/3] END importance_type=gain, is_unbalance=True, learning_rate=0.1, max_depth=5, n_estimators=50; total time=   0.4s\n",
      "[CV 1/3] END importance_type=gain, is_unbalance=True, learning_rate=0.1, max_depth=5, n_estimators=100; total time=   0.6s\n",
      "[CV 2/3] END importance_type=gain, is_unbalance=True, learning_rate=0.1, max_depth=5, n_estimators=100; total time=   0.5s\n",
      "[CV 3/3] END importance_type=gain, is_unbalance=True, learning_rate=0.1, max_depth=5, n_estimators=100; total time=   0.5s\n",
      "[CV 1/3] END importance_type=gain, is_unbalance=True, learning_rate=0.1, max_depth=5, n_estimators=500; total time=   2.2s\n",
      "[CV 2/3] END importance_type=gain, is_unbalance=True, learning_rate=0.1, max_depth=5, n_estimators=500; total time=   2.3s\n",
      "[CV 3/3] END importance_type=gain, is_unbalance=True, learning_rate=0.1, max_depth=5, n_estimators=500; total time=   2.3s\n",
      "[CV 1/3] END importance_type=gain, is_unbalance=True, learning_rate=0.1, max_depth=10, n_estimators=50; total time=   0.3s\n",
      "[CV 2/3] END importance_type=gain, is_unbalance=True, learning_rate=0.1, max_depth=10, n_estimators=50; total time=   0.3s\n",
      "[CV 3/3] END importance_type=gain, is_unbalance=True, learning_rate=0.1, max_depth=10, n_estimators=50; total time=   0.3s\n",
      "[CV 1/3] END importance_type=gain, is_unbalance=True, learning_rate=0.1, max_depth=10, n_estimators=100; total time=   0.5s\n",
      "[CV 2/3] END importance_type=gain, is_unbalance=True, learning_rate=0.1, max_depth=10, n_estimators=100; total time=   0.5s\n",
      "[CV 3/3] END importance_type=gain, is_unbalance=True, learning_rate=0.1, max_depth=10, n_estimators=100; total time=   0.5s\n",
      "[CV 1/3] END importance_type=gain, is_unbalance=True, learning_rate=0.1, max_depth=10, n_estimators=500; total time=   2.2s\n",
      "[CV 2/3] END importance_type=gain, is_unbalance=True, learning_rate=0.1, max_depth=10, n_estimators=500; total time=   2.4s\n",
      "[CV 3/3] END importance_type=gain, is_unbalance=True, learning_rate=0.1, max_depth=10, n_estimators=500; total time=   2.2s\n",
      "[CV 1/3] END importance_type=gain, is_unbalance=True, learning_rate=0.5, max_depth=3, n_estimators=50; total time=   0.2s\n",
      "[CV 2/3] END importance_type=gain, is_unbalance=True, learning_rate=0.5, max_depth=3, n_estimators=50; total time=   0.2s\n",
      "[CV 3/3] END importance_type=gain, is_unbalance=True, learning_rate=0.5, max_depth=3, n_estimators=50; total time=   0.2s\n",
      "[CV 1/3] END importance_type=gain, is_unbalance=True, learning_rate=0.5, max_depth=3, n_estimators=100; total time=   0.3s\n",
      "[CV 2/3] END importance_type=gain, is_unbalance=True, learning_rate=0.5, max_depth=3, n_estimators=100; total time=   0.3s\n",
      "[CV 3/3] END importance_type=gain, is_unbalance=True, learning_rate=0.5, max_depth=3, n_estimators=100; total time=   0.3s\n",
      "[CV 1/3] END importance_type=gain, is_unbalance=True, learning_rate=0.5, max_depth=3, n_estimators=500; total time=   1.4s\n",
      "[CV 2/3] END importance_type=gain, is_unbalance=True, learning_rate=0.5, max_depth=3, n_estimators=500; total time=   1.4s\n",
      "[CV 3/3] END importance_type=gain, is_unbalance=True, learning_rate=0.5, max_depth=3, n_estimators=500; total time=   1.4s\n",
      "[CV 1/3] END importance_type=gain, is_unbalance=True, learning_rate=0.5, max_depth=5, n_estimators=50; total time=   0.2s\n",
      "[CV 2/3] END importance_type=gain, is_unbalance=True, learning_rate=0.5, max_depth=5, n_estimators=50; total time=   0.3s\n",
      "[CV 3/3] END importance_type=gain, is_unbalance=True, learning_rate=0.5, max_depth=5, n_estimators=50; total time=   0.3s\n"
     ]
    },
    {
     "name": "stdout",
     "output_type": "stream",
     "text": [
      "[CV 1/3] END importance_type=gain, is_unbalance=True, learning_rate=0.5, max_depth=5, n_estimators=100; total time=   0.5s\n",
      "[CV 2/3] END importance_type=gain, is_unbalance=True, learning_rate=0.5, max_depth=5, n_estimators=100; total time=   0.5s\n",
      "[CV 3/3] END importance_type=gain, is_unbalance=True, learning_rate=0.5, max_depth=5, n_estimators=100; total time=   0.5s\n",
      "[CV 1/3] END importance_type=gain, is_unbalance=True, learning_rate=0.5, max_depth=5, n_estimators=500; total time=   2.4s\n",
      "[CV 2/3] END importance_type=gain, is_unbalance=True, learning_rate=0.5, max_depth=5, n_estimators=500; total time=   2.4s\n",
      "[CV 3/3] END importance_type=gain, is_unbalance=True, learning_rate=0.5, max_depth=5, n_estimators=500; total time=   2.3s\n",
      "[CV 1/3] END importance_type=gain, is_unbalance=True, learning_rate=0.5, max_depth=10, n_estimators=50; total time=   0.3s\n",
      "[CV 2/3] END importance_type=gain, is_unbalance=True, learning_rate=0.5, max_depth=10, n_estimators=50; total time=   0.3s\n",
      "[CV 3/3] END importance_type=gain, is_unbalance=True, learning_rate=0.5, max_depth=10, n_estimators=50; total time=   0.3s\n",
      "[CV 1/3] END importance_type=gain, is_unbalance=True, learning_rate=0.5, max_depth=10, n_estimators=100; total time=   0.5s\n",
      "[CV 2/3] END importance_type=gain, is_unbalance=True, learning_rate=0.5, max_depth=10, n_estimators=100; total time=   0.5s\n",
      "[CV 3/3] END importance_type=gain, is_unbalance=True, learning_rate=0.5, max_depth=10, n_estimators=100; total time=   0.5s\n",
      "[CV 1/3] END importance_type=gain, is_unbalance=True, learning_rate=0.5, max_depth=10, n_estimators=500; total time=   2.1s\n",
      "[CV 2/3] END importance_type=gain, is_unbalance=True, learning_rate=0.5, max_depth=10, n_estimators=500; total time=   2.1s\n",
      "[CV 3/3] END importance_type=gain, is_unbalance=True, learning_rate=0.5, max_depth=10, n_estimators=500; total time=   2.0s\n",
      "[CV 1/3] END importance_type=gain, is_unbalance=True, learning_rate=1, max_depth=3, n_estimators=50; total time=   0.2s\n",
      "[CV 2/3] END importance_type=gain, is_unbalance=True, learning_rate=1, max_depth=3, n_estimators=50; total time=   0.2s\n",
      "[CV 3/3] END importance_type=gain, is_unbalance=True, learning_rate=1, max_depth=3, n_estimators=50; total time=   0.2s\n",
      "[CV 1/3] END importance_type=gain, is_unbalance=True, learning_rate=1, max_depth=3, n_estimators=100; total time=   0.3s\n",
      "[CV 2/3] END importance_type=gain, is_unbalance=True, learning_rate=1, max_depth=3, n_estimators=100; total time=   0.4s\n",
      "[CV 3/3] END importance_type=gain, is_unbalance=True, learning_rate=1, max_depth=3, n_estimators=100; total time=   0.4s\n",
      "[CV 1/3] END importance_type=gain, is_unbalance=True, learning_rate=1, max_depth=3, n_estimators=500; total time=   1.6s\n",
      "[CV 2/3] END importance_type=gain, is_unbalance=True, learning_rate=1, max_depth=3, n_estimators=500; total time=   1.5s\n",
      "[CV 3/3] END importance_type=gain, is_unbalance=True, learning_rate=1, max_depth=3, n_estimators=500; total time=   1.5s\n",
      "[CV 1/3] END importance_type=gain, is_unbalance=True, learning_rate=1, max_depth=5, n_estimators=50; total time=   0.3s\n",
      "[CV 2/3] END importance_type=gain, is_unbalance=True, learning_rate=1, max_depth=5, n_estimators=50; total time=   0.3s\n",
      "[CV 3/3] END importance_type=gain, is_unbalance=True, learning_rate=1, max_depth=5, n_estimators=50; total time=   0.3s\n",
      "[CV 1/3] END importance_type=gain, is_unbalance=True, learning_rate=1, max_depth=5, n_estimators=100; total time=   0.5s\n",
      "[CV 2/3] END importance_type=gain, is_unbalance=True, learning_rate=1, max_depth=5, n_estimators=100; total time=   0.5s\n",
      "[CV 3/3] END importance_type=gain, is_unbalance=True, learning_rate=1, max_depth=5, n_estimators=100; total time=   0.5s\n",
      "[CV 1/3] END importance_type=gain, is_unbalance=True, learning_rate=1, max_depth=5, n_estimators=500; total time=   2.3s\n",
      "[CV 2/3] END importance_type=gain, is_unbalance=True, learning_rate=1, max_depth=5, n_estimators=500; total time=   2.3s\n",
      "[CV 3/3] END importance_type=gain, is_unbalance=True, learning_rate=1, max_depth=5, n_estimators=500; total time=   2.5s\n",
      "[CV 1/3] END importance_type=gain, is_unbalance=True, learning_rate=1, max_depth=10, n_estimators=50; total time=   0.3s\n",
      "[CV 2/3] END importance_type=gain, is_unbalance=True, learning_rate=1, max_depth=10, n_estimators=50; total time=   0.3s\n",
      "[CV 3/3] END importance_type=gain, is_unbalance=True, learning_rate=1, max_depth=10, n_estimators=50; total time=   0.3s\n",
      "[CV 1/3] END importance_type=gain, is_unbalance=True, learning_rate=1, max_depth=10, n_estimators=100; total time=   0.5s\n",
      "[CV 2/3] END importance_type=gain, is_unbalance=True, learning_rate=1, max_depth=10, n_estimators=100; total time=   0.5s\n",
      "[CV 3/3] END importance_type=gain, is_unbalance=True, learning_rate=1, max_depth=10, n_estimators=100; total time=   0.4s\n",
      "[CV 1/3] END importance_type=gain, is_unbalance=True, learning_rate=1, max_depth=10, n_estimators=500; total time=   2.2s\n",
      "[CV 2/3] END importance_type=gain, is_unbalance=True, learning_rate=1, max_depth=10, n_estimators=500; total time=   2.2s\n",
      "[CV 3/3] END importance_type=gain, is_unbalance=True, learning_rate=1, max_depth=10, n_estimators=500; total time=   2.2s\n",
      "[CV 1/3] END importance_type=gain, is_unbalance=False, learning_rate=0.01, max_depth=3, n_estimators=50; total time=   0.2s\n",
      "[CV 2/3] END importance_type=gain, is_unbalance=False, learning_rate=0.01, max_depth=3, n_estimators=50; total time=   0.2s\n",
      "[CV 3/3] END importance_type=gain, is_unbalance=False, learning_rate=0.01, max_depth=3, n_estimators=50; total time=   0.2s\n",
      "[CV 1/3] END importance_type=gain, is_unbalance=False, learning_rate=0.01, max_depth=3, n_estimators=100; total time=   0.3s\n",
      "[CV 2/3] END importance_type=gain, is_unbalance=False, learning_rate=0.01, max_depth=3, n_estimators=100; total time=   0.3s\n",
      "[CV 3/3] END importance_type=gain, is_unbalance=False, learning_rate=0.01, max_depth=3, n_estimators=100; total time=   0.3s\n",
      "[CV 1/3] END importance_type=gain, is_unbalance=False, learning_rate=0.01, max_depth=3, n_estimators=500; total time=   1.4s\n",
      "[CV 2/3] END importance_type=gain, is_unbalance=False, learning_rate=0.01, max_depth=3, n_estimators=500; total time=   1.4s\n",
      "[CV 3/3] END importance_type=gain, is_unbalance=False, learning_rate=0.01, max_depth=3, n_estimators=500; total time=   1.7s\n",
      "[CV 1/3] END importance_type=gain, is_unbalance=False, learning_rate=0.01, max_depth=5, n_estimators=50; total time=   0.3s\n",
      "[CV 2/3] END importance_type=gain, is_unbalance=False, learning_rate=0.01, max_depth=5, n_estimators=50; total time=   0.3s\n",
      "[CV 3/3] END importance_type=gain, is_unbalance=False, learning_rate=0.01, max_depth=5, n_estimators=50; total time=   0.3s\n",
      "[CV 1/3] END importance_type=gain, is_unbalance=False, learning_rate=0.01, max_depth=5, n_estimators=100; total time=   0.5s\n",
      "[CV 2/3] END importance_type=gain, is_unbalance=False, learning_rate=0.01, max_depth=5, n_estimators=100; total time=   0.5s\n",
      "[CV 3/3] END importance_type=gain, is_unbalance=False, learning_rate=0.01, max_depth=5, n_estimators=100; total time=   0.5s\n",
      "[CV 1/3] END importance_type=gain, is_unbalance=False, learning_rate=0.01, max_depth=5, n_estimators=500; total time=   2.4s\n",
      "[CV 2/3] END importance_type=gain, is_unbalance=False, learning_rate=0.01, max_depth=5, n_estimators=500; total time=   2.4s\n",
      "[CV 3/3] END importance_type=gain, is_unbalance=False, learning_rate=0.01, max_depth=5, n_estimators=500; total time=   3.0s\n",
      "[CV 1/3] END importance_type=gain, is_unbalance=False, learning_rate=0.01, max_depth=10, n_estimators=50; total time=   0.8s\n",
      "[CV 2/3] END importance_type=gain, is_unbalance=False, learning_rate=0.01, max_depth=10, n_estimators=50; total time=   1.3s\n",
      "[CV 3/3] END importance_type=gain, is_unbalance=False, learning_rate=0.01, max_depth=10, n_estimators=50; total time=   0.9s\n",
      "[CV 1/3] END importance_type=gain, is_unbalance=False, learning_rate=0.01, max_depth=10, n_estimators=100; total time=   1.1s\n",
      "[CV 2/3] END importance_type=gain, is_unbalance=False, learning_rate=0.01, max_depth=10, n_estimators=100; total time=   1.4s\n",
      "[CV 3/3] END importance_type=gain, is_unbalance=False, learning_rate=0.01, max_depth=10, n_estimators=100; total time=   1.0s\n",
      "[CV 1/3] END importance_type=gain, is_unbalance=False, learning_rate=0.01, max_depth=10, n_estimators=500; total time=   2.8s\n"
     ]
    },
    {
     "name": "stdout",
     "output_type": "stream",
     "text": [
      "[CV 2/3] END importance_type=gain, is_unbalance=False, learning_rate=0.01, max_depth=10, n_estimators=500; total time=   2.8s\n",
      "[CV 3/3] END importance_type=gain, is_unbalance=False, learning_rate=0.01, max_depth=10, n_estimators=500; total time=   2.8s\n",
      "[CV 1/3] END importance_type=gain, is_unbalance=False, learning_rate=0.1, max_depth=3, n_estimators=50; total time=   0.2s\n",
      "[CV 2/3] END importance_type=gain, is_unbalance=False, learning_rate=0.1, max_depth=3, n_estimators=50; total time=   0.2s\n",
      "[CV 3/3] END importance_type=gain, is_unbalance=False, learning_rate=0.1, max_depth=3, n_estimators=50; total time=   0.2s\n",
      "[CV 1/3] END importance_type=gain, is_unbalance=False, learning_rate=0.1, max_depth=3, n_estimators=100; total time=   0.3s\n",
      "[CV 2/3] END importance_type=gain, is_unbalance=False, learning_rate=0.1, max_depth=3, n_estimators=100; total time=   0.3s\n",
      "[CV 3/3] END importance_type=gain, is_unbalance=False, learning_rate=0.1, max_depth=3, n_estimators=100; total time=   0.3s\n",
      "[CV 1/3] END importance_type=gain, is_unbalance=False, learning_rate=0.1, max_depth=3, n_estimators=500; total time=   1.4s\n",
      "[CV 2/3] END importance_type=gain, is_unbalance=False, learning_rate=0.1, max_depth=3, n_estimators=500; total time=   1.6s\n",
      "[CV 3/3] END importance_type=gain, is_unbalance=False, learning_rate=0.1, max_depth=3, n_estimators=500; total time=   1.4s\n",
      "[CV 1/3] END importance_type=gain, is_unbalance=False, learning_rate=0.1, max_depth=5, n_estimators=50; total time=   0.3s\n",
      "[CV 2/3] END importance_type=gain, is_unbalance=False, learning_rate=0.1, max_depth=5, n_estimators=50; total time=   0.3s\n",
      "[CV 3/3] END importance_type=gain, is_unbalance=False, learning_rate=0.1, max_depth=5, n_estimators=50; total time=   0.3s\n",
      "[CV 1/3] END importance_type=gain, is_unbalance=False, learning_rate=0.1, max_depth=5, n_estimators=100; total time=   0.5s\n",
      "[CV 2/3] END importance_type=gain, is_unbalance=False, learning_rate=0.1, max_depth=5, n_estimators=100; total time=   0.5s\n",
      "[CV 3/3] END importance_type=gain, is_unbalance=False, learning_rate=0.1, max_depth=5, n_estimators=100; total time=   0.5s\n",
      "[CV 1/3] END importance_type=gain, is_unbalance=False, learning_rate=0.1, max_depth=5, n_estimators=500; total time=   2.2s\n",
      "[CV 2/3] END importance_type=gain, is_unbalance=False, learning_rate=0.1, max_depth=5, n_estimators=500; total time=   2.2s\n",
      "[CV 3/3] END importance_type=gain, is_unbalance=False, learning_rate=0.1, max_depth=5, n_estimators=500; total time=   2.2s\n",
      "[CV 1/3] END importance_type=gain, is_unbalance=False, learning_rate=0.1, max_depth=10, n_estimators=50; total time=   0.3s\n",
      "[CV 2/3] END importance_type=gain, is_unbalance=False, learning_rate=0.1, max_depth=10, n_estimators=50; total time=   0.4s\n",
      "[CV 3/3] END importance_type=gain, is_unbalance=False, learning_rate=0.1, max_depth=10, n_estimators=50; total time=   0.3s\n",
      "[CV 1/3] END importance_type=gain, is_unbalance=False, learning_rate=0.1, max_depth=10, n_estimators=100; total time=   0.5s\n",
      "[CV 2/3] END importance_type=gain, is_unbalance=False, learning_rate=0.1, max_depth=10, n_estimators=100; total time=   0.5s\n",
      "[CV 3/3] END importance_type=gain, is_unbalance=False, learning_rate=0.1, max_depth=10, n_estimators=100; total time=   0.5s\n",
      "[CV 1/3] END importance_type=gain, is_unbalance=False, learning_rate=0.1, max_depth=10, n_estimators=500; total time=   2.3s\n",
      "[CV 2/3] END importance_type=gain, is_unbalance=False, learning_rate=0.1, max_depth=10, n_estimators=500; total time=   2.2s\n",
      "[CV 3/3] END importance_type=gain, is_unbalance=False, learning_rate=0.1, max_depth=10, n_estimators=500; total time=   2.2s\n",
      "[CV 1/3] END importance_type=gain, is_unbalance=False, learning_rate=0.5, max_depth=3, n_estimators=50; total time=   0.2s\n",
      "[CV 2/3] END importance_type=gain, is_unbalance=False, learning_rate=0.5, max_depth=3, n_estimators=50; total time=   0.2s\n",
      "[CV 3/3] END importance_type=gain, is_unbalance=False, learning_rate=0.5, max_depth=3, n_estimators=50; total time=   0.2s\n",
      "[CV 1/3] END importance_type=gain, is_unbalance=False, learning_rate=0.5, max_depth=3, n_estimators=100; total time=   0.3s\n",
      "[CV 2/3] END importance_type=gain, is_unbalance=False, learning_rate=0.5, max_depth=3, n_estimators=100; total time=   0.3s\n",
      "[CV 3/3] END importance_type=gain, is_unbalance=False, learning_rate=0.5, max_depth=3, n_estimators=100; total time=   0.3s\n",
      "[CV 1/3] END importance_type=gain, is_unbalance=False, learning_rate=0.5, max_depth=3, n_estimators=500; total time=   1.4s\n",
      "[CV 2/3] END importance_type=gain, is_unbalance=False, learning_rate=0.5, max_depth=3, n_estimators=500; total time=   1.4s\n",
      "[CV 3/3] END importance_type=gain, is_unbalance=False, learning_rate=0.5, max_depth=3, n_estimators=500; total time=   1.4s\n",
      "[CV 1/3] END importance_type=gain, is_unbalance=False, learning_rate=0.5, max_depth=5, n_estimators=50; total time=   0.3s\n",
      "[CV 2/3] END importance_type=gain, is_unbalance=False, learning_rate=0.5, max_depth=5, n_estimators=50; total time=   0.3s\n",
      "[CV 3/3] END importance_type=gain, is_unbalance=False, learning_rate=0.5, max_depth=5, n_estimators=50; total time=   0.3s\n",
      "[CV 1/3] END importance_type=gain, is_unbalance=False, learning_rate=0.5, max_depth=5, n_estimators=100; total time=   0.5s\n",
      "[CV 2/3] END importance_type=gain, is_unbalance=False, learning_rate=0.5, max_depth=5, n_estimators=100; total time=   0.5s\n",
      "[CV 3/3] END importance_type=gain, is_unbalance=False, learning_rate=0.5, max_depth=5, n_estimators=100; total time=   0.6s\n",
      "[CV 1/3] END importance_type=gain, is_unbalance=False, learning_rate=0.5, max_depth=5, n_estimators=500; total time=   2.4s\n",
      "[CV 2/3] END importance_type=gain, is_unbalance=False, learning_rate=0.5, max_depth=5, n_estimators=500; total time=   2.3s\n",
      "[CV 3/3] END importance_type=gain, is_unbalance=False, learning_rate=0.5, max_depth=5, n_estimators=500; total time=   2.3s\n",
      "[CV 1/3] END importance_type=gain, is_unbalance=False, learning_rate=0.5, max_depth=10, n_estimators=50; total time=   0.3s\n",
      "[CV 2/3] END importance_type=gain, is_unbalance=False, learning_rate=0.5, max_depth=10, n_estimators=50; total time=   0.3s\n",
      "[CV 3/3] END importance_type=gain, is_unbalance=False, learning_rate=0.5, max_depth=10, n_estimators=50; total time=   0.3s\n",
      "[CV 1/3] END importance_type=gain, is_unbalance=False, learning_rate=0.5, max_depth=10, n_estimators=100; total time=   0.5s\n",
      "[CV 2/3] END importance_type=gain, is_unbalance=False, learning_rate=0.5, max_depth=10, n_estimators=100; total time=   0.4s\n",
      "[CV 3/3] END importance_type=gain, is_unbalance=False, learning_rate=0.5, max_depth=10, n_estimators=100; total time=   0.5s\n",
      "[CV 1/3] END importance_type=gain, is_unbalance=False, learning_rate=0.5, max_depth=10, n_estimators=500; total time=   2.1s\n",
      "[CV 2/3] END importance_type=gain, is_unbalance=False, learning_rate=0.5, max_depth=10, n_estimators=500; total time=   2.1s\n",
      "[CV 3/3] END importance_type=gain, is_unbalance=False, learning_rate=0.5, max_depth=10, n_estimators=500; total time=   2.4s\n",
      "[CV 1/3] END importance_type=gain, is_unbalance=False, learning_rate=1, max_depth=3, n_estimators=50; total time=   0.2s\n",
      "[CV 2/3] END importance_type=gain, is_unbalance=False, learning_rate=1, max_depth=3, n_estimators=50; total time=   0.2s\n",
      "[CV 3/3] END importance_type=gain, is_unbalance=False, learning_rate=1, max_depth=3, n_estimators=50; total time=   0.2s\n",
      "[CV 1/3] END importance_type=gain, is_unbalance=False, learning_rate=1, max_depth=3, n_estimators=100; total time=   0.3s\n",
      "[CV 2/3] END importance_type=gain, is_unbalance=False, learning_rate=1, max_depth=3, n_estimators=100; total time=   0.3s\n",
      "[CV 3/3] END importance_type=gain, is_unbalance=False, learning_rate=1, max_depth=3, n_estimators=100; total time=   0.3s\n",
      "[CV 1/3] END importance_type=gain, is_unbalance=False, learning_rate=1, max_depth=3, n_estimators=500; total time=   1.4s\n",
      "[CV 2/3] END importance_type=gain, is_unbalance=False, learning_rate=1, max_depth=3, n_estimators=500; total time=   1.4s\n",
      "[CV 3/3] END importance_type=gain, is_unbalance=False, learning_rate=1, max_depth=3, n_estimators=500; total time=   1.4s\n",
      "[CV 1/3] END importance_type=gain, is_unbalance=False, learning_rate=1, max_depth=5, n_estimators=50; total time=   0.3s\n",
      "[CV 2/3] END importance_type=gain, is_unbalance=False, learning_rate=1, max_depth=5, n_estimators=50; total time=   0.3s\n"
     ]
    },
    {
     "name": "stdout",
     "output_type": "stream",
     "text": [
      "[CV 3/3] END importance_type=gain, is_unbalance=False, learning_rate=1, max_depth=5, n_estimators=50; total time=   0.3s\n",
      "[CV 1/3] END importance_type=gain, is_unbalance=False, learning_rate=1, max_depth=5, n_estimators=100; total time=   0.5s\n",
      "[CV 2/3] END importance_type=gain, is_unbalance=False, learning_rate=1, max_depth=5, n_estimators=100; total time=   0.5s\n",
      "[CV 3/3] END importance_type=gain, is_unbalance=False, learning_rate=1, max_depth=5, n_estimators=100; total time=   0.5s\n",
      "[CV 1/3] END importance_type=gain, is_unbalance=False, learning_rate=1, max_depth=5, n_estimators=500; total time=   2.3s\n",
      "[CV 2/3] END importance_type=gain, is_unbalance=False, learning_rate=1, max_depth=5, n_estimators=500; total time=   2.4s\n",
      "[CV 3/3] END importance_type=gain, is_unbalance=False, learning_rate=1, max_depth=5, n_estimators=500; total time=   2.5s\n",
      "[CV 1/3] END importance_type=gain, is_unbalance=False, learning_rate=1, max_depth=10, n_estimators=50; total time=   0.3s\n",
      "[CV 2/3] END importance_type=gain, is_unbalance=False, learning_rate=1, max_depth=10, n_estimators=50; total time=   0.3s\n",
      "[CV 3/3] END importance_type=gain, is_unbalance=False, learning_rate=1, max_depth=10, n_estimators=50; total time=   0.3s\n",
      "[CV 1/3] END importance_type=gain, is_unbalance=False, learning_rate=1, max_depth=10, n_estimators=100; total time=   0.5s\n",
      "[CV 2/3] END importance_type=gain, is_unbalance=False, learning_rate=1, max_depth=10, n_estimators=100; total time=   0.5s\n",
      "[CV 3/3] END importance_type=gain, is_unbalance=False, learning_rate=1, max_depth=10, n_estimators=100; total time=   0.5s\n",
      "[CV 1/3] END importance_type=gain, is_unbalance=False, learning_rate=1, max_depth=10, n_estimators=500; total time=   2.2s\n",
      "[CV 2/3] END importance_type=gain, is_unbalance=False, learning_rate=1, max_depth=10, n_estimators=500; total time=   2.2s\n",
      "[CV 3/3] END importance_type=gain, is_unbalance=False, learning_rate=1, max_depth=10, n_estimators=500; total time=   2.2s\n",
      "[CV 1/3] END importance_type=split, is_unbalance=True, learning_rate=0.01, max_depth=3, n_estimators=50; total time=   0.2s\n",
      "[CV 2/3] END importance_type=split, is_unbalance=True, learning_rate=0.01, max_depth=3, n_estimators=50; total time=   0.2s\n",
      "[CV 3/3] END importance_type=split, is_unbalance=True, learning_rate=0.01, max_depth=3, n_estimators=50; total time=   0.2s\n",
      "[CV 1/3] END importance_type=split, is_unbalance=True, learning_rate=0.01, max_depth=3, n_estimators=100; total time=   0.3s\n",
      "[CV 2/3] END importance_type=split, is_unbalance=True, learning_rate=0.01, max_depth=3, n_estimators=100; total time=   0.3s\n",
      "[CV 3/3] END importance_type=split, is_unbalance=True, learning_rate=0.01, max_depth=3, n_estimators=100; total time=   0.3s\n",
      "[CV 1/3] END importance_type=split, is_unbalance=True, learning_rate=0.01, max_depth=3, n_estimators=500; total time=   1.4s\n",
      "[CV 2/3] END importance_type=split, is_unbalance=True, learning_rate=0.01, max_depth=3, n_estimators=500; total time=   1.7s\n",
      "[CV 3/3] END importance_type=split, is_unbalance=True, learning_rate=0.01, max_depth=3, n_estimators=500; total time=   1.4s\n",
      "[CV 1/3] END importance_type=split, is_unbalance=True, learning_rate=0.01, max_depth=5, n_estimators=50; total time=   0.2s\n",
      "[CV 2/3] END importance_type=split, is_unbalance=True, learning_rate=0.01, max_depth=5, n_estimators=50; total time=   0.2s\n",
      "[CV 3/3] END importance_type=split, is_unbalance=True, learning_rate=0.01, max_depth=5, n_estimators=50; total time=   0.2s\n",
      "[CV 1/3] END importance_type=split, is_unbalance=True, learning_rate=0.01, max_depth=5, n_estimators=100; total time=   0.5s\n",
      "[CV 2/3] END importance_type=split, is_unbalance=True, learning_rate=0.01, max_depth=5, n_estimators=100; total time=   0.5s\n",
      "[CV 3/3] END importance_type=split, is_unbalance=True, learning_rate=0.01, max_depth=5, n_estimators=100; total time=   0.5s\n",
      "[CV 1/3] END importance_type=split, is_unbalance=True, learning_rate=0.01, max_depth=5, n_estimators=500; total time=   2.4s\n",
      "[CV 2/3] END importance_type=split, is_unbalance=True, learning_rate=0.01, max_depth=5, n_estimators=500; total time=   2.3s\n",
      "[CV 3/3] END importance_type=split, is_unbalance=True, learning_rate=0.01, max_depth=5, n_estimators=500; total time=   2.7s\n",
      "[CV 1/3] END importance_type=split, is_unbalance=True, learning_rate=0.01, max_depth=10, n_estimators=50; total time=   0.4s\n",
      "[CV 2/3] END importance_type=split, is_unbalance=True, learning_rate=0.01, max_depth=10, n_estimators=50; total time=   0.4s\n",
      "[CV 3/3] END importance_type=split, is_unbalance=True, learning_rate=0.01, max_depth=10, n_estimators=50; total time=   0.4s\n",
      "[CV 1/3] END importance_type=split, is_unbalance=True, learning_rate=0.01, max_depth=10, n_estimators=100; total time=   0.7s\n",
      "[CV 2/3] END importance_type=split, is_unbalance=True, learning_rate=0.01, max_depth=10, n_estimators=100; total time=   0.7s\n",
      "[CV 3/3] END importance_type=split, is_unbalance=True, learning_rate=0.01, max_depth=10, n_estimators=100; total time=   0.6s\n",
      "[CV 1/3] END importance_type=split, is_unbalance=True, learning_rate=0.01, max_depth=10, n_estimators=500; total time=   2.9s\n",
      "[CV 2/3] END importance_type=split, is_unbalance=True, learning_rate=0.01, max_depth=10, n_estimators=500; total time=   3.0s\n",
      "[CV 3/3] END importance_type=split, is_unbalance=True, learning_rate=0.01, max_depth=10, n_estimators=500; total time=   2.9s\n",
      "[CV 1/3] END importance_type=split, is_unbalance=True, learning_rate=0.1, max_depth=3, n_estimators=50; total time=   0.2s\n",
      "[CV 2/3] END importance_type=split, is_unbalance=True, learning_rate=0.1, max_depth=3, n_estimators=50; total time=   0.2s\n",
      "[CV 3/3] END importance_type=split, is_unbalance=True, learning_rate=0.1, max_depth=3, n_estimators=50; total time=   0.2s\n",
      "[CV 1/3] END importance_type=split, is_unbalance=True, learning_rate=0.1, max_depth=3, n_estimators=100; total time=   0.3s\n",
      "[CV 2/3] END importance_type=split, is_unbalance=True, learning_rate=0.1, max_depth=3, n_estimators=100; total time=   0.3s\n",
      "[CV 3/3] END importance_type=split, is_unbalance=True, learning_rate=0.1, max_depth=3, n_estimators=100; total time=   0.3s\n",
      "[CV 1/3] END importance_type=split, is_unbalance=True, learning_rate=0.1, max_depth=3, n_estimators=500; total time=   1.4s\n",
      "[CV 2/3] END importance_type=split, is_unbalance=True, learning_rate=0.1, max_depth=3, n_estimators=500; total time=   1.4s\n",
      "[CV 3/3] END importance_type=split, is_unbalance=True, learning_rate=0.1, max_depth=3, n_estimators=500; total time=   1.6s\n",
      "[CV 1/3] END importance_type=split, is_unbalance=True, learning_rate=0.1, max_depth=5, n_estimators=50; total time=   0.3s\n",
      "[CV 2/3] END importance_type=split, is_unbalance=True, learning_rate=0.1, max_depth=5, n_estimators=50; total time=   0.3s\n",
      "[CV 3/3] END importance_type=split, is_unbalance=True, learning_rate=0.1, max_depth=5, n_estimators=50; total time=   0.3s\n",
      "[CV 1/3] END importance_type=split, is_unbalance=True, learning_rate=0.1, max_depth=5, n_estimators=100; total time=   0.5s\n",
      "[CV 2/3] END importance_type=split, is_unbalance=True, learning_rate=0.1, max_depth=5, n_estimators=100; total time=   0.5s\n",
      "[CV 3/3] END importance_type=split, is_unbalance=True, learning_rate=0.1, max_depth=5, n_estimators=100; total time=   0.5s\n",
      "[CV 1/3] END importance_type=split, is_unbalance=True, learning_rate=0.1, max_depth=5, n_estimators=500; total time=   2.2s\n",
      "[CV 2/3] END importance_type=split, is_unbalance=True, learning_rate=0.1, max_depth=5, n_estimators=500; total time=   2.3s\n",
      "[CV 3/3] END importance_type=split, is_unbalance=True, learning_rate=0.1, max_depth=5, n_estimators=500; total time=   2.3s\n",
      "[CV 1/3] END importance_type=split, is_unbalance=True, learning_rate=0.1, max_depth=10, n_estimators=50; total time=   0.3s\n",
      "[CV 2/3] END importance_type=split, is_unbalance=True, learning_rate=0.1, max_depth=10, n_estimators=50; total time=   0.3s\n",
      "[CV 3/3] END importance_type=split, is_unbalance=True, learning_rate=0.1, max_depth=10, n_estimators=50; total time=   0.3s\n",
      "[CV 1/3] END importance_type=split, is_unbalance=True, learning_rate=0.1, max_depth=10, n_estimators=100; total time=   0.5s\n",
      "[CV 2/3] END importance_type=split, is_unbalance=True, learning_rate=0.1, max_depth=10, n_estimators=100; total time=   0.5s\n",
      "[CV 3/3] END importance_type=split, is_unbalance=True, learning_rate=0.1, max_depth=10, n_estimators=100; total time=   0.5s\n"
     ]
    },
    {
     "name": "stdout",
     "output_type": "stream",
     "text": [
      "[CV 1/3] END importance_type=split, is_unbalance=True, learning_rate=0.1, max_depth=10, n_estimators=500; total time=   2.4s\n",
      "[CV 2/3] END importance_type=split, is_unbalance=True, learning_rate=0.1, max_depth=10, n_estimators=500; total time=   2.3s\n",
      "[CV 3/3] END importance_type=split, is_unbalance=True, learning_rate=0.1, max_depth=10, n_estimators=500; total time=   2.2s\n",
      "[CV 1/3] END importance_type=split, is_unbalance=True, learning_rate=0.5, max_depth=3, n_estimators=50; total time=   0.2s\n",
      "[CV 2/3] END importance_type=split, is_unbalance=True, learning_rate=0.5, max_depth=3, n_estimators=50; total time=   0.2s\n",
      "[CV 3/3] END importance_type=split, is_unbalance=True, learning_rate=0.5, max_depth=3, n_estimators=50; total time=   0.2s\n",
      "[CV 1/3] END importance_type=split, is_unbalance=True, learning_rate=0.5, max_depth=3, n_estimators=100; total time=   0.3s\n",
      "[CV 2/3] END importance_type=split, is_unbalance=True, learning_rate=0.5, max_depth=3, n_estimators=100; total time=   0.3s\n",
      "[CV 3/3] END importance_type=split, is_unbalance=True, learning_rate=0.5, max_depth=3, n_estimators=100; total time=   0.3s\n",
      "[CV 1/3] END importance_type=split, is_unbalance=True, learning_rate=0.5, max_depth=3, n_estimators=500; total time=   1.4s\n",
      "[CV 2/3] END importance_type=split, is_unbalance=True, learning_rate=0.5, max_depth=3, n_estimators=500; total time=   1.4s\n",
      "[CV 3/3] END importance_type=split, is_unbalance=True, learning_rate=0.5, max_depth=3, n_estimators=500; total time=   1.4s\n",
      "[CV 1/3] END importance_type=split, is_unbalance=True, learning_rate=0.5, max_depth=5, n_estimators=50; total time=   0.3s\n",
      "[CV 2/3] END importance_type=split, is_unbalance=True, learning_rate=0.5, max_depth=5, n_estimators=50; total time=   0.3s\n",
      "[CV 3/3] END importance_type=split, is_unbalance=True, learning_rate=0.5, max_depth=5, n_estimators=50; total time=   0.3s\n",
      "[CV 1/3] END importance_type=split, is_unbalance=True, learning_rate=0.5, max_depth=5, n_estimators=100; total time=   0.5s\n",
      "[CV 2/3] END importance_type=split, is_unbalance=True, learning_rate=0.5, max_depth=5, n_estimators=100; total time=   0.5s\n",
      "[CV 3/3] END importance_type=split, is_unbalance=True, learning_rate=0.5, max_depth=5, n_estimators=100; total time=   0.5s\n",
      "[CV 1/3] END importance_type=split, is_unbalance=True, learning_rate=0.5, max_depth=5, n_estimators=500; total time=   2.6s\n",
      "[CV 2/3] END importance_type=split, is_unbalance=True, learning_rate=0.5, max_depth=5, n_estimators=500; total time=   2.3s\n",
      "[CV 3/3] END importance_type=split, is_unbalance=True, learning_rate=0.5, max_depth=5, n_estimators=500; total time=   2.3s\n",
      "[CV 1/3] END importance_type=split, is_unbalance=True, learning_rate=0.5, max_depth=10, n_estimators=50; total time=   0.3s\n",
      "[CV 2/3] END importance_type=split, is_unbalance=True, learning_rate=0.5, max_depth=10, n_estimators=50; total time=   0.3s\n",
      "[CV 3/3] END importance_type=split, is_unbalance=True, learning_rate=0.5, max_depth=10, n_estimators=50; total time=   0.3s\n",
      "[CV 1/3] END importance_type=split, is_unbalance=True, learning_rate=0.5, max_depth=10, n_estimators=100; total time=   0.5s\n",
      "[CV 2/3] END importance_type=split, is_unbalance=True, learning_rate=0.5, max_depth=10, n_estimators=100; total time=   0.5s\n",
      "[CV 3/3] END importance_type=split, is_unbalance=True, learning_rate=0.5, max_depth=10, n_estimators=100; total time=   0.5s\n",
      "[CV 1/3] END importance_type=split, is_unbalance=True, learning_rate=0.5, max_depth=10, n_estimators=500; total time=   2.1s\n",
      "[CV 2/3] END importance_type=split, is_unbalance=True, learning_rate=0.5, max_depth=10, n_estimators=500; total time=   2.1s\n",
      "[CV 3/3] END importance_type=split, is_unbalance=True, learning_rate=0.5, max_depth=10, n_estimators=500; total time=   2.1s\n",
      "[CV 1/3] END importance_type=split, is_unbalance=True, learning_rate=1, max_depth=3, n_estimators=50; total time=   0.2s\n",
      "[CV 2/3] END importance_type=split, is_unbalance=True, learning_rate=1, max_depth=3, n_estimators=50; total time=   0.2s\n",
      "[CV 3/3] END importance_type=split, is_unbalance=True, learning_rate=1, max_depth=3, n_estimators=50; total time=   0.2s\n",
      "[CV 1/3] END importance_type=split, is_unbalance=True, learning_rate=1, max_depth=3, n_estimators=100; total time=   0.4s\n",
      "[CV 2/3] END importance_type=split, is_unbalance=True, learning_rate=1, max_depth=3, n_estimators=100; total time=   0.4s\n",
      "[CV 3/3] END importance_type=split, is_unbalance=True, learning_rate=1, max_depth=3, n_estimators=100; total time=   0.3s\n",
      "[CV 1/3] END importance_type=split, is_unbalance=True, learning_rate=1, max_depth=3, n_estimators=500; total time=   1.4s\n",
      "[CV 2/3] END importance_type=split, is_unbalance=True, learning_rate=1, max_depth=3, n_estimators=500; total time=   1.4s\n",
      "[CV 3/3] END importance_type=split, is_unbalance=True, learning_rate=1, max_depth=3, n_estimators=500; total time=   1.4s\n",
      "[CV 1/3] END importance_type=split, is_unbalance=True, learning_rate=1, max_depth=5, n_estimators=50; total time=   0.3s\n",
      "[CV 2/3] END importance_type=split, is_unbalance=True, learning_rate=1, max_depth=5, n_estimators=50; total time=   0.3s\n",
      "[CV 3/3] END importance_type=split, is_unbalance=True, learning_rate=1, max_depth=5, n_estimators=50; total time=   0.3s\n",
      "[CV 1/3] END importance_type=split, is_unbalance=True, learning_rate=1, max_depth=5, n_estimators=100; total time=   0.5s\n",
      "[CV 2/3] END importance_type=split, is_unbalance=True, learning_rate=1, max_depth=5, n_estimators=100; total time=   0.5s\n",
      "[CV 3/3] END importance_type=split, is_unbalance=True, learning_rate=1, max_depth=5, n_estimators=100; total time=   0.5s\n",
      "[CV 1/3] END importance_type=split, is_unbalance=True, learning_rate=1, max_depth=5, n_estimators=500; total time=   2.3s\n",
      "[CV 2/3] END importance_type=split, is_unbalance=True, learning_rate=1, max_depth=5, n_estimators=500; total time=   2.3s\n",
      "[CV 3/3] END importance_type=split, is_unbalance=True, learning_rate=1, max_depth=5, n_estimators=500; total time=   2.6s\n",
      "[CV 1/3] END importance_type=split, is_unbalance=True, learning_rate=1, max_depth=10, n_estimators=50; total time=   0.3s\n",
      "[CV 2/3] END importance_type=split, is_unbalance=True, learning_rate=1, max_depth=10, n_estimators=50; total time=   0.3s\n",
      "[CV 3/3] END importance_type=split, is_unbalance=True, learning_rate=1, max_depth=10, n_estimators=50; total time=   0.3s\n",
      "[CV 1/3] END importance_type=split, is_unbalance=True, learning_rate=1, max_depth=10, n_estimators=100; total time=   0.5s\n",
      "[CV 2/3] END importance_type=split, is_unbalance=True, learning_rate=1, max_depth=10, n_estimators=100; total time=   0.5s\n",
      "[CV 3/3] END importance_type=split, is_unbalance=True, learning_rate=1, max_depth=10, n_estimators=100; total time=   0.5s\n",
      "[CV 1/3] END importance_type=split, is_unbalance=True, learning_rate=1, max_depth=10, n_estimators=500; total time=   2.2s\n",
      "[CV 2/3] END importance_type=split, is_unbalance=True, learning_rate=1, max_depth=10, n_estimators=500; total time=   2.2s\n",
      "[CV 3/3] END importance_type=split, is_unbalance=True, learning_rate=1, max_depth=10, n_estimators=500; total time=   2.2s\n",
      "[CV 1/3] END importance_type=split, is_unbalance=False, learning_rate=0.01, max_depth=3, n_estimators=50; total time=   0.2s\n",
      "[CV 2/3] END importance_type=split, is_unbalance=False, learning_rate=0.01, max_depth=3, n_estimators=50; total time=   0.2s\n",
      "[CV 3/3] END importance_type=split, is_unbalance=False, learning_rate=0.01, max_depth=3, n_estimators=50; total time=   0.2s\n",
      "[CV 1/3] END importance_type=split, is_unbalance=False, learning_rate=0.01, max_depth=3, n_estimators=100; total time=   0.3s\n",
      "[CV 2/3] END importance_type=split, is_unbalance=False, learning_rate=0.01, max_depth=3, n_estimators=100; total time=   0.3s\n",
      "[CV 3/3] END importance_type=split, is_unbalance=False, learning_rate=0.01, max_depth=3, n_estimators=100; total time=   0.3s\n",
      "[CV 1/3] END importance_type=split, is_unbalance=False, learning_rate=0.01, max_depth=3, n_estimators=500; total time=   1.4s\n",
      "[CV 2/3] END importance_type=split, is_unbalance=False, learning_rate=0.01, max_depth=3, n_estimators=500; total time=   1.4s\n",
      "[CV 3/3] END importance_type=split, is_unbalance=False, learning_rate=0.01, max_depth=3, n_estimators=500; total time=   1.7s\n",
      "[CV 1/3] END importance_type=split, is_unbalance=False, learning_rate=0.01, max_depth=5, n_estimators=50; total time=   0.3s\n"
     ]
    },
    {
     "name": "stdout",
     "output_type": "stream",
     "text": [
      "[CV 2/3] END importance_type=split, is_unbalance=False, learning_rate=0.01, max_depth=5, n_estimators=50; total time=   0.2s\n",
      "[CV 3/3] END importance_type=split, is_unbalance=False, learning_rate=0.01, max_depth=5, n_estimators=50; total time=   0.3s\n",
      "[CV 1/3] END importance_type=split, is_unbalance=False, learning_rate=0.01, max_depth=5, n_estimators=100; total time=   0.5s\n",
      "[CV 2/3] END importance_type=split, is_unbalance=False, learning_rate=0.01, max_depth=5, n_estimators=100; total time=   0.5s\n",
      "[CV 3/3] END importance_type=split, is_unbalance=False, learning_rate=0.01, max_depth=5, n_estimators=100; total time=   0.5s\n",
      "[CV 1/3] END importance_type=split, is_unbalance=False, learning_rate=0.01, max_depth=5, n_estimators=500; total time=   2.3s\n",
      "[CV 2/3] END importance_type=split, is_unbalance=False, learning_rate=0.01, max_depth=5, n_estimators=500; total time=   2.3s\n",
      "[CV 3/3] END importance_type=split, is_unbalance=False, learning_rate=0.01, max_depth=5, n_estimators=500; total time=   2.3s\n",
      "[CV 1/3] END importance_type=split, is_unbalance=False, learning_rate=0.01, max_depth=10, n_estimators=50; total time=   0.3s\n",
      "[CV 2/3] END importance_type=split, is_unbalance=False, learning_rate=0.01, max_depth=10, n_estimators=50; total time=   0.3s\n",
      "[CV 3/3] END importance_type=split, is_unbalance=False, learning_rate=0.01, max_depth=10, n_estimators=50; total time=   0.3s\n",
      "[CV 1/3] END importance_type=split, is_unbalance=False, learning_rate=0.01, max_depth=10, n_estimators=100; total time=   0.6s\n",
      "[CV 2/3] END importance_type=split, is_unbalance=False, learning_rate=0.01, max_depth=10, n_estimators=100; total time=   0.6s\n",
      "[CV 3/3] END importance_type=split, is_unbalance=False, learning_rate=0.01, max_depth=10, n_estimators=100; total time=   0.7s\n",
      "[CV 1/3] END importance_type=split, is_unbalance=False, learning_rate=0.01, max_depth=10, n_estimators=500; total time=   3.0s\n",
      "[CV 2/3] END importance_type=split, is_unbalance=False, learning_rate=0.01, max_depth=10, n_estimators=500; total time=   3.0s\n",
      "[CV 3/3] END importance_type=split, is_unbalance=False, learning_rate=0.01, max_depth=10, n_estimators=500; total time=   2.8s\n",
      "[CV 1/3] END importance_type=split, is_unbalance=False, learning_rate=0.1, max_depth=3, n_estimators=50; total time=   0.2s\n",
      "[CV 2/3] END importance_type=split, is_unbalance=False, learning_rate=0.1, max_depth=3, n_estimators=50; total time=   0.2s\n",
      "[CV 3/3] END importance_type=split, is_unbalance=False, learning_rate=0.1, max_depth=3, n_estimators=50; total time=   0.2s\n",
      "[CV 1/3] END importance_type=split, is_unbalance=False, learning_rate=0.1, max_depth=3, n_estimators=100; total time=   0.3s\n",
      "[CV 2/3] END importance_type=split, is_unbalance=False, learning_rate=0.1, max_depth=3, n_estimators=100; total time=   0.3s\n",
      "[CV 3/3] END importance_type=split, is_unbalance=False, learning_rate=0.1, max_depth=3, n_estimators=100; total time=   0.3s\n",
      "[CV 1/3] END importance_type=split, is_unbalance=False, learning_rate=0.1, max_depth=3, n_estimators=500; total time=   1.4s\n",
      "[CV 2/3] END importance_type=split, is_unbalance=False, learning_rate=0.1, max_depth=3, n_estimators=500; total time=   1.4s\n",
      "[CV 3/3] END importance_type=split, is_unbalance=False, learning_rate=0.1, max_depth=3, n_estimators=500; total time=   1.4s\n",
      "[CV 1/3] END importance_type=split, is_unbalance=False, learning_rate=0.1, max_depth=5, n_estimators=50; total time=   0.3s\n",
      "[CV 2/3] END importance_type=split, is_unbalance=False, learning_rate=0.1, max_depth=5, n_estimators=50; total time=   0.3s\n",
      "[CV 3/3] END importance_type=split, is_unbalance=False, learning_rate=0.1, max_depth=5, n_estimators=50; total time=   0.3s\n",
      "[CV 1/3] END importance_type=split, is_unbalance=False, learning_rate=0.1, max_depth=5, n_estimators=100; total time=   0.6s\n",
      "[CV 2/3] END importance_type=split, is_unbalance=False, learning_rate=0.1, max_depth=5, n_estimators=100; total time=   0.6s\n",
      "[CV 3/3] END importance_type=split, is_unbalance=False, learning_rate=0.1, max_depth=5, n_estimators=100; total time=   0.5s\n",
      "[CV 1/3] END importance_type=split, is_unbalance=False, learning_rate=0.1, max_depth=5, n_estimators=500; total time=   2.2s\n",
      "[CV 2/3] END importance_type=split, is_unbalance=False, learning_rate=0.1, max_depth=5, n_estimators=500; total time=   2.2s\n",
      "[CV 3/3] END importance_type=split, is_unbalance=False, learning_rate=0.1, max_depth=5, n_estimators=500; total time=   2.2s\n",
      "[CV 1/3] END importance_type=split, is_unbalance=False, learning_rate=0.1, max_depth=10, n_estimators=50; total time=   0.3s\n",
      "[CV 2/3] END importance_type=split, is_unbalance=False, learning_rate=0.1, max_depth=10, n_estimators=50; total time=   0.3s\n",
      "[CV 3/3] END importance_type=split, is_unbalance=False, learning_rate=0.1, max_depth=10, n_estimators=50; total time=   0.3s\n",
      "[CV 1/3] END importance_type=split, is_unbalance=False, learning_rate=0.1, max_depth=10, n_estimators=100; total time=   0.5s\n",
      "[CV 2/3] END importance_type=split, is_unbalance=False, learning_rate=0.1, max_depth=10, n_estimators=100; total time=   0.5s\n",
      "[CV 3/3] END importance_type=split, is_unbalance=False, learning_rate=0.1, max_depth=10, n_estimators=100; total time=   0.5s\n",
      "[CV 1/3] END importance_type=split, is_unbalance=False, learning_rate=0.1, max_depth=10, n_estimators=500; total time=   2.2s\n",
      "[CV 2/3] END importance_type=split, is_unbalance=False, learning_rate=0.1, max_depth=10, n_estimators=500; total time=   2.4s\n",
      "[CV 3/3] END importance_type=split, is_unbalance=False, learning_rate=0.1, max_depth=10, n_estimators=500; total time=   2.3s\n",
      "[CV 1/3] END importance_type=split, is_unbalance=False, learning_rate=0.5, max_depth=3, n_estimators=50; total time=   0.2s\n",
      "[CV 2/3] END importance_type=split, is_unbalance=False, learning_rate=0.5, max_depth=3, n_estimators=50; total time=   0.2s\n",
      "[CV 3/3] END importance_type=split, is_unbalance=False, learning_rate=0.5, max_depth=3, n_estimators=50; total time=   0.2s\n",
      "[CV 1/3] END importance_type=split, is_unbalance=False, learning_rate=0.5, max_depth=3, n_estimators=100; total time=   0.3s\n",
      "[CV 2/3] END importance_type=split, is_unbalance=False, learning_rate=0.5, max_depth=3, n_estimators=100; total time=   0.3s\n",
      "[CV 3/3] END importance_type=split, is_unbalance=False, learning_rate=0.5, max_depth=3, n_estimators=100; total time=   0.3s\n",
      "[CV 1/3] END importance_type=split, is_unbalance=False, learning_rate=0.5, max_depth=3, n_estimators=500; total time=   1.4s\n",
      "[CV 2/3] END importance_type=split, is_unbalance=False, learning_rate=0.5, max_depth=3, n_estimators=500; total time=   1.4s\n",
      "[CV 3/3] END importance_type=split, is_unbalance=False, learning_rate=0.5, max_depth=3, n_estimators=500; total time=   1.4s\n",
      "[CV 1/3] END importance_type=split, is_unbalance=False, learning_rate=0.5, max_depth=5, n_estimators=50; total time=   0.3s\n",
      "[CV 2/3] END importance_type=split, is_unbalance=False, learning_rate=0.5, max_depth=5, n_estimators=50; total time=   0.3s\n",
      "[CV 3/3] END importance_type=split, is_unbalance=False, learning_rate=0.5, max_depth=5, n_estimators=50; total time=   0.3s\n",
      "[CV 1/3] END importance_type=split, is_unbalance=False, learning_rate=0.5, max_depth=5, n_estimators=100; total time=   0.5s\n",
      "[CV 2/3] END importance_type=split, is_unbalance=False, learning_rate=0.5, max_depth=5, n_estimators=100; total time=   0.5s\n",
      "[CV 3/3] END importance_type=split, is_unbalance=False, learning_rate=0.5, max_depth=5, n_estimators=100; total time=   0.5s\n",
      "[CV 1/3] END importance_type=split, is_unbalance=False, learning_rate=0.5, max_depth=5, n_estimators=500; total time=   2.3s\n",
      "[CV 2/3] END importance_type=split, is_unbalance=False, learning_rate=0.5, max_depth=5, n_estimators=500; total time=   2.6s\n",
      "[CV 3/3] END importance_type=split, is_unbalance=False, learning_rate=0.5, max_depth=5, n_estimators=500; total time=   2.3s\n",
      "[CV 1/3] END importance_type=split, is_unbalance=False, learning_rate=0.5, max_depth=10, n_estimators=50; total time=   0.3s\n",
      "[CV 2/3] END importance_type=split, is_unbalance=False, learning_rate=0.5, max_depth=10, n_estimators=50; total time=   0.3s\n",
      "[CV 3/3] END importance_type=split, is_unbalance=False, learning_rate=0.5, max_depth=10, n_estimators=50; total time=   0.3s\n",
      "[CV 1/3] END importance_type=split, is_unbalance=False, learning_rate=0.5, max_depth=10, n_estimators=100; total time=   0.5s\n"
     ]
    },
    {
     "name": "stdout",
     "output_type": "stream",
     "text": [
      "[CV 2/3] END importance_type=split, is_unbalance=False, learning_rate=0.5, max_depth=10, n_estimators=100; total time=   0.5s\n",
      "[CV 3/3] END importance_type=split, is_unbalance=False, learning_rate=0.5, max_depth=10, n_estimators=100; total time=   0.5s\n",
      "[CV 1/3] END importance_type=split, is_unbalance=False, learning_rate=0.5, max_depth=10, n_estimators=500; total time=   2.1s\n",
      "[CV 2/3] END importance_type=split, is_unbalance=False, learning_rate=0.5, max_depth=10, n_estimators=500; total time=   2.2s\n",
      "[CV 3/3] END importance_type=split, is_unbalance=False, learning_rate=0.5, max_depth=10, n_estimators=500; total time=   2.1s\n",
      "[CV 1/3] END importance_type=split, is_unbalance=False, learning_rate=1, max_depth=3, n_estimators=50; total time=   0.2s\n",
      "[CV 2/3] END importance_type=split, is_unbalance=False, learning_rate=1, max_depth=3, n_estimators=50; total time=   0.2s\n",
      "[CV 3/3] END importance_type=split, is_unbalance=False, learning_rate=1, max_depth=3, n_estimators=50; total time=   0.2s\n",
      "[CV 1/3] END importance_type=split, is_unbalance=False, learning_rate=1, max_depth=3, n_estimators=100; total time=   0.3s\n",
      "[CV 2/3] END importance_type=split, is_unbalance=False, learning_rate=1, max_depth=3, n_estimators=100; total time=   0.3s\n",
      "[CV 3/3] END importance_type=split, is_unbalance=False, learning_rate=1, max_depth=3, n_estimators=100; total time=   0.3s\n",
      "[CV 1/3] END importance_type=split, is_unbalance=False, learning_rate=1, max_depth=3, n_estimators=500; total time=   1.6s\n",
      "[CV 2/3] END importance_type=split, is_unbalance=False, learning_rate=1, max_depth=3, n_estimators=500; total time=   1.4s\n",
      "[CV 3/3] END importance_type=split, is_unbalance=False, learning_rate=1, max_depth=3, n_estimators=500; total time=   1.4s\n",
      "[CV 1/3] END importance_type=split, is_unbalance=False, learning_rate=1, max_depth=5, n_estimators=50; total time=   0.3s\n",
      "[CV 2/3] END importance_type=split, is_unbalance=False, learning_rate=1, max_depth=5, n_estimators=50; total time=   0.3s\n",
      "[CV 3/3] END importance_type=split, is_unbalance=False, learning_rate=1, max_depth=5, n_estimators=50; total time=   0.3s\n",
      "[CV 1/3] END importance_type=split, is_unbalance=False, learning_rate=1, max_depth=5, n_estimators=100; total time=   0.5s\n",
      "[CV 2/3] END importance_type=split, is_unbalance=False, learning_rate=1, max_depth=5, n_estimators=100; total time=   0.5s\n",
      "[CV 3/3] END importance_type=split, is_unbalance=False, learning_rate=1, max_depth=5, n_estimators=100; total time=   0.5s\n",
      "[CV 1/3] END importance_type=split, is_unbalance=False, learning_rate=1, max_depth=5, n_estimators=500; total time=   2.4s\n",
      "[CV 2/3] END importance_type=split, is_unbalance=False, learning_rate=1, max_depth=5, n_estimators=500; total time=   2.3s\n",
      "[CV 3/3] END importance_type=split, is_unbalance=False, learning_rate=1, max_depth=5, n_estimators=500; total time=   2.3s\n",
      "[CV 1/3] END importance_type=split, is_unbalance=False, learning_rate=1, max_depth=10, n_estimators=50; total time=   0.3s\n",
      "[CV 2/3] END importance_type=split, is_unbalance=False, learning_rate=1, max_depth=10, n_estimators=50; total time=   0.3s\n",
      "[CV 3/3] END importance_type=split, is_unbalance=False, learning_rate=1, max_depth=10, n_estimators=50; total time=   0.3s\n",
      "[CV 1/3] END importance_type=split, is_unbalance=False, learning_rate=1, max_depth=10, n_estimators=100; total time=   0.6s\n",
      "[CV 2/3] END importance_type=split, is_unbalance=False, learning_rate=1, max_depth=10, n_estimators=100; total time=   0.6s\n",
      "[CV 3/3] END importance_type=split, is_unbalance=False, learning_rate=1, max_depth=10, n_estimators=100; total time=   0.5s\n",
      "[CV 1/3] END importance_type=split, is_unbalance=False, learning_rate=1, max_depth=10, n_estimators=500; total time=   2.2s\n",
      "[CV 2/3] END importance_type=split, is_unbalance=False, learning_rate=1, max_depth=10, n_estimators=500; total time=   2.2s\n",
      "[CV 3/3] END importance_type=split, is_unbalance=False, learning_rate=1, max_depth=10, n_estimators=500; total time=   2.2s\n"
     ]
    },
    {
     "data": {
      "text/plain": [
       "GridSearchCV(cv=3, estimator=LGBMClassifier(),\n",
       "             param_grid={'importance_type': ['gain', 'split'],\n",
       "                         'is_unbalance': [True, False],\n",
       "                         'learning_rate': [0.01, 0.1, 0.5, 1],\n",
       "                         'max_depth': [3, 5, 10],\n",
       "                         'n_estimators': [50, 100, 500]},\n",
       "             scoring='recall', verbose=3)"
      ]
     },
     "execution_count": 106,
     "metadata": {},
     "output_type": "execute_result"
    }
   ],
   "source": [
    "modelo = LGBMClassifier()\n",
    "\n",
    "parameters = {\n",
    "    'max_depth': [ 3, 5, 10],\n",
    "    'n_estimators': [50, 100, 500],\n",
    "    'learning_rate': [0.01, 0.1, 0.5, 1],\n",
    "    'is_unbalance': [True, False],\n",
    "    'importance_type':['gain', 'split']\n",
    "    }\n",
    "\n",
    "clf = GridSearchCV(modelo, parameters, verbose=3, scoring='recall', cv= 3)\n",
    "\n",
    "clf.fit(X_train, y_train)"
   ]
  },
  {
   "cell_type": "code",
   "execution_count": 107,
   "id": "40573d7e",
   "metadata": {},
   "outputs": [
    {
     "data": {
      "text/plain": [
       "{'importance_type': 'gain',\n",
       " 'is_unbalance': False,\n",
       " 'learning_rate': 0.01,\n",
       " 'max_depth': 3,\n",
       " 'n_estimators': 50}"
      ]
     },
     "execution_count": 107,
     "metadata": {},
     "output_type": "execute_result"
    }
   ],
   "source": [
    "clf.best_params_"
   ]
  },
  {
   "cell_type": "code",
   "execution_count": 185,
   "id": "c30fe745",
   "metadata": {},
   "outputs": [
    {
     "data": {
      "text/plain": [
       "LGBMClassifier(importance_type='gain', is_unbalance=False, learning_rate=0.01,\n",
       "               max_depth=3, n_estimators=50, random_state=12)"
      ]
     },
     "execution_count": 185,
     "metadata": {},
     "output_type": "execute_result"
    }
   ],
   "source": [
    "modelo_lgbm = LGBMClassifier(n_estimators=50, max_depth=3, learning_rate=0.01, importance_type='gain', is_unbalance =  False, random_state = 12)\n",
    "\n",
    "modelo_lgbm"
   ]
  },
  {
   "cell_type": "code",
   "execution_count": 246,
   "id": "0f3cd4c6",
   "metadata": {},
   "outputs": [
    {
     "data": {
      "text/plain": [
       "LGBMClassifier(importance_type='gain', is_unbalance=False, learning_rate=0.01,\n",
       "               max_depth=3, n_estimators=50, random_state=12)"
      ]
     },
     "execution_count": 246,
     "metadata": {},
     "output_type": "execute_result"
    }
   ],
   "source": [
    "modelo_lgbm.fit(X_train, y_train)"
   ]
  },
  {
   "cell_type": "code",
   "execution_count": 187,
   "id": "6580c23d",
   "metadata": {},
   "outputs": [
    {
     "name": "stdout",
     "output_type": "stream",
     "text": [
      "(43999,) (18857,)\n"
     ]
    }
   ],
   "source": [
    "y_train_pred = modelo_lgbm.predict(X_train)\n",
    "\n",
    "y_valid_pred = modelo_lgbm.predict(X_valid)\n",
    "\n",
    "print(y_train_pred.shape, y_valid_pred.shape)"
   ]
  },
  {
   "cell_type": "code",
   "execution_count": 188,
   "id": "bd5a2944",
   "metadata": {},
   "outputs": [
    {
     "data": {
      "image/png": "[encoded data removed]",
      "text/plain": [
       "<Figure size 432x288 with 1 Axes>"
      ]
     },
     "metadata": {
      "needs_background": "light"
     },
     "output_type": "display_data"
    }
   ],
   "source": [
    "matriz_conf(y_valid, y_valid_pred)\n"
   ]
  },
  {
   "cell_type": "code",
   "execution_count": 189,
   "id": "da916c1b",
   "metadata": {},
   "outputs": [
    {
     "name": "stdout",
     "output_type": "stream",
     "text": [
      "Treino:\n",
      "Acc: 0.5537, Precision: 0.5455, Recall: 0.9629\n",
      "Validação:\n",
      "Acc: 0.5474, Precision: 0.5392, Recall: 0.9615\n"
     ]
    }
   ],
   "source": [
    "printar_metricas('Treino',y_train, y_train_pred,'Validação', y_valid, y_valid_pred)"
   ]
  },
  {
   "cell_type": "markdown",
   "id": "bf46bd6a",
   "metadata": {},
   "source": [
    "#### Modelo LGBM 96% recall"
   ]
  },
  {
   "cell_type": "markdown",
   "id": "808c0b11",
   "metadata": {},
   "source": [
    "O recall foi bem alto, vamos verificar no teste."
   ]
  },
  {
   "cell_type": "code",
   "execution_count": 190,
   "id": "6ac50dc4",
   "metadata": {},
   "outputs": [],
   "source": [
    "X_test = df_covid_sem_out.drop('covid_res', axis = 1)\n",
    "y_test = df_covid_sem_out['covid_res']"
   ]
  },
  {
   "cell_type": "code",
   "execution_count": 191,
   "id": "7c2d4d35",
   "metadata": {},
   "outputs": [
    {
     "name": "stdout",
     "output_type": "stream",
     "text": [
      "(495391,) (495391,)\n"
     ]
    }
   ],
   "source": [
    "y_test_pred = modelo_lgbm.predict(X_test)\n",
    "print(y_test.shape, y_test_pred.shape)"
   ]
  },
  {
   "cell_type": "code",
   "execution_count": 192,
   "id": "36bea946",
   "metadata": {},
   "outputs": [
    {
     "data": {
      "image/png": "[encoded data removed]",
      "text/plain": [
       "<Figure size 432x288 with 1 Axes>"
      ]
     },
     "metadata": {
      "needs_background": "light"
     },
     "output_type": "display_data"
    }
   ],
   "source": [
    "matriz_conf(y_test,y_test_pred)"
   ]
  },
  {
   "cell_type": "code",
   "execution_count": 193,
   "id": "b1caa935",
   "metadata": {},
   "outputs": [
    {
     "name": "stdout",
     "output_type": "stream",
     "text": [
      "Treino:\n",
      "Acc: 0.5537, Precision: 0.5455, Recall: 0.9629\n",
      "Teste:\n",
      "Acc: 0.4722, Precision: 0.4539, Recall: 0.9643\n"
     ]
    }
   ],
   "source": [
    "printar_metricas('Treino', y_train, y_train_pred,'Teste', y_test, y_test_pred)"
   ]
  },
  {
   "cell_type": "markdown",
   "id": "bd5f42ea",
   "metadata": {},
   "source": [
    "Este modelo detecta boa parte dos infectados ao custo de baixa acurácia e precision, mas como o foco é o recall, ou seja, detectar ao máximo os positivos, este seria o melhor."
   ]
  },
  {
   "cell_type": "code",
   "execution_count": null,
   "id": "32dcc282",
   "metadata": {},
   "outputs": [],
   "source": []
  },
  {
   "cell_type": "markdown",
   "id": "9dd2e2a0",
   "metadata": {},
   "source": [
    "## Modelo DecisionTree"
   ]
  },
  {
   "cell_type": "code",
   "execution_count": 127,
   "id": "5267f772",
   "metadata": {},
   "outputs": [],
   "source": [
    "from sklearn.tree import DecisionTreeClassifier"
   ]
  },
  {
   "cell_type": "code",
   "execution_count": 156,
   "id": "cf13d4ca",
   "metadata": {},
   "outputs": [
    {
     "name": "stdout",
     "output_type": "stream",
     "text": [
      "Fitting 3 folds for each of 256 candidates, totalling 768 fits\n",
      "[CV 1/3] END criterion=entropy, max_depth=5, max_features=auto, min_samples_leaf=1, min_samples_split=10; total time=   0.0s\n",
      "[CV 2/3] END criterion=entropy, max_depth=5, max_features=auto, min_samples_leaf=1, min_samples_split=10; total time=   0.0s\n",
      "[CV 3/3] END criterion=entropy, max_depth=5, max_features=auto, min_samples_leaf=1, min_samples_split=10; total time=   0.0s\n",
      "[CV 1/3] END criterion=entropy, max_depth=5, max_features=auto, min_samples_leaf=1, min_samples_split=20; total time=   0.0s\n",
      "[CV 2/3] END criterion=entropy, max_depth=5, max_features=auto, min_samples_leaf=1, min_samples_split=20; total time=   0.0s\n",
      "[CV 3/3] END criterion=entropy, max_depth=5, max_features=auto, min_samples_leaf=1, min_samples_split=20; total time=   0.0s\n",
      "[CV 1/3] END criterion=entropy, max_depth=5, max_features=auto, min_samples_leaf=1, min_samples_split=50; total time=   0.0s\n",
      "[CV 2/3] END criterion=entropy, max_depth=5, max_features=auto, min_samples_leaf=1, min_samples_split=50; total time=   0.0s\n",
      "[CV 3/3] END criterion=entropy, max_depth=5, max_features=auto, min_samples_leaf=1, min_samples_split=50; total time=   0.0s\n",
      "[CV 1/3] END criterion=entropy, max_depth=5, max_features=auto, min_samples_leaf=1, min_samples_split=100; total time=   0.0s\n",
      "[CV 2/3] END criterion=entropy, max_depth=5, max_features=auto, min_samples_leaf=1, min_samples_split=100; total time=   0.0s\n",
      "[CV 3/3] END criterion=entropy, max_depth=5, max_features=auto, min_samples_leaf=1, min_samples_split=100; total time=   0.0s\n",
      "[CV 1/3] END criterion=entropy, max_depth=5, max_features=auto, min_samples_leaf=2, min_samples_split=10; total time=   0.0s\n",
      "[CV 2/3] END criterion=entropy, max_depth=5, max_features=auto, min_samples_leaf=2, min_samples_split=10; total time=   0.0s\n",
      "[CV 3/3] END criterion=entropy, max_depth=5, max_features=auto, min_samples_leaf=2, min_samples_split=10; total time=   0.0s\n",
      "[CV 1/3] END criterion=entropy, max_depth=5, max_features=auto, min_samples_leaf=2, min_samples_split=20; total time=   0.0s\n",
      "[CV 2/3] END criterion=entropy, max_depth=5, max_features=auto, min_samples_leaf=2, min_samples_split=20; total time=   0.0s\n",
      "[CV 3/3] END criterion=entropy, max_depth=5, max_features=auto, min_samples_leaf=2, min_samples_split=20; total time=   0.0s\n",
      "[CV 1/3] END criterion=entropy, max_depth=5, max_features=auto, min_samples_leaf=2, min_samples_split=50; total time=   0.0s\n",
      "[CV 2/3] END criterion=entropy, max_depth=5, max_features=auto, min_samples_leaf=2, min_samples_split=50; total time=   0.0s\n",
      "[CV 3/3] END criterion=entropy, max_depth=5, max_features=auto, min_samples_leaf=2, min_samples_split=50; total time=   0.0s\n",
      "[CV 1/3] END criterion=entropy, max_depth=5, max_features=auto, min_samples_leaf=2, min_samples_split=100; total time=   0.0s\n",
      "[CV 2/3] END criterion=entropy, max_depth=5, max_features=auto, min_samples_leaf=2, min_samples_split=100; total time=   0.0s\n",
      "[CV 3/3] END criterion=entropy, max_depth=5, max_features=auto, min_samples_leaf=2, min_samples_split=100; total time=   0.0s\n",
      "[CV 1/3] END criterion=entropy, max_depth=5, max_features=auto, min_samples_leaf=3, min_samples_split=10; total time=   0.0s\n",
      "[CV 2/3] END criterion=entropy, max_depth=5, max_features=auto, min_samples_leaf=3, min_samples_split=10; total time=   0.0s\n",
      "[CV 3/3] END criterion=entropy, max_depth=5, max_features=auto, min_samples_leaf=3, min_samples_split=10; total time=   0.0s\n",
      "[CV 1/3] END criterion=entropy, max_depth=5, max_features=auto, min_samples_leaf=3, min_samples_split=20; total time=   0.0s\n",
      "[CV 2/3] END criterion=entropy, max_depth=5, max_features=auto, min_samples_leaf=3, min_samples_split=20; total time=   0.0s\n",
      "[CV 3/3] END criterion=entropy, max_depth=5, max_features=auto, min_samples_leaf=3, min_samples_split=20; total time=   0.0s\n",
      "[CV 1/3] END criterion=entropy, max_depth=5, max_features=auto, min_samples_leaf=3, min_samples_split=50; total time=   0.0s\n",
      "[CV 2/3] END criterion=entropy, max_depth=5, max_features=auto, min_samples_leaf=3, min_samples_split=50; total time=   0.0s\n",
      "[CV 3/3] END criterion=entropy, max_depth=5, max_features=auto, min_samples_leaf=3, min_samples_split=50; total time=   0.0s\n",
      "[CV 1/3] END criterion=entropy, max_depth=5, max_features=auto, min_samples_leaf=3, min_samples_split=100; total time=   0.0s\n",
      "[CV 2/3] END criterion=entropy, max_depth=5, max_features=auto, min_samples_leaf=3, min_samples_split=100; total time=   0.0s\n",
      "[CV 3/3] END criterion=entropy, max_depth=5, max_features=auto, min_samples_leaf=3, min_samples_split=100; total time=   0.0s\n",
      "[CV 1/3] END criterion=entropy, max_depth=5, max_features=auto, min_samples_leaf=10, min_samples_split=10; total time=   0.0s\n",
      "[CV 2/3] END criterion=entropy, max_depth=5, max_features=auto, min_samples_leaf=10, min_samples_split=10; total time=   0.0s\n",
      "[CV 3/3] END criterion=entropy, max_depth=5, max_features=auto, min_samples_leaf=10, min_samples_split=10; total time=   0.0s\n",
      "[CV 1/3] END criterion=entropy, max_depth=5, max_features=auto, min_samples_leaf=10, min_samples_split=20; total time=   0.0s\n",
      "[CV 2/3] END criterion=entropy, max_depth=5, max_features=auto, min_samples_leaf=10, min_samples_split=20; total time=   0.0s\n",
      "[CV 3/3] END criterion=entropy, max_depth=5, max_features=auto, min_samples_leaf=10, min_samples_split=20; total time=   0.0s\n",
      "[CV 1/3] END criterion=entropy, max_depth=5, max_features=auto, min_samples_leaf=10, min_samples_split=50; total time=   0.0s\n",
      "[CV 2/3] END criterion=entropy, max_depth=5, max_features=auto, min_samples_leaf=10, min_samples_split=50; total time=   0.0s\n",
      "[CV 3/3] END criterion=entropy, max_depth=5, max_features=auto, min_samples_leaf=10, min_samples_split=50; total time=   0.0s\n",
      "[CV 1/3] END criterion=entropy, max_depth=5, max_features=auto, min_samples_leaf=10, min_samples_split=100; total time=   0.0s\n",
      "[CV 2/3] END criterion=entropy, max_depth=5, max_features=auto, min_samples_leaf=10, min_samples_split=100; total time=   0.0s\n",
      "[CV 3/3] END criterion=entropy, max_depth=5, max_features=auto, min_samples_leaf=10, min_samples_split=100; total time=   0.0s\n",
      "[CV 1/3] END criterion=entropy, max_depth=5, max_features=log2, min_samples_leaf=1, min_samples_split=10; total time=   0.0s\n",
      "[CV 2/3] END criterion=entropy, max_depth=5, max_features=log2, min_samples_leaf=1, min_samples_split=10; total time=   0.0s\n",
      "[CV 3/3] END criterion=entropy, max_depth=5, max_features=log2, min_samples_leaf=1, min_samples_split=10; total time=   0.0s\n",
      "[CV 1/3] END criterion=entropy, max_depth=5, max_features=log2, min_samples_leaf=1, min_samples_split=20; total time=   0.0s\n",
      "[CV 2/3] END criterion=entropy, max_depth=5, max_features=log2, min_samples_leaf=1, min_samples_split=20; total time=   0.0s\n",
      "[CV 3/3] END criterion=entropy, max_depth=5, max_features=log2, min_samples_leaf=1, min_samples_split=20; total time=   0.0s\n",
      "[CV 1/3] END criterion=entropy, max_depth=5, max_features=log2, min_samples_leaf=1, min_samples_split=50; total time=   0.0s\n",
      "[CV 2/3] END criterion=entropy, max_depth=5, max_features=log2, min_samples_leaf=1, min_samples_split=50; total time=   0.0s\n",
      "[CV 3/3] END criterion=entropy, max_depth=5, max_features=log2, min_samples_leaf=1, min_samples_split=50; total time=   0.0s\n",
      "[CV 1/3] END criterion=entropy, max_depth=5, max_features=log2, min_samples_leaf=1, min_samples_split=100; total time=   0.0s\n",
      "[CV 2/3] END criterion=entropy, max_depth=5, max_features=log2, min_samples_leaf=1, min_samples_split=100; total time=   0.0s\n",
      "[CV 3/3] END criterion=entropy, max_depth=5, max_features=log2, min_samples_leaf=1, min_samples_split=100; total time=   0.0s\n",
      "[CV 1/3] END criterion=entropy, max_depth=5, max_features=log2, min_samples_leaf=2, min_samples_split=10; total time=   0.0s\n",
      "[CV 2/3] END criterion=entropy, max_depth=5, max_features=log2, min_samples_leaf=2, min_samples_split=10; total time=   0.0s\n",
      "[CV 3/3] END criterion=entropy, max_depth=5, max_features=log2, min_samples_leaf=2, min_samples_split=10; total time=   0.0s\n",
      "[CV 1/3] END criterion=entropy, max_depth=5, max_features=log2, min_samples_leaf=2, min_samples_split=20; total time=   0.0s\n",
      "[CV 2/3] END criterion=entropy, max_depth=5, max_features=log2, min_samples_leaf=2, min_samples_split=20; total time=   0.0s\n",
      "[CV 3/3] END criterion=entropy, max_depth=5, max_features=log2, min_samples_leaf=2, min_samples_split=20; total time=   0.0s\n",
      "[CV 1/3] END criterion=entropy, max_depth=5, max_features=log2, min_samples_leaf=2, min_samples_split=50; total time=   0.0s\n",
      "[CV 2/3] END criterion=entropy, max_depth=5, max_features=log2, min_samples_leaf=2, min_samples_split=50; total time=   0.0s\n"
     ]
    },
    {
     "name": "stdout",
     "output_type": "stream",
     "text": [
      "[CV 3/3] END criterion=entropy, max_depth=5, max_features=log2, min_samples_leaf=2, min_samples_split=50; total time=   0.0s\n",
      "[CV 1/3] END criterion=entropy, max_depth=5, max_features=log2, min_samples_leaf=2, min_samples_split=100; total time=   0.0s\n",
      "[CV 2/3] END criterion=entropy, max_depth=5, max_features=log2, min_samples_leaf=2, min_samples_split=100; total time=   0.0s\n",
      "[CV 3/3] END criterion=entropy, max_depth=5, max_features=log2, min_samples_leaf=2, min_samples_split=100; total time=   0.0s\n",
      "[CV 1/3] END criterion=entropy, max_depth=5, max_features=log2, min_samples_leaf=3, min_samples_split=10; total time=   0.0s\n",
      "[CV 2/3] END criterion=entropy, max_depth=5, max_features=log2, min_samples_leaf=3, min_samples_split=10; total time=   0.0s\n",
      "[CV 3/3] END criterion=entropy, max_depth=5, max_features=log2, min_samples_leaf=3, min_samples_split=10; total time=   0.0s\n",
      "[CV 1/3] END criterion=entropy, max_depth=5, max_features=log2, min_samples_leaf=3, min_samples_split=20; total time=   0.0s\n",
      "[CV 2/3] END criterion=entropy, max_depth=5, max_features=log2, min_samples_leaf=3, min_samples_split=20; total time=   0.0s\n",
      "[CV 3/3] END criterion=entropy, max_depth=5, max_features=log2, min_samples_leaf=3, min_samples_split=20; total time=   0.0s\n",
      "[CV 1/3] END criterion=entropy, max_depth=5, max_features=log2, min_samples_leaf=3, min_samples_split=50; total time=   0.0s\n",
      "[CV 2/3] END criterion=entropy, max_depth=5, max_features=log2, min_samples_leaf=3, min_samples_split=50; total time=   0.0s\n",
      "[CV 3/3] END criterion=entropy, max_depth=5, max_features=log2, min_samples_leaf=3, min_samples_split=50; total time=   0.0s\n",
      "[CV 1/3] END criterion=entropy, max_depth=5, max_features=log2, min_samples_leaf=3, min_samples_split=100; total time=   0.0s\n",
      "[CV 2/3] END criterion=entropy, max_depth=5, max_features=log2, min_samples_leaf=3, min_samples_split=100; total time=   0.0s\n",
      "[CV 3/3] END criterion=entropy, max_depth=5, max_features=log2, min_samples_leaf=3, min_samples_split=100; total time=   0.0s\n",
      "[CV 1/3] END criterion=entropy, max_depth=5, max_features=log2, min_samples_leaf=10, min_samples_split=10; total time=   0.0s\n",
      "[CV 2/3] END criterion=entropy, max_depth=5, max_features=log2, min_samples_leaf=10, min_samples_split=10; total time=   0.0s\n",
      "[CV 3/3] END criterion=entropy, max_depth=5, max_features=log2, min_samples_leaf=10, min_samples_split=10; total time=   0.0s\n",
      "[CV 1/3] END criterion=entropy, max_depth=5, max_features=log2, min_samples_leaf=10, min_samples_split=20; total time=   0.0s\n",
      "[CV 2/3] END criterion=entropy, max_depth=5, max_features=log2, min_samples_leaf=10, min_samples_split=20; total time=   0.0s\n",
      "[CV 3/3] END criterion=entropy, max_depth=5, max_features=log2, min_samples_leaf=10, min_samples_split=20; total time=   0.0s\n",
      "[CV 1/3] END criterion=entropy, max_depth=5, max_features=log2, min_samples_leaf=10, min_samples_split=50; total time=   0.0s\n",
      "[CV 2/3] END criterion=entropy, max_depth=5, max_features=log2, min_samples_leaf=10, min_samples_split=50; total time=   0.0s\n",
      "[CV 3/3] END criterion=entropy, max_depth=5, max_features=log2, min_samples_leaf=10, min_samples_split=50; total time=   0.0s\n",
      "[CV 1/3] END criterion=entropy, max_depth=5, max_features=log2, min_samples_leaf=10, min_samples_split=100; total time=   0.0s\n",
      "[CV 2/3] END criterion=entropy, max_depth=5, max_features=log2, min_samples_leaf=10, min_samples_split=100; total time=   0.0s\n",
      "[CV 3/3] END criterion=entropy, max_depth=5, max_features=log2, min_samples_leaf=10, min_samples_split=100; total time=   0.0s\n",
      "[CV 1/3] END criterion=entropy, max_depth=10, max_features=auto, min_samples_leaf=1, min_samples_split=10; total time=   0.0s\n",
      "[CV 2/3] END criterion=entropy, max_depth=10, max_features=auto, min_samples_leaf=1, min_samples_split=10; total time=   0.0s\n",
      "[CV 3/3] END criterion=entropy, max_depth=10, max_features=auto, min_samples_leaf=1, min_samples_split=10; total time=   0.0s\n",
      "[CV 1/3] END criterion=entropy, max_depth=10, max_features=auto, min_samples_leaf=1, min_samples_split=20; total time=   0.0s\n",
      "[CV 2/3] END criterion=entropy, max_depth=10, max_features=auto, min_samples_leaf=1, min_samples_split=20; total time=   0.0s\n",
      "[CV 3/3] END criterion=entropy, max_depth=10, max_features=auto, min_samples_leaf=1, min_samples_split=20; total time=   0.0s\n",
      "[CV 1/3] END criterion=entropy, max_depth=10, max_features=auto, min_samples_leaf=1, min_samples_split=50; total time=   0.0s\n",
      "[CV 2/3] END criterion=entropy, max_depth=10, max_features=auto, min_samples_leaf=1, min_samples_split=50; total time=   0.0s\n",
      "[CV 3/3] END criterion=entropy, max_depth=10, max_features=auto, min_samples_leaf=1, min_samples_split=50; total time=   0.0s\n",
      "[CV 1/3] END criterion=entropy, max_depth=10, max_features=auto, min_samples_leaf=1, min_samples_split=100; total time=   0.0s\n",
      "[CV 2/3] END criterion=entropy, max_depth=10, max_features=auto, min_samples_leaf=1, min_samples_split=100; total time=   0.0s\n",
      "[CV 3/3] END criterion=entropy, max_depth=10, max_features=auto, min_samples_leaf=1, min_samples_split=100; total time=   0.0s\n",
      "[CV 1/3] END criterion=entropy, max_depth=10, max_features=auto, min_samples_leaf=2, min_samples_split=10; total time=   0.0s\n",
      "[CV 2/3] END criterion=entropy, max_depth=10, max_features=auto, min_samples_leaf=2, min_samples_split=10; total time=   0.0s\n",
      "[CV 3/3] END criterion=entropy, max_depth=10, max_features=auto, min_samples_leaf=2, min_samples_split=10; total time=   0.0s\n",
      "[CV 1/3] END criterion=entropy, max_depth=10, max_features=auto, min_samples_leaf=2, min_samples_split=20; total time=   0.0s\n",
      "[CV 2/3] END criterion=entropy, max_depth=10, max_features=auto, min_samples_leaf=2, min_samples_split=20; total time=   0.0s\n",
      "[CV 3/3] END criterion=entropy, max_depth=10, max_features=auto, min_samples_leaf=2, min_samples_split=20; total time=   0.0s\n",
      "[CV 1/3] END criterion=entropy, max_depth=10, max_features=auto, min_samples_leaf=2, min_samples_split=50; total time=   0.0s\n",
      "[CV 2/3] END criterion=entropy, max_depth=10, max_features=auto, min_samples_leaf=2, min_samples_split=50; total time=   0.0s\n",
      "[CV 3/3] END criterion=entropy, max_depth=10, max_features=auto, min_samples_leaf=2, min_samples_split=50; total time=   0.0s\n",
      "[CV 1/3] END criterion=entropy, max_depth=10, max_features=auto, min_samples_leaf=2, min_samples_split=100; total time=   0.0s\n",
      "[CV 2/3] END criterion=entropy, max_depth=10, max_features=auto, min_samples_leaf=2, min_samples_split=100; total time=   0.0s\n",
      "[CV 3/3] END criterion=entropy, max_depth=10, max_features=auto, min_samples_leaf=2, min_samples_split=100; total time=   0.0s\n",
      "[CV 1/3] END criterion=entropy, max_depth=10, max_features=auto, min_samples_leaf=3, min_samples_split=10; total time=   0.0s\n",
      "[CV 2/3] END criterion=entropy, max_depth=10, max_features=auto, min_samples_leaf=3, min_samples_split=10; total time=   0.0s\n",
      "[CV 3/3] END criterion=entropy, max_depth=10, max_features=auto, min_samples_leaf=3, min_samples_split=10; total time=   0.0s\n",
      "[CV 1/3] END criterion=entropy, max_depth=10, max_features=auto, min_samples_leaf=3, min_samples_split=20; total time=   0.0s\n",
      "[CV 2/3] END criterion=entropy, max_depth=10, max_features=auto, min_samples_leaf=3, min_samples_split=20; total time=   0.0s\n",
      "[CV 3/3] END criterion=entropy, max_depth=10, max_features=auto, min_samples_leaf=3, min_samples_split=20; total time=   0.0s\n",
      "[CV 1/3] END criterion=entropy, max_depth=10, max_features=auto, min_samples_leaf=3, min_samples_split=50; total time=   0.0s\n",
      "[CV 2/3] END criterion=entropy, max_depth=10, max_features=auto, min_samples_leaf=3, min_samples_split=50; total time=   0.0s\n",
      "[CV 3/3] END criterion=entropy, max_depth=10, max_features=auto, min_samples_leaf=3, min_samples_split=50; total time=   0.0s\n",
      "[CV 1/3] END criterion=entropy, max_depth=10, max_features=auto, min_samples_leaf=3, min_samples_split=100; total time=   0.0s\n",
      "[CV 2/3] END criterion=entropy, max_depth=10, max_features=auto, min_samples_leaf=3, min_samples_split=100; total time=   0.0s\n",
      "[CV 3/3] END criterion=entropy, max_depth=10, max_features=auto, min_samples_leaf=3, min_samples_split=100; total time=   0.0s\n",
      "[CV 1/3] END criterion=entropy, max_depth=10, max_features=auto, min_samples_leaf=10, min_samples_split=10; total time=   0.0s\n",
      "[CV 2/3] END criterion=entropy, max_depth=10, max_features=auto, min_samples_leaf=10, min_samples_split=10; total time=   0.0s\n",
      "[CV 3/3] END criterion=entropy, max_depth=10, max_features=auto, min_samples_leaf=10, min_samples_split=10; total time=   0.0s\n",
      "[CV 1/3] END criterion=entropy, max_depth=10, max_features=auto, min_samples_leaf=10, min_samples_split=20; total time=   0.0s\n",
      "[CV 2/3] END criterion=entropy, max_depth=10, max_features=auto, min_samples_leaf=10, min_samples_split=20; total time=   0.0s\n"
     ]
    },
    {
     "name": "stdout",
     "output_type": "stream",
     "text": [
      "[CV 3/3] END criterion=entropy, max_depth=10, max_features=auto, min_samples_leaf=10, min_samples_split=20; total time=   0.0s\n",
      "[CV 1/3] END criterion=entropy, max_depth=10, max_features=auto, min_samples_leaf=10, min_samples_split=50; total time=   0.0s\n",
      "[CV 2/3] END criterion=entropy, max_depth=10, max_features=auto, min_samples_leaf=10, min_samples_split=50; total time=   0.0s\n",
      "[CV 3/3] END criterion=entropy, max_depth=10, max_features=auto, min_samples_leaf=10, min_samples_split=50; total time=   0.0s\n",
      "[CV 1/3] END criterion=entropy, max_depth=10, max_features=auto, min_samples_leaf=10, min_samples_split=100; total time=   0.0s\n",
      "[CV 2/3] END criterion=entropy, max_depth=10, max_features=auto, min_samples_leaf=10, min_samples_split=100; total time=   0.0s\n",
      "[CV 3/3] END criterion=entropy, max_depth=10, max_features=auto, min_samples_leaf=10, min_samples_split=100; total time=   0.0s\n",
      "[CV 1/3] END criterion=entropy, max_depth=10, max_features=log2, min_samples_leaf=1, min_samples_split=10; total time=   0.0s\n",
      "[CV 2/3] END criterion=entropy, max_depth=10, max_features=log2, min_samples_leaf=1, min_samples_split=10; total time=   0.0s\n",
      "[CV 3/3] END criterion=entropy, max_depth=10, max_features=log2, min_samples_leaf=1, min_samples_split=10; total time=   0.0s\n",
      "[CV 1/3] END criterion=entropy, max_depth=10, max_features=log2, min_samples_leaf=1, min_samples_split=20; total time=   0.0s\n",
      "[CV 2/3] END criterion=entropy, max_depth=10, max_features=log2, min_samples_leaf=1, min_samples_split=20; total time=   0.0s\n",
      "[CV 3/3] END criterion=entropy, max_depth=10, max_features=log2, min_samples_leaf=1, min_samples_split=20; total time=   0.0s\n",
      "[CV 1/3] END criterion=entropy, max_depth=10, max_features=log2, min_samples_leaf=1, min_samples_split=50; total time=   0.0s\n",
      "[CV 2/3] END criterion=entropy, max_depth=10, max_features=log2, min_samples_leaf=1, min_samples_split=50; total time=   0.0s\n",
      "[CV 3/3] END criterion=entropy, max_depth=10, max_features=log2, min_samples_leaf=1, min_samples_split=50; total time=   0.0s\n",
      "[CV 1/3] END criterion=entropy, max_depth=10, max_features=log2, min_samples_leaf=1, min_samples_split=100; total time=   0.0s\n",
      "[CV 2/3] END criterion=entropy, max_depth=10, max_features=log2, min_samples_leaf=1, min_samples_split=100; total time=   0.0s\n",
      "[CV 3/3] END criterion=entropy, max_depth=10, max_features=log2, min_samples_leaf=1, min_samples_split=100; total time=   0.0s\n",
      "[CV 1/3] END criterion=entropy, max_depth=10, max_features=log2, min_samples_leaf=2, min_samples_split=10; total time=   0.0s\n",
      "[CV 2/3] END criterion=entropy, max_depth=10, max_features=log2, min_samples_leaf=2, min_samples_split=10; total time=   0.0s\n",
      "[CV 3/3] END criterion=entropy, max_depth=10, max_features=log2, min_samples_leaf=2, min_samples_split=10; total time=   0.0s\n",
      "[CV 1/3] END criterion=entropy, max_depth=10, max_features=log2, min_samples_leaf=2, min_samples_split=20; total time=   0.0s\n",
      "[CV 2/3] END criterion=entropy, max_depth=10, max_features=log2, min_samples_leaf=2, min_samples_split=20; total time=   0.0s\n",
      "[CV 3/3] END criterion=entropy, max_depth=10, max_features=log2, min_samples_leaf=2, min_samples_split=20; total time=   0.0s\n",
      "[CV 1/3] END criterion=entropy, max_depth=10, max_features=log2, min_samples_leaf=2, min_samples_split=50; total time=   0.0s\n",
      "[CV 2/3] END criterion=entropy, max_depth=10, max_features=log2, min_samples_leaf=2, min_samples_split=50; total time=   0.0s\n",
      "[CV 3/3] END criterion=entropy, max_depth=10, max_features=log2, min_samples_leaf=2, min_samples_split=50; total time=   0.0s\n",
      "[CV 1/3] END criterion=entropy, max_depth=10, max_features=log2, min_samples_leaf=2, min_samples_split=100; total time=   0.0s\n",
      "[CV 2/3] END criterion=entropy, max_depth=10, max_features=log2, min_samples_leaf=2, min_samples_split=100; total time=   0.0s\n",
      "[CV 3/3] END criterion=entropy, max_depth=10, max_features=log2, min_samples_leaf=2, min_samples_split=100; total time=   0.0s\n",
      "[CV 1/3] END criterion=entropy, max_depth=10, max_features=log2, min_samples_leaf=3, min_samples_split=10; total time=   0.0s\n",
      "[CV 2/3] END criterion=entropy, max_depth=10, max_features=log2, min_samples_leaf=3, min_samples_split=10; total time=   0.0s\n",
      "[CV 3/3] END criterion=entropy, max_depth=10, max_features=log2, min_samples_leaf=3, min_samples_split=10; total time=   0.0s\n",
      "[CV 1/3] END criterion=entropy, max_depth=10, max_features=log2, min_samples_leaf=3, min_samples_split=20; total time=   0.0s\n",
      "[CV 2/3] END criterion=entropy, max_depth=10, max_features=log2, min_samples_leaf=3, min_samples_split=20; total time=   0.0s\n",
      "[CV 3/3] END criterion=entropy, max_depth=10, max_features=log2, min_samples_leaf=3, min_samples_split=20; total time=   0.0s\n",
      "[CV 1/3] END criterion=entropy, max_depth=10, max_features=log2, min_samples_leaf=3, min_samples_split=50; total time=   0.0s\n",
      "[CV 2/3] END criterion=entropy, max_depth=10, max_features=log2, min_samples_leaf=3, min_samples_split=50; total time=   0.0s\n",
      "[CV 3/3] END criterion=entropy, max_depth=10, max_features=log2, min_samples_leaf=3, min_samples_split=50; total time=   0.0s\n",
      "[CV 1/3] END criterion=entropy, max_depth=10, max_features=log2, min_samples_leaf=3, min_samples_split=100; total time=   0.0s\n",
      "[CV 2/3] END criterion=entropy, max_depth=10, max_features=log2, min_samples_leaf=3, min_samples_split=100; total time=   0.0s\n",
      "[CV 3/3] END criterion=entropy, max_depth=10, max_features=log2, min_samples_leaf=3, min_samples_split=100; total time=   0.0s\n",
      "[CV 1/3] END criterion=entropy, max_depth=10, max_features=log2, min_samples_leaf=10, min_samples_split=10; total time=   0.0s\n",
      "[CV 2/3] END criterion=entropy, max_depth=10, max_features=log2, min_samples_leaf=10, min_samples_split=10; total time=   0.0s\n",
      "[CV 3/3] END criterion=entropy, max_depth=10, max_features=log2, min_samples_leaf=10, min_samples_split=10; total time=   0.0s\n",
      "[CV 1/3] END criterion=entropy, max_depth=10, max_features=log2, min_samples_leaf=10, min_samples_split=20; total time=   0.0s\n",
      "[CV 2/3] END criterion=entropy, max_depth=10, max_features=log2, min_samples_leaf=10, min_samples_split=20; total time=   0.0s\n",
      "[CV 3/3] END criterion=entropy, max_depth=10, max_features=log2, min_samples_leaf=10, min_samples_split=20; total time=   0.0s\n",
      "[CV 1/3] END criterion=entropy, max_depth=10, max_features=log2, min_samples_leaf=10, min_samples_split=50; total time=   0.0s\n",
      "[CV 2/3] END criterion=entropy, max_depth=10, max_features=log2, min_samples_leaf=10, min_samples_split=50; total time=   0.0s\n",
      "[CV 3/3] END criterion=entropy, max_depth=10, max_features=log2, min_samples_leaf=10, min_samples_split=50; total time=   0.0s\n",
      "[CV 1/3] END criterion=entropy, max_depth=10, max_features=log2, min_samples_leaf=10, min_samples_split=100; total time=   0.0s\n",
      "[CV 2/3] END criterion=entropy, max_depth=10, max_features=log2, min_samples_leaf=10, min_samples_split=100; total time=   0.0s\n",
      "[CV 3/3] END criterion=entropy, max_depth=10, max_features=log2, min_samples_leaf=10, min_samples_split=100; total time=   0.0s\n",
      "[CV 1/3] END criterion=entropy, max_depth=15, max_features=auto, min_samples_leaf=1, min_samples_split=10; total time=   0.0s\n",
      "[CV 2/3] END criterion=entropy, max_depth=15, max_features=auto, min_samples_leaf=1, min_samples_split=10; total time=   0.0s\n",
      "[CV 3/3] END criterion=entropy, max_depth=15, max_features=auto, min_samples_leaf=1, min_samples_split=10; total time=   0.0s\n",
      "[CV 1/3] END criterion=entropy, max_depth=15, max_features=auto, min_samples_leaf=1, min_samples_split=20; total time=   0.0s\n",
      "[CV 2/3] END criterion=entropy, max_depth=15, max_features=auto, min_samples_leaf=1, min_samples_split=20; total time=   0.0s\n",
      "[CV 3/3] END criterion=entropy, max_depth=15, max_features=auto, min_samples_leaf=1, min_samples_split=20; total time=   0.0s\n",
      "[CV 1/3] END criterion=entropy, max_depth=15, max_features=auto, min_samples_leaf=1, min_samples_split=50; total time=   0.0s\n",
      "[CV 2/3] END criterion=entropy, max_depth=15, max_features=auto, min_samples_leaf=1, min_samples_split=50; total time=   0.0s\n",
      "[CV 3/3] END criterion=entropy, max_depth=15, max_features=auto, min_samples_leaf=1, min_samples_split=50; total time=   0.0s\n",
      "[CV 1/3] END criterion=entropy, max_depth=15, max_features=auto, min_samples_leaf=1, min_samples_split=100; total time=   0.0s\n",
      "[CV 2/3] END criterion=entropy, max_depth=15, max_features=auto, min_samples_leaf=1, min_samples_split=100; total time=   0.0s\n",
      "[CV 3/3] END criterion=entropy, max_depth=15, max_features=auto, min_samples_leaf=1, min_samples_split=100; total time=   0.0s\n",
      "[CV 1/3] END criterion=entropy, max_depth=15, max_features=auto, min_samples_leaf=2, min_samples_split=10; total time=   0.0s\n"
     ]
    },
    {
     "name": "stdout",
     "output_type": "stream",
     "text": [
      "[CV 2/3] END criterion=entropy, max_depth=15, max_features=auto, min_samples_leaf=2, min_samples_split=10; total time=   0.0s\n",
      "[CV 3/3] END criterion=entropy, max_depth=15, max_features=auto, min_samples_leaf=2, min_samples_split=10; total time=   0.0s\n",
      "[CV 1/3] END criterion=entropy, max_depth=15, max_features=auto, min_samples_leaf=2, min_samples_split=20; total time=   0.0s\n",
      "[CV 2/3] END criterion=entropy, max_depth=15, max_features=auto, min_samples_leaf=2, min_samples_split=20; total time=   0.0s\n",
      "[CV 3/3] END criterion=entropy, max_depth=15, max_features=auto, min_samples_leaf=2, min_samples_split=20; total time=   0.0s\n",
      "[CV 1/3] END criterion=entropy, max_depth=15, max_features=auto, min_samples_leaf=2, min_samples_split=50; total time=   0.0s\n",
      "[CV 2/3] END criterion=entropy, max_depth=15, max_features=auto, min_samples_leaf=2, min_samples_split=50; total time=   0.0s\n",
      "[CV 3/3] END criterion=entropy, max_depth=15, max_features=auto, min_samples_leaf=2, min_samples_split=50; total time=   0.0s\n",
      "[CV 1/3] END criterion=entropy, max_depth=15, max_features=auto, min_samples_leaf=2, min_samples_split=100; total time=   0.0s\n",
      "[CV 2/3] END criterion=entropy, max_depth=15, max_features=auto, min_samples_leaf=2, min_samples_split=100; total time=   0.0s\n",
      "[CV 3/3] END criterion=entropy, max_depth=15, max_features=auto, min_samples_leaf=2, min_samples_split=100; total time=   0.0s\n",
      "[CV 1/3] END criterion=entropy, max_depth=15, max_features=auto, min_samples_leaf=3, min_samples_split=10; total time=   0.0s\n",
      "[CV 2/3] END criterion=entropy, max_depth=15, max_features=auto, min_samples_leaf=3, min_samples_split=10; total time=   0.0s\n",
      "[CV 3/3] END criterion=entropy, max_depth=15, max_features=auto, min_samples_leaf=3, min_samples_split=10; total time=   0.0s\n",
      "[CV 1/3] END criterion=entropy, max_depth=15, max_features=auto, min_samples_leaf=3, min_samples_split=20; total time=   0.0s\n",
      "[CV 2/3] END criterion=entropy, max_depth=15, max_features=auto, min_samples_leaf=3, min_samples_split=20; total time=   0.0s\n",
      "[CV 3/3] END criterion=entropy, max_depth=15, max_features=auto, min_samples_leaf=3, min_samples_split=20; total time=   0.0s\n",
      "[CV 1/3] END criterion=entropy, max_depth=15, max_features=auto, min_samples_leaf=3, min_samples_split=50; total time=   0.0s\n",
      "[CV 2/3] END criterion=entropy, max_depth=15, max_features=auto, min_samples_leaf=3, min_samples_split=50; total time=   0.0s\n",
      "[CV 3/3] END criterion=entropy, max_depth=15, max_features=auto, min_samples_leaf=3, min_samples_split=50; total time=   0.0s\n",
      "[CV 1/3] END criterion=entropy, max_depth=15, max_features=auto, min_samples_leaf=3, min_samples_split=100; total time=   0.0s\n",
      "[CV 2/3] END criterion=entropy, max_depth=15, max_features=auto, min_samples_leaf=3, min_samples_split=100; total time=   0.0s\n",
      "[CV 3/3] END criterion=entropy, max_depth=15, max_features=auto, min_samples_leaf=3, min_samples_split=100; total time=   0.0s\n",
      "[CV 1/3] END criterion=entropy, max_depth=15, max_features=auto, min_samples_leaf=10, min_samples_split=10; total time=   0.0s\n",
      "[CV 2/3] END criterion=entropy, max_depth=15, max_features=auto, min_samples_leaf=10, min_samples_split=10; total time=   0.0s\n",
      "[CV 3/3] END criterion=entropy, max_depth=15, max_features=auto, min_samples_leaf=10, min_samples_split=10; total time=   0.0s\n",
      "[CV 1/3] END criterion=entropy, max_depth=15, max_features=auto, min_samples_leaf=10, min_samples_split=20; total time=   0.0s\n",
      "[CV 2/3] END criterion=entropy, max_depth=15, max_features=auto, min_samples_leaf=10, min_samples_split=20; total time=   0.0s\n",
      "[CV 3/3] END criterion=entropy, max_depth=15, max_features=auto, min_samples_leaf=10, min_samples_split=20; total time=   0.0s\n",
      "[CV 1/3] END criterion=entropy, max_depth=15, max_features=auto, min_samples_leaf=10, min_samples_split=50; total time=   0.0s\n",
      "[CV 2/3] END criterion=entropy, max_depth=15, max_features=auto, min_samples_leaf=10, min_samples_split=50; total time=   0.0s\n",
      "[CV 3/3] END criterion=entropy, max_depth=15, max_features=auto, min_samples_leaf=10, min_samples_split=50; total time=   0.0s\n",
      "[CV 1/3] END criterion=entropy, max_depth=15, max_features=auto, min_samples_leaf=10, min_samples_split=100; total time=   0.0s\n",
      "[CV 2/3] END criterion=entropy, max_depth=15, max_features=auto, min_samples_leaf=10, min_samples_split=100; total time=   0.0s\n",
      "[CV 3/3] END criterion=entropy, max_depth=15, max_features=auto, min_samples_leaf=10, min_samples_split=100; total time=   0.0s\n",
      "[CV 1/3] END criterion=entropy, max_depth=15, max_features=log2, min_samples_leaf=1, min_samples_split=10; total time=   0.0s\n",
      "[CV 2/3] END criterion=entropy, max_depth=15, max_features=log2, min_samples_leaf=1, min_samples_split=10; total time=   0.0s\n",
      "[CV 3/3] END criterion=entropy, max_depth=15, max_features=log2, min_samples_leaf=1, min_samples_split=10; total time=   0.0s\n",
      "[CV 1/3] END criterion=entropy, max_depth=15, max_features=log2, min_samples_leaf=1, min_samples_split=20; total time=   0.0s\n",
      "[CV 2/3] END criterion=entropy, max_depth=15, max_features=log2, min_samples_leaf=1, min_samples_split=20; total time=   0.0s\n",
      "[CV 3/3] END criterion=entropy, max_depth=15, max_features=log2, min_samples_leaf=1, min_samples_split=20; total time=   0.0s\n",
      "[CV 1/3] END criterion=entropy, max_depth=15, max_features=log2, min_samples_leaf=1, min_samples_split=50; total time=   0.0s\n",
      "[CV 2/3] END criterion=entropy, max_depth=15, max_features=log2, min_samples_leaf=1, min_samples_split=50; total time=   0.0s\n",
      "[CV 3/3] END criterion=entropy, max_depth=15, max_features=log2, min_samples_leaf=1, min_samples_split=50; total time=   0.0s\n",
      "[CV 1/3] END criterion=entropy, max_depth=15, max_features=log2, min_samples_leaf=1, min_samples_split=100; total time=   0.0s\n",
      "[CV 2/3] END criterion=entropy, max_depth=15, max_features=log2, min_samples_leaf=1, min_samples_split=100; total time=   0.0s\n",
      "[CV 3/3] END criterion=entropy, max_depth=15, max_features=log2, min_samples_leaf=1, min_samples_split=100; total time=   0.0s\n",
      "[CV 1/3] END criterion=entropy, max_depth=15, max_features=log2, min_samples_leaf=2, min_samples_split=10; total time=   0.0s\n",
      "[CV 2/3] END criterion=entropy, max_depth=15, max_features=log2, min_samples_leaf=2, min_samples_split=10; total time=   0.0s\n",
      "[CV 3/3] END criterion=entropy, max_depth=15, max_features=log2, min_samples_leaf=2, min_samples_split=10; total time=   0.0s\n",
      "[CV 1/3] END criterion=entropy, max_depth=15, max_features=log2, min_samples_leaf=2, min_samples_split=20; total time=   0.0s\n",
      "[CV 2/3] END criterion=entropy, max_depth=15, max_features=log2, min_samples_leaf=2, min_samples_split=20; total time=   0.0s\n",
      "[CV 3/3] END criterion=entropy, max_depth=15, max_features=log2, min_samples_leaf=2, min_samples_split=20; total time=   0.0s\n",
      "[CV 1/3] END criterion=entropy, max_depth=15, max_features=log2, min_samples_leaf=2, min_samples_split=50; total time=   0.0s\n",
      "[CV 2/3] END criterion=entropy, max_depth=15, max_features=log2, min_samples_leaf=2, min_samples_split=50; total time=   0.0s\n",
      "[CV 3/3] END criterion=entropy, max_depth=15, max_features=log2, min_samples_leaf=2, min_samples_split=50; total time=   0.0s\n",
      "[CV 1/3] END criterion=entropy, max_depth=15, max_features=log2, min_samples_leaf=2, min_samples_split=100; total time=   0.0s\n",
      "[CV 2/3] END criterion=entropy, max_depth=15, max_features=log2, min_samples_leaf=2, min_samples_split=100; total time=   0.0s\n",
      "[CV 3/3] END criterion=entropy, max_depth=15, max_features=log2, min_samples_leaf=2, min_samples_split=100; total time=   0.0s\n",
      "[CV 1/3] END criterion=entropy, max_depth=15, max_features=log2, min_samples_leaf=3, min_samples_split=10; total time=   0.0s\n",
      "[CV 2/3] END criterion=entropy, max_depth=15, max_features=log2, min_samples_leaf=3, min_samples_split=10; total time=   0.0s\n",
      "[CV 3/3] END criterion=entropy, max_depth=15, max_features=log2, min_samples_leaf=3, min_samples_split=10; total time=   0.0s\n",
      "[CV 1/3] END criterion=entropy, max_depth=15, max_features=log2, min_samples_leaf=3, min_samples_split=20; total time=   0.0s\n",
      "[CV 2/3] END criterion=entropy, max_depth=15, max_features=log2, min_samples_leaf=3, min_samples_split=20; total time=   0.0s\n",
      "[CV 3/3] END criterion=entropy, max_depth=15, max_features=log2, min_samples_leaf=3, min_samples_split=20; total time=   0.0s\n"
     ]
    },
    {
     "name": "stdout",
     "output_type": "stream",
     "text": [
      "[CV 1/3] END criterion=entropy, max_depth=15, max_features=log2, min_samples_leaf=3, min_samples_split=50; total time=   0.0s\n",
      "[CV 2/3] END criterion=entropy, max_depth=15, max_features=log2, min_samples_leaf=3, min_samples_split=50; total time=   0.0s\n",
      "[CV 3/3] END criterion=entropy, max_depth=15, max_features=log2, min_samples_leaf=3, min_samples_split=50; total time=   0.0s\n",
      "[CV 1/3] END criterion=entropy, max_depth=15, max_features=log2, min_samples_leaf=3, min_samples_split=100; total time=   0.0s\n",
      "[CV 2/3] END criterion=entropy, max_depth=15, max_features=log2, min_samples_leaf=3, min_samples_split=100; total time=   0.0s\n",
      "[CV 3/3] END criterion=entropy, max_depth=15, max_features=log2, min_samples_leaf=3, min_samples_split=100; total time=   0.0s\n",
      "[CV 1/3] END criterion=entropy, max_depth=15, max_features=log2, min_samples_leaf=10, min_samples_split=10; total time=   0.0s\n",
      "[CV 2/3] END criterion=entropy, max_depth=15, max_features=log2, min_samples_leaf=10, min_samples_split=10; total time=   0.0s\n",
      "[CV 3/3] END criterion=entropy, max_depth=15, max_features=log2, min_samples_leaf=10, min_samples_split=10; total time=   0.0s\n",
      "[CV 1/3] END criterion=entropy, max_depth=15, max_features=log2, min_samples_leaf=10, min_samples_split=20; total time=   0.0s\n",
      "[CV 2/3] END criterion=entropy, max_depth=15, max_features=log2, min_samples_leaf=10, min_samples_split=20; total time=   0.0s\n",
      "[CV 3/3] END criterion=entropy, max_depth=15, max_features=log2, min_samples_leaf=10, min_samples_split=20; total time=   0.0s\n",
      "[CV 1/3] END criterion=entropy, max_depth=15, max_features=log2, min_samples_leaf=10, min_samples_split=50; total time=   0.0s\n",
      "[CV 2/3] END criterion=entropy, max_depth=15, max_features=log2, min_samples_leaf=10, min_samples_split=50; total time=   0.0s\n",
      "[CV 3/3] END criterion=entropy, max_depth=15, max_features=log2, min_samples_leaf=10, min_samples_split=50; total time=   0.0s\n",
      "[CV 1/3] END criterion=entropy, max_depth=15, max_features=log2, min_samples_leaf=10, min_samples_split=100; total time=   0.0s\n",
      "[CV 2/3] END criterion=entropy, max_depth=15, max_features=log2, min_samples_leaf=10, min_samples_split=100; total time=   0.0s\n",
      "[CV 3/3] END criterion=entropy, max_depth=15, max_features=log2, min_samples_leaf=10, min_samples_split=100; total time=   0.0s\n",
      "[CV 1/3] END criterion=entropy, max_depth=20, max_features=auto, min_samples_leaf=1, min_samples_split=10; total time=   0.0s\n",
      "[CV 2/3] END criterion=entropy, max_depth=20, max_features=auto, min_samples_leaf=1, min_samples_split=10; total time=   0.0s\n",
      "[CV 3/3] END criterion=entropy, max_depth=20, max_features=auto, min_samples_leaf=1, min_samples_split=10; total time=   0.0s\n",
      "[CV 1/3] END criterion=entropy, max_depth=20, max_features=auto, min_samples_leaf=1, min_samples_split=20; total time=   0.0s\n",
      "[CV 2/3] END criterion=entropy, max_depth=20, max_features=auto, min_samples_leaf=1, min_samples_split=20; total time=   0.0s\n",
      "[CV 3/3] END criterion=entropy, max_depth=20, max_features=auto, min_samples_leaf=1, min_samples_split=20; total time=   0.0s\n",
      "[CV 1/3] END criterion=entropy, max_depth=20, max_features=auto, min_samples_leaf=1, min_samples_split=50; total time=   0.0s\n",
      "[CV 2/3] END criterion=entropy, max_depth=20, max_features=auto, min_samples_leaf=1, min_samples_split=50; total time=   0.0s\n",
      "[CV 3/3] END criterion=entropy, max_depth=20, max_features=auto, min_samples_leaf=1, min_samples_split=50; total time=   0.0s\n",
      "[CV 1/3] END criterion=entropy, max_depth=20, max_features=auto, min_samples_leaf=1, min_samples_split=100; total time=   0.0s\n",
      "[CV 2/3] END criterion=entropy, max_depth=20, max_features=auto, min_samples_leaf=1, min_samples_split=100; total time=   0.0s\n",
      "[CV 3/3] END criterion=entropy, max_depth=20, max_features=auto, min_samples_leaf=1, min_samples_split=100; total time=   0.0s\n",
      "[CV 1/3] END criterion=entropy, max_depth=20, max_features=auto, min_samples_leaf=2, min_samples_split=10; total time=   0.0s\n",
      "[CV 2/3] END criterion=entropy, max_depth=20, max_features=auto, min_samples_leaf=2, min_samples_split=10; total time=   0.0s\n",
      "[CV 3/3] END criterion=entropy, max_depth=20, max_features=auto, min_samples_leaf=2, min_samples_split=10; total time=   0.0s\n",
      "[CV 1/3] END criterion=entropy, max_depth=20, max_features=auto, min_samples_leaf=2, min_samples_split=20; total time=   0.0s\n",
      "[CV 2/3] END criterion=entropy, max_depth=20, max_features=auto, min_samples_leaf=2, min_samples_split=20; total time=   0.0s\n",
      "[CV 3/3] END criterion=entropy, max_depth=20, max_features=auto, min_samples_leaf=2, min_samples_split=20; total time=   0.0s\n",
      "[CV 1/3] END criterion=entropy, max_depth=20, max_features=auto, min_samples_leaf=2, min_samples_split=50; total time=   0.0s\n",
      "[CV 2/3] END criterion=entropy, max_depth=20, max_features=auto, min_samples_leaf=2, min_samples_split=50; total time=   0.0s\n",
      "[CV 3/3] END criterion=entropy, max_depth=20, max_features=auto, min_samples_leaf=2, min_samples_split=50; total time=   0.0s\n",
      "[CV 1/3] END criterion=entropy, max_depth=20, max_features=auto, min_samples_leaf=2, min_samples_split=100; total time=   0.0s\n",
      "[CV 2/3] END criterion=entropy, max_depth=20, max_features=auto, min_samples_leaf=2, min_samples_split=100; total time=   0.0s\n",
      "[CV 3/3] END criterion=entropy, max_depth=20, max_features=auto, min_samples_leaf=2, min_samples_split=100; total time=   0.0s\n",
      "[CV 1/3] END criterion=entropy, max_depth=20, max_features=auto, min_samples_leaf=3, min_samples_split=10; total time=   0.0s\n",
      "[CV 2/3] END criterion=entropy, max_depth=20, max_features=auto, min_samples_leaf=3, min_samples_split=10; total time=   0.0s\n",
      "[CV 3/3] END criterion=entropy, max_depth=20, max_features=auto, min_samples_leaf=3, min_samples_split=10; total time=   0.0s\n",
      "[CV 1/3] END criterion=entropy, max_depth=20, max_features=auto, min_samples_leaf=3, min_samples_split=20; total time=   0.0s\n",
      "[CV 2/3] END criterion=entropy, max_depth=20, max_features=auto, min_samples_leaf=3, min_samples_split=20; total time=   0.0s\n",
      "[CV 3/3] END criterion=entropy, max_depth=20, max_features=auto, min_samples_leaf=3, min_samples_split=20; total time=   0.0s\n",
      "[CV 1/3] END criterion=entropy, max_depth=20, max_features=auto, min_samples_leaf=3, min_samples_split=50; total time=   0.0s\n",
      "[CV 2/3] END criterion=entropy, max_depth=20, max_features=auto, min_samples_leaf=3, min_samples_split=50; total time=   0.0s\n",
      "[CV 3/3] END criterion=entropy, max_depth=20, max_features=auto, min_samples_leaf=3, min_samples_split=50; total time=   0.0s\n",
      "[CV 1/3] END criterion=entropy, max_depth=20, max_features=auto, min_samples_leaf=3, min_samples_split=100; total time=   0.0s\n",
      "[CV 2/3] END criterion=entropy, max_depth=20, max_features=auto, min_samples_leaf=3, min_samples_split=100; total time=   0.0s\n",
      "[CV 3/3] END criterion=entropy, max_depth=20, max_features=auto, min_samples_leaf=3, min_samples_split=100; total time=   0.0s\n",
      "[CV 1/3] END criterion=entropy, max_depth=20, max_features=auto, min_samples_leaf=10, min_samples_split=10; total time=   0.0s\n",
      "[CV 2/3] END criterion=entropy, max_depth=20, max_features=auto, min_samples_leaf=10, min_samples_split=10; total time=   0.0s\n",
      "[CV 3/3] END criterion=entropy, max_depth=20, max_features=auto, min_samples_leaf=10, min_samples_split=10; total time=   0.0s\n",
      "[CV 1/3] END criterion=entropy, max_depth=20, max_features=auto, min_samples_leaf=10, min_samples_split=20; total time=   0.0s\n",
      "[CV 2/3] END criterion=entropy, max_depth=20, max_features=auto, min_samples_leaf=10, min_samples_split=20; total time=   0.0s\n",
      "[CV 3/3] END criterion=entropy, max_depth=20, max_features=auto, min_samples_leaf=10, min_samples_split=20; total time=   0.0s\n",
      "[CV 1/3] END criterion=entropy, max_depth=20, max_features=auto, min_samples_leaf=10, min_samples_split=50; total time=   0.0s\n",
      "[CV 2/3] END criterion=entropy, max_depth=20, max_features=auto, min_samples_leaf=10, min_samples_split=50; total time=   0.0s\n",
      "[CV 3/3] END criterion=entropy, max_depth=20, max_features=auto, min_samples_leaf=10, min_samples_split=50; total time=   0.0s\n",
      "[CV 1/3] END criterion=entropy, max_depth=20, max_features=auto, min_samples_leaf=10, min_samples_split=100; total time=   0.0s\n",
      "[CV 2/3] END criterion=entropy, max_depth=20, max_features=auto, min_samples_leaf=10, min_samples_split=100; total time=   0.0s\n",
      "[CV 3/3] END criterion=entropy, max_depth=20, max_features=auto, min_samples_leaf=10, min_samples_split=100; total time=   0.0s\n",
      "[CV 1/3] END criterion=entropy, max_depth=20, max_features=log2, min_samples_leaf=1, min_samples_split=10; total time=   0.0s\n"
     ]
    },
    {
     "name": "stdout",
     "output_type": "stream",
     "text": [
      "[CV 2/3] END criterion=entropy, max_depth=20, max_features=log2, min_samples_leaf=1, min_samples_split=10; total time=   0.0s\n",
      "[CV 3/3] END criterion=entropy, max_depth=20, max_features=log2, min_samples_leaf=1, min_samples_split=10; total time=   0.0s\n",
      "[CV 1/3] END criterion=entropy, max_depth=20, max_features=log2, min_samples_leaf=1, min_samples_split=20; total time=   0.0s\n",
      "[CV 2/3] END criterion=entropy, max_depth=20, max_features=log2, min_samples_leaf=1, min_samples_split=20; total time=   0.0s\n",
      "[CV 3/3] END criterion=entropy, max_depth=20, max_features=log2, min_samples_leaf=1, min_samples_split=20; total time=   0.0s\n",
      "[CV 1/3] END criterion=entropy, max_depth=20, max_features=log2, min_samples_leaf=1, min_samples_split=50; total time=   0.0s\n",
      "[CV 2/3] END criterion=entropy, max_depth=20, max_features=log2, min_samples_leaf=1, min_samples_split=50; total time=   0.0s\n",
      "[CV 3/3] END criterion=entropy, max_depth=20, max_features=log2, min_samples_leaf=1, min_samples_split=50; total time=   0.0s\n",
      "[CV 1/3] END criterion=entropy, max_depth=20, max_features=log2, min_samples_leaf=1, min_samples_split=100; total time=   0.0s\n",
      "[CV 2/3] END criterion=entropy, max_depth=20, max_features=log2, min_samples_leaf=1, min_samples_split=100; total time=   0.0s\n",
      "[CV 3/3] END criterion=entropy, max_depth=20, max_features=log2, min_samples_leaf=1, min_samples_split=100; total time=   0.0s\n",
      "[CV 1/3] END criterion=entropy, max_depth=20, max_features=log2, min_samples_leaf=2, min_samples_split=10; total time=   0.0s\n",
      "[CV 2/3] END criterion=entropy, max_depth=20, max_features=log2, min_samples_leaf=2, min_samples_split=10; total time=   0.0s\n",
      "[CV 3/3] END criterion=entropy, max_depth=20, max_features=log2, min_samples_leaf=2, min_samples_split=10; total time=   0.0s\n",
      "[CV 1/3] END criterion=entropy, max_depth=20, max_features=log2, min_samples_leaf=2, min_samples_split=20; total time=   0.0s\n",
      "[CV 2/3] END criterion=entropy, max_depth=20, max_features=log2, min_samples_leaf=2, min_samples_split=20; total time=   0.0s\n",
      "[CV 3/3] END criterion=entropy, max_depth=20, max_features=log2, min_samples_leaf=2, min_samples_split=20; total time=   0.0s\n",
      "[CV 1/3] END criterion=entropy, max_depth=20, max_features=log2, min_samples_leaf=2, min_samples_split=50; total time=   0.0s\n",
      "[CV 2/3] END criterion=entropy, max_depth=20, max_features=log2, min_samples_leaf=2, min_samples_split=50; total time=   0.0s\n",
      "[CV 3/3] END criterion=entropy, max_depth=20, max_features=log2, min_samples_leaf=2, min_samples_split=50; total time=   0.0s\n",
      "[CV 1/3] END criterion=entropy, max_depth=20, max_features=log2, min_samples_leaf=2, min_samples_split=100; total time=   0.0s\n",
      "[CV 2/3] END criterion=entropy, max_depth=20, max_features=log2, min_samples_leaf=2, min_samples_split=100; total time=   0.0s\n",
      "[CV 3/3] END criterion=entropy, max_depth=20, max_features=log2, min_samples_leaf=2, min_samples_split=100; total time=   0.0s\n",
      "[CV 1/3] END criterion=entropy, max_depth=20, max_features=log2, min_samples_leaf=3, min_samples_split=10; total time=   0.0s\n",
      "[CV 2/3] END criterion=entropy, max_depth=20, max_features=log2, min_samples_leaf=3, min_samples_split=10; total time=   0.0s\n",
      "[CV 3/3] END criterion=entropy, max_depth=20, max_features=log2, min_samples_leaf=3, min_samples_split=10; total time=   0.0s\n",
      "[CV 1/3] END criterion=entropy, max_depth=20, max_features=log2, min_samples_leaf=3, min_samples_split=20; total time=   0.0s\n",
      "[CV 2/3] END criterion=entropy, max_depth=20, max_features=log2, min_samples_leaf=3, min_samples_split=20; total time=   0.0s\n",
      "[CV 3/3] END criterion=entropy, max_depth=20, max_features=log2, min_samples_leaf=3, min_samples_split=20; total time=   0.0s\n",
      "[CV 1/3] END criterion=entropy, max_depth=20, max_features=log2, min_samples_leaf=3, min_samples_split=50; total time=   0.0s\n",
      "[CV 2/3] END criterion=entropy, max_depth=20, max_features=log2, min_samples_leaf=3, min_samples_split=50; total time=   0.0s\n",
      "[CV 3/3] END criterion=entropy, max_depth=20, max_features=log2, min_samples_leaf=3, min_samples_split=50; total time=   0.0s\n",
      "[CV 1/3] END criterion=entropy, max_depth=20, max_features=log2, min_samples_leaf=3, min_samples_split=100; total time=   0.0s\n",
      "[CV 2/3] END criterion=entropy, max_depth=20, max_features=log2, min_samples_leaf=3, min_samples_split=100; total time=   0.0s\n",
      "[CV 3/3] END criterion=entropy, max_depth=20, max_features=log2, min_samples_leaf=3, min_samples_split=100; total time=   0.0s\n",
      "[CV 1/3] END criterion=entropy, max_depth=20, max_features=log2, min_samples_leaf=10, min_samples_split=10; total time=   0.0s\n",
      "[CV 2/3] END criterion=entropy, max_depth=20, max_features=log2, min_samples_leaf=10, min_samples_split=10; total time=   0.0s\n",
      "[CV 3/3] END criterion=entropy, max_depth=20, max_features=log2, min_samples_leaf=10, min_samples_split=10; total time=   0.0s\n",
      "[CV 1/3] END criterion=entropy, max_depth=20, max_features=log2, min_samples_leaf=10, min_samples_split=20; total time=   0.0s\n",
      "[CV 2/3] END criterion=entropy, max_depth=20, max_features=log2, min_samples_leaf=10, min_samples_split=20; total time=   0.0s\n",
      "[CV 3/3] END criterion=entropy, max_depth=20, max_features=log2, min_samples_leaf=10, min_samples_split=20; total time=   0.0s\n",
      "[CV 1/3] END criterion=entropy, max_depth=20, max_features=log2, min_samples_leaf=10, min_samples_split=50; total time=   0.0s\n",
      "[CV 2/3] END criterion=entropy, max_depth=20, max_features=log2, min_samples_leaf=10, min_samples_split=50; total time=   0.0s\n",
      "[CV 3/3] END criterion=entropy, max_depth=20, max_features=log2, min_samples_leaf=10, min_samples_split=50; total time=   0.0s\n",
      "[CV 1/3] END criterion=entropy, max_depth=20, max_features=log2, min_samples_leaf=10, min_samples_split=100; total time=   0.0s\n",
      "[CV 2/3] END criterion=entropy, max_depth=20, max_features=log2, min_samples_leaf=10, min_samples_split=100; total time=   0.0s\n",
      "[CV 3/3] END criterion=entropy, max_depth=20, max_features=log2, min_samples_leaf=10, min_samples_split=100; total time=   0.0s\n",
      "[CV 1/3] END criterion=gini, max_depth=5, max_features=auto, min_samples_leaf=1, min_samples_split=10; total time=   0.0s\n",
      "[CV 2/3] END criterion=gini, max_depth=5, max_features=auto, min_samples_leaf=1, min_samples_split=10; total time=   0.0s\n",
      "[CV 3/3] END criterion=gini, max_depth=5, max_features=auto, min_samples_leaf=1, min_samples_split=10; total time=   0.0s\n",
      "[CV 1/3] END criterion=gini, max_depth=5, max_features=auto, min_samples_leaf=1, min_samples_split=20; total time=   0.0s\n",
      "[CV 2/3] END criterion=gini, max_depth=5, max_features=auto, min_samples_leaf=1, min_samples_split=20; total time=   0.0s\n",
      "[CV 3/3] END criterion=gini, max_depth=5, max_features=auto, min_samples_leaf=1, min_samples_split=20; total time=   0.0s\n",
      "[CV 1/3] END criterion=gini, max_depth=5, max_features=auto, min_samples_leaf=1, min_samples_split=50; total time=   0.0s\n",
      "[CV 2/3] END criterion=gini, max_depth=5, max_features=auto, min_samples_leaf=1, min_samples_split=50; total time=   0.0s\n",
      "[CV 3/3] END criterion=gini, max_depth=5, max_features=auto, min_samples_leaf=1, min_samples_split=50; total time=   0.0s\n",
      "[CV 1/3] END criterion=gini, max_depth=5, max_features=auto, min_samples_leaf=1, min_samples_split=100; total time=   0.0s\n",
      "[CV 2/3] END criterion=gini, max_depth=5, max_features=auto, min_samples_leaf=1, min_samples_split=100; total time=   0.0s\n",
      "[CV 3/3] END criterion=gini, max_depth=5, max_features=auto, min_samples_leaf=1, min_samples_split=100; total time=   0.0s\n",
      "[CV 1/3] END criterion=gini, max_depth=5, max_features=auto, min_samples_leaf=2, min_samples_split=10; total time=   0.0s\n",
      "[CV 2/3] END criterion=gini, max_depth=5, max_features=auto, min_samples_leaf=2, min_samples_split=10; total time=   0.0s\n",
      "[CV 3/3] END criterion=gini, max_depth=5, max_features=auto, min_samples_leaf=2, min_samples_split=10; total time=   0.0s\n",
      "[CV 1/3] END criterion=gini, max_depth=5, max_features=auto, min_samples_leaf=2, min_samples_split=20; total time=   0.0s\n",
      "[CV 2/3] END criterion=gini, max_depth=5, max_features=auto, min_samples_leaf=2, min_samples_split=20; total time=   0.0s\n",
      "[CV 3/3] END criterion=gini, max_depth=5, max_features=auto, min_samples_leaf=2, min_samples_split=20; total time=   0.0s\n",
      "[CV 1/3] END criterion=gini, max_depth=5, max_features=auto, min_samples_leaf=2, min_samples_split=50; total time=   0.0s\n"
     ]
    },
    {
     "name": "stdout",
     "output_type": "stream",
     "text": [
      "[CV 2/3] END criterion=gini, max_depth=5, max_features=auto, min_samples_leaf=2, min_samples_split=50; total time=   0.0s\n",
      "[CV 3/3] END criterion=gini, max_depth=5, max_features=auto, min_samples_leaf=2, min_samples_split=50; total time=   0.0s\n",
      "[CV 1/3] END criterion=gini, max_depth=5, max_features=auto, min_samples_leaf=2, min_samples_split=100; total time=   0.0s\n",
      "[CV 2/3] END criterion=gini, max_depth=5, max_features=auto, min_samples_leaf=2, min_samples_split=100; total time=   0.0s\n",
      "[CV 3/3] END criterion=gini, max_depth=5, max_features=auto, min_samples_leaf=2, min_samples_split=100; total time=   0.0s\n",
      "[CV 1/3] END criterion=gini, max_depth=5, max_features=auto, min_samples_leaf=3, min_samples_split=10; total time=   0.0s\n",
      "[CV 2/3] END criterion=gini, max_depth=5, max_features=auto, min_samples_leaf=3, min_samples_split=10; total time=   0.0s\n",
      "[CV 3/3] END criterion=gini, max_depth=5, max_features=auto, min_samples_leaf=3, min_samples_split=10; total time=   0.0s\n",
      "[CV 1/3] END criterion=gini, max_depth=5, max_features=auto, min_samples_leaf=3, min_samples_split=20; total time=   0.0s\n",
      "[CV 2/3] END criterion=gini, max_depth=5, max_features=auto, min_samples_leaf=3, min_samples_split=20; total time=   0.0s\n",
      "[CV 3/3] END criterion=gini, max_depth=5, max_features=auto, min_samples_leaf=3, min_samples_split=20; total time=   0.0s\n",
      "[CV 1/3] END criterion=gini, max_depth=5, max_features=auto, min_samples_leaf=3, min_samples_split=50; total time=   0.0s\n",
      "[CV 2/3] END criterion=gini, max_depth=5, max_features=auto, min_samples_leaf=3, min_samples_split=50; total time=   0.0s\n",
      "[CV 3/3] END criterion=gini, max_depth=5, max_features=auto, min_samples_leaf=3, min_samples_split=50; total time=   0.0s\n",
      "[CV 1/3] END criterion=gini, max_depth=5, max_features=auto, min_samples_leaf=3, min_samples_split=100; total time=   0.0s\n",
      "[CV 2/3] END criterion=gini, max_depth=5, max_features=auto, min_samples_leaf=3, min_samples_split=100; total time=   0.0s\n",
      "[CV 3/3] END criterion=gini, max_depth=5, max_features=auto, min_samples_leaf=3, min_samples_split=100; total time=   0.0s\n",
      "[CV 1/3] END criterion=gini, max_depth=5, max_features=auto, min_samples_leaf=10, min_samples_split=10; total time=   0.0s\n",
      "[CV 2/3] END criterion=gini, max_depth=5, max_features=auto, min_samples_leaf=10, min_samples_split=10; total time=   0.0s\n",
      "[CV 3/3] END criterion=gini, max_depth=5, max_features=auto, min_samples_leaf=10, min_samples_split=10; total time=   0.0s\n",
      "[CV 1/3] END criterion=gini, max_depth=5, max_features=auto, min_samples_leaf=10, min_samples_split=20; total time=   0.0s\n",
      "[CV 2/3] END criterion=gini, max_depth=5, max_features=auto, min_samples_leaf=10, min_samples_split=20; total time=   0.0s\n",
      "[CV 3/3] END criterion=gini, max_depth=5, max_features=auto, min_samples_leaf=10, min_samples_split=20; total time=   0.0s\n",
      "[CV 1/3] END criterion=gini, max_depth=5, max_features=auto, min_samples_leaf=10, min_samples_split=50; total time=   0.0s\n",
      "[CV 2/3] END criterion=gini, max_depth=5, max_features=auto, min_samples_leaf=10, min_samples_split=50; total time=   0.0s\n",
      "[CV 3/3] END criterion=gini, max_depth=5, max_features=auto, min_samples_leaf=10, min_samples_split=50; total time=   0.0s\n",
      "[CV 1/3] END criterion=gini, max_depth=5, max_features=auto, min_samples_leaf=10, min_samples_split=100; total time=   0.0s\n",
      "[CV 2/3] END criterion=gini, max_depth=5, max_features=auto, min_samples_leaf=10, min_samples_split=100; total time=   0.0s\n",
      "[CV 3/3] END criterion=gini, max_depth=5, max_features=auto, min_samples_leaf=10, min_samples_split=100; total time=   0.0s\n",
      "[CV 1/3] END criterion=gini, max_depth=5, max_features=log2, min_samples_leaf=1, min_samples_split=10; total time=   0.0s\n",
      "[CV 2/3] END criterion=gini, max_depth=5, max_features=log2, min_samples_leaf=1, min_samples_split=10; total time=   0.0s\n",
      "[CV 3/3] END criterion=gini, max_depth=5, max_features=log2, min_samples_leaf=1, min_samples_split=10; total time=   0.0s\n",
      "[CV 1/3] END criterion=gini, max_depth=5, max_features=log2, min_samples_leaf=1, min_samples_split=20; total time=   0.0s\n",
      "[CV 2/3] END criterion=gini, max_depth=5, max_features=log2, min_samples_leaf=1, min_samples_split=20; total time=   0.0s\n",
      "[CV 3/3] END criterion=gini, max_depth=5, max_features=log2, min_samples_leaf=1, min_samples_split=20; total time=   0.0s\n",
      "[CV 1/3] END criterion=gini, max_depth=5, max_features=log2, min_samples_leaf=1, min_samples_split=50; total time=   0.0s\n",
      "[CV 2/3] END criterion=gini, max_depth=5, max_features=log2, min_samples_leaf=1, min_samples_split=50; total time=   0.0s\n",
      "[CV 3/3] END criterion=gini, max_depth=5, max_features=log2, min_samples_leaf=1, min_samples_split=50; total time=   0.0s\n",
      "[CV 1/3] END criterion=gini, max_depth=5, max_features=log2, min_samples_leaf=1, min_samples_split=100; total time=   0.0s\n",
      "[CV 2/3] END criterion=gini, max_depth=5, max_features=log2, min_samples_leaf=1, min_samples_split=100; total time=   0.0s\n",
      "[CV 3/3] END criterion=gini, max_depth=5, max_features=log2, min_samples_leaf=1, min_samples_split=100; total time=   0.0s\n",
      "[CV 1/3] END criterion=gini, max_depth=5, max_features=log2, min_samples_leaf=2, min_samples_split=10; total time=   0.0s\n",
      "[CV 2/3] END criterion=gini, max_depth=5, max_features=log2, min_samples_leaf=2, min_samples_split=10; total time=   0.0s\n",
      "[CV 3/3] END criterion=gini, max_depth=5, max_features=log2, min_samples_leaf=2, min_samples_split=10; total time=   0.0s\n",
      "[CV 1/3] END criterion=gini, max_depth=5, max_features=log2, min_samples_leaf=2, min_samples_split=20; total time=   0.0s\n",
      "[CV 2/3] END criterion=gini, max_depth=5, max_features=log2, min_samples_leaf=2, min_samples_split=20; total time=   0.0s\n",
      "[CV 3/3] END criterion=gini, max_depth=5, max_features=log2, min_samples_leaf=2, min_samples_split=20; total time=   0.0s\n",
      "[CV 1/3] END criterion=gini, max_depth=5, max_features=log2, min_samples_leaf=2, min_samples_split=50; total time=   0.0s\n",
      "[CV 2/3] END criterion=gini, max_depth=5, max_features=log2, min_samples_leaf=2, min_samples_split=50; total time=   0.0s\n",
      "[CV 3/3] END criterion=gini, max_depth=5, max_features=log2, min_samples_leaf=2, min_samples_split=50; total time=   0.0s\n",
      "[CV 1/3] END criterion=gini, max_depth=5, max_features=log2, min_samples_leaf=2, min_samples_split=100; total time=   0.0s\n",
      "[CV 2/3] END criterion=gini, max_depth=5, max_features=log2, min_samples_leaf=2, min_samples_split=100; total time=   0.0s\n",
      "[CV 3/3] END criterion=gini, max_depth=5, max_features=log2, min_samples_leaf=2, min_samples_split=100; total time=   0.0s\n",
      "[CV 1/3] END criterion=gini, max_depth=5, max_features=log2, min_samples_leaf=3, min_samples_split=10; total time=   0.0s\n",
      "[CV 2/3] END criterion=gini, max_depth=5, max_features=log2, min_samples_leaf=3, min_samples_split=10; total time=   0.0s\n",
      "[CV 3/3] END criterion=gini, max_depth=5, max_features=log2, min_samples_leaf=3, min_samples_split=10; total time=   0.0s\n",
      "[CV 1/3] END criterion=gini, max_depth=5, max_features=log2, min_samples_leaf=3, min_samples_split=20; total time=   0.0s\n",
      "[CV 2/3] END criterion=gini, max_depth=5, max_features=log2, min_samples_leaf=3, min_samples_split=20; total time=   0.0s\n",
      "[CV 3/3] END criterion=gini, max_depth=5, max_features=log2, min_samples_leaf=3, min_samples_split=20; total time=   0.0s\n",
      "[CV 1/3] END criterion=gini, max_depth=5, max_features=log2, min_samples_leaf=3, min_samples_split=50; total time=   0.0s\n",
      "[CV 2/3] END criterion=gini, max_depth=5, max_features=log2, min_samples_leaf=3, min_samples_split=50; total time=   0.0s\n",
      "[CV 3/3] END criterion=gini, max_depth=5, max_features=log2, min_samples_leaf=3, min_samples_split=50; total time=   0.0s\n",
      "[CV 1/3] END criterion=gini, max_depth=5, max_features=log2, min_samples_leaf=3, min_samples_split=100; total time=   0.0s\n",
      "[CV 2/3] END criterion=gini, max_depth=5, max_features=log2, min_samples_leaf=3, min_samples_split=100; total time=   0.0s\n",
      "[CV 3/3] END criterion=gini, max_depth=5, max_features=log2, min_samples_leaf=3, min_samples_split=100; total time=   0.0s\n",
      "[CV 1/3] END criterion=gini, max_depth=5, max_features=log2, min_samples_leaf=10, min_samples_split=10; total time=   0.0s\n",
      "[CV 2/3] END criterion=gini, max_depth=5, max_features=log2, min_samples_leaf=10, min_samples_split=10; total time=   0.0s\n",
      "[CV 3/3] END criterion=gini, max_depth=5, max_features=log2, min_samples_leaf=10, min_samples_split=10; total time=   0.0s\n",
      "[CV 1/3] END criterion=gini, max_depth=5, max_features=log2, min_samples_leaf=10, min_samples_split=20; total time=   0.0s\n",
      "[CV 2/3] END criterion=gini, max_depth=5, max_features=log2, min_samples_leaf=10, min_samples_split=20; total time=   0.0s\n",
      "[CV 3/3] END criterion=gini, max_depth=5, max_features=log2, min_samples_leaf=10, min_samples_split=20; total time=   0.0s\n"
     ]
    },
    {
     "name": "stdout",
     "output_type": "stream",
     "text": [
      "[CV 1/3] END criterion=gini, max_depth=5, max_features=log2, min_samples_leaf=10, min_samples_split=50; total time=   0.0s\n",
      "[CV 2/3] END criterion=gini, max_depth=5, max_features=log2, min_samples_leaf=10, min_samples_split=50; total time=   0.0s\n",
      "[CV 3/3] END criterion=gini, max_depth=5, max_features=log2, min_samples_leaf=10, min_samples_split=50; total time=   0.0s\n",
      "[CV 1/3] END criterion=gini, max_depth=5, max_features=log2, min_samples_leaf=10, min_samples_split=100; total time=   0.0s\n",
      "[CV 2/3] END criterion=gini, max_depth=5, max_features=log2, min_samples_leaf=10, min_samples_split=100; total time=   0.0s\n",
      "[CV 3/3] END criterion=gini, max_depth=5, max_features=log2, min_samples_leaf=10, min_samples_split=100; total time=   0.0s\n",
      "[CV 1/3] END criterion=gini, max_depth=10, max_features=auto, min_samples_leaf=1, min_samples_split=10; total time=   0.0s\n",
      "[CV 2/3] END criterion=gini, max_depth=10, max_features=auto, min_samples_leaf=1, min_samples_split=10; total time=   0.0s\n",
      "[CV 3/3] END criterion=gini, max_depth=10, max_features=auto, min_samples_leaf=1, min_samples_split=10; total time=   0.0s\n",
      "[CV 1/3] END criterion=gini, max_depth=10, max_features=auto, min_samples_leaf=1, min_samples_split=20; total time=   0.0s\n",
      "[CV 2/3] END criterion=gini, max_depth=10, max_features=auto, min_samples_leaf=1, min_samples_split=20; total time=   0.0s\n",
      "[CV 3/3] END criterion=gini, max_depth=10, max_features=auto, min_samples_leaf=1, min_samples_split=20; total time=   0.0s\n",
      "[CV 1/3] END criterion=gini, max_depth=10, max_features=auto, min_samples_leaf=1, min_samples_split=50; total time=   0.0s\n",
      "[CV 2/3] END criterion=gini, max_depth=10, max_features=auto, min_samples_leaf=1, min_samples_split=50; total time=   0.0s\n",
      "[CV 3/3] END criterion=gini, max_depth=10, max_features=auto, min_samples_leaf=1, min_samples_split=50; total time=   0.0s\n",
      "[CV 1/3] END criterion=gini, max_depth=10, max_features=auto, min_samples_leaf=1, min_samples_split=100; total time=   0.0s\n",
      "[CV 2/3] END criterion=gini, max_depth=10, max_features=auto, min_samples_leaf=1, min_samples_split=100; total time=   0.0s\n",
      "[CV 3/3] END criterion=gini, max_depth=10, max_features=auto, min_samples_leaf=1, min_samples_split=100; total time=   0.0s\n",
      "[CV 1/3] END criterion=gini, max_depth=10, max_features=auto, min_samples_leaf=2, min_samples_split=10; total time=   0.0s\n",
      "[CV 2/3] END criterion=gini, max_depth=10, max_features=auto, min_samples_leaf=2, min_samples_split=10; total time=   0.0s\n",
      "[CV 3/3] END criterion=gini, max_depth=10, max_features=auto, min_samples_leaf=2, min_samples_split=10; total time=   0.0s\n",
      "[CV 1/3] END criterion=gini, max_depth=10, max_features=auto, min_samples_leaf=2, min_samples_split=20; total time=   0.0s\n",
      "[CV 2/3] END criterion=gini, max_depth=10, max_features=auto, min_samples_leaf=2, min_samples_split=20; total time=   0.0s\n",
      "[CV 3/3] END criterion=gini, max_depth=10, max_features=auto, min_samples_leaf=2, min_samples_split=20; total time=   0.0s\n",
      "[CV 1/3] END criterion=gini, max_depth=10, max_features=auto, min_samples_leaf=2, min_samples_split=50; total time=   0.0s\n",
      "[CV 2/3] END criterion=gini, max_depth=10, max_features=auto, min_samples_leaf=2, min_samples_split=50; total time=   0.0s\n",
      "[CV 3/3] END criterion=gini, max_depth=10, max_features=auto, min_samples_leaf=2, min_samples_split=50; total time=   0.0s\n",
      "[CV 1/3] END criterion=gini, max_depth=10, max_features=auto, min_samples_leaf=2, min_samples_split=100; total time=   0.0s\n",
      "[CV 2/3] END criterion=gini, max_depth=10, max_features=auto, min_samples_leaf=2, min_samples_split=100; total time=   0.0s\n",
      "[CV 3/3] END criterion=gini, max_depth=10, max_features=auto, min_samples_leaf=2, min_samples_split=100; total time=   0.0s\n",
      "[CV 1/3] END criterion=gini, max_depth=10, max_features=auto, min_samples_leaf=3, min_samples_split=10; total time=   0.0s\n",
      "[CV 2/3] END criterion=gini, max_depth=10, max_features=auto, min_samples_leaf=3, min_samples_split=10; total time=   0.0s\n",
      "[CV 3/3] END criterion=gini, max_depth=10, max_features=auto, min_samples_leaf=3, min_samples_split=10; total time=   0.0s\n",
      "[CV 1/3] END criterion=gini, max_depth=10, max_features=auto, min_samples_leaf=3, min_samples_split=20; total time=   0.0s\n",
      "[CV 2/3] END criterion=gini, max_depth=10, max_features=auto, min_samples_leaf=3, min_samples_split=20; total time=   0.0s\n",
      "[CV 3/3] END criterion=gini, max_depth=10, max_features=auto, min_samples_leaf=3, min_samples_split=20; total time=   0.0s\n",
      "[CV 1/3] END criterion=gini, max_depth=10, max_features=auto, min_samples_leaf=3, min_samples_split=50; total time=   0.0s\n",
      "[CV 2/3] END criterion=gini, max_depth=10, max_features=auto, min_samples_leaf=3, min_samples_split=50; total time=   0.0s\n",
      "[CV 3/3] END criterion=gini, max_depth=10, max_features=auto, min_samples_leaf=3, min_samples_split=50; total time=   0.0s\n",
      "[CV 1/3] END criterion=gini, max_depth=10, max_features=auto, min_samples_leaf=3, min_samples_split=100; total time=   0.0s\n",
      "[CV 2/3] END criterion=gini, max_depth=10, max_features=auto, min_samples_leaf=3, min_samples_split=100; total time=   0.0s\n",
      "[CV 3/3] END criterion=gini, max_depth=10, max_features=auto, min_samples_leaf=3, min_samples_split=100; total time=   0.0s\n",
      "[CV 1/3] END criterion=gini, max_depth=10, max_features=auto, min_samples_leaf=10, min_samples_split=10; total time=   0.0s\n",
      "[CV 2/3] END criterion=gini, max_depth=10, max_features=auto, min_samples_leaf=10, min_samples_split=10; total time=   0.0s\n",
      "[CV 3/3] END criterion=gini, max_depth=10, max_features=auto, min_samples_leaf=10, min_samples_split=10; total time=   0.0s\n",
      "[CV 1/3] END criterion=gini, max_depth=10, max_features=auto, min_samples_leaf=10, min_samples_split=20; total time=   0.0s\n",
      "[CV 2/3] END criterion=gini, max_depth=10, max_features=auto, min_samples_leaf=10, min_samples_split=20; total time=   0.0s\n",
      "[CV 3/3] END criterion=gini, max_depth=10, max_features=auto, min_samples_leaf=10, min_samples_split=20; total time=   0.0s\n",
      "[CV 1/3] END criterion=gini, max_depth=10, max_features=auto, min_samples_leaf=10, min_samples_split=50; total time=   0.0s\n",
      "[CV 2/3] END criterion=gini, max_depth=10, max_features=auto, min_samples_leaf=10, min_samples_split=50; total time=   0.0s\n",
      "[CV 3/3] END criterion=gini, max_depth=10, max_features=auto, min_samples_leaf=10, min_samples_split=50; total time=   0.0s\n",
      "[CV 1/3] END criterion=gini, max_depth=10, max_features=auto, min_samples_leaf=10, min_samples_split=100; total time=   0.0s\n",
      "[CV 2/3] END criterion=gini, max_depth=10, max_features=auto, min_samples_leaf=10, min_samples_split=100; total time=   0.0s\n",
      "[CV 3/3] END criterion=gini, max_depth=10, max_features=auto, min_samples_leaf=10, min_samples_split=100; total time=   0.0s\n",
      "[CV 1/3] END criterion=gini, max_depth=10, max_features=log2, min_samples_leaf=1, min_samples_split=10; total time=   0.0s\n",
      "[CV 2/3] END criterion=gini, max_depth=10, max_features=log2, min_samples_leaf=1, min_samples_split=10; total time=   0.0s\n",
      "[CV 3/3] END criterion=gini, max_depth=10, max_features=log2, min_samples_leaf=1, min_samples_split=10; total time=   0.0s\n",
      "[CV 1/3] END criterion=gini, max_depth=10, max_features=log2, min_samples_leaf=1, min_samples_split=20; total time=   0.0s\n",
      "[CV 2/3] END criterion=gini, max_depth=10, max_features=log2, min_samples_leaf=1, min_samples_split=20; total time=   0.0s\n",
      "[CV 3/3] END criterion=gini, max_depth=10, max_features=log2, min_samples_leaf=1, min_samples_split=20; total time=   0.0s\n",
      "[CV 1/3] END criterion=gini, max_depth=10, max_features=log2, min_samples_leaf=1, min_samples_split=50; total time=   0.0s\n",
      "[CV 2/3] END criterion=gini, max_depth=10, max_features=log2, min_samples_leaf=1, min_samples_split=50; total time=   0.0s\n",
      "[CV 3/3] END criterion=gini, max_depth=10, max_features=log2, min_samples_leaf=1, min_samples_split=50; total time=   0.0s\n",
      "[CV 1/3] END criterion=gini, max_depth=10, max_features=log2, min_samples_leaf=1, min_samples_split=100; total time=   0.0s\n",
      "[CV 2/3] END criterion=gini, max_depth=10, max_features=log2, min_samples_leaf=1, min_samples_split=100; total time=   0.0s\n",
      "[CV 3/3] END criterion=gini, max_depth=10, max_features=log2, min_samples_leaf=1, min_samples_split=100; total time=   0.0s\n",
      "[CV 1/3] END criterion=gini, max_depth=10, max_features=log2, min_samples_leaf=2, min_samples_split=10; total time=   0.0s\n"
     ]
    },
    {
     "name": "stdout",
     "output_type": "stream",
     "text": [
      "[CV 2/3] END criterion=gini, max_depth=10, max_features=log2, min_samples_leaf=2, min_samples_split=10; total time=   0.0s\n",
      "[CV 3/3] END criterion=gini, max_depth=10, max_features=log2, min_samples_leaf=2, min_samples_split=10; total time=   0.0s\n",
      "[CV 1/3] END criterion=gini, max_depth=10, max_features=log2, min_samples_leaf=2, min_samples_split=20; total time=   0.0s\n",
      "[CV 2/3] END criterion=gini, max_depth=10, max_features=log2, min_samples_leaf=2, min_samples_split=20; total time=   0.0s\n",
      "[CV 3/3] END criterion=gini, max_depth=10, max_features=log2, min_samples_leaf=2, min_samples_split=20; total time=   0.0s\n",
      "[CV 1/3] END criterion=gini, max_depth=10, max_features=log2, min_samples_leaf=2, min_samples_split=50; total time=   0.0s\n",
      "[CV 2/3] END criterion=gini, max_depth=10, max_features=log2, min_samples_leaf=2, min_samples_split=50; total time=   0.0s\n",
      "[CV 3/3] END criterion=gini, max_depth=10, max_features=log2, min_samples_leaf=2, min_samples_split=50; total time=   0.0s\n",
      "[CV 1/3] END criterion=gini, max_depth=10, max_features=log2, min_samples_leaf=2, min_samples_split=100; total time=   0.0s\n",
      "[CV 2/3] END criterion=gini, max_depth=10, max_features=log2, min_samples_leaf=2, min_samples_split=100; total time=   0.0s\n",
      "[CV 3/3] END criterion=gini, max_depth=10, max_features=log2, min_samples_leaf=2, min_samples_split=100; total time=   0.0s\n",
      "[CV 1/3] END criterion=gini, max_depth=10, max_features=log2, min_samples_leaf=3, min_samples_split=10; total time=   0.0s\n",
      "[CV 2/3] END criterion=gini, max_depth=10, max_features=log2, min_samples_leaf=3, min_samples_split=10; total time=   0.0s\n",
      "[CV 3/3] END criterion=gini, max_depth=10, max_features=log2, min_samples_leaf=3, min_samples_split=10; total time=   0.0s\n",
      "[CV 1/3] END criterion=gini, max_depth=10, max_features=log2, min_samples_leaf=3, min_samples_split=20; total time=   0.0s\n",
      "[CV 2/3] END criterion=gini, max_depth=10, max_features=log2, min_samples_leaf=3, min_samples_split=20; total time=   0.0s\n",
      "[CV 3/3] END criterion=gini, max_depth=10, max_features=log2, min_samples_leaf=3, min_samples_split=20; total time=   0.0s\n",
      "[CV 1/3] END criterion=gini, max_depth=10, max_features=log2, min_samples_leaf=3, min_samples_split=50; total time=   0.0s\n",
      "[CV 2/3] END criterion=gini, max_depth=10, max_features=log2, min_samples_leaf=3, min_samples_split=50; total time=   0.0s\n",
      "[CV 3/3] END criterion=gini, max_depth=10, max_features=log2, min_samples_leaf=3, min_samples_split=50; total time=   0.0s\n",
      "[CV 1/3] END criterion=gini, max_depth=10, max_features=log2, min_samples_leaf=3, min_samples_split=100; total time=   0.0s\n",
      "[CV 2/3] END criterion=gini, max_depth=10, max_features=log2, min_samples_leaf=3, min_samples_split=100; total time=   0.0s\n",
      "[CV 3/3] END criterion=gini, max_depth=10, max_features=log2, min_samples_leaf=3, min_samples_split=100; total time=   0.0s\n",
      "[CV 1/3] END criterion=gini, max_depth=10, max_features=log2, min_samples_leaf=10, min_samples_split=10; total time=   0.0s\n",
      "[CV 2/3] END criterion=gini, max_depth=10, max_features=log2, min_samples_leaf=10, min_samples_split=10; total time=   0.0s\n",
      "[CV 3/3] END criterion=gini, max_depth=10, max_features=log2, min_samples_leaf=10, min_samples_split=10; total time=   0.0s\n",
      "[CV 1/3] END criterion=gini, max_depth=10, max_features=log2, min_samples_leaf=10, min_samples_split=20; total time=   0.0s\n",
      "[CV 2/3] END criterion=gini, max_depth=10, max_features=log2, min_samples_leaf=10, min_samples_split=20; total time=   0.0s\n",
      "[CV 3/3] END criterion=gini, max_depth=10, max_features=log2, min_samples_leaf=10, min_samples_split=20; total time=   0.0s\n",
      "[CV 1/3] END criterion=gini, max_depth=10, max_features=log2, min_samples_leaf=10, min_samples_split=50; total time=   0.0s\n",
      "[CV 2/3] END criterion=gini, max_depth=10, max_features=log2, min_samples_leaf=10, min_samples_split=50; total time=   0.0s\n",
      "[CV 3/3] END criterion=gini, max_depth=10, max_features=log2, min_samples_leaf=10, min_samples_split=50; total time=   0.0s\n",
      "[CV 1/3] END criterion=gini, max_depth=10, max_features=log2, min_samples_leaf=10, min_samples_split=100; total time=   0.0s\n",
      "[CV 2/3] END criterion=gini, max_depth=10, max_features=log2, min_samples_leaf=10, min_samples_split=100; total time=   0.0s\n",
      "[CV 3/3] END criterion=gini, max_depth=10, max_features=log2, min_samples_leaf=10, min_samples_split=100; total time=   0.0s\n",
      "[CV 1/3] END criterion=gini, max_depth=15, max_features=auto, min_samples_leaf=1, min_samples_split=10; total time=   0.0s\n",
      "[CV 2/3] END criterion=gini, max_depth=15, max_features=auto, min_samples_leaf=1, min_samples_split=10; total time=   0.0s\n",
      "[CV 3/3] END criterion=gini, max_depth=15, max_features=auto, min_samples_leaf=1, min_samples_split=10; total time=   0.0s\n",
      "[CV 1/3] END criterion=gini, max_depth=15, max_features=auto, min_samples_leaf=1, min_samples_split=20; total time=   0.0s\n",
      "[CV 2/3] END criterion=gini, max_depth=15, max_features=auto, min_samples_leaf=1, min_samples_split=20; total time=   0.0s\n",
      "[CV 3/3] END criterion=gini, max_depth=15, max_features=auto, min_samples_leaf=1, min_samples_split=20; total time=   0.0s\n",
      "[CV 1/3] END criterion=gini, max_depth=15, max_features=auto, min_samples_leaf=1, min_samples_split=50; total time=   0.0s\n",
      "[CV 2/3] END criterion=gini, max_depth=15, max_features=auto, min_samples_leaf=1, min_samples_split=50; total time=   0.0s\n",
      "[CV 3/3] END criterion=gini, max_depth=15, max_features=auto, min_samples_leaf=1, min_samples_split=50; total time=   0.0s\n",
      "[CV 1/3] END criterion=gini, max_depth=15, max_features=auto, min_samples_leaf=1, min_samples_split=100; total time=   0.0s\n",
      "[CV 2/3] END criterion=gini, max_depth=15, max_features=auto, min_samples_leaf=1, min_samples_split=100; total time=   0.0s\n",
      "[CV 3/3] END criterion=gini, max_depth=15, max_features=auto, min_samples_leaf=1, min_samples_split=100; total time=   0.0s\n",
      "[CV 1/3] END criterion=gini, max_depth=15, max_features=auto, min_samples_leaf=2, min_samples_split=10; total time=   0.0s\n",
      "[CV 2/3] END criterion=gini, max_depth=15, max_features=auto, min_samples_leaf=2, min_samples_split=10; total time=   0.0s\n",
      "[CV 3/3] END criterion=gini, max_depth=15, max_features=auto, min_samples_leaf=2, min_samples_split=10; total time=   0.0s\n",
      "[CV 1/3] END criterion=gini, max_depth=15, max_features=auto, min_samples_leaf=2, min_samples_split=20; total time=   0.0s\n",
      "[CV 2/3] END criterion=gini, max_depth=15, max_features=auto, min_samples_leaf=2, min_samples_split=20; total time=   0.0s\n",
      "[CV 3/3] END criterion=gini, max_depth=15, max_features=auto, min_samples_leaf=2, min_samples_split=20; total time=   0.0s\n",
      "[CV 1/3] END criterion=gini, max_depth=15, max_features=auto, min_samples_leaf=2, min_samples_split=50; total time=   0.0s\n",
      "[CV 2/3] END criterion=gini, max_depth=15, max_features=auto, min_samples_leaf=2, min_samples_split=50; total time=   0.0s\n",
      "[CV 3/3] END criterion=gini, max_depth=15, max_features=auto, min_samples_leaf=2, min_samples_split=50; total time=   0.0s\n",
      "[CV 1/3] END criterion=gini, max_depth=15, max_features=auto, min_samples_leaf=2, min_samples_split=100; total time=   0.0s\n",
      "[CV 2/3] END criterion=gini, max_depth=15, max_features=auto, min_samples_leaf=2, min_samples_split=100; total time=   0.0s\n",
      "[CV 3/3] END criterion=gini, max_depth=15, max_features=auto, min_samples_leaf=2, min_samples_split=100; total time=   0.0s\n",
      "[CV 1/3] END criterion=gini, max_depth=15, max_features=auto, min_samples_leaf=3, min_samples_split=10; total time=   0.0s\n",
      "[CV 2/3] END criterion=gini, max_depth=15, max_features=auto, min_samples_leaf=3, min_samples_split=10; total time=   0.0s\n",
      "[CV 3/3] END criterion=gini, max_depth=15, max_features=auto, min_samples_leaf=3, min_samples_split=10; total time=   0.0s\n",
      "[CV 1/3] END criterion=gini, max_depth=15, max_features=auto, min_samples_leaf=3, min_samples_split=20; total time=   0.0s\n",
      "[CV 2/3] END criterion=gini, max_depth=15, max_features=auto, min_samples_leaf=3, min_samples_split=20; total time=   0.0s\n",
      "[CV 3/3] END criterion=gini, max_depth=15, max_features=auto, min_samples_leaf=3, min_samples_split=20; total time=   0.0s\n",
      "[CV 1/3] END criterion=gini, max_depth=15, max_features=auto, min_samples_leaf=3, min_samples_split=50; total time=   0.0s\n",
      "[CV 2/3] END criterion=gini, max_depth=15, max_features=auto, min_samples_leaf=3, min_samples_split=50; total time=   0.0s\n",
      "[CV 3/3] END criterion=gini, max_depth=15, max_features=auto, min_samples_leaf=3, min_samples_split=50; total time=   0.0s\n",
      "[CV 1/3] END criterion=gini, max_depth=15, max_features=auto, min_samples_leaf=3, min_samples_split=100; total time=   0.0s\n"
     ]
    },
    {
     "name": "stdout",
     "output_type": "stream",
     "text": [
      "[CV 2/3] END criterion=gini, max_depth=15, max_features=auto, min_samples_leaf=3, min_samples_split=100; total time=   0.0s\n",
      "[CV 3/3] END criterion=gini, max_depth=15, max_features=auto, min_samples_leaf=3, min_samples_split=100; total time=   0.0s\n",
      "[CV 1/3] END criterion=gini, max_depth=15, max_features=auto, min_samples_leaf=10, min_samples_split=10; total time=   0.0s\n",
      "[CV 2/3] END criterion=gini, max_depth=15, max_features=auto, min_samples_leaf=10, min_samples_split=10; total time=   0.0s\n",
      "[CV 3/3] END criterion=gini, max_depth=15, max_features=auto, min_samples_leaf=10, min_samples_split=10; total time=   0.0s\n",
      "[CV 1/3] END criterion=gini, max_depth=15, max_features=auto, min_samples_leaf=10, min_samples_split=20; total time=   0.0s\n",
      "[CV 2/3] END criterion=gini, max_depth=15, max_features=auto, min_samples_leaf=10, min_samples_split=20; total time=   0.0s\n",
      "[CV 3/3] END criterion=gini, max_depth=15, max_features=auto, min_samples_leaf=10, min_samples_split=20; total time=   0.0s\n",
      "[CV 1/3] END criterion=gini, max_depth=15, max_features=auto, min_samples_leaf=10, min_samples_split=50; total time=   0.0s\n",
      "[CV 2/3] END criterion=gini, max_depth=15, max_features=auto, min_samples_leaf=10, min_samples_split=50; total time=   0.0s\n",
      "[CV 3/3] END criterion=gini, max_depth=15, max_features=auto, min_samples_leaf=10, min_samples_split=50; total time=   0.0s\n",
      "[CV 1/3] END criterion=gini, max_depth=15, max_features=auto, min_samples_leaf=10, min_samples_split=100; total time=   0.0s\n",
      "[CV 2/3] END criterion=gini, max_depth=15, max_features=auto, min_samples_leaf=10, min_samples_split=100; total time=   0.0s\n",
      "[CV 3/3] END criterion=gini, max_depth=15, max_features=auto, min_samples_leaf=10, min_samples_split=100; total time=   0.0s\n",
      "[CV 1/3] END criterion=gini, max_depth=15, max_features=log2, min_samples_leaf=1, min_samples_split=10; total time=   0.0s\n",
      "[CV 2/3] END criterion=gini, max_depth=15, max_features=log2, min_samples_leaf=1, min_samples_split=10; total time=   0.0s\n",
      "[CV 3/3] END criterion=gini, max_depth=15, max_features=log2, min_samples_leaf=1, min_samples_split=10; total time=   0.0s\n",
      "[CV 1/3] END criterion=gini, max_depth=15, max_features=log2, min_samples_leaf=1, min_samples_split=20; total time=   0.0s\n",
      "[CV 2/3] END criterion=gini, max_depth=15, max_features=log2, min_samples_leaf=1, min_samples_split=20; total time=   0.0s\n",
      "[CV 3/3] END criterion=gini, max_depth=15, max_features=log2, min_samples_leaf=1, min_samples_split=20; total time=   0.0s\n",
      "[CV 1/3] END criterion=gini, max_depth=15, max_features=log2, min_samples_leaf=1, min_samples_split=50; total time=   0.0s\n",
      "[CV 2/3] END criterion=gini, max_depth=15, max_features=log2, min_samples_leaf=1, min_samples_split=50; total time=   0.0s\n",
      "[CV 3/3] END criterion=gini, max_depth=15, max_features=log2, min_samples_leaf=1, min_samples_split=50; total time=   0.0s\n",
      "[CV 1/3] END criterion=gini, max_depth=15, max_features=log2, min_samples_leaf=1, min_samples_split=100; total time=   0.0s\n",
      "[CV 2/3] END criterion=gini, max_depth=15, max_features=log2, min_samples_leaf=1, min_samples_split=100; total time=   0.0s\n",
      "[CV 3/3] END criterion=gini, max_depth=15, max_features=log2, min_samples_leaf=1, min_samples_split=100; total time=   0.0s\n",
      "[CV 1/3] END criterion=gini, max_depth=15, max_features=log2, min_samples_leaf=2, min_samples_split=10; total time=   0.0s\n",
      "[CV 2/3] END criterion=gini, max_depth=15, max_features=log2, min_samples_leaf=2, min_samples_split=10; total time=   0.0s\n",
      "[CV 3/3] END criterion=gini, max_depth=15, max_features=log2, min_samples_leaf=2, min_samples_split=10; total time=   0.0s\n",
      "[CV 1/3] END criterion=gini, max_depth=15, max_features=log2, min_samples_leaf=2, min_samples_split=20; total time=   0.0s\n",
      "[CV 2/3] END criterion=gini, max_depth=15, max_features=log2, min_samples_leaf=2, min_samples_split=20; total time=   0.0s\n",
      "[CV 3/3] END criterion=gini, max_depth=15, max_features=log2, min_samples_leaf=2, min_samples_split=20; total time=   0.0s\n",
      "[CV 1/3] END criterion=gini, max_depth=15, max_features=log2, min_samples_leaf=2, min_samples_split=50; total time=   0.0s\n",
      "[CV 2/3] END criterion=gini, max_depth=15, max_features=log2, min_samples_leaf=2, min_samples_split=50; total time=   0.0s\n",
      "[CV 3/3] END criterion=gini, max_depth=15, max_features=log2, min_samples_leaf=2, min_samples_split=50; total time=   0.0s\n",
      "[CV 1/3] END criterion=gini, max_depth=15, max_features=log2, min_samples_leaf=2, min_samples_split=100; total time=   0.0s\n",
      "[CV 2/3] END criterion=gini, max_depth=15, max_features=log2, min_samples_leaf=2, min_samples_split=100; total time=   0.0s\n",
      "[CV 3/3] END criterion=gini, max_depth=15, max_features=log2, min_samples_leaf=2, min_samples_split=100; total time=   0.0s\n",
      "[CV 1/3] END criterion=gini, max_depth=15, max_features=log2, min_samples_leaf=3, min_samples_split=10; total time=   0.0s\n",
      "[CV 2/3] END criterion=gini, max_depth=15, max_features=log2, min_samples_leaf=3, min_samples_split=10; total time=   0.0s\n",
      "[CV 3/3] END criterion=gini, max_depth=15, max_features=log2, min_samples_leaf=3, min_samples_split=10; total time=   0.0s\n",
      "[CV 1/3] END criterion=gini, max_depth=15, max_features=log2, min_samples_leaf=3, min_samples_split=20; total time=   0.0s\n",
      "[CV 2/3] END criterion=gini, max_depth=15, max_features=log2, min_samples_leaf=3, min_samples_split=20; total time=   0.0s\n",
      "[CV 3/3] END criterion=gini, max_depth=15, max_features=log2, min_samples_leaf=3, min_samples_split=20; total time=   0.0s\n",
      "[CV 1/3] END criterion=gini, max_depth=15, max_features=log2, min_samples_leaf=3, min_samples_split=50; total time=   0.0s\n",
      "[CV 2/3] END criterion=gini, max_depth=15, max_features=log2, min_samples_leaf=3, min_samples_split=50; total time=   0.0s\n",
      "[CV 3/3] END criterion=gini, max_depth=15, max_features=log2, min_samples_leaf=3, min_samples_split=50; total time=   0.0s\n",
      "[CV 1/3] END criterion=gini, max_depth=15, max_features=log2, min_samples_leaf=3, min_samples_split=100; total time=   0.0s\n",
      "[CV 2/3] END criterion=gini, max_depth=15, max_features=log2, min_samples_leaf=3, min_samples_split=100; total time=   0.0s\n",
      "[CV 3/3] END criterion=gini, max_depth=15, max_features=log2, min_samples_leaf=3, min_samples_split=100; total time=   0.0s\n",
      "[CV 1/3] END criterion=gini, max_depth=15, max_features=log2, min_samples_leaf=10, min_samples_split=10; total time=   0.0s\n",
      "[CV 2/3] END criterion=gini, max_depth=15, max_features=log2, min_samples_leaf=10, min_samples_split=10; total time=   0.0s\n",
      "[CV 3/3] END criterion=gini, max_depth=15, max_features=log2, min_samples_leaf=10, min_samples_split=10; total time=   0.0s\n",
      "[CV 1/3] END criterion=gini, max_depth=15, max_features=log2, min_samples_leaf=10, min_samples_split=20; total time=   0.0s\n",
      "[CV 2/3] END criterion=gini, max_depth=15, max_features=log2, min_samples_leaf=10, min_samples_split=20; total time=   0.0s\n",
      "[CV 3/3] END criterion=gini, max_depth=15, max_features=log2, min_samples_leaf=10, min_samples_split=20; total time=   0.0s\n",
      "[CV 1/3] END criterion=gini, max_depth=15, max_features=log2, min_samples_leaf=10, min_samples_split=50; total time=   0.0s\n",
      "[CV 2/3] END criterion=gini, max_depth=15, max_features=log2, min_samples_leaf=10, min_samples_split=50; total time=   0.0s\n",
      "[CV 3/3] END criterion=gini, max_depth=15, max_features=log2, min_samples_leaf=10, min_samples_split=50; total time=   0.0s\n",
      "[CV 1/3] END criterion=gini, max_depth=15, max_features=log2, min_samples_leaf=10, min_samples_split=100; total time=   0.0s\n",
      "[CV 2/3] END criterion=gini, max_depth=15, max_features=log2, min_samples_leaf=10, min_samples_split=100; total time=   0.0s\n",
      "[CV 3/3] END criterion=gini, max_depth=15, max_features=log2, min_samples_leaf=10, min_samples_split=100; total time=   0.0s\n",
      "[CV 1/3] END criterion=gini, max_depth=20, max_features=auto, min_samples_leaf=1, min_samples_split=10; total time=   0.0s\n",
      "[CV 2/3] END criterion=gini, max_depth=20, max_features=auto, min_samples_leaf=1, min_samples_split=10; total time=   0.0s\n",
      "[CV 3/3] END criterion=gini, max_depth=20, max_features=auto, min_samples_leaf=1, min_samples_split=10; total time=   0.0s\n",
      "[CV 1/3] END criterion=gini, max_depth=20, max_features=auto, min_samples_leaf=1, min_samples_split=20; total time=   0.0s\n",
      "[CV 2/3] END criterion=gini, max_depth=20, max_features=auto, min_samples_leaf=1, min_samples_split=20; total time=   0.0s\n",
      "[CV 3/3] END criterion=gini, max_depth=20, max_features=auto, min_samples_leaf=1, min_samples_split=20; total time=   0.0s\n",
      "[CV 1/3] END criterion=gini, max_depth=20, max_features=auto, min_samples_leaf=1, min_samples_split=50; total time=   0.0s\n",
      "[CV 2/3] END criterion=gini, max_depth=20, max_features=auto, min_samples_leaf=1, min_samples_split=50; total time=   0.0s\n"
     ]
    },
    {
     "name": "stdout",
     "output_type": "stream",
     "text": [
      "[CV 3/3] END criterion=gini, max_depth=20, max_features=auto, min_samples_leaf=1, min_samples_split=50; total time=   0.0s\n",
      "[CV 1/3] END criterion=gini, max_depth=20, max_features=auto, min_samples_leaf=1, min_samples_split=100; total time=   0.0s\n",
      "[CV 2/3] END criterion=gini, max_depth=20, max_features=auto, min_samples_leaf=1, min_samples_split=100; total time=   0.0s\n",
      "[CV 3/3] END criterion=gini, max_depth=20, max_features=auto, min_samples_leaf=1, min_samples_split=100; total time=   0.0s\n",
      "[CV 1/3] END criterion=gini, max_depth=20, max_features=auto, min_samples_leaf=2, min_samples_split=10; total time=   0.0s\n",
      "[CV 2/3] END criterion=gini, max_depth=20, max_features=auto, min_samples_leaf=2, min_samples_split=10; total time=   0.0s\n",
      "[CV 3/3] END criterion=gini, max_depth=20, max_features=auto, min_samples_leaf=2, min_samples_split=10; total time=   0.0s\n",
      "[CV 1/3] END criterion=gini, max_depth=20, max_features=auto, min_samples_leaf=2, min_samples_split=20; total time=   0.0s\n",
      "[CV 2/3] END criterion=gini, max_depth=20, max_features=auto, min_samples_leaf=2, min_samples_split=20; total time=   0.0s\n",
      "[CV 3/3] END criterion=gini, max_depth=20, max_features=auto, min_samples_leaf=2, min_samples_split=20; total time=   0.0s\n",
      "[CV 1/3] END criterion=gini, max_depth=20, max_features=auto, min_samples_leaf=2, min_samples_split=50; total time=   0.0s\n",
      "[CV 2/3] END criterion=gini, max_depth=20, max_features=auto, min_samples_leaf=2, min_samples_split=50; total time=   0.0s\n",
      "[CV 3/3] END criterion=gini, max_depth=20, max_features=auto, min_samples_leaf=2, min_samples_split=50; total time=   0.0s\n",
      "[CV 1/3] END criterion=gini, max_depth=20, max_features=auto, min_samples_leaf=2, min_samples_split=100; total time=   0.0s\n",
      "[CV 2/3] END criterion=gini, max_depth=20, max_features=auto, min_samples_leaf=2, min_samples_split=100; total time=   0.0s\n",
      "[CV 3/3] END criterion=gini, max_depth=20, max_features=auto, min_samples_leaf=2, min_samples_split=100; total time=   0.0s\n",
      "[CV 1/3] END criterion=gini, max_depth=20, max_features=auto, min_samples_leaf=3, min_samples_split=10; total time=   0.0s\n",
      "[CV 2/3] END criterion=gini, max_depth=20, max_features=auto, min_samples_leaf=3, min_samples_split=10; total time=   0.0s\n",
      "[CV 3/3] END criterion=gini, max_depth=20, max_features=auto, min_samples_leaf=3, min_samples_split=10; total time=   0.0s\n",
      "[CV 1/3] END criterion=gini, max_depth=20, max_features=auto, min_samples_leaf=3, min_samples_split=20; total time=   0.0s\n",
      "[CV 2/3] END criterion=gini, max_depth=20, max_features=auto, min_samples_leaf=3, min_samples_split=20; total time=   0.0s\n",
      "[CV 3/3] END criterion=gini, max_depth=20, max_features=auto, min_samples_leaf=3, min_samples_split=20; total time=   0.0s\n",
      "[CV 1/3] END criterion=gini, max_depth=20, max_features=auto, min_samples_leaf=3, min_samples_split=50; total time=   0.0s\n",
      "[CV 2/3] END criterion=gini, max_depth=20, max_features=auto, min_samples_leaf=3, min_samples_split=50; total time=   0.0s\n",
      "[CV 3/3] END criterion=gini, max_depth=20, max_features=auto, min_samples_leaf=3, min_samples_split=50; total time=   0.0s\n",
      "[CV 1/3] END criterion=gini, max_depth=20, max_features=auto, min_samples_leaf=3, min_samples_split=100; total time=   0.0s\n",
      "[CV 2/3] END criterion=gini, max_depth=20, max_features=auto, min_samples_leaf=3, min_samples_split=100; total time=   0.0s\n",
      "[CV 3/3] END criterion=gini, max_depth=20, max_features=auto, min_samples_leaf=3, min_samples_split=100; total time=   0.0s\n",
      "[CV 1/3] END criterion=gini, max_depth=20, max_features=auto, min_samples_leaf=10, min_samples_split=10; total time=   0.0s\n",
      "[CV 2/3] END criterion=gini, max_depth=20, max_features=auto, min_samples_leaf=10, min_samples_split=10; total time=   0.0s\n",
      "[CV 3/3] END criterion=gini, max_depth=20, max_features=auto, min_samples_leaf=10, min_samples_split=10; total time=   0.0s\n",
      "[CV 1/3] END criterion=gini, max_depth=20, max_features=auto, min_samples_leaf=10, min_samples_split=20; total time=   0.0s\n",
      "[CV 2/3] END criterion=gini, max_depth=20, max_features=auto, min_samples_leaf=10, min_samples_split=20; total time=   0.0s\n",
      "[CV 3/3] END criterion=gini, max_depth=20, max_features=auto, min_samples_leaf=10, min_samples_split=20; total time=   0.0s\n",
      "[CV 1/3] END criterion=gini, max_depth=20, max_features=auto, min_samples_leaf=10, min_samples_split=50; total time=   0.0s\n",
      "[CV 2/3] END criterion=gini, max_depth=20, max_features=auto, min_samples_leaf=10, min_samples_split=50; total time=   0.0s\n",
      "[CV 3/3] END criterion=gini, max_depth=20, max_features=auto, min_samples_leaf=10, min_samples_split=50; total time=   0.0s\n",
      "[CV 1/3] END criterion=gini, max_depth=20, max_features=auto, min_samples_leaf=10, min_samples_split=100; total time=   0.0s\n",
      "[CV 2/3] END criterion=gini, max_depth=20, max_features=auto, min_samples_leaf=10, min_samples_split=100; total time=   0.0s\n",
      "[CV 3/3] END criterion=gini, max_depth=20, max_features=auto, min_samples_leaf=10, min_samples_split=100; total time=   0.0s\n",
      "[CV 1/3] END criterion=gini, max_depth=20, max_features=log2, min_samples_leaf=1, min_samples_split=10; total time=   0.0s\n",
      "[CV 2/3] END criterion=gini, max_depth=20, max_features=log2, min_samples_leaf=1, min_samples_split=10; total time=   0.0s\n",
      "[CV 3/3] END criterion=gini, max_depth=20, max_features=log2, min_samples_leaf=1, min_samples_split=10; total time=   0.0s\n",
      "[CV 1/3] END criterion=gini, max_depth=20, max_features=log2, min_samples_leaf=1, min_samples_split=20; total time=   0.0s\n",
      "[CV 2/3] END criterion=gini, max_depth=20, max_features=log2, min_samples_leaf=1, min_samples_split=20; total time=   0.0s\n",
      "[CV 3/3] END criterion=gini, max_depth=20, max_features=log2, min_samples_leaf=1, min_samples_split=20; total time=   0.0s\n",
      "[CV 1/3] END criterion=gini, max_depth=20, max_features=log2, min_samples_leaf=1, min_samples_split=50; total time=   0.0s\n",
      "[CV 2/3] END criterion=gini, max_depth=20, max_features=log2, min_samples_leaf=1, min_samples_split=50; total time=   0.0s\n",
      "[CV 3/3] END criterion=gini, max_depth=20, max_features=log2, min_samples_leaf=1, min_samples_split=50; total time=   0.0s\n",
      "[CV 1/3] END criterion=gini, max_depth=20, max_features=log2, min_samples_leaf=1, min_samples_split=100; total time=   0.0s\n",
      "[CV 2/3] END criterion=gini, max_depth=20, max_features=log2, min_samples_leaf=1, min_samples_split=100; total time=   0.0s\n",
      "[CV 3/3] END criterion=gini, max_depth=20, max_features=log2, min_samples_leaf=1, min_samples_split=100; total time=   0.0s\n",
      "[CV 1/3] END criterion=gini, max_depth=20, max_features=log2, min_samples_leaf=2, min_samples_split=10; total time=   0.0s\n",
      "[CV 2/3] END criterion=gini, max_depth=20, max_features=log2, min_samples_leaf=2, min_samples_split=10; total time=   0.0s\n",
      "[CV 3/3] END criterion=gini, max_depth=20, max_features=log2, min_samples_leaf=2, min_samples_split=10; total time=   0.0s\n",
      "[CV 1/3] END criterion=gini, max_depth=20, max_features=log2, min_samples_leaf=2, min_samples_split=20; total time=   0.0s\n",
      "[CV 2/3] END criterion=gini, max_depth=20, max_features=log2, min_samples_leaf=2, min_samples_split=20; total time=   0.0s\n",
      "[CV 3/3] END criterion=gini, max_depth=20, max_features=log2, min_samples_leaf=2, min_samples_split=20; total time=   0.0s\n",
      "[CV 1/3] END criterion=gini, max_depth=20, max_features=log2, min_samples_leaf=2, min_samples_split=50; total time=   0.0s\n",
      "[CV 2/3] END criterion=gini, max_depth=20, max_features=log2, min_samples_leaf=2, min_samples_split=50; total time=   0.0s\n",
      "[CV 3/3] END criterion=gini, max_depth=20, max_features=log2, min_samples_leaf=2, min_samples_split=50; total time=   0.0s\n",
      "[CV 1/3] END criterion=gini, max_depth=20, max_features=log2, min_samples_leaf=2, min_samples_split=100; total time=   0.0s\n",
      "[CV 2/3] END criterion=gini, max_depth=20, max_features=log2, min_samples_leaf=2, min_samples_split=100; total time=   0.0s\n",
      "[CV 3/3] END criterion=gini, max_depth=20, max_features=log2, min_samples_leaf=2, min_samples_split=100; total time=   0.0s\n",
      "[CV 1/3] END criterion=gini, max_depth=20, max_features=log2, min_samples_leaf=3, min_samples_split=10; total time=   0.0s\n",
      "[CV 2/3] END criterion=gini, max_depth=20, max_features=log2, min_samples_leaf=3, min_samples_split=10; total time=   0.0s\n",
      "[CV 3/3] END criterion=gini, max_depth=20, max_features=log2, min_samples_leaf=3, min_samples_split=10; total time=   0.0s\n"
     ]
    },
    {
     "name": "stdout",
     "output_type": "stream",
     "text": [
      "[CV 1/3] END criterion=gini, max_depth=20, max_features=log2, min_samples_leaf=3, min_samples_split=20; total time=   0.0s\n",
      "[CV 2/3] END criterion=gini, max_depth=20, max_features=log2, min_samples_leaf=3, min_samples_split=20; total time=   0.0s\n",
      "[CV 3/3] END criterion=gini, max_depth=20, max_features=log2, min_samples_leaf=3, min_samples_split=20; total time=   0.0s\n",
      "[CV 1/3] END criterion=gini, max_depth=20, max_features=log2, min_samples_leaf=3, min_samples_split=50; total time=   0.0s\n",
      "[CV 2/3] END criterion=gini, max_depth=20, max_features=log2, min_samples_leaf=3, min_samples_split=50; total time=   0.0s\n",
      "[CV 3/3] END criterion=gini, max_depth=20, max_features=log2, min_samples_leaf=3, min_samples_split=50; total time=   0.0s\n",
      "[CV 1/3] END criterion=gini, max_depth=20, max_features=log2, min_samples_leaf=3, min_samples_split=100; total time=   0.0s\n",
      "[CV 2/3] END criterion=gini, max_depth=20, max_features=log2, min_samples_leaf=3, min_samples_split=100; total time=   0.0s\n",
      "[CV 3/3] END criterion=gini, max_depth=20, max_features=log2, min_samples_leaf=3, min_samples_split=100; total time=   0.0s\n",
      "[CV 1/3] END criterion=gini, max_depth=20, max_features=log2, min_samples_leaf=10, min_samples_split=10; total time=   0.0s\n",
      "[CV 2/3] END criterion=gini, max_depth=20, max_features=log2, min_samples_leaf=10, min_samples_split=10; total time=   0.0s\n",
      "[CV 3/3] END criterion=gini, max_depth=20, max_features=log2, min_samples_leaf=10, min_samples_split=10; total time=   0.0s\n",
      "[CV 1/3] END criterion=gini, max_depth=20, max_features=log2, min_samples_leaf=10, min_samples_split=20; total time=   0.0s\n",
      "[CV 2/3] END criterion=gini, max_depth=20, max_features=log2, min_samples_leaf=10, min_samples_split=20; total time=   0.0s\n",
      "[CV 3/3] END criterion=gini, max_depth=20, max_features=log2, min_samples_leaf=10, min_samples_split=20; total time=   0.0s\n",
      "[CV 1/3] END criterion=gini, max_depth=20, max_features=log2, min_samples_leaf=10, min_samples_split=50; total time=   0.0s\n",
      "[CV 2/3] END criterion=gini, max_depth=20, max_features=log2, min_samples_leaf=10, min_samples_split=50; total time=   0.0s\n",
      "[CV 3/3] END criterion=gini, max_depth=20, max_features=log2, min_samples_leaf=10, min_samples_split=50; total time=   0.0s\n",
      "[CV 1/3] END criterion=gini, max_depth=20, max_features=log2, min_samples_leaf=10, min_samples_split=100; total time=   0.0s\n",
      "[CV 2/3] END criterion=gini, max_depth=20, max_features=log2, min_samples_leaf=10, min_samples_split=100; total time=   0.0s\n",
      "[CV 3/3] END criterion=gini, max_depth=20, max_features=log2, min_samples_leaf=10, min_samples_split=100; total time=   0.0s\n"
     ]
    },
    {
     "data": {
      "text/plain": [
       "GridSearchCV(cv=3, estimator=DecisionTreeClassifier(),\n",
       "             param_grid={'criterion': ['entropy', 'gini'],\n",
       "                         'max_depth': [5, 10, 15, 20],\n",
       "                         'max_features': ['auto', 'log2'],\n",
       "                         'min_samples_leaf': [1, 2, 3, 10],\n",
       "                         'min_samples_split': [10, 20, 50, 100]},\n",
       "             scoring='recall', verbose=3)"
      ]
     },
     "execution_count": 156,
     "metadata": {},
     "output_type": "execute_result"
    }
   ],
   "source": [
    "modelo = DecisionTreeClassifier()\n",
    "\n",
    "parameters = {\n",
    "    'criterion': ['entropy', 'gini'],\n",
    "    'max_depth': [5, 10, 15, 20],\n",
    "    'min_samples_split': [10, 20, 50,100],\n",
    "    'min_samples_leaf': [1, 2, 3,10],\n",
    "    'max_features':['auto', 'log2']\n",
    "    }\n",
    "\n",
    "clf = GridSearchCV(modelo, parameters, verbose=3, scoring='recall', cv= 3)\n",
    "\n",
    "clf.fit(X_train, y_train)"
   ]
  },
  {
   "cell_type": "code",
   "execution_count": 157,
   "id": "66f304c5",
   "metadata": {},
   "outputs": [
    {
     "data": {
      "text/plain": [
       "{'criterion': 'gini',\n",
       " 'max_depth': 5,\n",
       " 'max_features': 'log2',\n",
       " 'min_samples_leaf': 3,\n",
       " 'min_samples_split': 10}"
      ]
     },
     "execution_count": 157,
     "metadata": {},
     "output_type": "execute_result"
    }
   ],
   "source": [
    "clf.best_params_"
   ]
  },
  {
   "cell_type": "code",
   "execution_count": null,
   "id": "8343e2d5",
   "metadata": {},
   "outputs": [],
   "source": []
  },
  {
   "cell_type": "code",
   "execution_count": 195,
   "id": "175ae1ea",
   "metadata": {},
   "outputs": [
    {
     "data": {
      "text/plain": [
       "DecisionTreeClassifier(max_depth=5, max_features='log2', min_samples_leaf=3,\n",
       "                       min_samples_split=10, random_state=12)"
      ]
     },
     "execution_count": 195,
     "metadata": {},
     "output_type": "execute_result"
    }
   ],
   "source": [
    "modelo_dtc = DecisionTreeClassifier(random_state=12, max_depth =5, min_samples_split = 10, min_samples_leaf = 3, max_features= 'log2')\n",
    "\n",
    "modelo_dtc"
   ]
  },
  {
   "cell_type": "code",
   "execution_count": 196,
   "id": "862e555f",
   "metadata": {},
   "outputs": [
    {
     "data": {
      "text/plain": [
       "DecisionTreeClassifier(max_depth=5, max_features='log2', min_samples_leaf=3,\n",
       "                       min_samples_split=10, random_state=12)"
      ]
     },
     "execution_count": 196,
     "metadata": {},
     "output_type": "execute_result"
    }
   ],
   "source": [
    "modelo_dtc.fit(X_train, y_train)"
   ]
  },
  {
   "cell_type": "code",
   "execution_count": 197,
   "id": "ab2b5b56",
   "metadata": {},
   "outputs": [
    {
     "name": "stdout",
     "output_type": "stream",
     "text": [
      "(43999,) (18857,)\n"
     ]
    }
   ],
   "source": [
    "y_train_pred = modelo_dtc.predict(X_train)\n",
    "\n",
    "y_valid_pred = modelo_dtc.predict(X_valid)\n",
    "\n",
    "print(y_train_pred.shape, y_valid_pred.shape)"
   ]
  },
  {
   "cell_type": "code",
   "execution_count": 198,
   "id": "4199516e",
   "metadata": {},
   "outputs": [
    {
     "data": {
      "image/png": "[encoded data removed]",
      "text/plain": [
       "<Figure size 432x288 with 1 Axes>"
      ]
     },
     "metadata": {
      "needs_background": "light"
     },
     "output_type": "display_data"
    }
   ],
   "source": [
    "matriz_conf(y_valid, y_valid_pred)"
   ]
  },
  {
   "cell_type": "code",
   "execution_count": 199,
   "id": "a4c2f91a",
   "metadata": {},
   "outputs": [
    {
     "name": "stdout",
     "output_type": "stream",
     "text": [
      "Treino:\n",
      "Acc: 0.5865, Precision: 0.6286, Recall: 0.5435\n",
      "Validação:\n",
      "Acc: 0.5852, Precision: 0.6218, Recall: 0.5403\n"
     ]
    }
   ],
   "source": [
    "printar_metricas('Treino',y_train, y_train_pred,'Validação',y_valid, y_valid_pred )\n"
   ]
  },
  {
   "cell_type": "markdown",
   "id": "3d3ac10c",
   "metadata": {},
   "source": [
    "Verificando o modelo com dataset de teste:"
   ]
  },
  {
   "cell_type": "code",
   "execution_count": 210,
   "id": "e70d66e9",
   "metadata": {},
   "outputs": [
    {
     "name": "stdout",
     "output_type": "stream",
     "text": [
      "(495391,) (495391,)\n"
     ]
    }
   ],
   "source": [
    "y_test_pred = modelo_dtc.predict(X_test)\n",
    "print(y_test.shape, y_test_pred.shape)"
   ]
  },
  {
   "cell_type": "code",
   "execution_count": 211,
   "id": "7ff5cf01",
   "metadata": {},
   "outputs": [
    {
     "data": {
      "image/png": "[encoded data removed]",
      "text/plain": [
       "<Figure size 432x288 with 1 Axes>"
      ]
     },
     "metadata": {
      "needs_background": "light"
     },
     "output_type": "display_data"
    }
   ],
   "source": [
    "matriz_conf(y_test, y_test_pred)"
   ]
  },
  {
   "cell_type": "code",
   "execution_count": 212,
   "id": "6551e8a8",
   "metadata": {},
   "outputs": [
    {
     "name": "stdout",
     "output_type": "stream",
     "text": [
      "Treino:\n",
      "Acc: 0.6089, Precision: 0.6291, Recall: 0.6444\n",
      "Teste:\n",
      "Acc: 0.6288, Precision: 0.7116, Recall: 0.2671\n"
     ]
    }
   ],
   "source": [
    "printar_metricas('Treino',y_train, y_train_pred,'Teste',y_test, y_test_pred )"
   ]
  },
  {
   "cell_type": "markdown",
   "id": "58d93108",
   "metadata": {},
   "source": [
    "O modelo de arvore de decisao ficou somente um pouco melhor que o modelo base. E no teste se apresentou ruim para detecçao dos positivos, mas apresentou bom precision. Vamos adicionar este modelo ao AdaBoosting e melhorar a métrica."
   ]
  },
  {
   "cell_type": "code",
   "execution_count": null,
   "id": "d10c8c86",
   "metadata": {},
   "outputs": [],
   "source": []
  },
  {
   "cell_type": "code",
   "execution_count": null,
   "id": "7269c299",
   "metadata": {},
   "outputs": [],
   "source": [
    "from sklearn.ensemble import AdaBoostClassifier"
   ]
  },
  {
   "cell_type": "code",
   "execution_count": 202,
   "id": "ce4a0683",
   "metadata": {},
   "outputs": [
    {
     "name": "stdout",
     "output_type": "stream",
     "text": [
      "Fitting 3 folds for each of 24 candidates, totalling 72 fits\n",
      "[CV 1/3] END algorithm=SAMME, learning_rate=0.01, n_estimators=50; total time=   1.9s\n",
      "[CV 2/3] END algorithm=SAMME, learning_rate=0.01, n_estimators=50; total time=   1.8s\n",
      "[CV 3/3] END algorithm=SAMME, learning_rate=0.01, n_estimators=50; total time=   2.3s\n",
      "[CV 1/3] END algorithm=SAMME, learning_rate=0.01, n_estimators=100; total time=   3.7s\n",
      "[CV 2/3] END algorithm=SAMME, learning_rate=0.01, n_estimators=100; total time=   3.5s\n",
      "[CV 3/3] END algorithm=SAMME, learning_rate=0.01, n_estimators=100; total time=   3.6s\n",
      "[CV 1/3] END algorithm=SAMME, learning_rate=0.01, n_estimators=500; total time=  18.7s\n",
      "[CV 2/3] END algorithm=SAMME, learning_rate=0.01, n_estimators=500; total time=  19.0s\n",
      "[CV 3/3] END algorithm=SAMME, learning_rate=0.01, n_estimators=500; total time=  18.7s\n",
      "[CV 1/3] END algorithm=SAMME, learning_rate=0.1, n_estimators=50; total time=   1.8s\n",
      "[CV 2/3] END algorithm=SAMME, learning_rate=0.1, n_estimators=50; total time=   1.7s\n",
      "[CV 3/3] END algorithm=SAMME, learning_rate=0.1, n_estimators=50; total time=   1.8s\n",
      "[CV 1/3] END algorithm=SAMME, learning_rate=0.1, n_estimators=100; total time=   3.5s\n",
      "[CV 2/3] END algorithm=SAMME, learning_rate=0.1, n_estimators=100; total time=   4.1s\n",
      "[CV 3/3] END algorithm=SAMME, learning_rate=0.1, n_estimators=100; total time=   3.6s\n",
      "[CV 1/3] END algorithm=SAMME, learning_rate=0.1, n_estimators=500; total time=  17.9s\n",
      "[CV 2/3] END algorithm=SAMME, learning_rate=0.1, n_estimators=500; total time=  18.5s\n",
      "[CV 3/3] END algorithm=SAMME, learning_rate=0.1, n_estimators=500; total time=  18.7s\n",
      "[CV 1/3] END algorithm=SAMME, learning_rate=0.5, n_estimators=50; total time=   1.8s\n",
      "[CV 2/3] END algorithm=SAMME, learning_rate=0.5, n_estimators=50; total time=   2.3s\n",
      "[CV 3/3] END algorithm=SAMME, learning_rate=0.5, n_estimators=50; total time=   1.8s\n",
      "[CV 1/3] END algorithm=SAMME, learning_rate=0.5, n_estimators=100; total time=   3.5s\n",
      "[CV 2/3] END algorithm=SAMME, learning_rate=0.5, n_estimators=100; total time=   3.6s\n",
      "[CV 3/3] END algorithm=SAMME, learning_rate=0.5, n_estimators=100; total time=   3.6s\n",
      "[CV 1/3] END algorithm=SAMME, learning_rate=0.5, n_estimators=500; total time=  18.8s\n",
      "[CV 2/3] END algorithm=SAMME, learning_rate=0.5, n_estimators=500; total time=  19.8s\n",
      "[CV 3/3] END algorithm=SAMME, learning_rate=0.5, n_estimators=500; total time=  20.4s\n",
      "[CV 1/3] END algorithm=SAMME, learning_rate=1, n_estimators=50; total time=   1.9s\n",
      "[CV 2/3] END algorithm=SAMME, learning_rate=1, n_estimators=50; total time=   1.9s\n",
      "[CV 3/3] END algorithm=SAMME, learning_rate=1, n_estimators=50; total time=   2.2s\n",
      "[CV 1/3] END algorithm=SAMME, learning_rate=1, n_estimators=100; total time=   4.0s\n",
      "[CV 2/3] END algorithm=SAMME, learning_rate=1, n_estimators=100; total time=   3.8s\n",
      "[CV 3/3] END algorithm=SAMME, learning_rate=1, n_estimators=100; total time=   4.1s\n",
      "[CV 1/3] END algorithm=SAMME, learning_rate=1, n_estimators=500; total time=  20.2s\n",
      "[CV 2/3] END algorithm=SAMME, learning_rate=1, n_estimators=500; total time=  20.3s\n",
      "[CV 3/3] END algorithm=SAMME, learning_rate=1, n_estimators=500; total time=  22.4s\n",
      "[CV 1/3] END algorithm=SAMME.R, learning_rate=0.01, n_estimators=50; total time=   3.1s\n",
      "[CV 2/3] END algorithm=SAMME.R, learning_rate=0.01, n_estimators=50; total time=   2.8s\n",
      "[CV 3/3] END algorithm=SAMME.R, learning_rate=0.01, n_estimators=50; total time=   2.2s\n",
      "[CV 1/3] END algorithm=SAMME.R, learning_rate=0.01, n_estimators=100; total time=   4.4s\n",
      "[CV 2/3] END algorithm=SAMME.R, learning_rate=0.01, n_estimators=100; total time=   4.4s\n",
      "[CV 3/3] END algorithm=SAMME.R, learning_rate=0.01, n_estimators=100; total time=   4.9s\n",
      "[CV 1/3] END algorithm=SAMME.R, learning_rate=0.01, n_estimators=500; total time=  22.7s\n",
      "[CV 2/3] END algorithm=SAMME.R, learning_rate=0.01, n_estimators=500; total time=  22.6s\n",
      "[CV 3/3] END algorithm=SAMME.R, learning_rate=0.01, n_estimators=500; total time=  23.2s\n",
      "[CV 1/3] END algorithm=SAMME.R, learning_rate=0.1, n_estimators=50; total time=   2.2s\n",
      "[CV 2/3] END algorithm=SAMME.R, learning_rate=0.1, n_estimators=50; total time=   2.2s\n",
      "[CV 3/3] END algorithm=SAMME.R, learning_rate=0.1, n_estimators=50; total time=   2.1s\n",
      "[CV 1/3] END algorithm=SAMME.R, learning_rate=0.1, n_estimators=100; total time=   4.8s\n",
      "[CV 2/3] END algorithm=SAMME.R, learning_rate=0.1, n_estimators=100; total time=   4.4s\n",
      "[CV 3/3] END algorithm=SAMME.R, learning_rate=0.1, n_estimators=100; total time=   4.4s\n",
      "[CV 1/3] END algorithm=SAMME.R, learning_rate=0.1, n_estimators=500; total time=  23.1s\n",
      "[CV 2/3] END algorithm=SAMME.R, learning_rate=0.1, n_estimators=500; total time=  22.5s\n",
      "[CV 3/3] END algorithm=SAMME.R, learning_rate=0.1, n_estimators=500; total time=  22.7s\n",
      "[CV 1/3] END algorithm=SAMME.R, learning_rate=0.5, n_estimators=50; total time=   2.5s\n",
      "[CV 2/3] END algorithm=SAMME.R, learning_rate=0.5, n_estimators=50; total time=   2.1s\n",
      "[CV 3/3] END algorithm=SAMME.R, learning_rate=0.5, n_estimators=50; total time=   2.2s\n",
      "[CV 1/3] END algorithm=SAMME.R, learning_rate=0.5, n_estimators=100; total time=   4.3s\n",
      "[CV 2/3] END algorithm=SAMME.R, learning_rate=0.5, n_estimators=100; total time=   4.5s\n",
      "[CV 3/3] END algorithm=SAMME.R, learning_rate=0.5, n_estimators=100; total time=   4.6s\n",
      "[CV 1/3] END algorithm=SAMME.R, learning_rate=0.5, n_estimators=500; total time=  23.7s\n",
      "[CV 2/3] END algorithm=SAMME.R, learning_rate=0.5, n_estimators=500; total time=  25.2s\n",
      "[CV 3/3] END algorithm=SAMME.R, learning_rate=0.5, n_estimators=500; total time=  23.7s\n",
      "[CV 1/3] END algorithm=SAMME.R, learning_rate=1, n_estimators=50; total time=   2.5s\n",
      "[CV 2/3] END algorithm=SAMME.R, learning_rate=1, n_estimators=50; total time=   2.3s\n",
      "[CV 3/3] END algorithm=SAMME.R, learning_rate=1, n_estimators=50; total time=   2.2s\n",
      "[CV 1/3] END algorithm=SAMME.R, learning_rate=1, n_estimators=100; total time=   4.4s\n",
      "[CV 2/3] END algorithm=SAMME.R, learning_rate=1, n_estimators=100; total time=   4.4s\n",
      "[CV 3/3] END algorithm=SAMME.R, learning_rate=1, n_estimators=100; total time=   4.9s\n",
      "[CV 1/3] END algorithm=SAMME.R, learning_rate=1, n_estimators=500; total time=  22.5s\n",
      "[CV 2/3] END algorithm=SAMME.R, learning_rate=1, n_estimators=500; total time=  22.7s\n",
      "[CV 3/3] END algorithm=SAMME.R, learning_rate=1, n_estimators=500; total time=  22.7s\n"
     ]
    },
    {
     "data": {
      "text/plain": [
       "GridSearchCV(cv=3,\n",
       "             estimator=AdaBoostClassifier(base_estimator=DecisionTreeClassifier(max_depth=5,\n",
       "                                                                                max_features='log2',\n",
       "                                                                                min_samples_leaf=3,\n",
       "                                                                                min_samples_split=10,\n",
       "                                                                                random_state=12)),\n",
       "             param_grid={'algorithm': ['SAMME', 'SAMME.R'],\n",
       "                         'learning_rate': [0.01, 0.1, 0.5, 1],\n",
       "                         'n_estimators': [50, 100, 500]},\n",
       "             scoring='recall', verbose=3)"
      ]
     },
     "execution_count": 202,
     "metadata": {},
     "output_type": "execute_result"
    }
   ],
   "source": [
    "modelo = AdaBoostClassifier(base_estimator = modelo_dtc)\n",
    "\n",
    "parameters = {\n",
    "    \n",
    "    'n_estimators': [50, 100, 500],\n",
    "    'learning_rate': [0.01, 0.1, 0.5, 1],\n",
    "    'algorithm':['SAMME', 'SAMME.R']\n",
    "    }\n",
    "\n",
    "clf = GridSearchCV(modelo, parameters, verbose=3, scoring='recall', cv= 3)\n",
    "\n",
    "clf.fit(X_train, y_train)"
   ]
  },
  {
   "cell_type": "code",
   "execution_count": 203,
   "id": "017684c9",
   "metadata": {},
   "outputs": [
    {
     "data": {
      "text/plain": [
       "{'algorithm': 'SAMME', 'learning_rate': 0.5, 'n_estimators': 50}"
      ]
     },
     "execution_count": 203,
     "metadata": {},
     "output_type": "execute_result"
    }
   ],
   "source": [
    "clf.best_params_"
   ]
  },
  {
   "cell_type": "code",
   "execution_count": 204,
   "id": "8d9f59aa",
   "metadata": {},
   "outputs": [
    {
     "data": {
      "text/plain": [
       "AdaBoostClassifier(algorithm='SAMME',\n",
       "                   base_estimator=DecisionTreeClassifier(max_depth=5,\n",
       "                                                         max_features='log2',\n",
       "                                                         min_samples_leaf=3,\n",
       "                                                         min_samples_split=10,\n",
       "                                                         random_state=12),\n",
       "                   learning_rate=0.5, random_state=12)"
      ]
     },
     "execution_count": 204,
     "metadata": {},
     "output_type": "execute_result"
    }
   ],
   "source": [
    "modelo_ab = AdaBoostClassifier(base_estimator = modelo_dtc, algorithm = 'SAMME', learning_rate = 0.5, n_estimators=50, random_state=12)\n",
    "\n",
    "modelo_ab"
   ]
  },
  {
   "cell_type": "code",
   "execution_count": null,
   "id": "b33efc7c",
   "metadata": {},
   "outputs": [],
   "source": []
  },
  {
   "cell_type": "code",
   "execution_count": 206,
   "id": "dfd777c7",
   "metadata": {},
   "outputs": [
    {
     "data": {
      "text/plain": [
       "AdaBoostClassifier(algorithm='SAMME',\n",
       "                   base_estimator=DecisionTreeClassifier(max_depth=5,\n",
       "                                                         max_features='log2',\n",
       "                                                         min_samples_leaf=3,\n",
       "                                                         min_samples_split=10,\n",
       "                                                         random_state=12),\n",
       "                   learning_rate=0.5, random_state=12)"
      ]
     },
     "execution_count": 206,
     "metadata": {},
     "output_type": "execute_result"
    }
   ],
   "source": [
    "modelo_ab.fit(X_train, y_train)"
   ]
  },
  {
   "cell_type": "code",
   "execution_count": 207,
   "id": "5f9f935b",
   "metadata": {},
   "outputs": [
    {
     "name": "stdout",
     "output_type": "stream",
     "text": [
      "(43999,) (18857,)\n"
     ]
    }
   ],
   "source": [
    "y_train_pred = modelo_ab.predict(X_train)\n",
    "\n",
    "y_valid_pred = modelo_ab.predict(X_valid)\n",
    "\n",
    "print(y_train_pred.shape, y_valid_pred.shape)"
   ]
  },
  {
   "cell_type": "code",
   "execution_count": 208,
   "id": "db4c5256",
   "metadata": {},
   "outputs": [
    {
     "data": {
      "image/png": "[encoded data removed]",
      "text/plain": [
       "<Figure size 432x288 with 1 Axes>"
      ]
     },
     "metadata": {
      "needs_background": "light"
     },
     "output_type": "display_data"
    }
   ],
   "source": [
    "matriz_conf(y_valid, y_valid_pred)"
   ]
  },
  {
   "cell_type": "code",
   "execution_count": 209,
   "id": "c5fb199b",
   "metadata": {},
   "outputs": [
    {
     "name": "stdout",
     "output_type": "stream",
     "text": [
      "Treino:\n",
      "Acc: 0.6089, Precision: 0.6291, Recall: 0.6444\n",
      "Validação:\n",
      "Acc: 0.5970, Precision: 0.6135, Recall: 0.6326\n"
     ]
    }
   ],
   "source": [
    "printar_metricas('Treino',y_train, y_train_pred,'Validação',y_valid, y_valid_pred)"
   ]
  },
  {
   "cell_type": "markdown",
   "id": "de3f7ff7",
   "metadata": {},
   "source": [
    "#### Modelo ADABoosting 64% recall"
   ]
  },
  {
   "cell_type": "markdown",
   "id": "7c7f83fb",
   "metadata": {},
   "source": [
    "O modelo com o AdaBoosting mostrou boas metricas se buscassemos equilibrio entre elas, mas o recall nao ficou proximo dos melhores modelos."
   ]
  },
  {
   "cell_type": "code",
   "execution_count": 213,
   "id": "d99c131b",
   "metadata": {},
   "outputs": [
    {
     "name": "stdout",
     "output_type": "stream",
     "text": [
      "(495391,) (495391,)\n"
     ]
    }
   ],
   "source": [
    "y_test_pred = modelo_ab.predict(X_test)\n",
    "print(y_test.shape, y_test_pred.shape)"
   ]
  },
  {
   "cell_type": "code",
   "execution_count": 214,
   "id": "ab67beb6",
   "metadata": {},
   "outputs": [
    {
     "data": {
      "image/png": "[encoded data removed]",
      "text/plain": [
       "<Figure size 432x288 with 1 Axes>"
      ]
     },
     "metadata": {
      "needs_background": "light"
     },
     "output_type": "display_data"
    }
   ],
   "source": [
    "matriz_conf(y_valid, y_valid_pred)"
   ]
  },
  {
   "cell_type": "code",
   "execution_count": 215,
   "id": "1f66bda1",
   "metadata": {},
   "outputs": [
    {
     "name": "stdout",
     "output_type": "stream",
     "text": [
      "Treino:\n",
      "Acc: 0.6089, Precision: 0.6291, Recall: 0.6444\n",
      "Teste:\n",
      "Acc: 0.5134, Precision: 0.4695, Recall: 0.7896\n"
     ]
    }
   ],
   "source": [
    "printar_metricas('Treino',y_train, y_train_pred,'Teste',y_test, y_test_pred)"
   ]
  },
  {
   "cell_type": "markdown",
   "id": "2b0bfcbb",
   "metadata": {},
   "source": [
    "No teste este se apresentou bem no recall, talvez por haver muitos dados semelhantes o modelo conseguiu melhor detecção."
   ]
  },
  {
   "cell_type": "code",
   "execution_count": null,
   "id": "0d806245",
   "metadata": {},
   "outputs": [],
   "source": []
  },
  {
   "cell_type": "markdown",
   "id": "6557b54f",
   "metadata": {},
   "source": [
    "### Finalizando..."
   ]
  },
  {
   "cell_type": "markdown",
   "id": "970e27d3",
   "metadata": {},
   "source": [
    "O modelo que mais se adequou ao objetivo da metrica recall é o algoritmo LGBM (modelo_lgbm) com detecção bem alta, apesar das outras metricas caírem mas o objetivo, no caso doença, penso que é detectar o máximo."
   ]
  },
  {
   "cell_type": "code",
   "execution_count": 288,
   "id": "1f8b851a",
   "metadata": {},
   "outputs": [],
   "source": [
    "from sklearn.pipeline import Pipeline\n",
    "\n",
    "pipe = Pipeline(steps = [\n",
    "    \n",
    "    ('modelo', LGBMClassifier(n_estimators=50, max_depth=3, learning_rate=0.01, importance_type='gain', is_unbalance =  False, random_state = 12)),\n",
    "])"
   ]
  },
  {
   "cell_type": "code",
   "execution_count": 289,
   "id": "b5549b63",
   "metadata": {},
   "outputs": [
    {
     "data": {
      "text/plain": [
       "Pipeline(steps=[('modelo',\n",
       "                 LGBMClassifier(importance_type='gain', is_unbalance=False,\n",
       "                                learning_rate=0.01, max_depth=3,\n",
       "                                n_estimators=50, random_state=12))])"
      ]
     },
     "execution_count": 289,
     "metadata": {},
     "output_type": "execute_result"
    }
   ],
   "source": [
    "pipe.fit(X_train, y_train)"
   ]
  },
  {
   "cell_type": "code",
   "execution_count": 290,
   "id": "a6b84d08",
   "metadata": {},
   "outputs": [
    {
     "name": "stdout",
     "output_type": "stream",
     "text": [
      "(43999,) (18857,)\n"
     ]
    }
   ],
   "source": [
    "y_train_pred = pipe.predict(X_train)\n",
    "\n",
    "y_valid_pred = pipe.predict(X_valid)\n",
    "\n",
    "print(y_train_pred.shape, y_valid_pred.shape)"
   ]
  },
  {
   "cell_type": "code",
   "execution_count": 291,
   "id": "59dc3690",
   "metadata": {},
   "outputs": [
    {
     "name": "stdout",
     "output_type": "stream",
     "text": [
      "Treino:\n",
      "Acc: 0.5537, Precision: 0.5455, Recall: 0.9629\n",
      "Validação:\n",
      "Acc: 0.5474, Precision: 0.5392, Recall: 0.9615\n"
     ]
    }
   ],
   "source": [
    "printar_metricas('Treino',y_train, y_train_pred,'Validação',y_valid, y_valid_pred)"
   ]
  },
  {
   "cell_type": "code",
   "execution_count": null,
   "id": "dd639724",
   "metadata": {},
   "outputs": [],
   "source": []
  },
  {
   "cell_type": "code",
   "execution_count": null,
   "id": "96d8a5c4",
   "metadata": {},
   "outputs": [],
   "source": []
  }
 ],
 "metadata": {
  "kernelspec": {
   "display_name": "Python 3",
   "language": "python",
   "name": "python3"
  },
  "language_info": {
   "codemirror_mode": {
    "name": "ipython",
    "version": 3
   },
   "file_extension": ".py",
   "mimetype": "text/x-python",
   "name": "python",
   "nbconvert_exporter": "python",
   "pygments_lexer": "ipython3",
   "version": "3.8.8"
  }
 },
 "nbformat": 4,
 "nbformat_minor": 5
}
